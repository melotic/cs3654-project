{
 "cells": [
  {
   "cell_type": "markdown",
   "metadata": {},
   "source": [
    "# CS 3654 Team Project"
   ]
  },
  {
   "cell_type": "markdown",
   "metadata": {},
   "source": [
    "### Team Info:  \n",
    "Project Title:  Correlations on Climate Change  \n",
    "Team name:  Greenhouse Guys  \n",
    "Team member names and PIDs: Atharva Haldankar (ahaldankar), Fairuz Ahmed (ahfairuz), Andrew Ahn (aandrew17), Jonathan Jwa (jonathanyjwa23), Justin Perez (justinmp)"
   ]
  },
  {
   "cell_type": "markdown",
   "metadata": {},
   "source": [
    "### Project Introduction:\n",
    "\n",
    "**Initial Description:** We plan to analyze climate data based on country to understand which countries are responsible for the majority of greenhouse gas emissions, what the characteristics of those countries are, and what negative effects greenhouse emissions have on people and the environment.\n",
    "\n",
    "**Potential research questions:**  \n",
    "    1. Which countries produce the most greenhouse gases? Which countries produce the least?  \n",
    "    2. Is there a correlation between GDP and greenhouse gas emissions?  \n",
    "    3. Does a country's use of renewable energy decrease their emissions?  \n",
    "    4. Does a country's population or land area have anything to do with greenhouse emissions?  \n",
    "    5. What forms of government do the countries that produce the most greenhouse gases have?  \n",
    "    6. Do greenhouse emissions come primarily from urban or rural settings?  \n",
    "    7. Which countries are affected most by greenhouse emissions?  \n",
    "    8. Do emissions impact human life expectancy?  \n",
    "    \n",
    "**Potential source data:**\n",
    "1. https://www.kaggle.com/datasets/sudalairajkumar/undata-country-profiles\n",
    "2. https://worldpopulationreview.com/country-rankings/greenhouse-gas-emissions-by-country\n",
    "3. https://www.kaggle.com/saurabhshahane/green-house-gas-historical-emission-data  \n",
    "4. https://www.kaggle.com/brendan45774/countries-life-expectancy\n",
    "5. https://www.kaggle.com/datasets/kumarajarshi/life-expectancy-who"
   ]
  },
  {
   "cell_type": "markdown",
   "metadata": {},
   "source": [
    "### Individual Contributions: \n",
    "Atharva:  \n",
    "- Completed QACs for questions 4 and 5 in potential research questions section (Population/Land Area vs. Greenhouse Emissions and Government Forms vs. CO2 Emissions).  \n",
    "- Edited final report and added more information to Q and C sections of other team member's reports.  \n",
    "\n",
    "Justin  \n",
    "- QAC on GDP vs. Greenhouse Emissions  \n",
    "\n",
    "Andrew  \n",
    "- QAC on Life Expectancy vs. Greenhouse Emissions\n",
    "\n",
    "Fairuz\n",
    "- QAC on Renewable Energy and CO2 emissions\n",
    "\n",
    "Jonathan\n",
    "- QAC on Countries that Produce the Most and Least CO2 Emissions"
   ]
  },
  {
   "cell_type": "markdown",
   "metadata": {},
   "source": [
    "### Procedural Notes\n",
    "- When analyzing population vs. CO2 emissions, we tried fitting a logarithmic model to the data, due to how the data was structured. However, since this model had a lower R-value than the linear model, we decided not to include those results. \n",
    "- For population vs. CO2 emissions, we also tried fitting a polynomial model. However, despite specifying the model as a polynomial of degree 2, we still got a linear fit, since the model computed an x^2 coefficient of 0. \n",
    "- For our initial questions, we used the CO2 emission estimates column from the country profiles kaggle dataset (link 1). However, since emissions data from the world population review site (link 2) is slightly more up to date, we used this source for some of the later questions. "
   ]
  },
  {
   "cell_type": "markdown",
   "metadata": {},
   "source": [
    "**DimRed and Analysis:** "
   ]
  },
  {
   "cell_type": "code",
   "execution_count": null,
   "metadata": {},
   "outputs": [],
   "source": [
    "import pandas\n",
    "import numpy\n",
    "import sklearn.metrics.pairwise\n",
    "import sklearn.manifold\n",
    "import sklearn.cluster\n",
    "import matplotlib\n",
    "import matplotlib.pyplot as plt\n",
    "# pandas.options.mode.chained_assignment = None  # default='warn'"
   ]
  },
  {
   "cell_type": "code",
   "execution_count": null,
   "metadata": {},
   "outputs": [],
   "source": [
    "dirtyCountries = pandas.read_csv(\"country_profile_variables.csv\")\n",
    "dirtyCountries\n",
    "\n",
    "cont_preJoin = dirtyCountries.copy()\n",
    "\n",
    "# Relevant Columns: \n",
    "# Country, Surface Area, Population (from other data set), \n",
    "# GDP, GDP growth rate, Economy: Agriculture, \n",
    "# Threatened Species, CO2 emission estimates (other dataset), Energy production (Petajoules)\n",
    "cont_preJoin = cont_preJoin[['country', 'Surface area (km2)', 'GDP: Gross domestic product (million current US$)', \n",
    "                               'GDP growth rate (annual %, const. 2005 prices)', 'Economy: Agriculture (% of GVA)', \n",
    "                             'Economy: Industry (% of GVA)', 'Economy: Services and other activity (% of GVA)',\n",
    "                               'Threatened species (number)', 'Energy production, primary (Petajoules)',\n",
    "                                'Population in thousands (2017)', 'Population density (per km2, 2017)']]\n",
    "cont_preJoin.shape\n",
    "cont_preJoin.dtypes\n",
    "# cont_preJoin.head()"
   ]
  },
  {
   "cell_type": "code",
   "execution_count": null,
   "metadata": {},
   "outputs": [],
   "source": [
    "# Cleaning: Make sure columns have appropriate data types. \n",
    "cont_preJoin['Surface area (km2)'] = dirtyCountries['Surface area (km2)'].map(lambda val: int(val.replace('~', '')))\n",
    "cont_preJoin['GDP growth rate (annual %, const. 2005 prices)'] = dirtyCountries['GDP growth rate (annual %, const. 2005 prices)'].map(lambda val : float(val.replace('~', '')))\n",
    "cont_preJoin['Economy: Agriculture (% of GVA)'] = dirtyCountries['Economy: Agriculture (% of GVA)'].map(lambda val : float(val.replace('~', '')))\n",
    "cont_preJoin['Threatened species (number)'] = dirtyCountries['Threatened species (number)'].map(lambda val : float(val.replace('~', '')))"
   ]
  },
  {
   "cell_type": "code",
   "execution_count": null,
   "metadata": {},
   "outputs": [],
   "source": [
    "cont_preJoin.shape\n",
    "cont_preJoin.head(5)\n",
    "# cont_preJoin[:-10]\n",
    "cont_preJoin.dtypes"
   ]
  },
  {
   "cell_type": "code",
   "execution_count": null,
   "metadata": {},
   "outputs": [],
   "source": [
    "# Now, make sure values are in proper range\n",
    "filteredOutRows = cont_preJoin.loc[cont_preJoin.eq(-99).any(1), :]\n",
    "len(filteredOutRows)\n",
    "\n",
    "# Map all -99s to NAs. \n",
    "cont_preJoin = cont_preJoin.replace(-99, numpy.NaN)\n",
    "cont_preJoin = cont_preJoin.dropna()\n",
    "cont_preJoin.shape\n",
    "cont_preJoin.head()"
   ]
  },
  {
   "cell_type": "code",
   "execution_count": null,
   "metadata": {},
   "outputs": [],
   "source": [
    "# Now, process the other dataset. \n",
    "dirtyEmissions = pandas.read_csv(\"CO2Emissions.csv\")\n",
    "\n",
    "# Create a copy of this dataset to preserve the original. Only keep the relevant columns. \n",
    "emissions_preJoin = dirtyEmissions.copy()\n",
    "emissions_preJoin = emissions_preJoin[['Country Name', '2017']]\n",
    "\n",
    "# Overview information about the dataset. \n",
    "emissions_preJoin.shape\n",
    "emissions_preJoin.dtypes\n",
    "emissions_preJoin.head()"
   ]
  },
  {
   "cell_type": "code",
   "execution_count": null,
   "metadata": {},
   "outputs": [],
   "source": [
    "# Clean emissions_preJoin by dropping NaN values. Let's rename the '2017' column to 'Emissions 2017'\n",
    "emissions_preJoin = emissions_preJoin.dropna()\n",
    "emissions_preJoin.rename(columns={'2017':'Emissions 2017 (Metric Tons Per Capita)'}, inplace=True)\n",
    "# emissions_preJoin = emissions_preJoin.reset_index(drop=True)\n",
    "emissions_preJoin.head()\n",
    "# emissions_preJoin[emissions_preJoin['Country Name'] == 'Russia']"
   ]
  },
  {
   "cell_type": "code",
   "execution_count": null,
   "metadata": {},
   "outputs": [],
   "source": [
    "# Check for any missing or invalid values in the emissions dataset\n",
    "len(emissions_preJoin[emissions_preJoin['Emissions 2017 (Metric Tons Per Capita)'] < 0])"
   ]
  },
  {
   "cell_type": "code",
   "execution_count": null,
   "metadata": {},
   "outputs": [],
   "source": [
    "# Before we join: Let's make sure that the major emitters of CO2 emissions are all represented. \n",
    "# Create a dictionary which maps country names in cont_preJoin to the corresponding names in emissions_preJoin\n",
    "countryMappings = {\n",
    "    'United States of America': 'United States',\n",
    "    # 'Russian Federation' : 'Russia',\n",
    "    'Republic of Korea' : 'Korea, Rep.',\n",
    "    'Viet Nam' : 'Vietnam',\n",
    "    'Czechia' : 'Czech Republic'\n",
    "}"
   ]
  },
  {
   "cell_type": "code",
   "execution_count": null,
   "metadata": {},
   "outputs": [],
   "source": [
    "# It looks like we are all good with cleaning. Now, let's join cont_preJoin with emissions_preJoin. \n",
    "# Do an inner join so we don't get any missing or NaN values. \n",
    "cont_preJoin.country = cont_preJoin.country.map(lambda c : countryMappings[c] if c in countryMappings.keys() else c)\n",
    "cont_preJoin.country = cont_preJoin.country.map(lambda c : c[:(c.find(\"(\") - 1)] if c.find(\"(\") != -1 else c)\n",
    "# cont_preJoin.country = cont_preJoin.country.map(lambda c : c.upper())\n",
    "countryStats = pandas.merge(cont_preJoin, emissions_preJoin, how='inner', left_on='country', right_on='Country Name')\n",
    "countryStats.shape\n",
    "# emissions_preJoin[emissions_preJoin['Country Name'] == 'Russian Federation']\n",
    "# cont_preJoin.head()\n",
    "# cont_preJoin.shape"
   ]
  },
  {
   "cell_type": "code",
   "execution_count": null,
   "metadata": {},
   "outputs": [],
   "source": [
    "# We got the majority of countries from both datasets. Here's a sample of the joined data. \n",
    "countryStats.shape\n",
    "countryStats.head()"
   ]
  },
  {
   "cell_type": "code",
   "execution_count": null,
   "metadata": {},
   "outputs": [],
   "source": [
    "# Now, we are ready to analyze the data. \n",
    "# Let's begin by normalizing the data, so that the columns are weighted equally, \n",
    "countryStats.head()\n",
    "preNorm = countryStats.drop(['country', 'Country Name'], axis=1)\n",
    "preNorm.head()\n",
    "norm = (preNorm-preNorm.mean())/(preNorm.std())\n",
    "norm.head()"
   ]
  },
  {
   "cell_type": "code",
   "execution_count": null,
   "metadata": {},
   "outputs": [],
   "source": [
    "# Let's visualize the data using a parallel coordinates plot. \n",
    "normWithCountries = norm.join(countryStats.country)\n",
    "# Rename the columns for readability\n",
    "normWithCountries.columns = ['Surface area', 'GDP', 'GDP growth rate', 'Economy: Agriculture', \n",
    "                                'Economy: Industry', 'Economy: Services and other', \n",
    "                                'Threatened species', 'Energy production', 'Population', \n",
    "                                'Population density', 'CO2 estimates', 'country']\n",
    "parallelPlot = pandas.plotting.parallel_coordinates(normWithCountries, class_column='country', colormap='rainbow_r')\n",
    "parallelPlot.figure.set_size_inches(30,30, forward=True)"
   ]
  },
  {
   "cell_type": "code",
   "execution_count": null,
   "metadata": {},
   "outputs": [],
   "source": [
    "norm.index = normWithCountries.country\n",
    "norm.head()"
   ]
  },
  {
   "cell_type": "code",
   "execution_count": null,
   "metadata": {},
   "outputs": [],
   "source": [
    "# Now let's perform dimension reduction. \n",
    "# First, compute the distance matrix. \n",
    "distHD = sklearn.metrics.pairwise.euclidean_distances(norm)\n",
    "distHD = pandas.DataFrame(distHD, columns=norm.index, index=norm.index)\n",
    "distHD"
   ]
  },
  {
   "cell_type": "code",
   "execution_count": null,
   "metadata": {},
   "outputs": [],
   "source": [
    "# Compute the distance matrix for the weighted high-dimensional data using L1 distance function.\n",
    "#  Input HD data should already be weighted.\n",
    "def distance_matrix_HD(dataHDw):  # dataHDw (pandas or numpy) -> distance matrix (numpy)\n",
    "    dist_matrix = sklearn.metrics.pairwise.euclidean_distances(dataHDw)\n",
    "    #m = pd.DataFrame(m, columns=dataHD.index, index=dataHD.index)  # keep as np array for performance\n",
    "    return dist_matrix\n",
    "\n",
    "# Compute the distance matrix for 2D projected data using L2 distance function.\n",
    "def distance_matrix_2D(data2D):  # data2d (pandas or numpy) -> distance matrix (numpy)\n",
    "    dist_matrix = sklearn.metrics.pairwise.euclidean_distances(data2D) \n",
    "    #m = pd.DataFrame(m, columns=data2D.index, index=data2D.index) # keep as np array for performance\n",
    "    return dist_matrix\n",
    "\n",
    "#def dist(x,y):\n",
    "#    return np.linalg.norm(x-y, ord=2)\n"
   ]
  },
  {
   "cell_type": "code",
   "execution_count": null,
   "metadata": {},
   "outputs": [],
   "source": [
    "# Calculate the MDS stress metric between HD and 2D distances.  Uses numpy for efficiency.\n",
    "def stress(distHD, dist2D):  #  distHD, dist2D (numpy) -> stress (float)\n",
    "    #s = np.sqrt((distHD-dist2D).pow(2).sum().sum() / distHD.pow(2).sum().sum())  # pandas\n",
    "    #s = np.sqrt(((distHD-dist2D)**2).sum() / (distHD**2).sum())   # numpy\n",
    "    s = ((distHD-dist2D)**2).sum() / (distHD**2).sum()   # numpy, eliminate sqrt for efficiency\n",
    "    return s\n",
    "\n",
    "def compute_mds(dataHDw):  # dataHDw -> data2D (pandas)\n",
    "    # distHD = distance_matrix_HD(dataHDw)\n",
    "    distHD = sklearn.metrics.pairwise.euclidean_distances(norm)\n",
    "    # Adjust these parameters for performance/accuracy tradeoff\n",
    "    mds = sklearn.manifold.MDS(n_components=2, dissimilarity='precomputed', n_init=10, max_iter=1000)\n",
    "    # Reduction algorithm happens here:  data2D is nx2 matrix\n",
    "    data2D = mds.fit_transform(distHD)\n",
    "    \n",
    "    # Rotate the resulting 2D projection to make it more consistent across multiple runs.\n",
    "    # Set the 1st PC to the y axis, plot looks better to spread data vertically with horizontal text labels\n",
    "    # pca = sklearn.decomposition.PCA(n_components=2)\n",
    "    # data2D = pca.fit_transform(data2D)\n",
    "    # data2D = pd.DataFrame(data2D, columns=['y','x'], index=dataHDw.index)\n",
    "    \n",
    "    # data2D.stress_value = stress(distHD, distance_matrix_2D(data2D))\n",
    "    return data2D\n",
    "\n",
    "def dimension_reduction(dataHD, wts): # dataHD, wts -> data2D (pandas)\n",
    "    # Normalize the weights to sum to 1\n",
    "    wts = wts/wts.sum()\n",
    "    \n",
    "    # Apply weights to the HD data \n",
    "    dataHDw = dataHD * wts\n",
    "    \n",
    "    # DR algorithm\n",
    "    data2D = compute_mds(dataHDw)\n",
    "\n",
    "    # Compute row relevances as:  data dot weights\n",
    "    # High relevance means large values in upweighted dimensions\n",
    "    # data2D['relevance'] = dataHDw.sum(axis=1)\n",
    "    return data2D"
   ]
  },
  {
   "cell_type": "code",
   "execution_count": null,
   "metadata": {},
   "outputs": [],
   "source": [
    "# Now, use the MDS algorithm to reduce the data down to 2 dimensions. \n",
    "\n",
    "weights = pandas.Series([1, 1, 1, 1, 1, 1, 1, 1])\n",
    "data2D = dimension_reduction(norm, weights)\n",
    "\n",
    "# mds = sklearn.manifold.MDS(n_components=2, dissimilarity='precomputed') # TODO: Change parameters if necessary. \n",
    "# data2D = mds.fit_transform(distHD)\n",
    "data2D = pandas.DataFrame(data2D, columns=['x', 'y'], index=norm.index)\n",
    "data2D"
   ]
  },
  {
   "cell_type": "code",
   "execution_count": null,
   "metadata": {},
   "outputs": [],
   "source": [
    "## Plot the 2D data\n",
    "data2D_v = data2D.join(norm['Emissions 2017 (Metric Tons Per Capita)'])\n",
    "data2D_v.head()\n",
    "ax = data2D_v.plot.scatter('x', 'y', c='Emissions 2017 (Metric Tons Per Capita)', \n",
    "                           s=40, colormap=plt.cm.rainbow, figsize=(15,15), sharex=False)\n",
    "# ax.axis('scaled')\n",
    "for i,r in data2D.iterrows():\n",
    "   ax.text(r.x, r.y, i[0:3])"
   ]
  },
  {
   "cell_type": "code",
   "execution_count": null,
   "metadata": {},
   "outputs": [],
   "source": [
    "# Let's Cluster the data to see how we can group countries together. \n",
    "# First, let's find the optimal number of clusters. \n",
    "\n",
    "kVals = []\n",
    "twcv = []\n",
    "for k in range(1, len(norm)):\n",
    "    centroids = norm.iloc[0:k]\n",
    "    km = sklearn.cluster.KMeans(n_clusters=k, init=centroids, n_init=1, max_iter=10)\n",
    "    km.fit(norm)\n",
    "    kVals.append(k)\n",
    "    twcv.append(km.inertia_)\n",
    "d = {'K': kVals, 'Inertia': twcv}\n",
    "Answer2 = pandas.DataFrame(data=d)\n",
    "plt.figure(figsize=(8, 8))\n",
    "plt.plot(Answer2.K, Answer2.Inertia, marker='o')\n",
    "Answer2[Answer2.K == 7]"
   ]
  },
  {
   "cell_type": "code",
   "execution_count": null,
   "metadata": {},
   "outputs": [],
   "source": [
    "# It looks like there's a steep drop in within-cluster variance just around K = 7. \n",
    "# Choosing more clusters will make it more difficult to meaningfully group countries, so \n",
    "# let's choose 7 clusters for now. \n",
    "km = sklearn.cluster.KMeans(n_clusters=7)\n",
    "labels = km.fit_predict(norm)\n",
    "# labels\n",
    "labels = pandas.DataFrame(labels, columns=['Cluster'], index=norm.index)\n",
    "labels\n",
    "\n",
    "# labels.sort_values('Cluster')"
   ]
  },
  {
   "cell_type": "code",
   "execution_count": null,
   "metadata": {},
   "outputs": [],
   "source": [
    "# Now, let's plot the results of the clustering. \n",
    "data2DClustered = data2D.join(labels.Cluster)\n",
    "data2DClustered\n",
    "ax = data2DClustered.plot.scatter('x', 'y', c='Cluster', colormap=plt.cm.viridis, figsize=(10, 10), sharex=False)\n",
    "ax.axis('scaled')\n",
    "# for i,r in data2D.iterrows():\n",
    "#     ax.text(r.x, r.y, i)"
   ]
  },
  {
   "cell_type": "markdown",
   "metadata": {},
   "source": [
    "## Question: Does a Country's Population or Land Area have anything to do with greenhouse emissions? (Atharva)\n",
    "\n",
    "Does population or land area affect the volume of greenhouse emissions? By determining a correlation between these variables, we can better determine which countries are major contributors of greenhouse emissions. For example, if population and greenhouse emissions are strongly correlated together, then we can focus on countries with large populations, since those nations will have the greatest influence over the global volume of emissions. Furthermore, we'll get a better sense geographically for which countries are major contributors of emissions.  \n",
    "\n",
    "Hypothesis 1: We should expect countries with larger populations to emit more CO2 into the atmosphere. This will most likely be the case, since a larger population typically consumes more energy than a smaller population. Many countries meet their energy needs by burning coal or fossil fuels, and these sources of energy release CO2 into the atmosphere. \n",
    "  \n",
    "  \n",
    "Hypothesis 2: Countries with larger land areas will, on average, emit more CO2 into the atmosphere than smaller countries. Many of the major exporters of the world are nations which have a large surface area, and countries which have more economic activity would most likely release greater amounts of CO2 than countries with less active economies.\n",
    "\n",
    "In order to answer this question, data from https://www.kaggle.com/datasets/sudalairajkumar/undata-country-profiles will be utilized. This data contains general information about each of the countries as well as social, economic, and environmental indicators. The dataset was extracted from information published by the United Nations, so it is a good authoritative source. \n",
    "\n",
    "Before analyzing the data, it will be helpful to define what units population, land area, and greenhouse emissions are measured in. Population will be measured in thousands of people, land area will be measured in square kilometers, and greenhouse emissions will be quantified in million tons / tons per capita.  \n",
    "\n",
    "Throughout this report, the only major bias present in our work is that the authors of this report believe that human activity has altered Earth's climate system and that an excess amount of greenhouse gases in the atmosphere can have a negative effect on the environment. "
   ]
  },
  {
   "cell_type": "markdown",
   "metadata": {},
   "source": [
    "## Analysis: \n",
    "First we import some libraries that we will need. Pandas is a general purpose data analysis library and numpy is useful for certain mathematical operations, like matrix multiplications. The sklearn.linear_model module will allow for a linear regression line to be fitted to the given data. "
   ]
  },
  {
   "cell_type": "code",
   "execution_count": null,
   "metadata": {},
   "outputs": [],
   "source": [
    "import pandas\n",
    "import numpy\n",
    "from sklearn.linear_model import LinearRegression"
   ]
  },
  {
   "cell_type": "markdown",
   "metadata": {},
   "source": [
    "Let's use the countryStats dataset from the clustering analysis above. It contains all the relevant columns and is already cleaned, so we can begin right away with visualization and analysis.  \n",
    "\n",
    "Below are 2-D scatterplots which show the relationships between Surface Area vs. CO2 emissions and Population (thousands) vs. CO2 emissions"
   ]
  },
  {
   "cell_type": "code",
   "execution_count": null,
   "metadata": {},
   "outputs": [],
   "source": [
    "# Let's add a column for raw emissions. \n",
    "countryStats['Raw Emissions (Million Metric Tons)'] = countryStats['Emissions 2017 (Metric Tons Per Capita)'] * countryStats['Population in thousands (2017)'] / 1000\n",
    "countryStats.plot.scatter(x='Surface area (km2)', y='Raw Emissions (Million Metric Tons)', figsize=(10,5))\n",
    "countryStats.plot.scatter(x='Population in thousands (2017)', y='Raw Emissions (Million Metric Tons)', color='green', figsize=(10,5))"
   ]
  },
  {
   "cell_type": "markdown",
   "metadata": {},
   "source": [
    "Now, let's compute the Pearson Correlation Coefficients for Surface Area vs. Raw CO2 emissions and for Population (thousands) vs. Raw CO2 emissions."
   ]
  },
  {
   "cell_type": "code",
   "execution_count": null,
   "metadata": {},
   "outputs": [],
   "source": [
    "countryStats['Surface area (km2)'].corr(countryStats['Raw Emissions (Million Metric Tons)'])"
   ]
  },
  {
   "cell_type": "code",
   "execution_count": null,
   "metadata": {},
   "outputs": [],
   "source": [
    "countryStats['Population in thousands (2017)'].corr(countryStats['Raw Emissions (Million Metric Tons)'])"
   ]
  },
  {
   "cell_type": "markdown",
   "metadata": {},
   "source": [
    "We get a fairly strong correlation coefficient for Population vs. CO2 Emissions. The correlation coefficient for Surface area vs. CO2 is slightly weaker, probably due to outliers. Let's see what happens if we remove these outliers. "
   ]
  },
  {
   "cell_type": "code",
   "execution_count": null,
   "metadata": {},
   "outputs": [],
   "source": [
    "countryStatsNoOutliers = countryStats[countryStats['Raw Emissions (Million Metric Tons)'] < 4000]\n",
    "countryStatsNoOutliers['Surface area (km2)'].corr(countryStatsNoOutliers['Raw Emissions (Million Metric Tons)'])"
   ]
  },
  {
   "cell_type": "markdown",
   "metadata": {},
   "source": [
    "Interestingly, we get about the same correlation coefficient. It looks like the outliers didn't really affect the Pearson coefficient.  \n",
    "Let's create a 3-D visualization of the data with Surface area and Population on the x and y axes and CO2 emissions on the z axis. "
   ]
  },
  {
   "cell_type": "code",
   "execution_count": null,
   "metadata": {},
   "outputs": [],
   "source": [
    "# Graphing libraries\n",
    "# %matplotlib notebook\n",
    "import matplotlib.pyplot as plt\n",
    "from mpl_toolkits.mplot3d import Axes3D\n",
    "\n",
    "fig = plt.figure(figsize=(8,8))\n",
    "ax = fig.add_subplot(111, projection='3d')\n",
    "sc = ax.scatter(countryStats['Surface area (km2)'], countryStats['Population in thousands (2017)'], countryStats['Raw Emissions (Million Metric Tons)'], \n",
    "                s=30)\n",
    "xl = ax.set_xlabel('Surface area (km2)')\n",
    "yl = ax.set_ylabel('Population in thousands')\n",
    "zl = ax.set_zlabel('Raw Emissions (Million Metric Tons)')"
   ]
  },
  {
   "cell_type": "markdown",
   "metadata": {},
   "source": [
    "Now, what happens if we do a multiple linear regression analysis using both surface area and population as independent variables?"
   ]
  },
  {
   "cell_type": "code",
   "execution_count": null,
   "metadata": {},
   "outputs": [],
   "source": [
    "X = countryStats[['Surface area (km2)','Population in thousands (2017)']]\n",
    "lmMult = LinearRegression().fit(X, countryStats['Raw Emissions (Million Metric Tons)'])\n",
    "lmMult.coef_,lmMult.intercept_\n",
    "# multiRegR = (lmMult.score(X, countryStats['Raw Emissions (Million Metric Tons)']))**0.5\n",
    "# multiRegR"
   ]
  },
  {
   "cell_type": "markdown",
   "metadata": {},
   "source": [
    "Our multiple linear regression model gives an R-value of ~0.85, which is better than both of the individual R-values.  \n",
    "Let's overlay the predicted data from the multiple linear regression model with the actual data. This will help us see sources of error between the predictions and actual data. "
   ]
  },
  {
   "cell_type": "code",
   "execution_count": null,
   "metadata": {},
   "outputs": [],
   "source": [
    "# Overlay the predicted CO2 levels on the plot with actual Surface Area vs. CO2 data. \n",
    "# Create a predictedCO2 column\n",
    "# y = m1*x1 + m2*x2 + b\n",
    "predictedCO2 = lmMult.coef_[0]*countryStats['Surface area (km2)'] + lmMult.coef_[1]*countryStats['Population in thousands (2017)'] + lmMult.intercept_\n",
    "countryStatsPred = countryStats.assign(Predicted_CO2 = predictedCO2)\n",
    "countryStatsPred.head()\n",
    "\n",
    "sc2 = ax.scatter(countryStatsPred['Surface area (km2)'], countryStatsPred['Population in thousands (2017)'], \n",
    "           countryStatsPred['Predicted_CO2'], c='r', marker='x', s=30)\n",
    "fig"
   ]
  },
  {
   "cell_type": "markdown",
   "metadata": {},
   "source": [
    "We see the overall trend, but there's a really large cluster of points in the bottom right corner. Let's zoom in on that area of the plot. "
   ]
  },
  {
   "cell_type": "code",
   "execution_count": null,
   "metadata": {},
   "outputs": [],
   "source": [
    "ax.set_xlim([0, 0.25e+07])\n",
    "ax.set_zlim([0, 1000])\n",
    "fig"
   ]
  },
  {
   "cell_type": "markdown",
   "metadata": {},
   "source": [
    "This gives us a better sense of the predictions in relation to the actual data points. It looks like, for the most part, the predictions are fairly close to the actual values. This would explain the high R-value. "
   ]
  },
  {
   "cell_type": "markdown",
   "metadata": {},
   "source": [
    "Read in the original country profile data"
   ]
  },
  {
   "cell_type": "code",
   "execution_count": null,
   "metadata": {},
   "outputs": [],
   "source": [
    "# Read the original data into a pandas dataframe. \n",
    "dirty = pandas.read_csv(\"country_profile_variables.csv\")"
   ]
  },
  {
   "cell_type": "markdown",
   "metadata": {},
   "source": [
    "Here's a glance at the data:   "
   ]
  },
  {
   "cell_type": "code",
   "execution_count": null,
   "metadata": {},
   "outputs": [],
   "source": [
    "dirty.head()"
   ]
  },
  {
   "cell_type": "markdown",
   "metadata": {},
   "source": [
    "These are the data types. Notice how the Surface area (km2) column has an object data type. We should probably clean this column so the data is in a more useful form. "
   ]
  },
  {
   "cell_type": "code",
   "execution_count": null,
   "metadata": {},
   "outputs": [],
   "source": [
    "dirty.dtypes"
   ]
  },
  {
   "cell_type": "markdown",
   "metadata": {},
   "source": [
    "Before doing any further analysis, we retain a copy of the original data. This way, we can track any modifications we choose to make. "
   ]
  },
  {
   "cell_type": "code",
   "execution_count": null,
   "metadata": {},
   "outputs": [],
   "source": [
    "# Make a copy of the original dataframe and process data for analysis\n",
    "clean = dirty.copy()"
   ]
  },
  {
   "cell_type": "markdown",
   "metadata": {},
   "source": [
    "Clean the data by taking out the ~ symbol  \n",
    "Note: For computation purposes, we will treat countries that have a really small land area (~0) as having no land area, even though this is clearly not the case. "
   ]
  },
  {
   "cell_type": "code",
   "execution_count": null,
   "metadata": {},
   "outputs": [],
   "source": [
    "clean['Surface area (km2)'] = dirty['Surface area (km2)'].map(lambda val: int(val.replace('~', '')))"
   ]
  },
  {
   "cell_type": "markdown",
   "metadata": {},
   "source": [
    "Some countries have a land area < 0 or emission estimates that are < 0. "
   ]
  },
  {
   "cell_type": "code",
   "execution_count": null,
   "metadata": {},
   "outputs": [],
   "source": [
    "# Remove countries that meet this criteria. \n",
    "clean[clean['Surface area (km2)'] < 0]\n",
    "clean[clean['CO2 emission estimates (million tons/tons per capita)'] < 0]"
   ]
  },
  {
   "cell_type": "markdown",
   "metadata": {},
   "source": [
    "We will filter out rows that have a negative Surface area (km2) or negative CO2 emission estimates.  \n",
    "The UN likely didn't have accurate data on those countries"
   ]
  },
  {
   "cell_type": "code",
   "execution_count": null,
   "metadata": {},
   "outputs": [],
   "source": [
    "nonNegSA = clean[clean['Surface area (km2)'] >= 0]\n",
    "filtClean = nonNegSA[nonNegSA['CO2 emission estimates (million tons/tons per capita)'] >= 0]"
   ]
  },
  {
   "cell_type": "markdown",
   "metadata": {},
   "source": [
    "Sanity check: We would expect that 20 rows are filtered out based on the emission estimates column and 3 rows are filtered out based on surface area. That gives 229 rows - 23 rows = 206 rows. "
   ]
  },
  {
   "cell_type": "code",
   "execution_count": null,
   "metadata": {
    "scrolled": true
   },
   "outputs": [],
   "source": [
    "filtClean.shape"
   ]
  },
  {
   "cell_type": "code",
   "execution_count": null,
   "metadata": {},
   "outputs": [],
   "source": [
    "filtClean.head()"
   ]
  },
  {
   "cell_type": "markdown",
   "metadata": {},
   "source": [
    "Now that the data is thoroughly cleaned, we can begin visualization and analysis.  \n",
    "We first create scatterplots for both Surface Area vs. CO2 emissions and Population (thousands) vs. CO2 emissions"
   ]
  },
  {
   "cell_type": "code",
   "execution_count": null,
   "metadata": {},
   "outputs": [],
   "source": [
    "filtClean.plot.scatter(x='Surface area (km2)', y='CO2 emission estimates (million tons/tons per capita)', figsize=(10,5))\n",
    "filtClean.plot.scatter(x='Population in thousands (2017)', y='CO2 emission estimates (million tons/tons per capita)', color='green', figsize=(10,5))"
   ]
  },
  {
   "cell_type": "markdown",
   "metadata": {},
   "source": [
    "Then, we compute the Pearson correlation coefficients for Surface Area vs. CO2 emissions and for Population (thousands) vs. CO2.  "
   ]
  },
  {
   "cell_type": "code",
   "execution_count": null,
   "metadata": {},
   "outputs": [],
   "source": [
    "filtClean['Surface area (km2)'].corr(filtClean['CO2 emission estimates (million tons/tons per capita)'])"
   ]
  },
  {
   "cell_type": "code",
   "execution_count": null,
   "metadata": {
    "scrolled": false
   },
   "outputs": [],
   "source": [
    "filtClean['Population in thousands (2017)'].corr(filtClean['CO2 emission estimates (million tons/tons per capita)'])"
   ]
  },
  {
   "cell_type": "markdown",
   "metadata": {},
   "source": [
    "These R values are both near or in the 0.70-0.80 range, so they indicate a relatively good linear fit.  \n",
    "Let's go ahead and create a linear regression model for both pairs of x,y data. "
   ]
  },
  {
   "cell_type": "code",
   "execution_count": null,
   "metadata": {},
   "outputs": [],
   "source": [
    "# Fit the Surface Area vs. CO2 emissions data to a linear regression model. \n",
    "lmSA = LinearRegression().fit(filtClean[['Surface area (km2)']], filtClean[['CO2 emission estimates (million tons/tons per capita)']])\n",
    "lmSA.coef_, lmSA.intercept_"
   ]
  },
  {
   "cell_type": "code",
   "execution_count": null,
   "metadata": {},
   "outputs": [],
   "source": [
    "# Fit the Population (thousands) vs. CO2 emissions data to a linear regression model. \n",
    "lmPop = LinearRegression().fit(filtClean[['Population in thousands (2017)']], filtClean[['CO2 emission estimates (million tons/tons per capita)']])\n",
    "lmPop.coef_, lmPop.intercept_"
   ]
  },
  {
   "cell_type": "markdown",
   "metadata": {},
   "source": [
    "Create a new data table which has a column for predicted CO2 levels with the SA vs. CO2 data"
   ]
  },
  {
   "cell_type": "code",
   "execution_count": null,
   "metadata": {},
   "outputs": [],
   "source": [
    "# Used assign() to create a new DataFrame with the Predicted_CO2 column because of the \n",
    "# SettingWithCopy warning. \n",
    "\n",
    "# Create a predictedCO2 column for Surface Area\n",
    "predictedCO2 = filtClean['Surface area (km2)']*lmSA.coef_[0] + lmSA.intercept_\n",
    "filtCleanSA = filtClean.assign(Predicted_CO2 = predictedCO2)\n",
    "filtCleanSA.head()"
   ]
  },
  {
   "cell_type": "markdown",
   "metadata": {},
   "source": [
    "Do the same, except for the Pop. (thousands) vs. CO2 data"
   ]
  },
  {
   "cell_type": "code",
   "execution_count": null,
   "metadata": {},
   "outputs": [],
   "source": [
    "# Create a predictedCO2 column for Population\n",
    "predictedCO2 = filtClean['Population in thousands (2017)']*lmPop.coef_[0] + lmPop.intercept_\n",
    "filtCleanPop = filtClean.assign(Predicted_CO2 = predictedCO2)\n",
    "filtCleanPop.head()"
   ]
  },
  {
   "cell_type": "markdown",
   "metadata": {},
   "source": [
    "Visualize the results.  \n",
    "Overlay the actual data with the predicted data for both x,y pairs. "
   ]
  },
  {
   "cell_type": "code",
   "execution_count": null,
   "metadata": {},
   "outputs": [],
   "source": [
    "# Overlay the predicted CO2 levels on the plot with actual Surface Area vs. CO2 data. \n",
    "axSA = filtCleanSA.plot.scatter(x='Surface area (km2)', y='CO2 emission estimates (million tons/tons per capita)', figsize=(10,8))\n",
    "filtCleanSA.plot.scatter(x='Surface area (km2)', y='Predicted_CO2', ax=axSA, color='red')\n",
    "axSA = axSA.set_ylabel('CO2 emissions (million tons/tons per capita)')"
   ]
  },
  {
   "cell_type": "code",
   "execution_count": null,
   "metadata": {},
   "outputs": [],
   "source": [
    "# Visualization Population (thousands) vs. CO2 data\n",
    "axPop = filtCleanPop.plot.scatter(x='Population in thousands (2017)', y='CO2 emission estimates (million tons/tons per capita)', color='green', figsize=(10,8))\n",
    "filtCleanPop.plot.scatter(x='Population in thousands (2017)', y='Predicted_CO2', ax=axPop, color='red')\n",
    "axPop = axPop.set_ylabel('CO2 emissions (million tons/tons per capita)')"
   ]
  },
  {
   "cell_type": "markdown",
   "metadata": {},
   "source": [
    "Make sure the regression models are consistent with what we would expect. "
   ]
  },
  {
   "cell_type": "code",
   "execution_count": null,
   "metadata": {},
   "outputs": [],
   "source": [
    "# Checkpoint: Verify the predicted columns are correct. \n",
    "filtCleanSA['Surface area (km2)'].corr(filtCleanSA['Predicted_CO2']), filtCleanPop['Population in thousands (2017)'].corr(filtCleanPop['Predicted_CO2'])"
   ]
  },
  {
   "cell_type": "markdown",
   "metadata": {},
   "source": [
    "## Conclusion:\n",
    "\n",
    "From the above analysis, it appears that land area and population do have some relation to CO2 emissions. In both cases, there is a positive correlation with a small slope. As surface area increases by 1 km^2, the model predicts an increase of 4.33*10^-3 millions of tons of CO2 / tons per capita. Similarly, as population increases by a thousand people, the model indicates that there should be about an increase of 0.052 millions of tons of CO2 / tons per capita. According to the linear regression model, countries which have a larger surface area on average produce more CO2 emissions. Likewise, countries which have a greater population on average produce more CO2 than countries with smaller populations. These results support both of the hypotheses stated above. \n",
    "\n",
    "However, the models created in the analysis section are only approximations and leave out important information. From the graph of Surface Area (km2) vs. CO2 emissions, we can see a few countries which emit a substantially larger volume of CO2 than other nations. These countries also lie above the regression line for both plots, which means they emit more CO2 than the models predict. \n",
    "\n",
    "One additional question that can be explored is whether population density is a better predictor of CO2 emissions than total population. A large population density value could be associated with urban areas and cities, and may therefore have a strong correlation with CO2 emissions. Another potential question to consider is whether CO2 emissions can be better predicted using both surface area and population as independent variables. This would require a multiple linear regression analysis. Finally, while the CO2 emissions from this dataset are normalized by population (e.g. divided by tons per capita), it may be worth considering what effect population and surface area have on raw CO2 emissions, for example in units of cubic meters. "
   ]
  },
  {
   "cell_type": "markdown",
   "metadata": {},
   "source": [
    "## Question: Is there a correlation between GDP and greenhouse gas emissions? (Justin)\n",
    "\n",
    "Does GDP affect the volume of greenhouse emissions? By determining a correlation between these variables, we can better determine how a country's economy affects its CO2 emissions. We would expect countries with larger economies, and therefore larger GDPs, to produce more CO2 emissions, due to more energy demands and pollution from factories. \n",
    "\n",
    "In order to answer this question, data from https://www.kaggle.com/datasets/sudalairajkumar/undata-country-profiles will be utilized. This data contains general information about each of the countries as well as social, economic, and environmental indicators. The dataset was extracted from information published by the United Nations, so it is a good authoritative source. \n",
    "\n",
    "Before analyzing the data, it will be helpful to define what units GDP and greenhouse emissions are measured in. GDP will be measured in GDP per capita, in USD. CO2 emissions will be quantified in million tons / tons per capita. GDP per capita will be used instead of raw GDP, since CO2 emissions are already measured per person, so both variables will be scaled in the same way. "
   ]
  },
  {
   "cell_type": "markdown",
   "metadata": {},
   "source": [
    "## Analysis: \n",
    "We'll use numpy, pandas, and matplotlib to analyze the data. We'll also use the sklearn.linear_model module to fit a linear regression model if there is a correlation.\n",
    "\n",
    "Here, we'll compare GDP per capita to CO2 emissions per capita. This is because both variables are measured per person, and thus are scaled the same relative to each country. "
   ]
  },
  {
   "cell_type": "code",
   "execution_count": null,
   "metadata": {},
   "outputs": [],
   "source": [
    "import pandas as pd\n",
    "import matplotlib.pyplot as plt\n",
    "import numpy"
   ]
  },
  {
   "cell_type": "markdown",
   "metadata": {},
   "source": [
    "We'll start by reading in our data."
   ]
  },
  {
   "cell_type": "code",
   "execution_count": null,
   "metadata": {},
   "outputs": [],
   "source": [
    "dirty = pd.read_csv(\"country_profile_variables.csv\")"
   ]
  },
  {
   "cell_type": "markdown",
   "metadata": {},
   "source": [
    "Preview the data to see what the data looks like and the data types."
   ]
  },
  {
   "cell_type": "code",
   "execution_count": null,
   "metadata": {},
   "outputs": [],
   "source": [
    "dirty.head()"
   ]
  },
  {
   "cell_type": "markdown",
   "metadata": {},
   "source": [
    "Lets extract the GDP and CO2 emissions data from the original dataset into one clean dataframe."
   ]
  },
  {
   "cell_type": "code",
   "execution_count": null,
   "metadata": {},
   "outputs": [],
   "source": [
    "clean = pd.DataFrame()\n",
    "\n",
    "# copy 'GDP per capita (current US$)' and ''CO2 emission estimates (million tons/tons per capita)'\n",
    "clean['Country'] = dirty['country']\n",
    "clean['Region'] = dirty['Region']\n",
    "clean['CO2 emission estimates (million tons/tons per capita)'] = dirty['CO2 emission estimates (million tons/tons per capita)']\n",
    "clean['GDP per capita (current US$)'] = dirty['GDP per capita (current US$)']\n",
    "clean.head()"
   ]
  },
  {
   "cell_type": "markdown",
   "metadata": {},
   "source": [
    "There seems to be a lot of missing data in the both columns, here labeled with -99. We'll remove all rows with missing data."
   ]
  },
  {
   "cell_type": "code",
   "execution_count": null,
   "metadata": {},
   "outputs": [],
   "source": [
    "# remove rows with values less than 0\n",
    "clean = clean[clean['CO2 emission estimates (million tons/tons per capita)'] >= 0]\n",
    "clean = clean[clean['GDP per capita (current US$)'] >= 0]\n",
    "clean.head()"
   ]
  },
  {
   "cell_type": "markdown",
   "metadata": {},
   "source": [
    "We removed some rows. Lets count the number of missing rows."
   ]
  },
  {
   "cell_type": "code",
   "execution_count": null,
   "metadata": {},
   "outputs": [],
   "source": [
    "dirty.shape[0] - clean.shape[0]"
   ]
  },
  {
   "cell_type": "markdown",
   "metadata": {},
   "source": [
    "Lets plot the data."
   ]
  },
  {
   "cell_type": "code",
   "execution_count": null,
   "metadata": {
    "scrolled": true
   },
   "outputs": [],
   "source": [
    "# plot CO2 emission estimates vs. GDP per capita\n",
    "clean.plot.scatter(x='CO2 emission estimates (million tons/tons per capita)', y='GDP per capita (current US$)', figsize=(10,5))"
   ]
  },
  {
   "cell_type": "markdown",
   "metadata": {},
   "source": [
    "This plot is not too helpful, there seems to be a lot of crowded points close to zero. Lets zoom in closer to zero to get a better understanding of the plot."
   ]
  },
  {
   "cell_type": "code",
   "execution_count": null,
   "metadata": {},
   "outputs": [],
   "source": [
    "# plot, limit x to 15000\n",
    "clean.plot.scatter(x='CO2 emission estimates (million tons/tons per capita)', y='GDP per capita (current US$)', figsize=(10,5), xlim=(-500,15000))"
   ]
  },
  {
   "cell_type": "markdown",
   "metadata": {},
   "source": [
    "To the eye, there does not seem to be a correlation. Lets compute Pearson's coeffecient."
   ]
  },
  {
   "cell_type": "code",
   "execution_count": null,
   "metadata": {},
   "outputs": [],
   "source": [
    "# compute r\n",
    "clean['CO2 emission estimates (million tons/tons per capita)'].corr(clean['GDP per capita (current US$)'])"
   ]
  },
  {
   "cell_type": "markdown",
   "metadata": {},
   "source": [
    "## Conclusion:\n",
    "\n",
    "There is no correlation between GDP and CO2 emissions. This could be because GDP is not a good predictor of CO2 emissions, or because the data is not representative of the real world.\n",
    "\n",
    "If our result is true, it could mean that CO2 emissions do not have any relationship with GDP. This could mean that countries with lots of exports do not have high CO2 emissions, and that they might rely on other countries for energy and other needs which produce CO2.\n",
    "\n",
    "This hypothesis could be true due to the amount of outliers we see on our plot. Most countries have low CO2 emissions with the exception of a few countries with very high CO2 emissions."
   ]
  },
  {
   "cell_type": "markdown",
   "metadata": {},
   "source": [
    "## Question: What forms of government do the countries that produce the most greenhouse gases have? (Atharva)\n",
    "What forms of government do nations which are major emitters of greenhouse gases have? By answering this question, we may be able to gain insight into whether certain forms of government are more effective than others in terms of reducing emissions. \n",
    "\n",
    "Data for this question will be taken taken from https://cddrl.fsi.stanford.edu/research/autocracies_of_the_world_dataset and https://worldpopulationreview.com/country-rankings/greenhouse-gas-emissions-by-country. \n",
    "\n",
    "The Stanford Center on Democracy, Development, and the Rule of Law is responsible for producing the first dataset. This dataset includes information on countries and their forms of government through the years 1950-2012. While this data might seem to be somewhat outdated, only data from 2012 will be analyzed. Furthermore, most governments throughout the world have remained stable for at least the last 10 years, so we expect the data to be accurate. In this dataset, government types are grouped into 5 categories: Democracy, Military, Monarchy, Multiparty, and Single Party. \n",
    "\n",
    "The second link lists out countries and their CO2 emissions in millions of tons. The world population review site was responsible for collecting this data, and we expect it to be both accurate and reliable. The data is also current, since it was taken in 2022. "
   ]
  },
  {
   "cell_type": "markdown",
   "metadata": {},
   "source": [
    "## Analysis: \n",
    "First, let's import both datasets and get a sense of what the data looks like. "
   ]
  },
  {
   "cell_type": "code",
   "execution_count": null,
   "metadata": {},
   "outputs": [],
   "source": [
    "dirtyGovt = pd.read_excel(\"countries_by_govt.xls\")\n",
    "dirtyEmissions = pd.read_csv(\"emissions_Mt_country_2022.csv\")"
   ]
  },
  {
   "cell_type": "code",
   "execution_count": null,
   "metadata": {},
   "outputs": [],
   "source": [
    "dirtyGovt.head()"
   ]
  },
  {
   "cell_type": "code",
   "execution_count": null,
   "metadata": {},
   "outputs": [],
   "source": [
    "dirtyEmissions.head()"
   ]
  },
  {
   "cell_type": "markdown",
   "metadata": {},
   "source": [
    "Here we display the shape of the data as well as the data types present. "
   ]
  },
  {
   "cell_type": "code",
   "execution_count": null,
   "metadata": {},
   "outputs": [],
   "source": [
    "dirtyGovt.shape\n",
    "dirtyGovt.dtypes"
   ]
  },
  {
   "cell_type": "code",
   "execution_count": null,
   "metadata": {},
   "outputs": [],
   "source": [
    "dirtyEmissions.shape\n",
    "dirtyEmissions.dtypes"
   ]
  },
  {
   "cell_type": "markdown",
   "metadata": {},
   "source": [
    "First, let's make a copy of the DataFrames. This will allow us to refer back to the original data if necessary. "
   ]
  },
  {
   "cell_type": "code",
   "execution_count": null,
   "metadata": {},
   "outputs": [],
   "source": [
    "# Make a copy of the original dataframe and process data for analysis\n",
    "newEmissions = dirtyEmissions.copy()\n",
    "newGovt = dirtyGovt.copy()"
   ]
  },
  {
   "cell_type": "markdown",
   "metadata": {},
   "source": [
    "Let's filter out all rows in newGovt which have years other than 2012. "
   ]
  },
  {
   "cell_type": "code",
   "execution_count": null,
   "metadata": {},
   "outputs": [],
   "source": [
    "# Filter by year (only 2012)\n",
    "newGovt2012 = newGovt[newGovt.year == 2012]\n",
    "newGovt2012"
   ]
  },
  {
   "cell_type": "markdown",
   "metadata": {},
   "source": [
    "Are there any missing or negative values for the columns we're interested in? "
   ]
  },
  {
   "cell_type": "code",
   "execution_count": null,
   "metadata": {},
   "outputs": [],
   "source": [
    "len(newEmissions[newEmissions.totalCO2emission < 0])\n",
    "newGovt2012.country.isnull().values.any()\n",
    "newGovt2012.regime_nr.isnull().values.any()"
   ]
  },
  {
   "cell_type": "markdown",
   "metadata": {},
   "source": [
    "It looks like we are ok to proceed with visualization and analysis. The data types seem to be consistent, and there are no missing or outlier values in the columns we care about.  \n",
    "First, let's join the relevant columns from both of these tables together. "
   ]
  },
  {
   "cell_type": "code",
   "execution_count": null,
   "metadata": {},
   "outputs": [],
   "source": [
    "# First make sure the primary key columns are consistent for both tables. \n",
    "countryUpper = [c.upper() for c in newGovt2012.country]\n",
    "len(countryUpper)\n",
    "govt2012 = newGovt2012.assign(country_upper = countryUpper)"
   ]
  },
  {
   "cell_type": "code",
   "execution_count": null,
   "metadata": {},
   "outputs": [],
   "source": [
    "govt2012.head(10)\n",
    "govt2012.shape"
   ]
  },
  {
   "cell_type": "code",
   "execution_count": null,
   "metadata": {},
   "outputs": [],
   "source": [
    "# Now, join by country name. \n",
    "joinedData = pandas.merge(govt2012, newEmissions, how='inner', left_on='country_upper', right_on='country')\n",
    "joinedData.shape"
   ]
  },
  {
   "cell_type": "markdown",
   "metadata": {},
   "source": [
    "An inner join was used in order to ensure that no values will be NaN in the newly formed table. Now that we've joined, we can filter out the columns which aren't relevant. "
   ]
  },
  {
   "cell_type": "code",
   "execution_count": null,
   "metadata": {},
   "outputs": [],
   "source": [
    "joinedData = joinedData[['country_x', 'regime_nr', 'totalCO2emission']]\n",
    "joinedData.shape\n",
    "joinedData.head()"
   ]
  },
  {
   "cell_type": "markdown",
   "metadata": {},
   "source": [
    "It looks like we haven't lost any rows, so all the data from the joined table for each of these columns should be present.  \n",
    "Let's now do a groupby on government type. "
   ]
  },
  {
   "cell_type": "code",
   "execution_count": null,
   "metadata": {},
   "outputs": [],
   "source": [
    "g = joinedData.groupby('regime_nr')\n",
    "g.size()"
   ]
  },
  {
   "cell_type": "markdown",
   "metadata": {},
   "source": [
    "The next step is to aggregate data for the groupby object we have generated. Let's first try taking the mean of the CO2 emissions for each of these columns. "
   ]
  },
  {
   "cell_type": "code",
   "execution_count": null,
   "metadata": {},
   "outputs": [],
   "source": [
    "g.totalCO2emission.mean()"
   ]
  },
  {
   "cell_type": "markdown",
   "metadata": {},
   "source": [
    "It looks like countries which have a single party government have a large mean of CO2 emissions. Perhaps this is because there are outlier countries, like China. Let's take the median, which is less prone to outliers, and see if our results differ. "
   ]
  },
  {
   "cell_type": "code",
   "execution_count": null,
   "metadata": {},
   "outputs": [],
   "source": [
    "g.totalCO2emission.median()"
   ]
  },
  {
   "cell_type": "markdown",
   "metadata": {},
   "source": [
    "Median results give more insight into what may be going on. Democracies, Monarchies, and Single Party states appear to emit more CO2 emissions than nations which have Military governments or Multiparty systems. However, based on the differences between the mean and median, Single Party states and Democracies contain a few outlier countries which emit a lot more CO2 than the rest.  \n",
    "  \n",
    "  Let's now visualize the results. "
   ]
  },
  {
   "cell_type": "code",
   "execution_count": null,
   "metadata": {},
   "outputs": [],
   "source": [
    "joinedData.sort_values('totalCO2emission').plot.bar('country_x', 'totalCO2emission', figsize=(25,5))"
   ]
  },
  {
   "cell_type": "markdown",
   "metadata": {},
   "source": [
    "Due to the large number of countries, let's focus on the countries which are major emitters. "
   ]
  },
  {
   "cell_type": "code",
   "execution_count": null,
   "metadata": {},
   "outputs": [],
   "source": [
    "majorEmitters = joinedData[joinedData.totalCO2emission > 20000]\n",
    "majorEmitters.shape"
   ]
  },
  {
   "cell_type": "code",
   "execution_count": null,
   "metadata": {
    "scrolled": true
   },
   "outputs": [],
   "source": [
    "axP3 = majorEmitters.sort_values('totalCO2emission', ascending=False).plot('country_x', 'totalCO2emission', \n",
    "                                                                    kind='bar', figsize=(20,5))\n",
    "axP3 = axP3.set(xlabel='Country', ylabel='CO2 emissions (millions of tons)')\n"
   ]
  },
  {
   "cell_type": "markdown",
   "metadata": {},
   "source": [
    "As predicted, a few countries that emit a lot of CO2, like China and the United States, impact the mean for Single Party systems and Democracies significantly. "
   ]
  },
  {
   "cell_type": "markdown",
   "metadata": {},
   "source": [
    "## Conclusion: \n"
   ]
  },
  {
   "cell_type": "markdown",
   "metadata": {},
   "source": [
    "Of the five types of governmental systems in the Stanford dataset, it appears that Democracies, Single Party states, and Monarchies emit more CO2 into the atmosphere than Military states and Multiparty systems. However, as seen from the bar graph, a few countries emit substantially more CO2 than the vast majority of other nations. These include China, The United States, and India. In fact, China emits about 2x as much CO2 as the US, which in turn emits more than 2x as much CO2 as India. Countries like China and the United States are responsible for drastically increasing the mean number of emissions of their respective government type. \n",
    "\n",
    "One limitation of this analysis is that a specific government type may be significantly impacted by one or two countries. For example, if China was removed from this analysis, then the emissions of Single Party states would be substantially lower. Therefore, the aggregation step is outlier-prone, especially when aggregating by mean. \n",
    "\n",
    "A logical next step from this analysis would be to analyze which of the nations that are major emitters of CO2 are world powers. Moreover, it may be more valuable to group countries by other criteria, like whether a given nation is developed, developing, or underdeveloped. Another approach, for which we have already conducted some analysis, would be to classify countries by their economic status."
   ]
  },
  {
   "cell_type": "markdown",
   "metadata": {},
   "source": [
    "## Question: Do emissions impact human life expectancy? (Andrew)\n",
    "\n",
    "Do greenhouse emissions impact human life expectancy? By answering this question, we will better understand how harmful greenhouse gases are towards people. We hypothesize that as CO2 emissions increase, human life expectancy rates will decrease. \n",
    "\n",
    "We can answer this question by gathering data on life expectancy and greenhouse gas emissions of various countries, and finding a Pearson correlation coefficient between the two data sets. Two good sources of data to help answer this question are: https://worldpopulationreview.com/country-rankings/greenhouse-gas-emissions-by-country and https://www.kaggle.com/datasets/kumarajarshi/life-expectancy-who.\n",
    "\n",
    "The first link contains data about total CO2 emissions in each country, as well as population size. For this analysis, we will be looking at total CO2 emissions. The second link contains information about life expectancy and other factors that can affect life expectancy. For this analysis, we will be looking at the life expectancy for each country. Since our life expectancy data spans many years, we will aggregate by mean life expectancy per country and use it in correlation with the CO2 emissions data.\n",
    "\n",
    "To analyze this data, we will create a scatter plot and find the Pearson correlation coefficient to evaluate the two datasets. We chose this method to analyze this question because we are trying to find how one factor affects another. In this case, how greenhouse gas emissions affect human life expectancy."
   ]
  },
  {
   "cell_type": "markdown",
   "metadata": {},
   "source": [
    "## Analysis:\n",
    "\n",
    "First, let's import both datasets and get a sense of what the data looks like."
   ]
  },
  {
   "cell_type": "code",
   "execution_count": null,
   "metadata": {
    "scrolled": true
   },
   "outputs": [],
   "source": [
    "dirtyLife = pd.read_csv('life_expectancy_data.csv')"
   ]
  },
  {
   "cell_type": "code",
   "execution_count": null,
   "metadata": {},
   "outputs": [],
   "source": [
    "dirtyLife.head()"
   ]
  },
  {
   "cell_type": "code",
   "execution_count": null,
   "metadata": {
    "scrolled": true
   },
   "outputs": [],
   "source": [
    "dirtyEmissions.head()"
   ]
  },
  {
   "cell_type": "markdown",
   "metadata": {},
   "source": [
    "Let's make a copy of the original data frames so we do not mess with the original data for future reference if needed."
   ]
  },
  {
   "cell_type": "code",
   "execution_count": null,
   "metadata": {},
   "outputs": [],
   "source": [
    "newLife = dirtyLife.copy()\n",
    "newEmiss = dirtyEmissions.copy()"
   ]
  },
  {
   "cell_type": "code",
   "execution_count": null,
   "metadata": {
    "scrolled": true
   },
   "outputs": [],
   "source": [
    "newLife.dtypes\n",
    "newEmiss.dtypes"
   ]
  },
  {
   "cell_type": "markdown",
   "metadata": {},
   "source": [
    "We must make the keys for joining the two datasets consistent, so we will make the country names be in uppercase letters."
   ]
  },
  {
   "cell_type": "code",
   "execution_count": null,
   "metadata": {},
   "outputs": [],
   "source": [
    "# First make sure the primary key columns are consistent for both tables. \n",
    "countryUpper = [c.upper() for c in newLife.Country]\n",
    "len(countryUpper)\n",
    "newLife['Country'] = countryUpper\n",
    "newLife.columns = newLife.columns.str.replace(' ', '_')\n",
    "newLife"
   ]
  },
  {
   "cell_type": "code",
   "execution_count": null,
   "metadata": {},
   "outputs": [],
   "source": [
    "newLife.shape, newEmiss.shape"
   ]
  },
  {
   "cell_type": "markdown",
   "metadata": {},
   "source": [
    "Next, we will aggregate the mean life expectancy for each country."
   ]
  },
  {
   "cell_type": "code",
   "execution_count": null,
   "metadata": {},
   "outputs": [],
   "source": [
    "g = newLife.groupby('Country')\n",
    "g.Life_expectancy_.mean()\n",
    "gLife = g.aggregate({'Life_expectancy_':numpy.mean})\n",
    "gLife = gLife.reset_index(level=0)\n",
    "gLife"
   ]
  },
  {
   "cell_type": "code",
   "execution_count": null,
   "metadata": {},
   "outputs": [],
   "source": [
    "gLife.shape, newEmiss.shape"
   ]
  },
  {
   "cell_type": "markdown",
   "metadata": {},
   "source": [
    "Let's join the two data sets so we can find a correlation."
   ]
  },
  {
   "cell_type": "code",
   "execution_count": null,
   "metadata": {},
   "outputs": [],
   "source": [
    "j = pandas.merge(gLife, newEmiss, how='inner', left_on='Country', right_on='country')\n",
    "clean = j.copy()"
   ]
  },
  {
   "cell_type": "markdown",
   "metadata": {},
   "source": [
    "Let's sort the data by total CO2 emissions so we can get a sense of any trends in the data. We will also drop any rows where the life expectancy is NaN."
   ]
  },
  {
   "cell_type": "code",
   "execution_count": null,
   "metadata": {},
   "outputs": [],
   "source": [
    "cleanSort = clean.sort_values('totalCO2emission', ascending=False).dropna()\n",
    "cleanSort"
   ]
  },
  {
   "cell_type": "markdown",
   "metadata": {},
   "source": [
    "Let's plot the data and find the Pearson correlation coefficient."
   ]
  },
  {
   "cell_type": "code",
   "execution_count": null,
   "metadata": {},
   "outputs": [],
   "source": [
    "axLE = cleanSort.plot.scatter(x='totalCO2emission', y='Life_expectancy_', figsize=(15, 7))\n",
    "axLE = axLE.set(xlabel='Total CO2 emissions (millions of tons)', ylabel='Life Expectancy (years)')"
   ]
  },
  {
   "cell_type": "code",
   "execution_count": null,
   "metadata": {},
   "outputs": [],
   "source": [
    "# Pearson Correlation\n",
    "cleanSort.totalCO2emission.corr(cleanSort.Life_expectancy_)"
   ]
  },
  {
   "cell_type": "markdown",
   "metadata": {},
   "source": [
    "## Conclusion:\n",
    "\n",
    "There is no correlation between life expectancy and CO2 emissions. This could be because life expectancy is not a good predictor of CO2 emissions, or because the data is not representative of the real world.\n",
    "\n",
    "If our result is true, it could mean that CO2 emissions do not have any relationship with life expectancy. One reason that there could be no correlation is that more developed countries could have higher CO2 emissions due to industrialization. These more developed countries may have better healthcare and living conditions, causing the adverse effects of more emissions to be nullified. In future studies, the correlation between developed countries and CO2 emissions should be researched further. A country's classification as developing or developed could be used to predict CO2 emissions. \n",
    "\n",
    "This claim could be true due to the outliers we see on our plot. There are many countries with low CO2 emissions, but the outliers with high CO2 emissions show a life expectancy that is average or slightly above average."
   ]
  },
  {
   "cell_type": "markdown",
   "metadata": {},
   "source": [
    "## Question: Does a country's use of renewable energy decrease their emissions? (Fairuz)\n",
    "Does a country's use of renewable energy decrease their emissions? By evaluating this question, we can reach a conclusion about the extent to which renewable energy reduces CO2 emisions and thus benefits the environment. By computing the Pearson correlation coefficient for these two variables, we will gain insight into the effectiveness of renewable energy sources. \n",
    "\n",
    "Hypothesis: A general assumption can be made that increasing the use of renewable energy will decrease the use of non-renewable energy sources such as fossil-fuels, which will lead to a decrease in CO2 emisions.\n",
    "\n",
    "\n",
    "To answer this inquiry, the following datasets will be used:\n",
    "\n",
    "Renewable energy consumption (% of total final energy consumption): https://data.worldbank.org/indicator/EG.FEC.RNEW.ZS\n",
    "* This data was taken from the World Bank and therefore it is assumed to be accurate data.\n",
    "* The data shows the percentage of a country's total energy consumption that originated from renewable energy sources\n",
    "* The data spans from 1990 to 2018\n",
    "\n",
    "CO2 emissions (metric tons per capita): https://data.worldbank.org/indicator/EN.ATM.CO2E.PC\n",
    "* This data was taken from the World Bank and therefore it is assumed to be accurate data.\n",
    "* The data shows the CO2 emissions of a country in metric tons per capita\n",
    "* The data spans from 1960 to 2018"
   ]
  },
  {
   "cell_type": "markdown",
   "metadata": {},
   "source": [
    "## Analysis\n",
    "First, several libraries need to be imported for analyzing and evaluating the data. Furthermore, the data will need to be read. A simple display of the data will help see how the tables are organized.\n",
    "\n",
    "Note: Some reformatting of the csv files was required for the pandas library to read in the data. "
   ]
  },
  {
   "cell_type": "code",
   "execution_count": null,
   "metadata": {},
   "outputs": [],
   "source": [
    "import pandas\n",
    "import numpy\n",
    "import matplotlib.pyplot as plt\n",
    "from sklearn.linear_model import LinearRegression\n",
    "\n",
    "renewableEnergy = pandas.read_csv(\"RenewableEnergyConsumption.csv\")\n",
    "CO2Emissions = pandas.read_csv(\"CO2Emissions.csv\")\n",
    "\n",
    "renewableEnergy.head()"
   ]
  },
  {
   "cell_type": "code",
   "execution_count": null,
   "metadata": {},
   "outputs": [],
   "source": [
    "CO2Emissions.head()"
   ]
  },
  {
   "cell_type": "markdown",
   "metadata": {},
   "source": [
    "Clean the data by removing unneeded columns. Make sure to retain copies of the original data in case reference to the original data is needed at any point. Furthermore, to make computations and visualizations less complex, I've decided to remove any countries with missing data. This will ensure we can see data that can be correlated and we will still have a large pool of data to compute with."
   ]
  },
  {
   "cell_type": "code",
   "execution_count": null,
   "metadata": {},
   "outputs": [],
   "source": [
    "cleanEnergy = renewableEnergy.copy()\n",
    "\n",
    "cleanEnergy.drop(['Country Code', 'Indicator Name', 'Indicator Code'], inplace=True, axis=1)\n",
    "cleanEnergy = cleanEnergy.dropna()\n",
    "cleanEnergy = cleanEnergy.reset_index(drop=True)\n",
    "\n",
    "cleanEnergy"
   ]
  },
  {
   "cell_type": "markdown",
   "metadata": {},
   "source": [
    "Do the same as above, but here remove the columns from 1960 to 1989 as well, since in this case that data is irrelevant."
   ]
  },
  {
   "cell_type": "code",
   "execution_count": null,
   "metadata": {},
   "outputs": [],
   "source": [
    "cleanCO2 = CO2Emissions.copy()\n",
    "\n",
    "cleanCO2.drop(cleanCO2.iloc[:, 1:34], inplace=True, axis=1)\n",
    "cleanCO2 = cleanCO2.dropna()\n",
    "cleanCO2 = cleanCO2.reset_index(drop=True)\n",
    "\n",
    "cleanCO2"
   ]
  },
  {
   "cell_type": "markdown",
   "metadata": {},
   "source": [
    "Now we need to merge the datasets to easily view the data as a whole. But in both datasets, there are identical columns, so horizontally merging may make some of the column names ambiguous. One thing that can be done is to rename the column names by adding suffixes and then merging."
   ]
  },
  {
   "cell_type": "code",
   "execution_count": null,
   "metadata": {},
   "outputs": [],
   "source": [
    "mergedData = cleanEnergy.merge(cleanCO2, on='Country Name', suffixes=('_energy', '_CO2'))\n",
    "mergedData"
   ]
  },
  {
   "cell_type": "markdown",
   "metadata": {},
   "source": [
    "### Note\n",
    "To see an interactive graphic visualization of this data, follow the links in the Question section above and you will be able to see the world data as well as the data for each country.\n",
    "\n",
    "The next part of this analysis will deal with only the latest year: 2018. We will find the correlation between emissions and renewable energy usage for the most current data, instead of relying on potentially outdated data."
   ]
  },
  {
   "cell_type": "code",
   "execution_count": null,
   "metadata": {},
   "outputs": [],
   "source": [
    "data2018 = pandas.DataFrame().assign(CN=mergedData['Country Name'], EC=mergedData['2018_energy'], \n",
    "                                     C2 = mergedData['2018_CO2'])\n",
    "\n",
    "data2018 = data2018.rename(columns={'CN': 'Country Name', 'EC': 'Renewable Energy Consumption Percentage', 'C2' : \n",
    "                         'CO2 Emissions (Metric Tons Per Capita)'})\n",
    "\n",
    "data2018"
   ]
  },
  {
   "cell_type": "markdown",
   "metadata": {},
   "source": [
    "Now we can visualize the data for both energy consumption and CO2 emissions in the year 2018."
   ]
  },
  {
   "cell_type": "code",
   "execution_count": null,
   "metadata": {},
   "outputs": [],
   "source": [
    "data2018.plot.scatter(x='Renewable Energy Consumption Percentage', y='CO2 Emissions (Metric Tons Per Capita)', figsize=(10,5), xlim=(0 ,100))"
   ]
  },
  {
   "cell_type": "markdown",
   "metadata": {},
   "source": [
    "We can see a general trend in the fact that countries with lower renewable energy consumption percentages had higher CO2 emissions per capita. However, this trend seems to become less pronounced at renewable energy consumption percentages above 40%.\n",
    "\n",
    "Finally, lets look at the correlation value between the 2 variables for the year 2018."
   ]
  },
  {
   "cell_type": "code",
   "execution_count": null,
   "metadata": {},
   "outputs": [],
   "source": [
    "data2018['Renewable Energy Consumption Percentage'].corr(data2018['CO2 Emissions (Metric Tons Per Capita)'])"
   ]
  },
  {
   "cell_type": "markdown",
   "metadata": {},
   "source": [
    "## Conclusion\n",
    "\n",
    "As per the analysis above, we can see that there is some truth to the hypothesis made in the question section. The hypothesis stated that as renewable energy consumption decreased, CO2 emissions would increase. From the analysis we can see that the data has a correlation coefficent of about -0.5. While this doesn't strongly support the hypothesis, it does indicate that both of these variables are somewhat related in that lower renewable energy use does increase CO2 emissions. \n",
    "\n",
    "Furthermore, visualizing the data for 2018 helps to understand the trend in the data a little bit better. From the scatterplot above, one can see that the countries with the highest CO2 emissions per capita had the lowest renewable energy consumption. However, as renewable energy consumption increased, the trend discontinued at around 40% of renewable energy consumption. This may indicate that there is a threshold at which the renewable energy consumption gives diminishing returns in terms of reducing CO2 emissions.\n",
    "\n",
    "Limitiations and errors may have occured with this data analysis, as there were several factors that could lead to different results. First and foremost, if raw CO2 emissions in metric tons were used instead of CO2 emissions per capita, we could have seen a different trend in the data. This could be a potential update to this analysis. A limitation to this analysis was the fact that only one year was used to evaluate, but there was a choice of 28 years. Although it might complicate and elongate the evaluation, one could review the trends for each of the 28 years and come up with an average trend.\n"
   ]
  },
  {
   "cell_type": "markdown",
   "metadata": {},
   "source": [
    "## Question: Which Countries produce the most greenhouse gases? Which countries produce the least? (Jonathan)\n",
    "\n",
    "Which coutries produce the most and least greenhouse gas emissions? By determining which countries have been producing the most and least greenhouse gases, we can better understand what greenhouse gas emissions have to do with human activity. By finding the countries that produce the most and least greenhouse gases, we can also generate new questions about the characteristics of those countries which may cause them to produce a greater amount of emissions. \n",
    "\n",
    "In order to answer this question, data from https://www.kaggle.com/saurabhshahane/green-house-gas-historical-emission-data will be utilized. This data contains greenhouse gas emissions data for 194 countries from 1990-2018. The dataset was extracted from the World Resources Institute.\n",
    "\n",
    "The unit for this dataset is MtCO2e, which is Metric tons of carbon dioxide equivalent."
   ]
  },
  {
   "cell_type": "markdown",
   "metadata": {},
   "source": [
    "## Analysis:\n",
    "We will use pandas, numpy, and matplotlib to sort and analyze the data."
   ]
  },
  {
   "cell_type": "code",
   "execution_count": null,
   "metadata": {},
   "outputs": [],
   "source": [
    "import pandas as pd\n",
    "import matplotlib.pyplot as plt\n",
    "import numpy as np"
   ]
  },
  {
   "cell_type": "markdown",
   "metadata": {},
   "source": [
    "We will start by pulling our data from the csv file we have acquired from the website."
   ]
  },
  {
   "cell_type": "code",
   "execution_count": null,
   "metadata": {},
   "outputs": [],
   "source": [
    "dirty = pd.read_csv(\"ghg-emissions.csv\")"
   ]
  },
  {
   "cell_type": "markdown",
   "metadata": {},
   "source": [
    "Preview of the data."
   ]
  },
  {
   "cell_type": "code",
   "execution_count": null,
   "metadata": {},
   "outputs": [],
   "source": [
    "dirty.head()"
   ]
  },
  {
   "cell_type": "code",
   "execution_count": null,
   "metadata": {},
   "outputs": [],
   "source": [
    "dirty"
   ]
  },
  {
   "cell_type": "markdown",
   "metadata": {},
   "source": [
    "As we can see, there are couple rows that we do not need for our analysis. Let's clean up the dataset."
   ]
  },
  {
   "cell_type": "code",
   "execution_count": null,
   "metadata": {},
   "outputs": [],
   "source": [
    "clean = pd.DataFrame()\n",
    "clean = dirty\n",
    "clean = clean[clean[\"unit\"] == \"MtCO2e\"]\n",
    "clean"
   ]
  },
  {
   "cell_type": "markdown",
   "metadata": {},
   "source": [
    "Let's find the total MtCO2e values for each country through the time period 1990-2018."
   ]
  },
  {
   "cell_type": "code",
   "execution_count": null,
   "metadata": {},
   "outputs": [],
   "source": [
    "clean[\"total\"] = clean.sum(axis=1)"
   ]
  },
  {
   "cell_type": "markdown",
   "metadata": {},
   "source": [
    "Here, I have added a new column named \"total\" that represent the total green house gas emission from 1990 to 2018."
   ]
  },
  {
   "cell_type": "code",
   "execution_count": null,
   "metadata": {},
   "outputs": [],
   "source": [
    "clean"
   ]
  },
  {
   "cell_type": "markdown",
   "metadata": {},
   "source": [
    "Here, I have created a final data frame that takes in the clean data from before and sorts it by the \"Total Emission from 1990 to 2018\" value."
   ]
  },
  {
   "cell_type": "code",
   "execution_count": null,
   "metadata": {},
   "outputs": [],
   "source": [
    "final = pd.DataFrame()\n",
    "final[\"Country\"] = clean[\"Country/Region\"]\n",
    "final[\"unit\"] = clean[\"unit\"]\n",
    "final[\"Total Emission from 1990 to 2018\"] = clean[\"total\"]\n",
    "final = final.sort_values(by = \"Total Emission from 1990 to 2018\")\n",
    "final"
   ]
  },
  {
   "cell_type": "markdown",
   "metadata": {},
   "source": [
    "We can see there are some data points that are not helpful for us. We will remove these countries. "
   ]
  },
  {
   "cell_type": "code",
   "execution_count": null,
   "metadata": {},
   "outputs": [],
   "source": [
    "final = final[final[\"Total Emission from 1990 to 2018\"] >= 0]\n",
    "final"
   ]
  },
  {
   "cell_type": "markdown",
   "metadata": {},
   "source": [
    "This is the number of missing rows, as we eliminated some for comprehensible data."
   ]
  },
  {
   "cell_type": "code",
   "execution_count": null,
   "metadata": {},
   "outputs": [],
   "source": [
    "dirty.shape[0] - final.shape[0]"
   ]
  },
  {
   "cell_type": "markdown",
   "metadata": {},
   "source": [
    "These two countries are the countries with the least and most amount of greenhouse gas emissions from 1990 to 2018."
   ]
  },
  {
   "cell_type": "code",
   "execution_count": null,
   "metadata": {},
   "outputs": [],
   "source": [
    "least = final.iloc[0]\n",
    "most = final.iloc[-1]"
   ]
  },
  {
   "cell_type": "code",
   "execution_count": null,
   "metadata": {},
   "outputs": [],
   "source": [
    "least"
   ]
  },
  {
   "cell_type": "code",
   "execution_count": null,
   "metadata": {},
   "outputs": [],
   "source": [
    "most"
   ]
  },
  {
   "cell_type": "markdown",
   "metadata": {},
   "source": [
    "## Conclusion:\n",
    "We found that the country that produces the most greenhouse gas emissions is China, while the country that produces the least is Niue. This makes sense, as Niue is a small, isolated island located in the South Pacific Ocean, while China is located in the middle of Asia and is one of the biggest, if not the biggest manufacturing country in the world.  \n",
    "\n",
    "Other major contributors of greenhouse gases include The United States, India, Russia, and Brazil. Besides Niue, countries which have the smallest carbon footprint include Tuvalu, The Cook Islands, Kiribati, and Nauru. In general, it appears that industrial powerhouses are responsible for the majority of emissions. On the other hand, island nations which are isolated from the rest of the world and which may have relatively self-contained economies have the least CO2 emissions. \n",
    "\n",
    "We can use this information to determine if greenhouse gas emissions have any correlations with trade. Countries like China, The United States, and India all have large economies with a lot of exports. On the other hand, smaller island nations, like Niue and Tuvalu, probably have a relatively small export market. Therefore, it is quite possible that trade has a correlation with CO2 emissions. A logical next step would be to analyze the effects of both domestic and international trade on CO2 emissions. \n",
    "\n",
    "One limitation of this analysis is that emission data from 1990-2018 was used. Therefore, the data may not be quite as up to date as current data, which may affect our results slightly. However, we still anticipate that our data is mostly accurate, and it certainly helps us determine what characteristics of a country may be associated with higher volumes of CO2 emissions. "
   ]
  }
 ],
 "metadata": {
  "kernelspec": {
   "display_name": "Python 3 (ipykernel)",
   "language": "python",
   "name": "python3"
  },
  "language_info": {
   "codemirror_mode": {
    "name": "ipython",
    "version": 3
   },
   "file_extension": ".py",
   "mimetype": "text/x-python",
   "name": "python",
   "nbconvert_exporter": "python",
   "pygments_lexer": "ipython3",
   "version": "3.9.7"
  },
  "varInspector": {
   "cols": {
    "lenName": 16,
    "lenType": 16,
    "lenVar": 40
   },
   "kernels_config": {
    "python": {
     "delete_cmd_postfix": "",
     "delete_cmd_prefix": "del ",
     "library": "var_list.py",
     "varRefreshCmd": "print(var_dic_list())"
    },
    "r": {
     "delete_cmd_postfix": ") ",
     "delete_cmd_prefix": "rm(",
     "library": "var_list.r",
     "varRefreshCmd": "cat(var_dic_list()) "
    }
   },
   "types_to_exclude": [
    "module",
    "function",
    "builtin_function_or_method",
    "instance",
    "_Feature"
   ],
   "window_display": false
  }
 },
 "nbformat": 4,
 "nbformat_minor": 2
}
