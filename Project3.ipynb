{
 "cells": [
  {
   "cell_type": "markdown",
   "metadata": {},
   "source": [
    "# CS 3654 Team Project"
   ]
  },
  {
   "cell_type": "markdown",
   "metadata": {},
   "source": [
    "### Team Info:  \n",
    "Project Title:  Correlations on Climate Change  \n",
    "Team name:  Greenhouse Guys  \n",
    "Team member names and PIDs: Atharva Haldankar (ahaldankar), Fairuz Ahmed (ahfairuz), Andrew Ahn (aandrew17), Jonathan Jwa (jonathanyjwa23), Justin Perez (justinmp)"
   ]
  },
  {
   "cell_type": "markdown",
   "metadata": {},
   "source": [
    "### Project Introduction:\n",
    "\n",
    "**Initial Description:** We plan to analyze climate data based on country to understand which countries are responsible for the majority of greenhouse gas emissions, what the characteristics of those countries are, and what negative effects greenhouse emissions have on people and the environment.\n",
    "\n",
    "**Potential research questions:**  \n",
    "    1. Which countries produce the most greenhouse gases? Which countries produce the least?  \n",
    "    2. Is there a correlation between GDP and greenhouse gas emissions?  \n",
    "    3. Does a country's use of renewable energy decrease their emissions?  \n",
    "    4. Does a country's population or land area have anything to do with greenhouse emissions?  \n",
    "    5. What forms of government do the countries that produce the most greenhouse gases have?  \n",
    "    6. Do greenhouse emissions come primarily from urban or rural settings?  \n",
    "    7. Which countries are affected most by greenhouse emissions?  \n",
    "    8. Do emissions impact human life expectancy?  \n",
    "    \n",
    "**Potential source data:**\n",
    "1. https://www.kaggle.com/datasets/sudalairajkumar/undata-country-profiles\n",
    "2. https://worldpopulationreview.com/country-rankings/greenhouse-gas-emissions-by-country\n",
    "3. https://www.kaggle.com/saurabhshahane/green-house-gas-historical-emission-data  \n",
    "4. https://www.kaggle.com/brendan45774/countries-life-expectancy\n",
    "5. https://www.kaggle.com/datasets/kumarajarshi/life-expectancy-who"
   ]
  },
  {
   "cell_type": "markdown",
   "metadata": {},
   "source": [
    "### Individual Contributions: \n",
    "Atharva:  \n",
    "- Completed QACs for questions 4 and 5 in potential research questions section (Population/Land Area vs. Greenhouse Emissions and Government Forms vs. CO2 Emissions).  \n",
    "- Edited final report and added more information to Q and C sections of other team member's reports.  \n",
    "\n",
    "Justin  \n",
    "- QAC on GDP vs. Greenhouse Emissions  \n",
    "\n",
    "Andrew  \n",
    "- QAC on Life Expectancy vs. Greenhouse Emissions\n",
    "\n",
    "Fairuz\n",
    "- QAC on Renewable Energy and CO2 emissions\n",
    "\n",
    "Jonathan\n",
    "- QAC on Countries that Produce the Most and Least CO2 Emissions"
   ]
  },
  {
   "cell_type": "markdown",
   "metadata": {},
   "source": [
    "### Procedural Notes\n",
    "- When analyzing population vs. CO2 emissions, we tried fitting a logarithmic model to the data, due to how the data was structured. However, since this model had a lower R-value than the linear model, we decided not to include those results. \n",
    "- For population vs. CO2 emissions, we also tried fitting a polynomial model. However, despite specifying the model as a polynomial of degree 2, we still got a linear fit, since the model computed an x^2 coefficient of 0. \n",
    "- For our initial questions, we used the CO2 emission estimates column from the country profiles kaggle dataset (link 1). However, since emissions data from the world population review site (link 2) is slightly more up to date, we used this source for some of the later questions. \n",
    "- Added a QAC for \"Which countries are most similar to each other?\""
   ]
  },
  {
   "cell_type": "markdown",
   "metadata": {},
   "source": [
    "## Question: Which countries are most similar to each other? (Atharva)\n",
    "\n",
    "Which countries are most similar to each other in the context of our analysis? By identifying clusters of countries, we can ask more specific questions about our dataset. Instead of having to resort to a blanket analysis on all countries in the datset, we can use one or more clusters to analyze trends for a group of related countries.\n",
    "\n",
    "A good dataset to use to help answer this question is https://www.kaggle.com/datasets/sudalairajkumar/undata-country-profiles. This data contains general information about each of the countries as well as social, economic, and environmental indicators. The data is from 2017, unless data for that year was not available, in which case data from the most recent year prior to 2017 is taken. As the dataset was adapted from information published by the United Nations, it is a good, authoritative source. \n",
    "\n",
    "Another important dataset, which will be used to quantify CO2 emissions for each country throughout this report, is https://data.worldbank.org/indicator/EN.ATM.CO2E.PC. As this data is from the worldbank, it is both accurate and reliable. In this dataset, CO2 emissions are quantified in metric tons per capita. The data spans from 1960 to 2018, but since our country profiles dataset utilizes data from 2017, we will only use that year for our analysis. \n",
    "\n",
    "What information from this dataset is relevant? Our subsequent questions deal with observing how factors like GDP, population, and land area affect CO2 emissions, so columns associated with these variables should definitely be included. Energy production is a good indicator of exports and trade, so it should also be kept. Finally, since another aspect of our project is identifying the negative effect of greenhouse emissions on people and the environment, we will also keep metrics like threatened species or life expectancy, if available. \n",
    "\n",
    "One way to answer this question is to cluster countries into groups based on their similarity to other countries. However, before clustering, we will want to visualize the data, so we can verify that the clustering makes sense and get a better feel for the data. In order to visualize complex high-dimensional data, we can reduce this data down to two dimensions by using the Multi-Dimensional Scaling (MDS) algorithm. Afterwards, we can map different clusters to different regions of this two-dimensional space. We can cluster countries together by utilizing the K-Means algorithm. \n",
    "\n",
    "Before proceeding with our analysis, it is important to clarify the biases which will be present throughout this report. We believe that human activity has altered Earth's climate system. We further believe that an excess amount of greenhouse gases in the atmosphere can have a negative effect on people and on the environment. "
   ]
  },
  {
   "cell_type": "markdown",
   "metadata": {},
   "source": [
    "First we import some libraries that we will need. Pandas is a general purpose data analysis library and numpy is useful for certain mathematical operations, like matrix multiplications. The sklearn modules will be used to perform dimension reduction and clustering, and matplotlib will be used to assist with the visualizations"
   ]
  },
  {
   "cell_type": "code",
   "execution_count": 20,
   "metadata": {},
   "outputs": [],
   "source": [
    "import pandas\n",
    "import numpy\n",
    "import sklearn.metrics.pairwise\n",
    "import sklearn.manifold\n",
    "import sklearn.cluster\n",
    "#import matplotlib\n",
    "#import matplotlib.pyplot as plt\n",
    "# pandas.options.mode.chained_assignment = None  # default='warn'"
   ]
  },
  {
   "cell_type": "markdown",
   "metadata": {},
   "source": [
    "Read in the original country profile data.  \n",
    "Make a copy of this data, in case we need to refer back to the original data, and filter out all unnecessary columns. "
   ]
  },
  {
   "cell_type": "code",
   "execution_count": 21,
   "metadata": {},
   "outputs": [],
   "source": [
    "dirtyCountries = pandas.read_csv(\"country_profile_variables.csv\")\n",
    "\n",
    "cont_preJoin = dirtyCountries.copy()\n",
    "cont_preJoin = cont_preJoin[['country', 'Region', 'Surface area (km2)', 'GDP: Gross domestic product (million current US$)', \n",
    "                               'GDP growth rate (annual %, const. 2005 prices)', 'Economy: Agriculture (% of GVA)', \n",
    "                             'Economy: Industry (% of GVA)', 'Economy: Services and other activity (% of GVA)',\n",
    "                               'Threatened species (number)', 'Energy production, primary (Petajoules)',\n",
    "                                'Population in thousands (2017)', 'Population density (per km2, 2017)']]"
   ]
  },
  {
   "cell_type": "markdown",
   "metadata": {},
   "source": [
    "Here's a glance at the data. "
   ]
  },
  {
   "cell_type": "code",
   "execution_count": 22,
   "metadata": {},
   "outputs": [
    {
     "data": {
      "text/html": [
       "<div>\n",
       "<style scoped>\n",
       "    .dataframe tbody tr th:only-of-type {\n",
       "        vertical-align: middle;\n",
       "    }\n",
       "\n",
       "    .dataframe tbody tr th {\n",
       "        vertical-align: top;\n",
       "    }\n",
       "\n",
       "    .dataframe thead th {\n",
       "        text-align: right;\n",
       "    }\n",
       "</style>\n",
       "<table border=\"1\" class=\"dataframe\">\n",
       "  <thead>\n",
       "    <tr style=\"text-align: right;\">\n",
       "      <th></th>\n",
       "      <th>country</th>\n",
       "      <th>Region</th>\n",
       "      <th>Surface area (km2)</th>\n",
       "      <th>GDP: Gross domestic product (million current US$)</th>\n",
       "      <th>GDP growth rate (annual %, const. 2005 prices)</th>\n",
       "      <th>Economy: Agriculture (% of GVA)</th>\n",
       "      <th>Economy: Industry (% of GVA)</th>\n",
       "      <th>Economy: Services and other activity (% of GVA)</th>\n",
       "      <th>Threatened species (number)</th>\n",
       "      <th>Energy production, primary (Petajoules)</th>\n",
       "      <th>Population in thousands (2017)</th>\n",
       "      <th>Population density (per km2, 2017)</th>\n",
       "    </tr>\n",
       "  </thead>\n",
       "  <tbody>\n",
       "    <tr>\n",
       "      <th>0</th>\n",
       "      <td>Afghanistan</td>\n",
       "      <td>SouthernAsia</td>\n",
       "      <td>652864</td>\n",
       "      <td>20270</td>\n",
       "      <td>-2.4</td>\n",
       "      <td>23.3</td>\n",
       "      <td>23.3</td>\n",
       "      <td>53.3</td>\n",
       "      <td>2.1</td>\n",
       "      <td>5</td>\n",
       "      <td>35530</td>\n",
       "      <td>54.4</td>\n",
       "    </tr>\n",
       "    <tr>\n",
       "      <th>1</th>\n",
       "      <td>Albania</td>\n",
       "      <td>SouthernEurope</td>\n",
       "      <td>28748</td>\n",
       "      <td>11541</td>\n",
       "      <td>2.6</td>\n",
       "      <td>22.4</td>\n",
       "      <td>26.0</td>\n",
       "      <td>51.7</td>\n",
       "      <td>28.2</td>\n",
       "      <td>36</td>\n",
       "      <td>2930</td>\n",
       "      <td>106.9</td>\n",
       "    </tr>\n",
       "    <tr>\n",
       "      <th>2</th>\n",
       "      <td>Algeria</td>\n",
       "      <td>NorthernAfrica</td>\n",
       "      <td>2381741</td>\n",
       "      <td>164779</td>\n",
       "      <td>3.8</td>\n",
       "      <td>12.2</td>\n",
       "      <td>37.3</td>\n",
       "      <td>50.5</td>\n",
       "      <td>0.8</td>\n",
       "      <td>55</td>\n",
       "      <td>41318</td>\n",
       "      <td>17.3</td>\n",
       "    </tr>\n",
       "    <tr>\n",
       "      <th>3</th>\n",
       "      <td>American Samoa</td>\n",
       "      <td>Polynesia</td>\n",
       "      <td>199</td>\n",
       "      <td>-99</td>\n",
       "      <td>-99</td>\n",
       "      <td>-99</td>\n",
       "      <td>-99.0</td>\n",
       "      <td>-99.0</td>\n",
       "      <td>87.9</td>\n",
       "      <td>-99</td>\n",
       "      <td>56</td>\n",
       "      <td>278.2</td>\n",
       "    </tr>\n",
       "    <tr>\n",
       "      <th>4</th>\n",
       "      <td>Andorra</td>\n",
       "      <td>SouthernEurope</td>\n",
       "      <td>468</td>\n",
       "      <td>2812</td>\n",
       "      <td>0.8</td>\n",
       "      <td>0.5</td>\n",
       "      <td>10.8</td>\n",
       "      <td>88.6</td>\n",
       "      <td>34.0</td>\n",
       "      <td>119</td>\n",
       "      <td>77</td>\n",
       "      <td>163.8</td>\n",
       "    </tr>\n",
       "  </tbody>\n",
       "</table>\n",
       "</div>"
      ],
      "text/plain": [
       "          country          Region Surface area (km2)  \\\n",
       "0     Afghanistan    SouthernAsia             652864   \n",
       "1         Albania  SouthernEurope              28748   \n",
       "2         Algeria  NorthernAfrica            2381741   \n",
       "3  American Samoa       Polynesia                199   \n",
       "4         Andorra  SouthernEurope                468   \n",
       "\n",
       "   GDP: Gross domestic product (million current US$)  \\\n",
       "0                                              20270   \n",
       "1                                              11541   \n",
       "2                                             164779   \n",
       "3                                                -99   \n",
       "4                                               2812   \n",
       "\n",
       "  GDP growth rate (annual %, const. 2005 prices)  \\\n",
       "0                                           -2.4   \n",
       "1                                            2.6   \n",
       "2                                            3.8   \n",
       "3                                            -99   \n",
       "4                                            0.8   \n",
       "\n",
       "  Economy: Agriculture (% of GVA)  Economy: Industry (% of GVA)  \\\n",
       "0                            23.3                          23.3   \n",
       "1                            22.4                          26.0   \n",
       "2                            12.2                          37.3   \n",
       "3                             -99                         -99.0   \n",
       "4                             0.5                          10.8   \n",
       "\n",
       "   Economy: Services and other activity (% of GVA)  \\\n",
       "0                                             53.3   \n",
       "1                                             51.7   \n",
       "2                                             50.5   \n",
       "3                                            -99.0   \n",
       "4                                             88.6   \n",
       "\n",
       "  Threatened species (number)  Energy production, primary (Petajoules)  \\\n",
       "0                         2.1                                        5   \n",
       "1                        28.2                                       36   \n",
       "2                         0.8                                       55   \n",
       "3                        87.9                                      -99   \n",
       "4                        34.0                                      119   \n",
       "\n",
       "   Population in thousands (2017)  Population density (per km2, 2017)  \n",
       "0                           35530                                54.4  \n",
       "1                            2930                               106.9  \n",
       "2                           41318                                17.3  \n",
       "3                              56                               278.2  \n",
       "4                              77                               163.8  "
      ]
     },
     "execution_count": 22,
     "metadata": {},
     "output_type": "execute_result"
    }
   ],
   "source": [
    "cont_preJoin.shape\n",
    "cont_preJoin.dtypes\n",
    "cont_preJoin.head()"
   ]
  },
  {
   "cell_type": "markdown",
   "metadata": {},
   "source": [
    "Clean the data by taking out the ~ symbol and ensuring that all columns have appropriate data types. "
   ]
  },
  {
   "cell_type": "code",
   "execution_count": 23,
   "metadata": {},
   "outputs": [],
   "source": [
    "cont_preJoin['Surface area (km2)'] = dirtyCountries['Surface area (km2)'].map(lambda val: int(val.replace('~', '')))\n",
    "cont_preJoin['GDP growth rate (annual %, const. 2005 prices)'] = dirtyCountries['GDP growth rate (annual %, const. 2005 prices)'].map(lambda val : float(val.replace('~', '')))\n",
    "cont_preJoin['Economy: Agriculture (% of GVA)'] = dirtyCountries['Economy: Agriculture (% of GVA)'].map(lambda val : float(val.replace('~', '')))\n",
    "cont_preJoin['Threatened species (number)'] = dirtyCountries['Threatened species (number)'].map(lambda val : float(val.replace('~', '')))"
   ]
  },
  {
   "cell_type": "markdown",
   "metadata": {},
   "source": [
    "As we can see, numerical columns that previously had an object data type have been cleaned such that they now have either an int or float type. "
   ]
  },
  {
   "cell_type": "code",
   "execution_count": 24,
   "metadata": {},
   "outputs": [
    {
     "data": {
      "text/plain": [
       "country                                               object\n",
       "Region                                                object\n",
       "Surface area (km2)                                     int64\n",
       "GDP: Gross domestic product (million current US$)      int64\n",
       "GDP growth rate (annual %, const. 2005 prices)       float64\n",
       "Economy: Agriculture (% of GVA)                      float64\n",
       "Economy: Industry (% of GVA)                         float64\n",
       "Economy: Services and other activity (% of GVA)      float64\n",
       "Threatened species (number)                          float64\n",
       "Energy production, primary (Petajoules)                int64\n",
       "Population in thousands (2017)                         int64\n",
       "Population density (per km2, 2017)                   float64\n",
       "dtype: object"
      ]
     },
     "execution_count": 24,
     "metadata": {},
     "output_type": "execute_result"
    }
   ],
   "source": [
    "cont_preJoin.shape\n",
    "cont_preJoin.head(5)\n",
    "cont_preJoin.dtypes"
   ]
  },
  {
   "cell_type": "markdown",
   "metadata": {},
   "source": [
    "Now, make sure the data values are in the proper range.  \n",
    "Note: A value of -99 indicates missing data. "
   ]
  },
  {
   "cell_type": "code",
   "execution_count": 25,
   "metadata": {},
   "outputs": [
    {
     "data": {
      "text/html": [
       "<div>\n",
       "<style scoped>\n",
       "    .dataframe tbody tr th:only-of-type {\n",
       "        vertical-align: middle;\n",
       "    }\n",
       "\n",
       "    .dataframe tbody tr th {\n",
       "        vertical-align: top;\n",
       "    }\n",
       "\n",
       "    .dataframe thead th {\n",
       "        text-align: right;\n",
       "    }\n",
       "</style>\n",
       "<table border=\"1\" class=\"dataframe\">\n",
       "  <thead>\n",
       "    <tr style=\"text-align: right;\">\n",
       "      <th></th>\n",
       "      <th>country</th>\n",
       "      <th>Region</th>\n",
       "      <th>Surface area (km2)</th>\n",
       "      <th>GDP: Gross domestic product (million current US$)</th>\n",
       "      <th>GDP growth rate (annual %, const. 2005 prices)</th>\n",
       "      <th>Economy: Agriculture (% of GVA)</th>\n",
       "      <th>Economy: Industry (% of GVA)</th>\n",
       "      <th>Economy: Services and other activity (% of GVA)</th>\n",
       "      <th>Threatened species (number)</th>\n",
       "      <th>Energy production, primary (Petajoules)</th>\n",
       "      <th>Population in thousands (2017)</th>\n",
       "      <th>Population density (per km2, 2017)</th>\n",
       "    </tr>\n",
       "  </thead>\n",
       "  <tbody>\n",
       "    <tr>\n",
       "      <th>0</th>\n",
       "      <td>Afghanistan</td>\n",
       "      <td>SouthernAsia</td>\n",
       "      <td>652864.0</td>\n",
       "      <td>20270.0</td>\n",
       "      <td>-2.4</td>\n",
       "      <td>23.3</td>\n",
       "      <td>23.3</td>\n",
       "      <td>53.3</td>\n",
       "      <td>2.1</td>\n",
       "      <td>5.0</td>\n",
       "      <td>35530</td>\n",
       "      <td>54.4</td>\n",
       "    </tr>\n",
       "    <tr>\n",
       "      <th>1</th>\n",
       "      <td>Albania</td>\n",
       "      <td>SouthernEurope</td>\n",
       "      <td>28748.0</td>\n",
       "      <td>11541.0</td>\n",
       "      <td>2.6</td>\n",
       "      <td>22.4</td>\n",
       "      <td>26.0</td>\n",
       "      <td>51.7</td>\n",
       "      <td>28.2</td>\n",
       "      <td>36.0</td>\n",
       "      <td>2930</td>\n",
       "      <td>106.9</td>\n",
       "    </tr>\n",
       "    <tr>\n",
       "      <th>2</th>\n",
       "      <td>Algeria</td>\n",
       "      <td>NorthernAfrica</td>\n",
       "      <td>2381741.0</td>\n",
       "      <td>164779.0</td>\n",
       "      <td>3.8</td>\n",
       "      <td>12.2</td>\n",
       "      <td>37.3</td>\n",
       "      <td>50.5</td>\n",
       "      <td>0.8</td>\n",
       "      <td>55.0</td>\n",
       "      <td>41318</td>\n",
       "      <td>17.3</td>\n",
       "    </tr>\n",
       "    <tr>\n",
       "      <th>4</th>\n",
       "      <td>Andorra</td>\n",
       "      <td>SouthernEurope</td>\n",
       "      <td>468.0</td>\n",
       "      <td>2812.0</td>\n",
       "      <td>0.8</td>\n",
       "      <td>0.5</td>\n",
       "      <td>10.8</td>\n",
       "      <td>88.6</td>\n",
       "      <td>34.0</td>\n",
       "      <td>119.0</td>\n",
       "      <td>77</td>\n",
       "      <td>163.8</td>\n",
       "    </tr>\n",
       "    <tr>\n",
       "      <th>5</th>\n",
       "      <td>Angola</td>\n",
       "      <td>MiddleAfrica</td>\n",
       "      <td>1246700.0</td>\n",
       "      <td>117955.0</td>\n",
       "      <td>3.0</td>\n",
       "      <td>6.8</td>\n",
       "      <td>51.2</td>\n",
       "      <td>42.0</td>\n",
       "      <td>46.5</td>\n",
       "      <td>25.0</td>\n",
       "      <td>29784</td>\n",
       "      <td>23.9</td>\n",
       "    </tr>\n",
       "  </tbody>\n",
       "</table>\n",
       "</div>"
      ],
      "text/plain": [
       "       country          Region  Surface area (km2)  \\\n",
       "0  Afghanistan    SouthernAsia            652864.0   \n",
       "1      Albania  SouthernEurope             28748.0   \n",
       "2      Algeria  NorthernAfrica           2381741.0   \n",
       "4      Andorra  SouthernEurope               468.0   \n",
       "5       Angola    MiddleAfrica           1246700.0   \n",
       "\n",
       "   GDP: Gross domestic product (million current US$)  \\\n",
       "0                                            20270.0   \n",
       "1                                            11541.0   \n",
       "2                                           164779.0   \n",
       "4                                             2812.0   \n",
       "5                                           117955.0   \n",
       "\n",
       "   GDP growth rate (annual %, const. 2005 prices)  \\\n",
       "0                                            -2.4   \n",
       "1                                             2.6   \n",
       "2                                             3.8   \n",
       "4                                             0.8   \n",
       "5                                             3.0   \n",
       "\n",
       "   Economy: Agriculture (% of GVA)  Economy: Industry (% of GVA)  \\\n",
       "0                             23.3                          23.3   \n",
       "1                             22.4                          26.0   \n",
       "2                             12.2                          37.3   \n",
       "4                              0.5                          10.8   \n",
       "5                              6.8                          51.2   \n",
       "\n",
       "   Economy: Services and other activity (% of GVA)  \\\n",
       "0                                             53.3   \n",
       "1                                             51.7   \n",
       "2                                             50.5   \n",
       "4                                             88.6   \n",
       "5                                             42.0   \n",
       "\n",
       "   Threatened species (number)  Energy production, primary (Petajoules)  \\\n",
       "0                          2.1                                      5.0   \n",
       "1                         28.2                                     36.0   \n",
       "2                          0.8                                     55.0   \n",
       "4                         34.0                                    119.0   \n",
       "5                         46.5                                     25.0   \n",
       "\n",
       "   Population in thousands (2017)  Population density (per km2, 2017)  \n",
       "0                           35530                                54.4  \n",
       "1                            2930                               106.9  \n",
       "2                           41318                                17.3  \n",
       "4                              77                               163.8  \n",
       "5                           29784                                23.9  "
      ]
     },
     "execution_count": 25,
     "metadata": {},
     "output_type": "execute_result"
    }
   ],
   "source": [
    "filteredOutRows = cont_preJoin.loc[cont_preJoin.eq(-99).any(1), :]\n",
    "len(filteredOutRows)\n",
    "\n",
    "# Map all -99s to NAs. \n",
    "cont_preJoin = cont_preJoin.replace(-99, numpy.NaN)\n",
    "cont_preJoin = cont_preJoin.dropna()\n",
    "cont_preJoin.shape\n",
    "cont_preJoin.head()"
   ]
  },
  {
   "cell_type": "markdown",
   "metadata": {},
   "source": [
    "Now, read and process the emissions dataset. Create a copy of this dataset to preserve the original.  \n",
    "Only keep the relevant columns."
   ]
  },
  {
   "cell_type": "code",
   "execution_count": 26,
   "metadata": {},
   "outputs": [],
   "source": [
    "dirtyEmissions = pandas.read_csv(\"CO2Emissions.csv\")\n",
    "\n",
    "emissions_preJoin = dirtyEmissions.copy()\n",
    "emissions_preJoin = emissions_preJoin[['Country Name', '2017']]"
   ]
  },
  {
   "cell_type": "markdown",
   "metadata": {},
   "source": [
    "Here's some summary information about the dataset. "
   ]
  },
  {
   "cell_type": "code",
   "execution_count": 27,
   "metadata": {},
   "outputs": [
    {
     "data": {
      "text/html": [
       "<div>\n",
       "<style scoped>\n",
       "    .dataframe tbody tr th:only-of-type {\n",
       "        vertical-align: middle;\n",
       "    }\n",
       "\n",
       "    .dataframe tbody tr th {\n",
       "        vertical-align: top;\n",
       "    }\n",
       "\n",
       "    .dataframe thead th {\n",
       "        text-align: right;\n",
       "    }\n",
       "</style>\n",
       "<table border=\"1\" class=\"dataframe\">\n",
       "  <thead>\n",
       "    <tr style=\"text-align: right;\">\n",
       "      <th></th>\n",
       "      <th>Country Name</th>\n",
       "      <th>2017</th>\n",
       "    </tr>\n",
       "  </thead>\n",
       "  <tbody>\n",
       "    <tr>\n",
       "      <th>0</th>\n",
       "      <td>Aruba</td>\n",
       "      <td>NaN</td>\n",
       "    </tr>\n",
       "    <tr>\n",
       "      <th>1</th>\n",
       "      <td>Africa Eastern and Southern</td>\n",
       "      <td>0.959978</td>\n",
       "    </tr>\n",
       "    <tr>\n",
       "      <th>2</th>\n",
       "      <td>Afghanistan</td>\n",
       "      <td>0.203328</td>\n",
       "    </tr>\n",
       "    <tr>\n",
       "      <th>3</th>\n",
       "      <td>Africa Western and Central</td>\n",
       "      <td>0.476438</td>\n",
       "    </tr>\n",
       "    <tr>\n",
       "      <th>4</th>\n",
       "      <td>Angola</td>\n",
       "      <td>1.034317</td>\n",
       "    </tr>\n",
       "  </tbody>\n",
       "</table>\n",
       "</div>"
      ],
      "text/plain": [
       "                  Country Name      2017\n",
       "0                        Aruba       NaN\n",
       "1  Africa Eastern and Southern  0.959978\n",
       "2                  Afghanistan  0.203328\n",
       "3   Africa Western and Central  0.476438\n",
       "4                       Angola  1.034317"
      ]
     },
     "execution_count": 27,
     "metadata": {},
     "output_type": "execute_result"
    }
   ],
   "source": [
    "emissions_preJoin.shape\n",
    "emissions_preJoin.dtypes\n",
    "emissions_preJoin.head()"
   ]
  },
  {
   "cell_type": "markdown",
   "metadata": {},
   "source": [
    "Clean emissions_preJoin by dropping NaN values. Let's also rename the '2017' column to 'Emissions 2017' for clarity. "
   ]
  },
  {
   "cell_type": "code",
   "execution_count": 28,
   "metadata": {},
   "outputs": [
    {
     "data": {
      "text/html": [
       "<div>\n",
       "<style scoped>\n",
       "    .dataframe tbody tr th:only-of-type {\n",
       "        vertical-align: middle;\n",
       "    }\n",
       "\n",
       "    .dataframe tbody tr th {\n",
       "        vertical-align: top;\n",
       "    }\n",
       "\n",
       "    .dataframe thead th {\n",
       "        text-align: right;\n",
       "    }\n",
       "</style>\n",
       "<table border=\"1\" class=\"dataframe\">\n",
       "  <thead>\n",
       "    <tr style=\"text-align: right;\">\n",
       "      <th></th>\n",
       "      <th>Country Name</th>\n",
       "      <th>Emissions 2017 (Metric Tons Per Capita)</th>\n",
       "    </tr>\n",
       "  </thead>\n",
       "  <tbody>\n",
       "    <tr>\n",
       "      <th>1</th>\n",
       "      <td>Africa Eastern and Southern</td>\n",
       "      <td>0.959978</td>\n",
       "    </tr>\n",
       "    <tr>\n",
       "      <th>2</th>\n",
       "      <td>Afghanistan</td>\n",
       "      <td>0.203328</td>\n",
       "    </tr>\n",
       "    <tr>\n",
       "      <th>3</th>\n",
       "      <td>Africa Western and Central</td>\n",
       "      <td>0.476438</td>\n",
       "    </tr>\n",
       "    <tr>\n",
       "      <th>4</th>\n",
       "      <td>Angola</td>\n",
       "      <td>1.034317</td>\n",
       "    </tr>\n",
       "    <tr>\n",
       "      <th>5</th>\n",
       "      <td>Albania</td>\n",
       "      <td>1.948872</td>\n",
       "    </tr>\n",
       "  </tbody>\n",
       "</table>\n",
       "</div>"
      ],
      "text/plain": [
       "                  Country Name  Emissions 2017 (Metric Tons Per Capita)\n",
       "1  Africa Eastern and Southern                                 0.959978\n",
       "2                  Afghanistan                                 0.203328\n",
       "3   Africa Western and Central                                 0.476438\n",
       "4                       Angola                                 1.034317\n",
       "5                      Albania                                 1.948872"
      ]
     },
     "execution_count": 28,
     "metadata": {},
     "output_type": "execute_result"
    }
   ],
   "source": [
    "emissions_preJoin = emissions_preJoin.dropna()\n",
    "emissions_preJoin.rename(columns={'2017':'Emissions 2017 (Metric Tons Per Capita)'}, inplace=True)\n",
    "emissions_preJoin.head()"
   ]
  },
  {
   "cell_type": "markdown",
   "metadata": {},
   "source": [
    "Check for any missing or invalid values in the emissions dataset. "
   ]
  },
  {
   "cell_type": "code",
   "execution_count": 29,
   "metadata": {},
   "outputs": [
    {
     "data": {
      "text/plain": [
       "0"
      ]
     },
     "execution_count": 29,
     "metadata": {},
     "output_type": "execute_result"
    }
   ],
   "source": [
    "len(emissions_preJoin[emissions_preJoin['Emissions 2017 (Metric Tons Per Capita)'] < 0])"
   ]
  },
  {
   "cell_type": "markdown",
   "metadata": {},
   "source": [
    "It looks like we are all good with cleaning. Before we join, let's make sure that major emitters are all represented.  \n",
    "Then, let's join cont_preJoin with emissions_preJoin. We'll do an inner join so we don't get any missing or NaN values. "
   ]
  },
  {
   "cell_type": "code",
   "execution_count": 30,
   "metadata": {},
   "outputs": [],
   "source": [
    "# Create a dictionary which maps country names in cont_preJoin to the corresponding names in emissions_preJoin\n",
    "countryMappings = {\n",
    "    'United States of America': 'United States',\n",
    "    'Republic of Korea' : 'Korea, Rep.',\n",
    "    'Viet Nam' : 'Vietnam',\n",
    "    'Czechia' : 'Czech Republic'\n",
    "}"
   ]
  },
  {
   "cell_type": "code",
   "execution_count": 31,
   "metadata": {},
   "outputs": [
    {
     "data": {
      "text/plain": [
       "(168, 14)"
      ]
     },
     "execution_count": 31,
     "metadata": {},
     "output_type": "execute_result"
    }
   ],
   "source": [
    "cont_preJoin.country = cont_preJoin.country.map(lambda c : countryMappings[c] if c in countryMappings.keys() else c)\n",
    "cont_preJoin.country = cont_preJoin.country.map(lambda c : c[:(c.find(\"(\") - 1)] if c.find(\"(\") != -1 else c)\n",
    "countryStats = pandas.merge(cont_preJoin, emissions_preJoin, how='inner', left_on='country', right_on='Country Name')\n",
    "countryStats.shape"
   ]
  },
  {
   "cell_type": "markdown",
   "metadata": {},
   "source": [
    "We got the majority of countries from both datasets. Here's a sample of the joined data. "
   ]
  },
  {
   "cell_type": "code",
   "execution_count": null,
   "metadata": {},
   "outputs": [],
   "source": [
    "countryStats.head()"
   ]
  },
  {
   "cell_type": "markdown",
   "metadata": {},
   "source": [
    "Now, we are ready to visualize and analyze the data.  \n",
    "Let's begin by normalizing the data, so that the columns are weighted equally, "
   ]
  },
  {
   "cell_type": "code",
   "execution_count": null,
   "metadata": {},
   "outputs": [],
   "source": [
    "countryStats.head()\n",
    "preNorm = countryStats.drop(['country', 'Region', 'Country Name'], axis=1)\n",
    "preNorm.head()\n",
    "norm = (preNorm-preNorm.mean())/(preNorm.std())\n",
    "norm.head()"
   ]
  },
  {
   "cell_type": "markdown",
   "metadata": {},
   "source": [
    "Here are a few visualizations of the data using a parallel coordinates plot. Displaying all of the countries would make the plot cluttered and unreadable, so we will narrow our focus on specific geographic regions.  \n",
    "\n",
    "On the x-axis, each of the columns are labeled, and on the y-axis, the Z-score values from the normalized data are shown. Each country is represented by a distinct hex color. "
   ]
  },
  {
   "cell_type": "code",
   "execution_count": null,
   "metadata": {},
   "outputs": [],
   "source": [
    "normWithCountries = norm.join(countryStats.country)\n",
    "normWithCountries = normWithCountries.join(countryStats.Region)\n",
    "# Rename the columns for readability\n",
    "normWithCountries.columns = ['Surface area', 'GDP', 'GDP growth rate', 'Economy: Ag.', \n",
    "                                'Economy: Ind.', 'Economy: Other', \n",
    "                                'Threatened species', 'Energy production', 'Population', \n",
    "                                'Population density', 'CO2 estimates', 'country', 'Region']\n",
    "normWithCountries.head(5)"
   ]
  },
  {
   "cell_type": "code",
   "execution_count": null,
   "metadata": {},
   "outputs": [],
   "source": [
    "normWithCountriesWE = normWithCountries[normWithCountries.Region == \"WesternEurope\"]\n",
    "normWithCountriesEA = normWithCountries[normWithCountries.Region == \"EasternAsia\"]"
   ]
  },
  {
   "cell_type": "markdown",
   "metadata": {},
   "source": [
    "Let's plot the reduced subset of countries located in Western Europe.  \n",
    "From the plot below, we can see that Belgium and the Netherlands are really similar to each other. "
   ]
  },
  {
   "cell_type": "code",
   "execution_count": null,
   "metadata": {},
   "outputs": [],
   "source": [
    "westernEurope = normWithCountriesWE.drop(['Region'], axis=1)\n",
    "parallelPlotE = pandas.plotting.parallel_coordinates(westernEurope, class_column='country', colormap='rainbow_r')\n",
    "parallelPlotE.figure.set_size_inches(20,10, forward=True)\n",
    "pp_ylE = parallelPlotE.set_ylabel('Z-Score Value')"
   ]
  },
  {
   "cell_type": "markdown",
   "metadata": {},
   "source": [
    "Below is a plot of the reduced subset of countries located in Eastern Asia. As we might expect, China's normalized GDP and Population values are much higher than the other countries shown. "
   ]
  },
  {
   "cell_type": "code",
   "execution_count": null,
   "metadata": {},
   "outputs": [],
   "source": [
    "easternAsia = normWithCountriesEA.drop(['Region'], axis=1)\n",
    "parallelPlotA = pandas.plotting.parallel_coordinates(easternAsia, class_column='country', colormap='rainbow_r')\n",
    "parallelPlotA.figure.set_size_inches(20,10, forward=True)\n",
    "pp_ylA = parallelPlotA.set_ylabel('Z-Score Value')"
   ]
  },
  {
   "cell_type": "markdown",
   "metadata": {},
   "source": [
    "Adjust norm's index to be based on country names. "
   ]
  },
  {
   "cell_type": "code",
   "execution_count": null,
   "metadata": {},
   "outputs": [],
   "source": [
    "norm.index = normWithCountries.country\n",
    "norm.head()"
   ]
  },
  {
   "cell_type": "markdown",
   "metadata": {},
   "source": [
    "Now let's perform dimension reduction. First, compute the high-dimensional distance matrix. "
   ]
  },
  {
   "cell_type": "code",
   "execution_count": null,
   "metadata": {},
   "outputs": [],
   "source": [
    "distHD = sklearn.metrics.pairwise.euclidean_distances(norm)\n",
    "distHD = pandas.DataFrame(distHD, columns=norm.index, index=norm.index)\n",
    "distHD"
   ]
  },
  {
   "cell_type": "markdown",
   "metadata": {},
   "source": [
    "We previously observed that the Netherlands and Belgium appeared to be similar. This would indicate that they have a small distance value. Let's actually compute that distance value. "
   ]
  },
  {
   "cell_type": "code",
   "execution_count": null,
   "metadata": {},
   "outputs": [],
   "source": [
    "distHD.loc['Netherlands']['Belgium']"
   ]
  },
  {
   "cell_type": "markdown",
   "metadata": {},
   "source": [
    "As we predicted, the pairwise Euclidean distance between the Netherlands and Belgium is only 0.654. In contrast, from the parallel coordinates plot, China and Mongolia appeared to be different from each other."
   ]
  },
  {
   "cell_type": "code",
   "execution_count": null,
   "metadata": {},
   "outputs": [],
   "source": [
    "distHD.loc['China']['Mongolia']"
   ]
  },
  {
   "cell_type": "code",
   "execution_count": null,
   "metadata": {},
   "outputs": [],
   "source": [
    "# TODO: Remove. \n",
    "# norm.isinf().any().sum()"
   ]
  },
  {
   "cell_type": "markdown",
   "metadata": {},
   "source": [
    "Indeed, the Euclidean distance between China and Mongolia is around 12, indicating that these two countries are unlike each other in terms of GDP, economy, population, etc. "
   ]
  },
  {
   "cell_type": "markdown",
   "metadata": {},
   "source": [
    "Here are some helper functions which will assist with weighted MDS. These functions are adapted from the Andromeda notebook, authored by Han Liu and Chris North at the Dept. of Computer Science at Virginia Tech.  \n",
    "\n",
    "One important modification made to the compute_mds function was that a random_state value of 2 was set. Setting the seed in this manner allows for consistent results when running the algorithm multiple times.  "
   ]
  },
  {
   "cell_type": "code",
   "execution_count": null,
   "metadata": {},
   "outputs": [],
   "source": [
    "import pandas as pd"
   ]
  },
  {
   "cell_type": "code",
   "execution_count": null,
   "metadata": {},
   "outputs": [],
   "source": [
    "# Compute the distance matrix for the weighted high-dimensional data using L1 distance function.\n",
    "#  Input HD data should already be weighted.\n",
    "def distance_matrix_HD(dataHDw):  # dataHDw (pandas or numpy) -> distance matrix (numpy)\n",
    "    dist_matrix = sklearn.metrics.pairwise.manhattan_distances(dataHDw)\n",
    "    #m = pd.DataFrame(m, columns=dataHD.index, index=dataHD.index)  # keep as np array for performance\n",
    "    return dist_matrix\n",
    "\n",
    "# Compute the distance matrix for 2D projected data using L2 distance function.\n",
    "def distance_matrix_2D(data2D):  # data2d (pandas or numpy) -> distance matrix (numpy)\n",
    "    dist_matrix = sklearn.metrics.pairwise.euclidean_distances(data2D) \n",
    "    #m = pd.DataFrame(m, columns=data2D.index, index=data2D.index) # keep as np array for performance\n",
    "    return dist_matrix\n",
    "\n",
    "#def dist(x,y):\n",
    "#    return np.linalg.norm(x-y, ord=2)"
   ]
  },
  {
   "cell_type": "code",
   "execution_count": null,
   "metadata": {},
   "outputs": [],
   "source": [
    "# Calculate the MDS stress metric between HD and 2D distances.  Uses numpy for efficiency.\n",
    "def stress(distHD, dist2D):  #  distHD, dist2D (numpy) -> stress (float)\n",
    "    #s = np.sqrt((distHD-dist2D).pow(2).sum().sum() / distHD.pow(2).sum().sum())  # pandas\n",
    "    #s = np.sqrt(((distHD-dist2D)**2).sum() / (distHD**2).sum())   # numpy\n",
    "    s = ((distHD-dist2D)**2).sum() / (distHD**2).sum()   # numpy, eliminate sqrt for efficiency\n",
    "    return s\n",
    "\n",
    "def compute_mds(dataHDw):  # dataHDw -> data2D (pandas)\n",
    "    distHD = distance_matrix_HD(dataHDw)\n",
    "    # Adjust these parameters for performance/accuracy tradeoff\n",
    "    mds = sklearn.manifold.MDS(n_components=2, dissimilarity='precomputed', n_init=10, max_iter=1000, random_state=2)\n",
    "    # Reduction algorithm happens here:  data2D is nx2 matrix\n",
    "    data2D = mds.fit_transform(distHD)\n",
    "    \n",
    "    # Rotate the resulting 2D projection to make it more consistent across multiple runs.\n",
    "    # Set the 1st PC to the y axis, plot looks better to spread data vertically with horizontal text labels\n",
    "    pca = sklearn.decomposition.PCA(n_components=2)\n",
    "    data2D = pca.fit_transform(data2D)\n",
    "    data2D = pd.DataFrame(data2D, columns=['y','x'], index=dataHDw.index)\n",
    "    \n",
    "    data2D.stress_value = stress(distHD, distance_matrix_2D(data2D))\n",
    "    return data2D\n",
    "\n",
    "def dimension_reduction(dataHD, wts): # dataHD, wts -> data2D (pandas)\n",
    "    # Normalize the weights to sum to 1\n",
    "    # print(dataHD)\n",
    "    wts = wts/wts.sum()\n",
    "    # print(pd.DataFrame(dataHD))\n",
    "    # Apply weights to the HD data \n",
    "    dataHDw = dataHD * wts\n",
    "    # print(dataHDw)\n",
    "    \n",
    "    # DR algorithm\n",
    "    data2D = compute_mds(dataHDw)\n",
    "\n",
    "    # Compute row relevances as:  data dot weights\n",
    "    # High relevance means large values in upweighted dimensions\n",
    "    data2D['relevance'] = dataHDw.sum(axis=1)\n",
    "    return data2D"
   ]
  },
  {
   "cell_type": "markdown",
   "metadata": {},
   "source": [
    "Now, use the MDS algorithm to reduce the data down to 2 dimensions. "
   ]
  },
  {
   "cell_type": "code",
   "execution_count": null,
   "metadata": {},
   "outputs": [],
   "source": [
    "min_weight, max_weight = 0.00001, 0.9999\n",
    "init_weight = min_weight  # 1.0/len(normalized_df.columns) # initialize to min to make the sliders easier to use.\n",
    "# weights = pd.Series(init_weight, index=norm.columns, name=\"Weight\")  # the current weight list\n",
    "weights = pd.Series([1] * 11, index=norm.columns)\n",
    "weights\n",
    "data2D = dimension_reduction(norm, weights)\n",
    "\n",
    "# mds = sklearn.manifold.MDS(n_components=2, dissimilarity='precomputed')\n",
    "# data2D = mds.fit_transform(distHD)\n",
    "data2D = pandas.DataFrame(data2D, columns=['x', 'y'], index=norm.index)\n",
    "data2D"
   ]
  },
  {
   "cell_type": "markdown",
   "metadata": {},
   "source": [
    "Plot the 2D data obtained from running the MDS algorithm. The data points represent distinct countries, and they are color coded by CO2 emissions per capita. While the location of the data points in this plot is arbitrary, the pairwise distance between the points is not, as each pairwise distance represents how similar two countries are to one another. For instance, Singapore is isolated near the bottom of the plot, which means it is dissimilar to most other countries. "
   ]
  },
  {
   "cell_type": "code",
   "execution_count": null,
   "metadata": {},
   "outputs": [],
   "source": [
    "data2D_v = data2D.join(norm['Emissions 2017 (Metric Tons Per Capita)'])\n",
    "data2D_v.head()\n",
    "ax = data2D_v.plot.scatter('x', 'y', c='Emissions 2017 (Metric Tons Per Capita)', \n",
    "                           s=40, colormap=plt.cm.rainbow, figsize=(15,15), sharex=False)\n",
    "# ax.axis('scaled')\n",
    "for i,r in data2D.iterrows():\n",
    "   ax.text(r.x, r.y, i[0:3])"
   ]
  },
  {
   "cell_type": "markdown",
   "metadata": {},
   "source": [
    "Let's cluster the data to see how we can group countries together.\n",
    "First, let's find the optimal number of clusters. "
   ]
  },
  {
   "cell_type": "code",
   "execution_count": null,
   "metadata": {},
   "outputs": [],
   "source": [
    "kVals = []\n",
    "twcv = []\n",
    "for k in range(1, len(norm)):\n",
    "    centroids = norm.iloc[0:k]\n",
    "    km = sklearn.cluster.KMeans(n_clusters=k, init=centroids, n_init=1, max_iter=10)\n",
    "    km.fit(norm)\n",
    "    kVals.append(k)\n",
    "    twcv.append(km.inertia_)\n",
    "d = {'K': kVals, 'Inertia': twcv}\n",
    "Answer2 = pandas.DataFrame(data=d)\n",
    "plt.figure(figsize=(8, 8))\n",
    "plt.plot(Answer2.K, Answer2.Inertia, marker='o')\n",
    "xlab = plt.xlabel('K value')\n",
    "ylab = plt.ylabel('Total within-cluster variance')"
   ]
  },
  {
   "cell_type": "markdown",
   "metadata": {},
   "source": [
    "It looks like there's a steep drop in within-cluster variance just around K = 7. Choosing more clusters will make it more difficult to meaningfully group countries, so let's choose 7 clusters for now. "
   ]
  },
  {
   "cell_type": "code",
   "execution_count": null,
   "metadata": {},
   "outputs": [],
   "source": [
    "km = sklearn.cluster.KMeans(n_clusters=7, random_state=2)\n",
    "labels = km.fit_predict(norm)\n",
    "labels = pandas.DataFrame(labels, columns=['Cluster'], index=norm.index)\n",
    "labels"
   ]
  },
  {
   "cell_type": "markdown",
   "metadata": {},
   "source": [
    "Now, let's plot the clustering results. We will take the x,y position for each country to be its location in the 2D MDS plot shown above. Each of the 7 colors chosen represents a distinct cluster of countries. "
   ]
  },
  {
   "cell_type": "code",
   "execution_count": null,
   "metadata": {},
   "outputs": [],
   "source": [
    "data2DClustered = data2D.join(labels.Cluster)\n",
    "# TODO: Choose better colors. \n",
    "clusterColors = {0:\"red\", 1:\"orange\", 2:\"yellow\", 3:\"green\", 4:\"blue\", 5:\"purple\", 6:\"brown\"}\n",
    "ax = data2DClustered.plot.scatter('x', 'y', c=data2DClustered.Cluster.replace(clusterColors), colormap=plt.cm.viridis, figsize=(15,15), sharex=False)\n",
    "# ax.axis('scaled')\n",
    "for i,r in data2D.iterrows():\n",
    "    ax.text(r.x, r.y, i[0:3])"
   ]
  },
  {
   "cell_type": "markdown",
   "metadata": {},
   "source": [
    "## Conclusion:\n",
    "\n",
    "From our dimension reduction and clustering analysis, we can see a large cluster of countries around (1, 0). The orange and red clusters dominate in this region. As we might expect, Gulf countries in the middle east, like Saudi Arabia, Kuwait, and the UAE are clustered together. There are also a few outlier nations, like India, China, and the United States. Due to the outliers, the number of countries in each cluster is variable, with some clusters containing 20 or more countries, and other clusters containing only a handful of countries.\n",
    "\n",
    "As with all MDS models, it is important to note that the process of reducing high-dimensional data down to a few dimensions is an inherently lossy process. Therefore, the plots above only serve as visual aids and not as the ground truth. This explains why some of the clusters have members which appear to be separated from the main cluster body. Note that since all of the weights were set to the same value before running the MDS analysis, no one column was preferred over the others. However, if later questions need to weight a few columns more heavily than the others, that functionality is provided in the helper methods. \n",
    "\n",
    "This dimension reduction and clustering analysis primarily serves as a tool for our other questions. For example, when analyzing the relationship between GDP and CO2 emissions, we can limit ourselves to finding this relationship for one or two specific clusters. However, one interesting aspect of the first 2D visualization is that Gulf countries, like Qatar and Kuwait appear to emit substantially more CO2 per capita than other nations. Perhaps we can investigate this trend further in subsequent QACs. "
   ]
  },
  {
   "cell_type": "markdown",
   "metadata": {},
   "source": [
    "## Question: Does a Country's Population or Land Area have anything to do with greenhouse emissions? (Atharva)\n",
    "\n",
    "Does population or land area affect the volume of greenhouse emissions? By determining a correlation between these variables, we can better determine which countries are major contributors of greenhouse emissions. For example, if population and greenhouse emissions are strongly correlated together, then we can focus on countries with large populations, since those nations will have the greatest influence over the global volume of emissions. Furthermore, we'll get a better sense geographically for which countries are major contributors of emissions.  \n",
    "\n",
    "Hypothesis 1: We should expect countries with larger populations to emit more CO2 into the atmosphere. This will most likely be the case, since a larger population typically consumes more energy than a smaller population. Many countries meet their energy needs by burning coal or fossil fuels, and these sources of energy release CO2 into the atmosphere. \n",
    "  \n",
    "  \n",
    "Hypothesis 2: Countries with larger land areas will, on average, emit more CO2 into the atmosphere than smaller countries. Many of the major exporters of the world are nations which have a large surface area, and countries which have more economic activity would most likely release greater amounts of CO2 than countries with less active economies.\n",
    "\n",
    "In order to answer this question, data from https://www.kaggle.com/datasets/sudalairajkumar/undata-country-profiles will be utilized. This data contains general information about each of the countries as well as social, economic, and environmental indicators. The dataset was extracted from information published by the United Nations, so it is a credible source. In order to quantify CO2 emissions, the https://data.worldbank.org/indicator/EN.ATM.CO2E.PC dataset will be used. This data is taken from the worldbank, a reputed international institution. \n",
    "\n",
    "Before analyzing the data, it will be helpful to define what units population, land area, and greenhouse emissions are measured in. Population will be measured in thousands of people, land area will be measured in square kilometers, and greenhouse emissions will be quantified in millions of metric tons. "
   ]
  },
  {
   "cell_type": "markdown",
   "metadata": {},
   "source": [
    "## Analysis: \n",
    "Import the sklearn.linear_model module, as it will allow for a linear regression line to be fitted to the given data. "
   ]
  },
  {
   "cell_type": "code",
   "execution_count": null,
   "metadata": {},
   "outputs": [],
   "source": [
    "from sklearn.linear_model import LinearRegression"
   ]
  },
  {
   "cell_type": "markdown",
   "metadata": {},
   "source": [
    "Let's use the countryStats dataset from the clustering analysis above. It contains all the relevant columns and is already cleaned, so we can begin right away with visualization and analysis.  \n",
    "\n",
    "Below are 2-D scatterplots which show the relationships between Surface Area vs. Raw CO2 emissions and Population (thousands) vs. Raw CO2 emissions."
   ]
  },
  {
   "cell_type": "code",
   "execution_count": null,
   "metadata": {},
   "outputs": [],
   "source": [
    "# Add a column for raw emissions. \n",
    "countryStats['Raw Emissions (Million Metric Tons)'] = countryStats['Emissions 2017 (Metric Tons Per Capita)'] * countryStats['Population in thousands (2017)'] / 1000\n",
    "countryStats.plot.scatter(x='Surface area (km2)', y='Raw Emissions (Million Metric Tons)', figsize=(10,5))\n",
    "countryStats.plot.scatter(x='Population in thousands (2017)', y='Raw Emissions (Million Metric Tons)', color='green', figsize=(10,5))"
   ]
  },
  {
   "cell_type": "markdown",
   "metadata": {},
   "source": [
    "Now, let's compute the Pearson Correlation Coefficients for Surface Area vs. Raw CO2 emissions and for Population (thousands) vs. Raw CO2 emissions."
   ]
  },
  {
   "cell_type": "code",
   "execution_count": null,
   "metadata": {},
   "outputs": [],
   "source": [
    "countryStats['Surface area (km2)'].corr(countryStats['Raw Emissions (Million Metric Tons)'])\n",
    "# TODO: Run Weighted MDS grouped by Surface Area. Then, do analysis only on big countries, for example. "
   ]
  },
  {
   "cell_type": "code",
   "execution_count": null,
   "metadata": {},
   "outputs": [],
   "source": [
    "countryStats['Population in thousands (2017)'].corr(countryStats['Raw Emissions (Million Metric Tons)'])"
   ]
  },
  {
   "cell_type": "markdown",
   "metadata": {},
   "source": [
    "We get a fairly strong correlation coefficient for Population vs. CO2 Emissions. The correlation coefficient for Surface area vs. CO2 is slightly weaker, probably due to outliers. Let's see what happens if we remove these outliers. "
   ]
  },
  {
   "cell_type": "code",
   "execution_count": null,
   "metadata": {},
   "outputs": [],
   "source": [
    "countryStatsNoOutliers = countryStats[countryStats['Raw Emissions (Million Metric Tons)'] < 4000]\n",
    "countryStatsNoOutliers['Surface area (km2)'].corr(countryStatsNoOutliers['Raw Emissions (Million Metric Tons)'])"
   ]
  },
  {
   "cell_type": "markdown",
   "metadata": {},
   "source": [
    "Interestingly, we get about the same correlation coefficient. It looks like the outliers didn't really affect the Pearson coefficient.  \n",
    "Let's create a 3-D visualization of the data with Surface area and Population on the x and y axes and CO2 emissions on the z axis. "
   ]
  },
  {
   "cell_type": "code",
   "execution_count": null,
   "metadata": {},
   "outputs": [],
   "source": [
    "# Graphing libraries\n",
    "# %matplotlib notebook\n",
    "import matplotlib.pyplot as plt\n",
    "from mpl_toolkits.mplot3d import Axes3D\n",
    "\n",
    "fig = plt.figure(figsize=(8,8))\n",
    "ax = fig.add_subplot(111, projection='3d')\n",
    "sc = ax.scatter(countryStats['Surface area (km2)'], countryStats['Population in thousands (2017)'], \n",
    "                countryStats['Raw Emissions (Million Metric Tons)'], s=30)\n",
    "xl = ax.set_xlabel('Surface area (km2)')\n",
    "yl = ax.set_ylabel('Population in thousands')\n",
    "zl = ax.set_zlabel('Raw Emissions (Million Metric Tons)')"
   ]
  },
  {
   "cell_type": "markdown",
   "metadata": {},
   "source": [
    "Now, what happens if we do a multiple linear regression analysis using both surface area and population as independent variables?"
   ]
  },
  {
   "cell_type": "code",
   "execution_count": null,
   "metadata": {},
   "outputs": [],
   "source": [
    "X = countryStats[['Surface area (km2)','Population in thousands (2017)']]\n",
    "lmMult = LinearRegression().fit(X, countryStats['Raw Emissions (Million Metric Tons)'])\n",
    "lmMult.coef_,lmMult.intercept_"
   ]
  },
  {
   "cell_type": "code",
   "execution_count": null,
   "metadata": {},
   "outputs": [],
   "source": [
    "multiRegR = (lmMult.score(X, countryStats['Raw Emissions (Million Metric Tons)']))**0.5\n",
    "multiRegR"
   ]
  },
  {
   "cell_type": "markdown",
   "metadata": {},
   "source": [
    "Our multiple linear regression model gives an R-value of ~0.85, which is better than both of the individual R-values.  \n",
    "Let's overlay the predicted data from the multiple linear regression model with the actual data. This will help us see sources of error between the predictions and actual data. The red xs represent predicted emission values given the surface area and population, while the blue dots represent actual emission values. \n",
    "\n",
    "From the plot, we can see that the model was somewhat inaccurate in predicting the CO2 emission values for countries with large populations, as the distance between the red xs and the corresponding blue dots is on the order of a few billion metric tons. However, the model reasonably predicted emissions for countries with smaller populations. "
   ]
  },
  {
   "cell_type": "code",
   "execution_count": null,
   "metadata": {},
   "outputs": [],
   "source": [
    "# Create a predictedCO2 column. \n",
    "predictedCO2 = lmMult.coef_[0]*countryStats['Surface area (km2)'] + lmMult.coef_[1]*countryStats['Population in thousands (2017)'] + lmMult.intercept_\n",
    "countryStatsPred = countryStats.assign(Predicted_CO2 = predictedCO2)\n",
    "\n",
    "# Overlay the predicted CO2 levels on the plot with actual Surface Area vs. CO2 data. \n",
    "sc2 = ax.scatter(countryStatsPred['Surface area (km2)'], countryStatsPred['Population in thousands (2017)'], \n",
    "           countryStatsPred['Predicted_CO2'], c='r', marker='x', s=30)\n",
    "fig"
   ]
  },
  {
   "cell_type": "markdown",
   "metadata": {},
   "source": [
    "We see the overall trend, but there's a really large cluster of points in the bottom left corner. Let's zoom in on that area of the plot. "
   ]
  },
  {
   "cell_type": "code",
   "execution_count": null,
   "metadata": {},
   "outputs": [],
   "source": [
    "ax.set_xlim([0, 0.25e+07])\n",
    "ax.set_zlim([0, 1000])\n",
    "fig"
   ]
  },
  {
   "cell_type": "markdown",
   "metadata": {},
   "source": [
    "This gives us a better sense of the predictions in relation to the actual data points. It looks like, for the most part, the predictions are fairly close to the actual values. This would explain the high R-value. "
   ]
  },
  {
   "cell_type": "markdown",
   "metadata": {},
   "source": [
    "## Conclusion:\n",
    "\n",
    "From the above analysis, it appears that land area and population do have some relation to CO2 emissions. In both cases, there is a positive correlation, meaning that as either surface area or population increases, CO2 emissions tend to increase as well. The R-value for population vs. CO2 emissions was ~0.82, while the R-value for surface area vs. CO2 was ~0.58. However, when running a multiple linear regression analysis with surface area and population both as individual variables and CO2 emissions as the dependent variable, an R-value of ~0.85 was obtained. Both of the slope values calculated after fitting the multiple linear regression model were positive numbers.\n",
    "\n",
    "According to the multiple linear regression model, countries which have a larger surface area on average produce more CO2 emissions. Likewise, countries which have a greater population on average produce more CO2 than countries with smaller populations.  These results support both of the hypotheses stated above. \n",
    "\n",
    "However, the models created in the analysis section are only approximations and leave out important information. From the graph of Surface Area (km2) vs. CO2 emissions, we can see a few countries which emit a substantially larger volume of CO2 than other nations with comparable land areas. This indicates that there may be a few outlier countries which should be treated separately from the vast majority of other nations. \n",
    "\n",
    "One additional question that can be explored is whether population density is a better predictor of CO2 emissions than total population. A large population density value could be associated with urban areas and cities, and may therefore have a strong correlation with CO2 emissions. Another potential area of analysis could be to fit more complex models to our data to see if we find better fits. These could include polynomial models with multiple variables. "
   ]
  },
  {
   "cell_type": "markdown",
   "metadata": {},
   "source": [
    "## Question: Is there a correlation between GDP and greenhouse gas emissions? (Justin)\n",
    "\n",
    "Does GDP affect the volume of greenhouse emissions? By determining a correlation between these variables, we can better determine how a country's economy affects its CO2 emissions. We would expect countries with larger economies, and therefore larger GDPs, to produce more CO2 emissions, due to more energy demands and pollution from factories. \n",
    "\n",
    "In order to answer this question, data from https://www.kaggle.com/datasets/sudalairajkumar/undata-country-profiles will be utilized. This data contains general information about each of the countries as well as social, economic, and environmental indicators. The dataset was extracted from information published by the United Nations, so it is a good authoritative source. \n",
    "\n",
    "Before analyzing the data, it will be helpful to define what units GDP and greenhouse emissions are measured in. GDP will be measured in GDP per capita, in USD. CO2 emissions will be quantified in million tons / tons per capita. GDP per capita will be used instead of raw GDP, since CO2 emissions are already measured per person, so both variables will be scaled in the same way. "
   ]
  },
  {
   "cell_type": "markdown",
   "metadata": {},
   "source": [
    "## Analysis: \n",
    "We'll use numpy, pandas, and matplotlib to analyze the data. We'll also use the sklearn.linear_model module to fit a linear regression model if there is a correlation.\n",
    "\n",
    "Here, we'll compare GDP per capita to CO2 emissions per capita. This is because both variables are measured per person, and thus are scaled the same relative to each country. "
   ]
  },
  {
   "cell_type": "code",
   "execution_count": null,
   "metadata": {},
   "outputs": [],
   "source": [
    "import pandas as pd\n",
    "import matplotlib.pyplot as plt\n",
    "import numpy"
   ]
  },
  {
   "cell_type": "markdown",
   "metadata": {},
   "source": [
    "We'll start by reading in our data."
   ]
  },
  {
   "cell_type": "code",
   "execution_count": null,
   "metadata": {},
   "outputs": [],
   "source": [
    "dirty = pd.read_csv(\"country_profile_variables.csv\")"
   ]
  },
  {
   "cell_type": "markdown",
   "metadata": {},
   "source": [
    "Preview the data to see what the data looks like and the data types."
   ]
  },
  {
   "cell_type": "code",
   "execution_count": null,
   "metadata": {},
   "outputs": [],
   "source": [
    "dirty.head()"
   ]
  },
  {
   "cell_type": "markdown",
   "metadata": {},
   "source": [
    "Lets extract the GDP and CO2 emissions data from the original dataset into one clean dataframe."
   ]
  },
  {
   "cell_type": "code",
   "execution_count": null,
   "metadata": {},
   "outputs": [],
   "source": [
    "clean = pd.DataFrame()\n",
    "\n",
    "# copy 'GDP per capita (current US$)' and ''CO2 emission estimates (million tons/tons per capita)'\n",
    "clean['Country'] = dirty['country']\n",
    "clean['Region'] = dirty['Region']\n",
    "clean['CO2 emission estimates (million tons/tons per capita)'] = dirty['CO2 emission estimates (million tons/tons per capita)']\n",
    "clean['GDP per capita (current US$)'] = dirty['GDP per capita (current US$)']\n",
    "clean.head()"
   ]
  },
  {
   "cell_type": "markdown",
   "metadata": {},
   "source": [
    "There seems to be a lot of missing data in the both columns, here labeled with -99. We'll remove all rows with missing data."
   ]
  },
  {
   "cell_type": "code",
   "execution_count": null,
   "metadata": {},
   "outputs": [],
   "source": [
    "# remove rows with values less than 0\n",
    "clean = clean[clean['CO2 emission estimates (million tons/tons per capita)'] >= 0]\n",
    "clean = clean[clean['GDP per capita (current US$)'] >= 0]\n",
    "clean.head()"
   ]
  },
  {
   "cell_type": "markdown",
   "metadata": {},
   "source": [
    "We removed some rows. Lets count the number of missing rows."
   ]
  },
  {
   "cell_type": "code",
   "execution_count": null,
   "metadata": {},
   "outputs": [],
   "source": [
    "dirty.shape[0] - clean.shape[0]"
   ]
  },
  {
   "cell_type": "markdown",
   "metadata": {},
   "source": [
    "Lets plot the data."
   ]
  },
  {
   "cell_type": "code",
   "execution_count": null,
   "metadata": {
    "scrolled": true
   },
   "outputs": [],
   "source": [
    "# plot CO2 emission estimates vs. GDP per capita\n",
    "clean.plot.scatter(x='CO2 emission estimates (million tons/tons per capita)', y='GDP per capita (current US$)', figsize=(10,5))"
   ]
  },
  {
   "cell_type": "markdown",
   "metadata": {},
   "source": [
    "This plot is not too helpful, there seems to be a lot of crowded points close to zero. Lets zoom in closer to zero to get a better understanding of the plot."
   ]
  },
  {
   "cell_type": "code",
   "execution_count": null,
   "metadata": {},
   "outputs": [],
   "source": [
    "# plot, limit x to 15000\n",
    "clean.plot.scatter(x='CO2 emission estimates (million tons/tons per capita)', y='GDP per capita (current US$)', figsize=(10,5), xlim=(-500,15000))"
   ]
  },
  {
   "cell_type": "markdown",
   "metadata": {},
   "source": [
    "To the eye, there does not seem to be a correlation. Lets compute Pearson's coeffecient."
   ]
  },
  {
   "cell_type": "code",
   "execution_count": null,
   "metadata": {},
   "outputs": [],
   "source": [
    "# compute r\n",
    "clean['CO2 emission estimates (million tons/tons per capita)'].corr(clean['GDP per capita (current US$)'])"
   ]
  },
  {
   "cell_type": "markdown",
   "metadata": {},
   "source": [
    "## Conclusion:\n",
    "\n",
    "There is no correlation between GDP and CO2 emissions. This could be because GDP is not a good predictor of CO2 emissions, or because the data is not representative of the real world.\n",
    "\n",
    "If our result is true, it could mean that CO2 emissions do not have any relationship with GDP. This could mean that countries with lots of exports do not have high CO2 emissions, and that they might rely on other countries for energy and other needs which produce CO2.\n",
    "\n",
    "This hypothesis could be true due to the amount of outliers we see on our plot. Most countries have low CO2 emissions with the exception of a few countries with very high CO2 emissions."
   ]
  },
  {
   "cell_type": "markdown",
   "metadata": {},
   "source": [
    "## Question: What forms of government do the countries that produce the most greenhouse gases have? (Atharva)\n",
    "What forms of government do nations which are major emitters of greenhouse gases have? By answering this question, we may be able to gain insight into whether certain forms of government are more effective than others in terms of reducing emissions. \n",
    "\n",
    "Data for this question will be taken taken from https://cddrl.fsi.stanford.edu/research/autocracies_of_the_world_dataset and https://data.worldbank.org/indicator/EN.ATM.CO2E.PC. \n",
    "\n",
    "The Stanford Center on Democracy, Development, and the Rule of Law is responsible for producing the first dataset. This dataset includes information on countries and their forms of government through the years 1950-2012. While this data might seem to be somewhat outdated, only data from 2012 will be analyzed. Furthermore, most governments throughout the world have remained stable for at least the last 10 years, so we expect the data to be accurate. In this dataset, government types are grouped into 5 categories: Democracy, Military, Monarchy, Multiparty, and Single Party. The second link contains a dataset which lists countries and their CO2 emissions in metric tons per capita. The worldbank was responsible for collecting this data, and we expect it to be accurate. \n",
    "\n",
    "For this analysis, we can first join the two datasets together, then group countries based on government type. Afterwards, we can aggregate CO2 emission data for each of these groups. As different aggregation methods can give different results, we can try multiple different types of aggregations and observe any significant differences in the results. Finally, we can visualize the government types that major CO2 emitters have using a bar graph. "
   ]
  },
  {
   "cell_type": "markdown",
   "metadata": {},
   "source": [
    "## Analysis: \n",
    "First, let's import the government dataset and get a sense of what the data looks like. "
   ]
  },
  {
   "cell_type": "code",
   "execution_count": null,
   "metadata": {},
   "outputs": [],
   "source": [
    "dirtyGovt = pd.read_excel(\"countries_by_govt.xls\")\n",
    "dirtyGovt.shape\n",
    "dirtyGovt.head()"
   ]
  },
  {
   "cell_type": "markdown",
   "metadata": {},
   "source": [
    "First, let's make a copy of the government dataset. This will allow us to refer back to the original data if necessary.  \n",
    "Let's also filter out all rows in the government data which have years other than 2012. "
   ]
  },
  {
   "cell_type": "code",
   "execution_count": null,
   "metadata": {},
   "outputs": [],
   "source": [
    "# Make a copy of the original dataframe and process data for analysis\n",
    "# newEmissions = emissions_preJoin.copy()\n",
    "newGovt2012 = dirtyGovt.copy()\n",
    "\n",
    "# Filter by year (only 2012)\n",
    "newGovt2012 = newGovt2012[newGovt2012.year == 2012]\n",
    "newGovt2012.shape\n",
    "newGovt2012.head(10)"
   ]
  },
  {
   "cell_type": "markdown",
   "metadata": {},
   "source": [
    "Are there any missing or negative values for the columns we're interested in? "
   ]
  },
  {
   "cell_type": "code",
   "execution_count": null,
   "metadata": {},
   "outputs": [],
   "source": [
    "newGovt2012.country.isnull().values.any()\n",
    "newGovt2012.regime_nr.isnull().values.any()"
   ]
  },
  {
   "cell_type": "markdown",
   "metadata": {},
   "source": [
    "It looks like we're good. Let's process the emissions dataset.  \n",
    "For this question, it makes sense to use emissions data from 2012, since that is the year we will use for government types.  \n",
    "First, make a copy of the emissions data. "
   ]
  },
  {
   "cell_type": "code",
   "execution_count": null,
   "metadata": {},
   "outputs": [],
   "source": [
    "dirtyEmissions = pd.read_csv(\"CO2Emissions.csv\")\n",
    "newEmissions = dirtyEmissions.copy()\n",
    "newEmissions = newEmissions[['Country Name', '2012']]"
   ]
  },
  {
   "cell_type": "markdown",
   "metadata": {},
   "source": [
    "Here's a sample of the data. "
   ]
  },
  {
   "cell_type": "code",
   "execution_count": null,
   "metadata": {},
   "outputs": [],
   "source": [
    "newEmissions.shape\n",
    "newEmissions.dtypes\n",
    "newEmissions.head()"
   ]
  },
  {
   "cell_type": "markdown",
   "metadata": {},
   "source": [
    "Clean emissionsGovt by dropping NaN values. Let's also rename the '2012' column to 'Emissions 2012' for clarity. "
   ]
  },
  {
   "cell_type": "code",
   "execution_count": null,
   "metadata": {},
   "outputs": [],
   "source": [
    "newEmissions = newEmissions.dropna()\n",
    "newEmissions.rename(columns={'2012':'Emissions 2012 (Metric Tons Per Capita)'}, inplace=True)\n",
    "newEmissions.head()"
   ]
  },
  {
   "cell_type": "markdown",
   "metadata": {},
   "source": [
    "Check for any missing or invalid values in the cleaned emissionsGovt dataset. "
   ]
  },
  {
   "cell_type": "code",
   "execution_count": null,
   "metadata": {},
   "outputs": [],
   "source": [
    "len(newEmissions[newEmissions['Emissions 2012 (Metric Tons Per Capita)'] < 0])"
   ]
  },
  {
   "cell_type": "markdown",
   "metadata": {},
   "source": [
    "It looks like we are ok to proceed with visualization and analysis. The data types seem to be consistent, and there are no missing or outlier values in the columns we care about.  "
   ]
  },
  {
   "cell_type": "markdown",
   "metadata": {},
   "source": [
    "Before we join, let's try to minimize the number of countries that are dropped because the keys don't match. "
   ]
  },
  {
   "cell_type": "code",
   "execution_count": null,
   "metadata": {},
   "outputs": [],
   "source": [
    "govtMappings = {\n",
    "    'Russia': 'Russian Federation',\n",
    "    'Korea South' : 'Korea, Rep.',\n",
    "    'Myanmar (Burma)' : 'Myanmar',\n",
    "}\n",
    "\n",
    "newGovt2012.country = newGovt2012.country.map(lambda c : govtMappings[c] if c in govtMappings.keys() else c)"
   ]
  },
  {
   "cell_type": "markdown",
   "metadata": {},
   "source": [
    "Now we are ready to join these two tables together. An inner join will be used in order to ensure that no values the newly formed table are NaN.  "
   ]
  },
  {
   "cell_type": "code",
   "execution_count": null,
   "metadata": {},
   "outputs": [],
   "source": [
    "# Now, join by country name. \n",
    "joinedData = pandas.merge(newGovt2012, newEmissions, how='inner', left_on='country', right_on='Country Name')\n",
    "joinedData.shape"
   ]
  },
  {
   "cell_type": "markdown",
   "metadata": {},
   "source": [
    "Now that we've joined, we can filter out the columns which aren't relevant. "
   ]
  },
  {
   "cell_type": "code",
   "execution_count": null,
   "metadata": {},
   "outputs": [],
   "source": [
    "joinedData = joinedData[['country', 'regime_nr', 'Emissions 2012 (Metric Tons Per Capita)']]\n",
    "joinedData.shape"
   ]
  },
  {
   "cell_type": "markdown",
   "metadata": {},
   "source": [
    "It looks like we haven't lost any rows, so all the data from the joined table for each of these columns should be present.  \n",
    "Let's now do a groupby on government type. "
   ]
  },
  {
   "cell_type": "code",
   "execution_count": null,
   "metadata": {},
   "outputs": [],
   "source": [
    "g = joinedData.groupby('regime_nr')\n",
    "g.size()"
   ]
  },
  {
   "cell_type": "markdown",
   "metadata": {},
   "source": [
    "The next step is to aggregate data for the groupby object we have generated. Let's first try taking the mean of the CO2 emissions for each of these columns. "
   ]
  },
  {
   "cell_type": "code",
   "execution_count": null,
   "metadata": {},
   "outputs": [],
   "source": [
    "g['Emissions 2012 (Metric Tons Per Capita)'].mean()"
   ]
  },
  {
   "cell_type": "markdown",
   "metadata": {},
   "source": [
    "Since CO2 emissions are measured in metric tons per capita, the emissions are already normalized by population. Thus, we wouldn't expect as many outliers in the aggregation process as there might be if raw emissions were used.  \n",
    "However, let's take the median, which is less prone to outliers, and see if our results differ. "
   ]
  },
  {
   "cell_type": "code",
   "execution_count": null,
   "metadata": {},
   "outputs": [],
   "source": [
    "g['Emissions 2012 (Metric Tons Per Capita)'].median()"
   ]
  },
  {
   "cell_type": "markdown",
   "metadata": {},
   "source": [
    "Indeed, our results are fairly consistent, regardless of the aggregation method we choose. Monarchies appear to emit substantially more CO2 emissions per capita than nations with other forms of government. Democracies and Single Party states have comparable emissions to each other, and the median emissions per capita for Democracies and Single Party states are greater than both Military states and Multiparty systems.  "
   ]
  },
  {
   "cell_type": "markdown",
   "metadata": {},
   "source": [
    "Let's now visualize the results. Due to the large number of countries present, let's focus on the countries which are major emitters. An arbitrary cut-off point of 5 metric tons per capita will be used, since that appears to leave us with around 50 countries. "
   ]
  },
  {
   "cell_type": "code",
   "execution_count": null,
   "metadata": {},
   "outputs": [],
   "source": [
    "majorEmitters = joinedData[joinedData['Emissions 2012 (Metric Tons Per Capita)'] > 5]\n",
    "majorEmitters.shape\n",
    "# majorEmitters[majorEmitters.country == \"Argentina\"]"
   ]
  },
  {
   "cell_type": "markdown",
   "metadata": {},
   "source": [
    "Make a bar plot of the countries, colored by their government type. "
   ]
  },
  {
   "cell_type": "code",
   "execution_count": null,
   "metadata": {},
   "outputs": [],
   "source": [
    "colors = {\"Democracy\": \"blue\", \"Military\": \"brown\", \"Monarchy\": \"yellow\", \"Multiparty\":\"purple\", \"Single Party\":\"red\"}\n",
    "majorEmittersSorted = majorEmitters.sort_values('Emissions 2012 (Metric Tons Per Capita)', ascending=False)\n",
    "axP3 = majorEmittersSorted.plot('country', 'Emissions 2012 (Metric Tons Per Capita)', kind='bar', figsize=(20,5), \n",
    "                                color=majorEmittersSorted['regime_nr'].replace(colors), legend=False)\n",
    "axP3 = axP3.set(xlabel='Country', ylabel='CO2 (Metric Tons Per Capita)')"
   ]
  },
  {
   "cell_type": "markdown",
   "metadata": {},
   "source": [
    "As we can see from the bar graph above, 6 of the 8 Monarchy states are in the top 10 countries for largest number of CO2 emissions per capita. This indicates that Monarchies tend to emit more CO2 into the atmosphere than other government forms. However, we must be vary of concluding that the cause of the greater emissions in these countries is because of their government type. Middle-eastern countries like Qatar, Kuwait, and Saudi Arabia all have economies which are heavily reliant on oil exports, so this could be a confounding variable that explains the trend. "
   ]
  },
  {
   "cell_type": "markdown",
   "metadata": {},
   "source": [
    "## Conclusion: \n"
   ]
  },
  {
   "cell_type": "markdown",
   "metadata": {},
   "source": [
    "Of the five types of governmental systems in the Stanford dataset, it appears that Monarchies emit more CO2 into the atmosphere per capita than other government types. In fact, 6 of the 8 Monarchy states are among the top 10 countries which produce the most CO2 per capita. Following monarchies, democracies and single party states appear to have comparable mean CO2 emission per capita values. Multiparty states and Military governments appear to rank lower than both democracies and single party states in terms of mean emissions per capita. \n",
    "\n",
    "One limitation of this analysis is that some government types only have a few representative countries, while other government types have a disproportionate share of total countries. For example, 87 of the 148 countries are classified as Democracies, while only 5 of these countries are classified as Single Party states. Another limitation is that in some cases, government type and economy are inextricably linked together. Namely, the Monarchy states shown in the bar graph all have economies that are dependent on oil, and the extraction of oil and natural gas is known to release large amounts of CO2 into the atmosphere. Therefore, even though there appears to be a trend where monarchies emit more CO2 into the atmosphere, we certainly cannot conclude that government policies of monarchy nations are responsible for the greater amount of emissions per capita. \n",
    "\n",
    "A logical next step from this analysis would be to analyze GDP by industry for countries which produce the most emissions per capita. By conducting this analysis, we can observe which economic sectors are responsible for the majority of emissions. Additionally, since many countries were classified as democracies, we can further subdivide this group. For example, we can categorize nations as direct democracies, representative democracies, constitutional democracies, etc."
   ]
  },
  {
   "cell_type": "markdown",
   "metadata": {},
   "source": [
    "## Question: Do emissions impact human life expectancy? (Andrew)\n",
    "\n",
    "Do greenhouse emissions impact human life expectancy? By answering this question, we will better understand how harmful greenhouse gases are towards people. We hypothesize that as CO2 emissions increase, human life expectancy rates will decrease. \n",
    "\n",
    "We can answer this question by gathering data on life expectancy and greenhouse gas emissions of various countries, and finding a Pearson correlation coefficient between the two data sets. Two good sources of data to help answer this question are: https://www.kaggle.com/saurabhshahane/green-house-gas-historical-emission-data and https://www.kaggle.com/datasets/kumarajarshi/life-expectancy-who.\n",
    "\n",
    "The first link contains data about total CO2 emissions in each country, as well as population size. For this analysis, we will be looking at total CO2 emissions. The second link contains information about life expectancy and other factors that can affect life expectancy. For this analysis, we will be looking at the life expectancy for each country. Since our life expectancy data spans many years, we will aggregate by mean life expectancy per country and use it in correlation with the CO2 emissions data.\n",
    "\n",
    "To analyze this data, we will create a scatter plot and find the Pearson correlation coefficient to evaluate the two datasets. We chose this method to analyze this question because we are trying to find how one factor affects another. In this case, how greenhouse gas emissions affect human life expectancy."
   ]
  },
  {
   "cell_type": "markdown",
   "metadata": {},
   "source": [
    "## Analysis:\n",
    "\n",
    "First, let's import both datasets and get a sense of what the data looks like."
   ]
  },
  {
   "cell_type": "code",
   "execution_count": null,
   "metadata": {
    "scrolled": true
   },
   "outputs": [],
   "source": [
    "dirtyLife = pd.read_csv('life_expectancy_data.csv')"
   ]
  },
  {
   "cell_type": "code",
   "execution_count": null,
   "metadata": {},
   "outputs": [],
   "source": [
    "dirtyLife.head()"
   ]
  },
  {
   "cell_type": "code",
   "execution_count": null,
   "metadata": {},
   "outputs": [],
   "source": [
    "dirtyEmiss = pd.DataFrame()\n",
    "dirtyEmiss['country'] = countryStats['country']\n",
    "dirtyEmiss['Raw Emissions (Million Metric Tons)'] = countryStats['Raw Emissions (Million Metric Tons)']\n",
    "dirtyEmiss['country'] = [i.upper() for i in dirtyEmiss['country']]\n",
    "dirtyEmiss"
   ]
  },
  {
   "cell_type": "markdown",
   "metadata": {},
   "source": [
    "Let's make a copy of the original data frames so we do not mess with the original data for future reference if needed."
   ]
  },
  {
   "cell_type": "code",
   "execution_count": null,
   "metadata": {},
   "outputs": [],
   "source": [
    "newLife = dirtyLife.copy()\n",
    "newEmiss = dirtyEmiss.copy()\n",
    "newEmiss"
   ]
  },
  {
   "cell_type": "code",
   "execution_count": null,
   "metadata": {
    "scrolled": true
   },
   "outputs": [],
   "source": [
    "newLife.dtypes\n",
    "newEmiss.dtypes"
   ]
  },
  {
   "cell_type": "markdown",
   "metadata": {},
   "source": [
    "We must make the keys for joining the two datasets consistent, so we will make the country names be in uppercase letters."
   ]
  },
  {
   "cell_type": "code",
   "execution_count": null,
   "metadata": {},
   "outputs": [],
   "source": [
    "# First make sure the primary key columns are consistent for both tables. \n",
    "countryUpper = [c.upper() for c in newLife.Country]\n",
    "len(countryUpper)\n",
    "newLife['Country'] = countryUpper\n",
    "newLife.columns = newLife.columns.str.replace(' ', '_')\n",
    "newLife"
   ]
  },
  {
   "cell_type": "code",
   "execution_count": null,
   "metadata": {},
   "outputs": [],
   "source": [
    "newLife.shape, newEmiss.shape"
   ]
  },
  {
   "cell_type": "markdown",
   "metadata": {},
   "source": [
    "Next, we will aggregate the mean life expectancy for each country."
   ]
  },
  {
   "cell_type": "code",
   "execution_count": null,
   "metadata": {},
   "outputs": [],
   "source": [
    "g = newLife.groupby(['Status', 'Country'])\n",
    "g.Life_expectancy_.mean()\n",
    "gLife = g.aggregate({'Life_expectancy_':numpy.mean})\n",
    "gLife = gLife.reset_index(level=0)\n",
    "gLife = gLife.reset_index(level=0)\n",
    "gLife"
   ]
  },
  {
   "cell_type": "code",
   "execution_count": null,
   "metadata": {},
   "outputs": [],
   "source": [
    "gLife.shape, newEmiss.shape"
   ]
  },
  {
   "cell_type": "markdown",
   "metadata": {},
   "source": [
    "Let's join the two data sets so we can find a correlation."
   ]
  },
  {
   "cell_type": "code",
   "execution_count": null,
   "metadata": {},
   "outputs": [],
   "source": [
    "j = pandas.merge(gLife, newEmiss, how='inner', left_on='Country', right_on='country')\n",
    "clean = j.copy()\n",
    "clean"
   ]
  },
  {
   "cell_type": "markdown",
   "metadata": {},
   "source": [
    "Let's sort the data by total CO2 emissions so we can get a sense of any trends in the data. We will also drop any rows where the life expectancy is NaN."
   ]
  },
  {
   "cell_type": "code",
   "execution_count": null,
   "metadata": {},
   "outputs": [],
   "source": [
    "cleanSort = clean.sort_values('Raw Emissions (Million Metric Tons)', ascending=False).dropna()\n",
    "cleanSort"
   ]
  },
  {
   "cell_type": "markdown",
   "metadata": {},
   "source": [
    "Let's plot the data and find the Pearson correlation coefficient."
   ]
  },
  {
   "cell_type": "code",
   "execution_count": null,
   "metadata": {},
   "outputs": [],
   "source": [
    "axLE = cleanSort.plot.scatter(x='Raw Emissions (Million Metric Tons)', y='Life_expectancy_', figsize=(15, 7))\n",
    "axLE = axLE.set(xlabel='Raw Emissions (Million Metric Tons)', ylabel='Life Expectancy (years)')"
   ]
  },
  {
   "cell_type": "code",
   "execution_count": null,
   "metadata": {},
   "outputs": [],
   "source": [
    "# Pearson Correlation\n",
    "cleanSort['Raw Emissions (Million Metric Tons)'].corr(cleanSort.Life_expectancy_)"
   ]
  },
  {
   "cell_type": "markdown",
   "metadata": {},
   "source": [
    "## Conclusion:\n",
    "\n",
    "There is no correlation between life expectancy and CO2 emissions. This could be because life expectancy is not a good predictor of CO2 emissions, or because the data is not representative of the real world. In fact, countries that emit significantly more CO2 than others appear to have average or slightly above average life expectancy. One possible explanation for this result is that nations responsible for the majority of emissions are already well developed and have better sanitary and living conditions than countries which are underdeveloped. Another explanation for our results is that more developed countries may have better healthcare and living conditions, causing the adverse effects of more emissions to be nullified.\n",
    "\n",
    "One limitation of our analysis is that the vast majority of nations release very little CO2 but have a substantial amount of variation in life expectancy, as can be seen by the sizable number of points located near x = 0. Therefore, it becomes difficult to observe a meaningful trend. Our analysis can potentially be improved by focusing on only developed countries or by clustering countries based on their economic status. Developed countries should have more variation in CO2 emissions, so we would probably be able to reduce the number of countries hovering around x = 0 and get a better linear or polynomial fit. \n",
    "\n",
    "In future studies, the correlation between developed countries and CO2 emissions should be researched further. A country's classification as developing or developed could be used to predict CO2 emissions. Another next step is to use the weighted MDS algorithm to group countries together based on their economic status, and only observe life expectancy rates for countries specific to one or maybe two clusters. "
   ]
  },
  {
   "cell_type": "markdown",
   "metadata": {},
   "source": [
    "## Question: How do CO2 emissions impact life expectancy in more developed countries? (Andrew)\n",
    "\n",
    "Do greenhouse emissions impact human life expectancy in more developed countries? By answering this more refined question, we will better understand how harmful greenhouse gases are towards people. We hypothesize that as CO2 emissions increase, human life expectancy rates will decrease in more developed countries. \n",
    "\n",
    "We can answer this question by gathering data on life expectancy and greenhouse gas emissions of more developed countries, and finding a Pearson correlation coefficient between the data sets. Two good sources of data to help answer this question are: https://www.kaggle.com/saurabhshahane/green-house-gas-historical-emission-data, https://www.kaggle.com/datasets/kumarajarshi/life-expectancy-who, and https://www.kaggle.com/datasets/sudalairajkumar/undata-country-profiles.\n",
    "\n",
    "The first link contains data about total CO2 emissions in each country, as well as population size. For this analysis, we will be looking at total CO2 emissions in 2017. The second link contains information about life expectancy and other factors that can affect life expectancy. The third link contains information about the GDP of each country. We will use the countries with the status, \"developed\" in our analysis. For this analysis, we will be looking at the life expectancy for more developed countries. Since our life expectancy data spans many years, we will aggregate by mean life expectancy per country and use it in correlation with the CO2 emissions data.\n",
    "\n",
    "To analyze this data, we will create a scatter plot and find the Pearson correlation coefficient to evaluate the two datasets. We chose this method to analyze this question because we are trying to find how one factor affects another. In this case, how greenhouse gas emissions affect human life expectancy in more developed countries."
   ]
  },
  {
   "cell_type": "markdown",
   "metadata": {},
   "source": [
    "## Analysis:\n",
    "\n",
    "First, let's filter and sort the data to find the most developed countries based on GDP. The baseline GDP for a developed country that we will be using is $25,000."
   ]
  },
  {
   "cell_type": "code",
   "execution_count": null,
   "metadata": {},
   "outputs": [],
   "source": [
    "countryStats.sort_values('GDP: Gross domestic product (million current US$)', ascending=False)\n",
    "developedCountries = pd.DataFrame()\n",
    "developedCountries['country'] = countryStats['country']\n",
    "developedCountries['GDP: Gross domestic product (million current US$)'] = countryStats['GDP: Gross domestic product (million current US$)']\n",
    "developedCountries['Emissions 2017 (Metric Tons Per Capita)'] = countryStats['Emissions 2017 (Metric Tons Per Capita)']\n",
    "# developedCountries = developedCountries[developedCountries['GDP: Gross domestic product (million current US$)']>=25000]\n",
    "developedCountries['country'] = [i.upper() for i in developedCountries.country]\n",
    "developedCountries"
   ]
  },
  {
   "cell_type": "code",
   "execution_count": null,
   "metadata": {},
   "outputs": [],
   "source": [
    "gLife"
   ]
  },
  {
   "cell_type": "markdown",
   "metadata": {},
   "source": [
    "Let's merge the two data frames together so we can find a correlation."
   ]
  },
  {
   "cell_type": "code",
   "execution_count": null,
   "metadata": {
    "scrolled": false
   },
   "outputs": [],
   "source": [
    "j = pandas.merge(gLife, developedCountries, how='inner', left_on='Country', right_on='country')\n",
    "clean = j.copy()\n",
    "clean"
   ]
  },
  {
   "cell_type": "markdown",
   "metadata": {},
   "source": [
    "Let's filter out the data so we only look at developed countries."
   ]
  },
  {
   "cell_type": "code",
   "execution_count": null,
   "metadata": {
    "scrolled": true
   },
   "outputs": [],
   "source": [
    "clean = clean[clean['Status']=='Developed']\n",
    "clean"
   ]
  },
  {
   "cell_type": "markdown",
   "metadata": {},
   "source": [
    "Let's sort the joined data frame by the emissions in 2017 to get a sense of any trends in the data."
   ]
  },
  {
   "cell_type": "code",
   "execution_count": null,
   "metadata": {},
   "outputs": [],
   "source": [
    "cleanSort = clean.sort_values('Emissions 2017 (Metric Tons Per Capita)', ascending=False)\n",
    "cleanSort"
   ]
  },
  {
   "cell_type": "markdown",
   "metadata": {},
   "source": [
    "Let's plot the data into a scatterplot."
   ]
  },
  {
   "cell_type": "code",
   "execution_count": null,
   "metadata": {},
   "outputs": [],
   "source": [
    "axLE = cleanSort.plot.scatter(x='Emissions 2017 (Metric Tons Per Capita)', y='Life_expectancy_', figsize=(15, 7))\n",
    "axLE = axLE.set(xlabel='Emissions 2017 (Metric Tons Per Capita)', ylabel='Life Expectancy (years)')"
   ]
  },
  {
   "cell_type": "markdown",
   "metadata": {},
   "source": [
    "Based on the sorted table above, we can see that many of the countries which lie in the lower left area of the plot are Eastern European nations and Baltic states. These countries, while perhaps considered developed, may not be as developed as the other countries which are represented. \n",
    "\n",
    "Let's remove countries with life expectancies below 77 years. It is possible that external factors other than just emissions affect the life expectancy rates of these countries. \n",
    "\n",
    "Now, let's plot this limited subset of our original data. "
   ]
  },
  {
   "cell_type": "code",
   "execution_count": null,
   "metadata": {},
   "outputs": [],
   "source": [
    "axLE = cleanSort.plot.scatter(x='Emissions 2017 (Metric Tons Per Capita)', y='Life_expectancy_', figsize=(10, 7), ylim=(77, 85))\n",
    "axLE = axLE.set(xlabel='Emissions 2017 (Metric Tons Per Capita)', ylabel='Life Expectancy (years)')"
   ]
  },
  {
   "cell_type": "markdown",
   "metadata": {},
   "source": [
    "It's not clear if a trend is present. Let's compute Pearson's coefficient on the subset of countries with life expectancies above 77 years. "
   ]
  },
  {
   "cell_type": "code",
   "execution_count": null,
   "metadata": {},
   "outputs": [],
   "source": [
    "# clean = cleanSort[cleanSort['Emissions 2017 (Metric Tons Per Capita)']<10]\n",
    "clean = cleanSort[cleanSort['Life_expectancy_']>77]\n",
    "clean"
   ]
  },
  {
   "cell_type": "code",
   "execution_count": null,
   "metadata": {},
   "outputs": [],
   "source": [
    "clean['Emissions 2017 (Metric Tons Per Capita)'].corr(clean.Life_expectancy_)"
   ]
  },
  {
   "cell_type": "markdown",
   "metadata": {},
   "source": [
    "It appears that we get a slightly negative R-value. However, since the R-value is only around -0.22, it is not strong enough to indicate a clear correlation. "
   ]
  },
  {
   "cell_type": "markdown",
   "metadata": {},
   "source": [
    "Let's run the weighted MDS algorithm and cluster countries based on their economic status. We rank GDP (million current US$) and GDP growth rate (annual percentage, const. 2005 prices) as having higher weight than the other columns. "
   ]
  },
  {
   "cell_type": "code",
   "execution_count": null,
   "metadata": {},
   "outputs": [],
   "source": [
    "# First, normalize the data. \n",
    "weights = pandas.Series([1, 99, 99, 1, 1, 1, 1, 1, 1, 1, 1], index=norm.columns)\n",
    "data2D = dimension_reduction(norm, weights)\n",
    "\n",
    "# mds = sklearn.manifold.MDS(n_components=2, dissimilarity='precomputed')\n",
    "# data2D = mds.fit_transform(distHD)\n",
    "data2D = pandas.DataFrame(data2D, columns=['x', 'y'], index=norm.index)\n",
    "data2D.head()"
   ]
  },
  {
   "cell_type": "markdown",
   "metadata": {},
   "source": [
    "Here we show a plot of countries, represented as dots, which are colored by their GDP. We see a large cluster of purple points towards the middle of the plot."
   ]
  },
  {
   "cell_type": "code",
   "execution_count": null,
   "metadata": {},
   "outputs": [],
   "source": [
    "data2D_v = data2D.join(norm['GDP: Gross domestic product (million current US$)'])\n",
    "data2D_v.head()\n",
    "ax = data2D_v.plot.scatter('x', 'y', c='GDP: Gross domestic product (million current US$)', s=40,\n",
    "                           colormap=plt.cm.rainbow, figsize=(15,15), sharex=False)\n",
    "# ax.axis('scaled')\n",
    "# for i,r in data2D.iterrows():\n",
    "#    ax.text(r.x, r.y, i[0:2])"
   ]
  },
  {
   "cell_type": "markdown",
   "metadata": {},
   "source": [
    "Let's identify clusters by using the KMeans algorithm. "
   ]
  },
  {
   "cell_type": "code",
   "execution_count": null,
   "metadata": {},
   "outputs": [],
   "source": [
    "km = sklearn.cluster.KMeans(n_clusters=6, random_state=2)\n",
    "labels = km.fit_predict(data2D)\n",
    "labels = pandas.DataFrame(labels, columns=['Cluster'], index=norm.index)\n",
    "labels"
   ]
  },
  {
   "cell_type": "code",
   "execution_count": null,
   "metadata": {},
   "outputs": [],
   "source": [
    "labels[labels.Cluster == 1]\n",
    "labels[labels.Cluster == 2]"
   ]
  },
  {
   "cell_type": "markdown",
   "metadata": {},
   "source": [
    "We'll take clusters 1 and 2. Countries within these clusters appear to be world powers, like the US, China, and Germany. "
   ]
  },
  {
   "cell_type": "code",
   "execution_count": null,
   "metadata": {},
   "outputs": [],
   "source": [
    "relevantLabels = labels[(labels.Cluster == 1) | (labels.Cluster == 2)]\n",
    "relevantCountries = list(relevantLabels.index)\n",
    "relevantCountries = [c.upper() for c in relevantCountries]\n",
    "relevantCountries"
   ]
  },
  {
   "cell_type": "markdown",
   "metadata": {},
   "source": [
    "Now, let's filter out all the countries in the original joined dataset which are not in relevantCountries. "
   ]
  },
  {
   "cell_type": "code",
   "execution_count": null,
   "metadata": {},
   "outputs": [],
   "source": [
    "clustered = j[j.Country.isin(relevantCountries)]\n",
    "clustered"
   ]
  },
  {
   "cell_type": "markdown",
   "metadata": {},
   "source": [
    "While some of the countries appear to have a status of \"Developing\", we want to keep these countries, because they are in approximately the same economic group, as per our weighted MDS and clustering analysis.   \n",
    "\n",
    "Let's visualize the data using the same scatterplot as before. "
   ]
  },
  {
   "cell_type": "code",
   "execution_count": null,
   "metadata": {},
   "outputs": [],
   "source": [
    "axLEClustered = clustered.plot.scatter(x='Emissions 2017 (Metric Tons Per Capita)', y='Life_expectancy_', figsize=(15, 7))\n",
    "axLEClustered = axLEClustered.set(xlabel='Emissions 2017 (Metric Tons Per Capita)', ylabel='Life Expectancy (years)')"
   ]
  },
  {
   "cell_type": "markdown",
   "metadata": {},
   "source": [
    "There doesn't appear to be a clear tend. Let's compute Pearson's correlation coefficient and see what results we get. "
   ]
  },
  {
   "cell_type": "code",
   "execution_count": null,
   "metadata": {},
   "outputs": [],
   "source": [
    "clustered['Emissions 2017 (Metric Tons Per Capita)'].corr(clustered['Life_expectancy_'])"
   ]
  },
  {
   "cell_type": "markdown",
   "metadata": {},
   "source": [
    "As we expected, the R-value is around -0.12, so the results of this weighted MDS and clustering analysis appear to be inconclusive.  "
   ]
  },
  {
   "cell_type": "markdown",
   "metadata": {},
   "source": [
    "## Conclusion:  \n",
    "\n",
    "Similar to our previous questions, there is little to no correlation between life expectancy and CO2 emissions in more developed countries. This could be because life expectancy is not a good predictor of CO2 emissions, or because the data is not representative of the real world. Additionally, the data suggests that with more CO2 emissions a country produces, the longer the life expectancy is, which is opposite of what we hypothesized. At this point, we may want to reconsider our hypothesis, or take another approach at analyzing our question.\n",
    "\n",
    "If our result is true, it could mean that CO2 emissions does not lower life expectancy. One reason for this is that more developed countries could have higher CO2 emissions due to industrialization. These more developed countries may have better healthcare and living conditions, causing the adverse effects of more emissions to be nullified. In future studies, the correlation between developed countries and CO2 emissions could be researched further by using HDI to determine a countries development instead of GDP. This is because HDI takes more into account the people that live in the country.\n",
    "\n",
    "With the second QAC iteration of the affect of CO2 emissions on life expectancy, it seems that with more CO2 emissions, the longer the life expectancy is due to the circumstances mentioned."
   ]
  },
  {
   "cell_type": "markdown",
   "metadata": {},
   "source": [
    "## Question: Does a country's use of renewable energy decrease their emissions? (Fairuz)\n",
    "Does a country's use of renewable energy decrease their emissions? By evaluating this question, we can reach a conclusion about the extent to which renewable energy reduces CO2 emisions and thus benefits the environment. By computing the Pearson correlation coefficient for these two variables, we will gain insight into the effectiveness of renewable energy sources. \n",
    "\n",
    "Hypothesis: A general assumption can be made that increasing the use of renewable energy will decrease the use of non-renewable energy sources such as fossil-fuels, which will lead to a decrease in CO2 emisions.\n",
    "\n",
    "\n",
    "To answer this inquiry, the following datasets will be used:\n",
    "\n",
    "Renewable energy consumption (% of total final energy consumption): https://data.worldbank.org/indicator/EG.FEC.RNEW.ZS\n",
    "* This data was taken from the World Bank and therefore it is assumed to be accurate data.\n",
    "* The data shows the percentage of a country's total energy consumption that originated from renewable energy sources\n",
    "* The data spans from 1990 to 2018\n",
    "\n",
    "CO2 emissions (metric tons per capita): https://data.worldbank.org/indicator/EN.ATM.CO2E.PC\n",
    "* This data was taken from the World Bank and therefore it is assumed to be accurate data.\n",
    "* The data shows the CO2 emissions of a country in metric tons per capita\n",
    "* The data spans from 1960 to 2018"
   ]
  },
  {
   "cell_type": "markdown",
   "metadata": {},
   "source": [
    "## Analysis\n",
    "First, several libraries need to be imported for analyzing and evaluating the data. Furthermore, the data will need to be read. A simple display of the data will help see how the tables are organized.\n",
    "\n",
    "Note: Some reformatting of the csv files was required for the pandas library to read in the data. "
   ]
  },
  {
   "cell_type": "code",
   "execution_count": null,
   "metadata": {},
   "outputs": [],
   "source": [
    "# Module Needed To Interact With Sliders on Graphs\n",
    "!pip install ipympl"
   ]
  },
  {
   "cell_type": "code",
   "execution_count": null,
   "metadata": {},
   "outputs": [],
   "source": [
    "%matplotlib widget\n",
    "import pandas\n",
    "import numpy\n",
    "import matplotlib.pyplot as plt\n",
    "from matplotlib.widgets import Slider, Button\n",
    "from sklearn.linear_model import LinearRegression\n",
    "\n",
    "plt.rcParams[\"figure.figsize\"] = (10,5)\n",
    "\n",
    "renewableEnergy = pandas.read_csv(\"RenewableEnergyConsumption.csv\")\n",
    "CO2Emissions = pandas.read_csv(\"CO2Emissions.csv\")\n",
    "\n",
    "renewableEnergy.head()"
   ]
  },
  {
   "cell_type": "code",
   "execution_count": null,
   "metadata": {},
   "outputs": [],
   "source": [
    "CO2Emissions.head()"
   ]
  },
  {
   "cell_type": "markdown",
   "metadata": {},
   "source": [
    "Clean the data by removing unneeded columns. Make sure to retain copies of the original data in case reference to the original data is needed at any point. Furthermore, to make computations and visualizations less complex, I've decided to remove any countries with missing data. This will ensure we can see data that can be correlated and we will still have a large pool of data to compute with."
   ]
  },
  {
   "cell_type": "code",
   "execution_count": null,
   "metadata": {},
   "outputs": [],
   "source": [
    "cleanEnergy = renewableEnergy.copy()\n",
    "\n",
    "cleanEnergy.drop(['Country Code', 'Indicator Name', 'Indicator Code'], inplace=True, axis=1)\n",
    "cleanEnergy = cleanEnergy.dropna()\n",
    "cleanEnergy = cleanEnergy.loc[~(cleanEnergy==0).any(axis=1)]\n",
    "cleanEnergy = cleanEnergy.reset_index(drop=True)\n",
    "\n",
    "cleanEnergy\n"
   ]
  },
  {
   "cell_type": "markdown",
   "metadata": {},
   "source": [
    "Do the same as above, but here remove the columns from 1960 to 1989 as well, since in this case that data is irrelevant."
   ]
  },
  {
   "cell_type": "code",
   "execution_count": null,
   "metadata": {},
   "outputs": [],
   "source": [
    "cleanCO2 = CO2Emissions.copy()\n",
    "\n",
    "cleanCO2.drop(cleanCO2.iloc[:, 1:34], inplace=True, axis=1)\n",
    "cleanCO2 = cleanCO2.dropna()\n",
    "cleanCO2 = cleanCO2.loc[~(cleanCO2==0).any(axis=1)]\n",
    "cleanCO2 = cleanCO2.reset_index(drop=True)\n",
    "\n",
    "cleanCO2"
   ]
  },
  {
   "cell_type": "markdown",
   "metadata": {},
   "source": [
    "Now we need to merge the datasets to easily view the data as a whole. But in both datasets, there are identical columns, so horizontally merging may make some of the column names ambiguous. One thing that can be done is to rename the column names by adding suffixes and then merging."
   ]
  },
  {
   "cell_type": "code",
   "execution_count": null,
   "metadata": {},
   "outputs": [],
   "source": [
    "mergedData = cleanEnergy.merge(cleanCO2, on='Country Name', suffixes=('_energy', '_CO2'))\n",
    "mergedData"
   ]
  },
  {
   "cell_type": "markdown",
   "metadata": {},
   "source": [
    "### Note\n",
    "To see an interactive graphic visualization of this data, follow the links in the Question section above and you will be able to see the world data as well as the data for each country.\n",
    "\n",
    "We can analyze the data by presenting the data as a time series plot and see the trends of the renewable enrgy usage vs the CO2 emissions for each year from 1990 to 2018.\n",
    "\n",
    "To generate this plot we will need the slider functionality of the matplotlib library to allow the user to slide through the years and see the data for each year."
   ]
  },
  {
   "cell_type": "code",
   "execution_count": null,
   "metadata": {},
   "outputs": [],
   "source": [
    "#%matplotlib widget\n",
    "\n",
    "# Initial Plot\n",
    "fig1, ax1 = plt.subplots()\n",
    "fig1.figsize = (10, 5)\n",
    "plt.subplots_adjust(bottom=0.19)\n",
    "ax1.scatter(mergedData.iloc[:, 16], mergedData.iloc[:, 45])\n",
    "ax1.set_xlabel(\"Renewable Energy Consumption Percentage\")\n",
    "ax1.set_ylabel(\"CO2 Emissions (Metric Tons Per Capita)\")\n",
    "ax1.set_title(\"Renewable Energy Usage vs CO2 Emissions\")\n",
    "\n",
    "# Slider Initiation\n",
    "axcolor1 = 'lightgoldenrodyellow'\n",
    "axtime1 = plt.axes([0.1, 0.01, 0.65, 0.04], facecolor=axcolor1)\n",
    "stime1 = Slider(axtime1, 'Year Slider', 1990, 2018, valinit=2005, valstep=1)\n",
    "\n",
    "# Update Graph when slider is changed\n",
    "def update1(val):\n",
    "    timeVal1 = int(stime1.val - 1989)\n",
    "    ax1.cla()\n",
    "    ax1.scatter(mergedData.iloc[:, timeVal1], mergedData.iloc[:, timeVal1 + 29])\n",
    "    ax1.set_xlabel(\"Renewable Energy Consumption Percentage\")\n",
    "    ax1.set_ylabel(\"CO2 Emissions (Metric Tons Per Capita)\")\n",
    "    ax1.set_title(\"Renewable Energy Usage vs CO2 Emissions\")\n",
    "    \n",
    "stime1.on_changed(update1)\n",
    "\n",
    "# Initialize Reset Button\n",
    "resetax1 = plt.axes([0.85, 0.01, 0.1, 0.04])\n",
    "button1 = Button(resetax1, 'Reset', color=axcolor1, hovercolor='0.975')\n",
    "\n",
    "# Reset Time Slider when button is clicked\n",
    "def reset1(event):\n",
    "    stime1.reset()\n",
    "button1.on_clicked(reset1)\n",
    "\n",
    "plt.show()"
   ]
  },
  {
   "cell_type": "markdown",
   "metadata": {},
   "source": [
    "We can see a general trend across the years with the fact that countries with lower renewable energy consumption percentages had higher CO2 emissions per capita. However, this trend seems to become less pronounced at renewable energy consumption percentages above 40%.\n",
    "\n",
    "Furthermore, there seems to be very little deviation from the trend as the plots from year to year stay relatively the same. This indicates that the patterns and trends are consistent, at least within the last 3 decades.\n",
    "\n",
    "Finally, lets look at the correlation value between the 2 variables over the years. Based on the plot trends the value should be negative and the values for each year should more or less stay the same."
   ]
  },
  {
   "cell_type": "code",
   "execution_count": null,
   "metadata": {
    "scrolled": true
   },
   "outputs": [],
   "source": [
    "coefficients = []\n",
    "for i in range (1, 30):\n",
    "    e = mergedData.iloc[:, i]\n",
    "    c = mergedData.iloc[:, i + 29]\n",
    "    coefficients.append(e.corr(c))\n",
    "    \n",
    "cf = pd.DataFrame({'Year': range(1990, 2019)})\n",
    "cf['Correlation'] = coefficients\n",
    "cf"
   ]
  },
  {
   "cell_type": "markdown",
   "metadata": {},
   "source": [
    "Here we see that the coefficient mostly stays within the range of -0.55 and -0.6. We can take an average over the course of these 28 years and claim that as the average correlation coeffcient for the 28 years."
   ]
  },
  {
   "cell_type": "code",
   "execution_count": null,
   "metadata": {},
   "outputs": [],
   "source": [
    "cf.Correlation.mean()"
   ]
  },
  {
   "cell_type": "markdown",
   "metadata": {},
   "source": [
    "We can further analyze this data by clustering the countries and viewing the trends amongst countries that are alike in terms of CO2 emissions.\n",
    "\n",
    "We can divide the clusters into three sections. First we'll view the trends amongst countries that are the top producers in emissions per capita, then we will view the lowest emissions per capita, and finally we will analyze the countries that fall within the median. Note that the clusters will be of size 5.\n",
    "\n",
    "We can cluster the countries based on their average CO2 emissions."
   ]
  },
  {
   "cell_type": "code",
   "execution_count": null,
   "metadata": {},
   "outputs": [],
   "source": [
    "CO2Avg = pd.DataFrame(mergedData.iloc[:, 0])\n",
    "CO2Avg['Average CO2 Emissions per Capita'] = mergedData.iloc[:, 30:].mean(axis=1)\n",
    "CO2Avg['Renewable Energy Consumption Percentage'] = mergedData.iloc[:, 1:30].mean(axis=1)\n",
    "CO2Avg"
   ]
  },
  {
   "cell_type": "code",
   "execution_count": null,
   "metadata": {},
   "outputs": [],
   "source": [
    "topFive = CO2Avg.nlargest(5, ['Average CO2 Emissions per Capita'])\n",
    "topFive"
   ]
  },
  {
   "cell_type": "code",
   "execution_count": null,
   "metadata": {},
   "outputs": [],
   "source": [
    "botFive = CO2Avg.nsmallest(5, ['Average CO2 Emissions per Capita'])\n",
    "botFive"
   ]
  },
  {
   "cell_type": "markdown",
   "metadata": {},
   "source": [
    "Trends amongst these two clusters show that more developed countries tend to be the largest producers of CO2 emissions while less developed produce less pollution.\n",
    "\n",
    "Now we can view if our previous trend analysis on all the countries hold true for these smaller clusters. We'll visualize the data for the the leading five countries in CO2 emissions in the past 3 decades andthe trailing five."
   ]
  },
  {
   "cell_type": "code",
   "execution_count": null,
   "metadata": {},
   "outputs": [],
   "source": [
    "#%matplotlib widget\n",
    "\n",
    "# Filter Out the top five rows\n",
    "tFive = mergedData[0:0]\n",
    "tFive = tFive.append([mergedData.iloc[94, :], mergedData.iloc[157, :], mergedData.iloc[6, :], mergedData.iloc[24, :], \n",
    "              mergedData.iloc[128, :]])\n",
    "tFive = tFive.reset_index(drop=True)\n",
    "\n",
    "# Initial Plot\n",
    "fig2, ax2 = plt.subplots()\n",
    "fig2.figsize = (10, 5)\n",
    "plt.subplots_adjust(bottom=0.19)\n",
    "ax2.scatter(tFive.iloc[:, 16], tFive.iloc[:, 45])\n",
    "ax2.set_xlabel(\"Renewable Energy Consumption Percentage\")\n",
    "ax2.set_ylabel(\"CO2 Emissions (Metric Tons Per Capita)\")\n",
    "ax2.set_title(\"Leading Countries in CO2 Emissions\")\n",
    "# annotate points in axis\n",
    "for idx, row in tFive.iterrows():\n",
    "    ax2.annotate(row['Country Name'], (row.iloc[16],  row.iloc[45]))\n",
    "\n",
    "\n",
    "# Slider Initiation\n",
    "axcolor2 = 'lightgoldenrodyellow'\n",
    "axtime2 = plt.axes([0.1, 0.01, 0.65, 0.04], facecolor=axcolor2)\n",
    "stime2 = Slider(axtime2, 'Year Slider', 1990, 2018, valinit=2005, valstep=1)\n",
    "\n",
    "# Update Graph when slider is changed\n",
    "def update2(val):\n",
    "    timeVal2 = int(stime2.val - 1989)\n",
    "    ax2.cla()\n",
    "    ax2.scatter(tFive.iloc[:, timeVal2], tFive.iloc[:, timeVal2 + 29])\n",
    "    ax2.set_xlabel(\"Renewable Energy Consumption Percentage\")\n",
    "    ax2.set_ylabel(\"CO2 Emissions (Metric Tons Per Capita)\")\n",
    "    ax2.set_title(\"Leading Countries in CO2 Emissions\")\n",
    "    for idx, row in tFive.iterrows():\n",
    "        ax2.annotate(row['Country Name'], (row.iloc[timeVal2],  row.iloc[timeVal2 + 29]))\n",
    "    \n",
    "stime2.on_changed(update2)\n",
    "\n",
    "# Initialize Reset Button\n",
    "resetax2 = plt.axes([0.85, 0.01, 0.1, 0.04])\n",
    "button2 = Button(resetax2, 'Reset', color=axcolor2, hovercolor='0.975')\n",
    "\n",
    "# Reset Time Slider when button is clicked\n",
    "def reset2(event):\n",
    "    stime2.reset()\n",
    "button2.on_clicked(reset2)\n",
    "\n",
    "plt.show()"
   ]
  },
  {
   "cell_type": "code",
   "execution_count": null,
   "metadata": {
    "scrolled": false
   },
   "outputs": [],
   "source": [
    "#%matplotlib widget\n",
    "\n",
    "# Filter Out the top five rows\n",
    "bFive = mergedData[0:0]\n",
    "bFive = bFive.append([mergedData.iloc[30, :], mergedData.iloc[9, :], mergedData.iloc[23, :], mergedData.iloc[135, :], \n",
    "              mergedData.iloc[127, :]])\n",
    "bFive = bFive.reset_index(drop=True)\n",
    "\n",
    "# Initial Plot\n",
    "fig3, ax3 = plt.subplots()\n",
    "fig3.figsize = (10, 5)\n",
    "plt.subplots_adjust(bottom=0.19)\n",
    "ax3.scatter(bFive.iloc[:, 16], bFive.iloc[:, 45])\n",
    "ax3.set_xlabel(\"Renewable Energy Consumption Percentage\")\n",
    "ax3.set_ylabel(\"CO2 Emissions (Metric Tons Per Capita)\")\n",
    "ax3.set_title(\"Lowest Countries in CO2 Emissions\")\n",
    "# Annotate Scatter\n",
    "for idx, row in tFive.iterrows():\n",
    "    ax3.annotate(row['Country Name'], (row.iloc[16],  row.iloc[45]))\n",
    "\n",
    "\n",
    "# Slider Initiation\n",
    "axcolor3 = 'lightgoldenrodyellow'\n",
    "axtime3 = plt.axes([0.1, 0.01, 0.65, 0.04], facecolor=axcolor3)\n",
    "stime3 = Slider(axtime3, 'Year Slider', 1990, 2018, valinit=2005, valstep=1)\n",
    "\n",
    "# Update Graph when slider is changed\n",
    "def update3(val):\n",
    "    timeVal3 = int(stime3.val - 1989)\n",
    "    ax3.cla()\n",
    "    ax3.scatter(bFive.iloc[:, timeVal3], bFive.iloc[:, timeVal3 + 29])\n",
    "    ax3.set_xlabel(\"Renewable Energy Consumption Percentage\")\n",
    "    ax3.set_ylabel(\"CO2 Emissions (Metric Tons Per Capita)\")\n",
    "    ax3.set_title(\"Lowest Countries in CO2 Emissions\")\n",
    "    for idx, row in bFive.iterrows():\n",
    "        ax3.annotate(row['Country Name'], (row.iloc[timeVal3],  row.iloc[timeVal3 + 29]))\n",
    "    \n",
    "stime3.on_changed(update3)\n",
    "\n",
    "# Initialize Reset Button\n",
    "resetax3 = plt.axes([0.85, 0.01, 0.1, 0.04])\n",
    "button3 = Button(resetax3, 'Reset', color=axcolor3, hovercolor='0.975')\n",
    "\n",
    "# Reset Time Slider when button is clicked\n",
    "def reset3(event):\n",
    "    stime3.reset()\n",
    "button3.on_clicked(reset3)\n",
    "\n",
    "plt.show()"
   ]
  },
  {
   "cell_type": "markdown",
   "metadata": {},
   "source": [
    "We can also evaluate the average correlation factor of both of these clusters."
   ]
  },
  {
   "cell_type": "code",
   "execution_count": null,
   "metadata": {},
   "outputs": [],
   "source": [
    "coefficientsT = []\n",
    "coefficientsB = []\n",
    "for i in range (1, 30):\n",
    "    eT = tFive.iloc[:, i]\n",
    "    cT = tFive.iloc[:, i + 29]\n",
    "    eB = bFive.iloc[:, i]\n",
    "    cB = bFive.iloc[:, i + 29]\n",
    "    coefficientsT.append(eT.corr(cT))\n",
    "    coefficientsB.append(eB.corr(cB))\n",
    "    \n",
    "cft = pd.DataFrame({'Year': range(1990, 2019)})\n",
    "cft['Top Five Correlation'] = coefficientsT\n",
    "cft['Bottom Five Correlation'] = coefficientsB\n",
    "cft"
   ]
  },
  {
   "cell_type": "code",
   "execution_count": null,
   "metadata": {},
   "outputs": [],
   "source": [
    "cft.iloc[:, 1].mean()"
   ]
  },
  {
   "cell_type": "code",
   "execution_count": null,
   "metadata": {},
   "outputs": [],
   "source": [
    "cft.iloc[:, 2].mean()"
   ]
  },
  {
   "cell_type": "markdown",
   "metadata": {},
   "source": [
    "We can observe that our previous observation holds true for the bottom five countries, however, for the top five countries it seems that there is almost no correlation. The top five countries have a large fluctuation of renewable energy consumption with Canada at 21% and Suadi Arabia near 0. It seems that there are more factors to compute when it comes to the more developed countries regarding the topic of this analysis such as social and political policies."
   ]
  },
  {
   "cell_type": "markdown",
   "metadata": {},
   "source": [
    "## Conclusion\n",
    "\n",
    "As per the analysis above, we can see that there is some truth to the hypothesis made in the question section. The hypothesis stated that as renewable energy consumption decreased, CO2 emissions would increase. From the analysis we can see that the data has a correlation coefficent of about -0.6. While this doesn't strongly support the hypothesis, it does indicate that both of these variables are somewhat related in that lower renewable energy use does increase CO2 emissions. \n",
    "\n",
    "Furthermore, visualizing the data across the years helps to understand the trends in the data a little bit better. From the scatterplot above, one can see that the countries with the highest CO2 emissions per capita generally had the lowest renewable energy consumption. However, as renewable energy consumption increased, the trend discontinued at around 40% of renewable energy consumption. This may indicate that there is a threshold at which the renewable energy consumption gives diminishing returns in terms of reducing CO2 emissions.\n",
    "\n",
    "Also, when analyzing the top and bottom countries in relation to CO2 emissions per capita, we see that the hypothesis holds true for the bottom five countries but not for the top five. As stated above, it can be infered that the further developed a country is the more deviation occurs with its relation to renewable energy consumption. The most likely answer is that the lesser developed countries don't have wide access to renewable enrgy technology and as a result they cannot utilize renewable enrgy resources. But, for developed countries who do have access to the technology and have the economic power to utilize the renewable enrgy resources, it seems that the matter gets complex with things like social and political policies.\n",
    "\n",
    "Limitiations and errors may have occured with this data analysis, as there were several factors that could lead to different results. First and foremost, if raw CO2 emissions in metric tons were used instead of CO2 emissions per capita, we could have seen a different trend in the data. This could be a potential update to this analysis. A limitation to this analysis was fact that it only completed the cluster analysis based on CO2 emissions per capita. Specificially for the more developed countries, it would have been helpful to cluster based on government type, economic strength and other such factors to anlyze more similar countries.\n"
   ]
  },
  {
   "cell_type": "markdown",
   "metadata": {},
   "source": [
    "## Question: Which Countries produce the most greenhouse gases? Which countries produce the least? (Jonathan)\n",
    "\n",
    "Which coutries produce the most and least greenhouse gas emissions? By determining which countries have been producing the most and least greenhouse gases, we can better understand what greenhouse gas emissions have to do with human activity. By finding the countries that produce the most and least greenhouse gases, we can also generate new questions about the characteristics of those countries which may cause them to produce a greater amount of emissions. \n",
    "\n",
    "\n",
    "In order to answer this question, data from https://www.kaggle.com/kkhandekar/co2-emissions-1960-2018 will be utilized. This data contains greenhouse gas emissions data for 266 countries from 1960-2018. The dataset was extracted from the World Resources Institute.\n",
    "\n",
    "The unit for this dataset is CO2, which is carbon dioxide."
   ]
  },
  {
   "cell_type": "markdown",
   "metadata": {},
   "source": [
    "## Analysis:\n",
    "We will use pandas, numpy, and matplotlib to sort and analyze the data."
   ]
  },
  {
   "cell_type": "code",
   "execution_count": 3,
   "metadata": {},
   "outputs": [],
   "source": [
    "import pandas as pd\n",
    "import numpy as np"
   ]
  },
  {
   "cell_type": "markdown",
   "metadata": {},
   "source": [
    "We will start by pulling our data from the csv file we have acquired from the website."
   ]
  },
  {
   "cell_type": "code",
   "execution_count": 4,
   "metadata": {},
   "outputs": [],
   "source": [
    "dirty = pd.read_csv(\"CO2Emissions.csv\")"
   ]
  },
  {
   "cell_type": "markdown",
   "metadata": {},
   "source": [
    "Preview of the data."
   ]
  },
  {
   "cell_type": "code",
   "execution_count": 5,
   "metadata": {},
   "outputs": [
    {
     "data": {
      "text/html": [
       "<div>\n",
       "<style scoped>\n",
       "    .dataframe tbody tr th:only-of-type {\n",
       "        vertical-align: middle;\n",
       "    }\n",
       "\n",
       "    .dataframe tbody tr th {\n",
       "        vertical-align: top;\n",
       "    }\n",
       "\n",
       "    .dataframe thead th {\n",
       "        text-align: right;\n",
       "    }\n",
       "</style>\n",
       "<table border=\"1\" class=\"dataframe\">\n",
       "  <thead>\n",
       "    <tr style=\"text-align: right;\">\n",
       "      <th></th>\n",
       "      <th>Country Name</th>\n",
       "      <th>Country Code</th>\n",
       "      <th>Indicator Name</th>\n",
       "      <th>Indicator Code</th>\n",
       "      <th>1960</th>\n",
       "      <th>1961</th>\n",
       "      <th>1962</th>\n",
       "      <th>1963</th>\n",
       "      <th>1964</th>\n",
       "      <th>1965</th>\n",
       "      <th>...</th>\n",
       "      <th>2009</th>\n",
       "      <th>2010</th>\n",
       "      <th>2011</th>\n",
       "      <th>2012</th>\n",
       "      <th>2013</th>\n",
       "      <th>2014</th>\n",
       "      <th>2015</th>\n",
       "      <th>2016</th>\n",
       "      <th>2017</th>\n",
       "      <th>2018</th>\n",
       "    </tr>\n",
       "  </thead>\n",
       "  <tbody>\n",
       "    <tr>\n",
       "      <th>0</th>\n",
       "      <td>Aruba</td>\n",
       "      <td>ABW</td>\n",
       "      <td>CO2 emissions (metric tons per capita)</td>\n",
       "      <td>EN.ATM.CO2E.PC</td>\n",
       "      <td>NaN</td>\n",
       "      <td>NaN</td>\n",
       "      <td>NaN</td>\n",
       "      <td>NaN</td>\n",
       "      <td>NaN</td>\n",
       "      <td>NaN</td>\n",
       "      <td>...</td>\n",
       "      <td>NaN</td>\n",
       "      <td>NaN</td>\n",
       "      <td>NaN</td>\n",
       "      <td>NaN</td>\n",
       "      <td>NaN</td>\n",
       "      <td>NaN</td>\n",
       "      <td>NaN</td>\n",
       "      <td>NaN</td>\n",
       "      <td>NaN</td>\n",
       "      <td>NaN</td>\n",
       "    </tr>\n",
       "    <tr>\n",
       "      <th>1</th>\n",
       "      <td>Africa Eastern and Southern</td>\n",
       "      <td>AFE</td>\n",
       "      <td>CO2 emissions (metric tons per capita)</td>\n",
       "      <td>EN.ATM.CO2E.PC</td>\n",
       "      <td>0.906060</td>\n",
       "      <td>0.922474</td>\n",
       "      <td>0.930816</td>\n",
       "      <td>0.940570</td>\n",
       "      <td>0.996033</td>\n",
       "      <td>1.047280</td>\n",
       "      <td>...</td>\n",
       "      <td>1.021954</td>\n",
       "      <td>1.048876</td>\n",
       "      <td>1.005338</td>\n",
       "      <td>1.021646</td>\n",
       "      <td>1.031833</td>\n",
       "      <td>1.041145</td>\n",
       "      <td>0.987393</td>\n",
       "      <td>0.971016</td>\n",
       "      <td>0.959978</td>\n",
       "      <td>0.933541</td>\n",
       "    </tr>\n",
       "    <tr>\n",
       "      <th>2</th>\n",
       "      <td>Afghanistan</td>\n",
       "      <td>AFG</td>\n",
       "      <td>CO2 emissions (metric tons per capita)</td>\n",
       "      <td>EN.ATM.CO2E.PC</td>\n",
       "      <td>0.046057</td>\n",
       "      <td>0.053589</td>\n",
       "      <td>0.073721</td>\n",
       "      <td>0.074161</td>\n",
       "      <td>0.086174</td>\n",
       "      <td>0.101285</td>\n",
       "      <td>...</td>\n",
       "      <td>0.211306</td>\n",
       "      <td>0.297065</td>\n",
       "      <td>0.407074</td>\n",
       "      <td>0.335351</td>\n",
       "      <td>0.263716</td>\n",
       "      <td>0.234037</td>\n",
       "      <td>0.232176</td>\n",
       "      <td>0.208857</td>\n",
       "      <td>0.203328</td>\n",
       "      <td>0.200151</td>\n",
       "    </tr>\n",
       "    <tr>\n",
       "      <th>3</th>\n",
       "      <td>Africa Western and Central</td>\n",
       "      <td>AFW</td>\n",
       "      <td>CO2 emissions (metric tons per capita)</td>\n",
       "      <td>EN.ATM.CO2E.PC</td>\n",
       "      <td>0.090880</td>\n",
       "      <td>0.095283</td>\n",
       "      <td>0.096612</td>\n",
       "      <td>0.112376</td>\n",
       "      <td>0.133258</td>\n",
       "      <td>0.184803</td>\n",
       "      <td>...</td>\n",
       "      <td>0.426770</td>\n",
       "      <td>0.472819</td>\n",
       "      <td>0.497023</td>\n",
       "      <td>0.490867</td>\n",
       "      <td>0.504655</td>\n",
       "      <td>0.507671</td>\n",
       "      <td>0.480743</td>\n",
       "      <td>0.472959</td>\n",
       "      <td>0.476438</td>\n",
       "      <td>0.515544</td>\n",
       "    </tr>\n",
       "    <tr>\n",
       "      <th>4</th>\n",
       "      <td>Angola</td>\n",
       "      <td>AGO</td>\n",
       "      <td>CO2 emissions (metric tons per capita)</td>\n",
       "      <td>EN.ATM.CO2E.PC</td>\n",
       "      <td>0.100835</td>\n",
       "      <td>0.082204</td>\n",
       "      <td>0.210533</td>\n",
       "      <td>0.202739</td>\n",
       "      <td>0.213562</td>\n",
       "      <td>0.205891</td>\n",
       "      <td>...</td>\n",
       "      <td>1.205902</td>\n",
       "      <td>1.221515</td>\n",
       "      <td>1.216317</td>\n",
       "      <td>1.204799</td>\n",
       "      <td>1.261542</td>\n",
       "      <td>1.285365</td>\n",
       "      <td>1.260921</td>\n",
       "      <td>1.227703</td>\n",
       "      <td>1.034317</td>\n",
       "      <td>0.887380</td>\n",
       "    </tr>\n",
       "  </tbody>\n",
       "</table>\n",
       "<p>5 rows × 63 columns</p>\n",
       "</div>"
      ],
      "text/plain": [
       "                  Country Name Country Code  \\\n",
       "0                        Aruba          ABW   \n",
       "1  Africa Eastern and Southern          AFE   \n",
       "2                  Afghanistan          AFG   \n",
       "3   Africa Western and Central          AFW   \n",
       "4                       Angola          AGO   \n",
       "\n",
       "                           Indicator Name  Indicator Code      1960      1961  \\\n",
       "0  CO2 emissions (metric tons per capita)  EN.ATM.CO2E.PC       NaN       NaN   \n",
       "1  CO2 emissions (metric tons per capita)  EN.ATM.CO2E.PC  0.906060  0.922474   \n",
       "2  CO2 emissions (metric tons per capita)  EN.ATM.CO2E.PC  0.046057  0.053589   \n",
       "3  CO2 emissions (metric tons per capita)  EN.ATM.CO2E.PC  0.090880  0.095283   \n",
       "4  CO2 emissions (metric tons per capita)  EN.ATM.CO2E.PC  0.100835  0.082204   \n",
       "\n",
       "       1962      1963      1964      1965  ...      2009      2010      2011  \\\n",
       "0       NaN       NaN       NaN       NaN  ...       NaN       NaN       NaN   \n",
       "1  0.930816  0.940570  0.996033  1.047280  ...  1.021954  1.048876  1.005338   \n",
       "2  0.073721  0.074161  0.086174  0.101285  ...  0.211306  0.297065  0.407074   \n",
       "3  0.096612  0.112376  0.133258  0.184803  ...  0.426770  0.472819  0.497023   \n",
       "4  0.210533  0.202739  0.213562  0.205891  ...  1.205902  1.221515  1.216317   \n",
       "\n",
       "       2012      2013      2014      2015      2016      2017      2018  \n",
       "0       NaN       NaN       NaN       NaN       NaN       NaN       NaN  \n",
       "1  1.021646  1.031833  1.041145  0.987393  0.971016  0.959978  0.933541  \n",
       "2  0.335351  0.263716  0.234037  0.232176  0.208857  0.203328  0.200151  \n",
       "3  0.490867  0.504655  0.507671  0.480743  0.472959  0.476438  0.515544  \n",
       "4  1.204799  1.261542  1.285365  1.260921  1.227703  1.034317  0.887380  \n",
       "\n",
       "[5 rows x 63 columns]"
      ]
     },
     "execution_count": 5,
     "metadata": {},
     "output_type": "execute_result"
    }
   ],
   "source": [
    "dirty.head()"
   ]
  },
  {
   "cell_type": "code",
   "execution_count": 6,
   "metadata": {},
   "outputs": [
    {
     "data": {
      "text/html": [
       "<div>\n",
       "<style scoped>\n",
       "    .dataframe tbody tr th:only-of-type {\n",
       "        vertical-align: middle;\n",
       "    }\n",
       "\n",
       "    .dataframe tbody tr th {\n",
       "        vertical-align: top;\n",
       "    }\n",
       "\n",
       "    .dataframe thead th {\n",
       "        text-align: right;\n",
       "    }\n",
       "</style>\n",
       "<table border=\"1\" class=\"dataframe\">\n",
       "  <thead>\n",
       "    <tr style=\"text-align: right;\">\n",
       "      <th></th>\n",
       "      <th>Country Name</th>\n",
       "      <th>Country Code</th>\n",
       "      <th>Indicator Name</th>\n",
       "      <th>Indicator Code</th>\n",
       "      <th>1960</th>\n",
       "      <th>1961</th>\n",
       "      <th>1962</th>\n",
       "      <th>1963</th>\n",
       "      <th>1964</th>\n",
       "      <th>1965</th>\n",
       "      <th>...</th>\n",
       "      <th>2009</th>\n",
       "      <th>2010</th>\n",
       "      <th>2011</th>\n",
       "      <th>2012</th>\n",
       "      <th>2013</th>\n",
       "      <th>2014</th>\n",
       "      <th>2015</th>\n",
       "      <th>2016</th>\n",
       "      <th>2017</th>\n",
       "      <th>2018</th>\n",
       "    </tr>\n",
       "  </thead>\n",
       "  <tbody>\n",
       "    <tr>\n",
       "      <th>0</th>\n",
       "      <td>Aruba</td>\n",
       "      <td>ABW</td>\n",
       "      <td>CO2 emissions (metric tons per capita)</td>\n",
       "      <td>EN.ATM.CO2E.PC</td>\n",
       "      <td>NaN</td>\n",
       "      <td>NaN</td>\n",
       "      <td>NaN</td>\n",
       "      <td>NaN</td>\n",
       "      <td>NaN</td>\n",
       "      <td>NaN</td>\n",
       "      <td>...</td>\n",
       "      <td>NaN</td>\n",
       "      <td>NaN</td>\n",
       "      <td>NaN</td>\n",
       "      <td>NaN</td>\n",
       "      <td>NaN</td>\n",
       "      <td>NaN</td>\n",
       "      <td>NaN</td>\n",
       "      <td>NaN</td>\n",
       "      <td>NaN</td>\n",
       "      <td>NaN</td>\n",
       "    </tr>\n",
       "    <tr>\n",
       "      <th>1</th>\n",
       "      <td>Africa Eastern and Southern</td>\n",
       "      <td>AFE</td>\n",
       "      <td>CO2 emissions (metric tons per capita)</td>\n",
       "      <td>EN.ATM.CO2E.PC</td>\n",
       "      <td>0.906060</td>\n",
       "      <td>0.922474</td>\n",
       "      <td>0.930816</td>\n",
       "      <td>0.940570</td>\n",
       "      <td>0.996033</td>\n",
       "      <td>1.047280</td>\n",
       "      <td>...</td>\n",
       "      <td>1.021954</td>\n",
       "      <td>1.048876</td>\n",
       "      <td>1.005338</td>\n",
       "      <td>1.021646</td>\n",
       "      <td>1.031833</td>\n",
       "      <td>1.041145</td>\n",
       "      <td>0.987393</td>\n",
       "      <td>0.971016</td>\n",
       "      <td>0.959978</td>\n",
       "      <td>0.933541</td>\n",
       "    </tr>\n",
       "    <tr>\n",
       "      <th>2</th>\n",
       "      <td>Afghanistan</td>\n",
       "      <td>AFG</td>\n",
       "      <td>CO2 emissions (metric tons per capita)</td>\n",
       "      <td>EN.ATM.CO2E.PC</td>\n",
       "      <td>0.046057</td>\n",
       "      <td>0.053589</td>\n",
       "      <td>0.073721</td>\n",
       "      <td>0.074161</td>\n",
       "      <td>0.086174</td>\n",
       "      <td>0.101285</td>\n",
       "      <td>...</td>\n",
       "      <td>0.211306</td>\n",
       "      <td>0.297065</td>\n",
       "      <td>0.407074</td>\n",
       "      <td>0.335351</td>\n",
       "      <td>0.263716</td>\n",
       "      <td>0.234037</td>\n",
       "      <td>0.232176</td>\n",
       "      <td>0.208857</td>\n",
       "      <td>0.203328</td>\n",
       "      <td>0.200151</td>\n",
       "    </tr>\n",
       "    <tr>\n",
       "      <th>3</th>\n",
       "      <td>Africa Western and Central</td>\n",
       "      <td>AFW</td>\n",
       "      <td>CO2 emissions (metric tons per capita)</td>\n",
       "      <td>EN.ATM.CO2E.PC</td>\n",
       "      <td>0.090880</td>\n",
       "      <td>0.095283</td>\n",
       "      <td>0.096612</td>\n",
       "      <td>0.112376</td>\n",
       "      <td>0.133258</td>\n",
       "      <td>0.184803</td>\n",
       "      <td>...</td>\n",
       "      <td>0.426770</td>\n",
       "      <td>0.472819</td>\n",
       "      <td>0.497023</td>\n",
       "      <td>0.490867</td>\n",
       "      <td>0.504655</td>\n",
       "      <td>0.507671</td>\n",
       "      <td>0.480743</td>\n",
       "      <td>0.472959</td>\n",
       "      <td>0.476438</td>\n",
       "      <td>0.515544</td>\n",
       "    </tr>\n",
       "    <tr>\n",
       "      <th>4</th>\n",
       "      <td>Angola</td>\n",
       "      <td>AGO</td>\n",
       "      <td>CO2 emissions (metric tons per capita)</td>\n",
       "      <td>EN.ATM.CO2E.PC</td>\n",
       "      <td>0.100835</td>\n",
       "      <td>0.082204</td>\n",
       "      <td>0.210533</td>\n",
       "      <td>0.202739</td>\n",
       "      <td>0.213562</td>\n",
       "      <td>0.205891</td>\n",
       "      <td>...</td>\n",
       "      <td>1.205902</td>\n",
       "      <td>1.221515</td>\n",
       "      <td>1.216317</td>\n",
       "      <td>1.204799</td>\n",
       "      <td>1.261542</td>\n",
       "      <td>1.285365</td>\n",
       "      <td>1.260921</td>\n",
       "      <td>1.227703</td>\n",
       "      <td>1.034317</td>\n",
       "      <td>0.887380</td>\n",
       "    </tr>\n",
       "    <tr>\n",
       "      <th>...</th>\n",
       "      <td>...</td>\n",
       "      <td>...</td>\n",
       "      <td>...</td>\n",
       "      <td>...</td>\n",
       "      <td>...</td>\n",
       "      <td>...</td>\n",
       "      <td>...</td>\n",
       "      <td>...</td>\n",
       "      <td>...</td>\n",
       "      <td>...</td>\n",
       "      <td>...</td>\n",
       "      <td>...</td>\n",
       "      <td>...</td>\n",
       "      <td>...</td>\n",
       "      <td>...</td>\n",
       "      <td>...</td>\n",
       "      <td>...</td>\n",
       "      <td>...</td>\n",
       "      <td>...</td>\n",
       "      <td>...</td>\n",
       "      <td>...</td>\n",
       "    </tr>\n",
       "    <tr>\n",
       "      <th>261</th>\n",
       "      <td>Kosovo</td>\n",
       "      <td>XKX</td>\n",
       "      <td>CO2 emissions (metric tons per capita)</td>\n",
       "      <td>EN.ATM.CO2E.PC</td>\n",
       "      <td>NaN</td>\n",
       "      <td>NaN</td>\n",
       "      <td>NaN</td>\n",
       "      <td>NaN</td>\n",
       "      <td>NaN</td>\n",
       "      <td>NaN</td>\n",
       "      <td>...</td>\n",
       "      <td>NaN</td>\n",
       "      <td>NaN</td>\n",
       "      <td>NaN</td>\n",
       "      <td>NaN</td>\n",
       "      <td>NaN</td>\n",
       "      <td>NaN</td>\n",
       "      <td>NaN</td>\n",
       "      <td>NaN</td>\n",
       "      <td>NaN</td>\n",
       "      <td>NaN</td>\n",
       "    </tr>\n",
       "    <tr>\n",
       "      <th>262</th>\n",
       "      <td>Yemen, Rep.</td>\n",
       "      <td>YEM</td>\n",
       "      <td>CO2 emissions (metric tons per capita)</td>\n",
       "      <td>EN.ATM.CO2E.PC</td>\n",
       "      <td>0.011038</td>\n",
       "      <td>0.013599</td>\n",
       "      <td>0.012729</td>\n",
       "      <td>0.014518</td>\n",
       "      <td>0.017550</td>\n",
       "      <td>0.017926</td>\n",
       "      <td>...</td>\n",
       "      <td>1.139166</td>\n",
       "      <td>1.036068</td>\n",
       "      <td>0.869051</td>\n",
       "      <td>0.804146</td>\n",
       "      <td>1.047834</td>\n",
       "      <td>1.034330</td>\n",
       "      <td>0.536269</td>\n",
       "      <td>0.400468</td>\n",
       "      <td>0.361418</td>\n",
       "      <td>0.326682</td>\n",
       "    </tr>\n",
       "    <tr>\n",
       "      <th>263</th>\n",
       "      <td>South Africa</td>\n",
       "      <td>ZAF</td>\n",
       "      <td>CO2 emissions (metric tons per capita)</td>\n",
       "      <td>EN.ATM.CO2E.PC</td>\n",
       "      <td>5.727223</td>\n",
       "      <td>5.832621</td>\n",
       "      <td>5.887168</td>\n",
       "      <td>5.961337</td>\n",
       "      <td>6.332343</td>\n",
       "      <td>6.616545</td>\n",
       "      <td>...</td>\n",
       "      <td>8.004039</td>\n",
       "      <td>8.300179</td>\n",
       "      <td>7.867124</td>\n",
       "      <td>8.076633</td>\n",
       "      <td>8.137333</td>\n",
       "      <td>8.213158</td>\n",
       "      <td>7.671202</td>\n",
       "      <td>7.564451</td>\n",
       "      <td>7.632729</td>\n",
       "      <td>7.496645</td>\n",
       "    </tr>\n",
       "    <tr>\n",
       "      <th>264</th>\n",
       "      <td>Zambia</td>\n",
       "      <td>ZMB</td>\n",
       "      <td>CO2 emissions (metric tons per capita)</td>\n",
       "      <td>EN.ATM.CO2E.PC</td>\n",
       "      <td>NaN</td>\n",
       "      <td>NaN</td>\n",
       "      <td>NaN</td>\n",
       "      <td>NaN</td>\n",
       "      <td>0.946606</td>\n",
       "      <td>1.096875</td>\n",
       "      <td>...</td>\n",
       "      <td>0.186907</td>\n",
       "      <td>0.194032</td>\n",
       "      <td>0.218210</td>\n",
       "      <td>0.277909</td>\n",
       "      <td>0.284058</td>\n",
       "      <td>0.311693</td>\n",
       "      <td>0.319282</td>\n",
       "      <td>0.341615</td>\n",
       "      <td>0.414748</td>\n",
       "      <td>0.446065</td>\n",
       "    </tr>\n",
       "    <tr>\n",
       "      <th>265</th>\n",
       "      <td>Zimbabwe</td>\n",
       "      <td>ZWE</td>\n",
       "      <td>CO2 emissions (metric tons per capita)</td>\n",
       "      <td>EN.ATM.CO2E.PC</td>\n",
       "      <td>NaN</td>\n",
       "      <td>NaN</td>\n",
       "      <td>NaN</td>\n",
       "      <td>NaN</td>\n",
       "      <td>1.034904</td>\n",
       "      <td>1.166242</td>\n",
       "      <td>...</td>\n",
       "      <td>0.618665</td>\n",
       "      <td>0.772579</td>\n",
       "      <td>0.891090</td>\n",
       "      <td>0.923360</td>\n",
       "      <td>0.925816</td>\n",
       "      <td>0.894256</td>\n",
       "      <td>0.897598</td>\n",
       "      <td>0.783303</td>\n",
       "      <td>0.718570</td>\n",
       "      <td>0.849793</td>\n",
       "    </tr>\n",
       "  </tbody>\n",
       "</table>\n",
       "<p>266 rows × 63 columns</p>\n",
       "</div>"
      ],
      "text/plain": [
       "                    Country Name Country Code  \\\n",
       "0                          Aruba          ABW   \n",
       "1    Africa Eastern and Southern          AFE   \n",
       "2                    Afghanistan          AFG   \n",
       "3     Africa Western and Central          AFW   \n",
       "4                         Angola          AGO   \n",
       "..                           ...          ...   \n",
       "261                       Kosovo          XKX   \n",
       "262                  Yemen, Rep.          YEM   \n",
       "263                 South Africa          ZAF   \n",
       "264                       Zambia          ZMB   \n",
       "265                     Zimbabwe          ZWE   \n",
       "\n",
       "                             Indicator Name  Indicator Code      1960  \\\n",
       "0    CO2 emissions (metric tons per capita)  EN.ATM.CO2E.PC       NaN   \n",
       "1    CO2 emissions (metric tons per capita)  EN.ATM.CO2E.PC  0.906060   \n",
       "2    CO2 emissions (metric tons per capita)  EN.ATM.CO2E.PC  0.046057   \n",
       "3    CO2 emissions (metric tons per capita)  EN.ATM.CO2E.PC  0.090880   \n",
       "4    CO2 emissions (metric tons per capita)  EN.ATM.CO2E.PC  0.100835   \n",
       "..                                      ...             ...       ...   \n",
       "261  CO2 emissions (metric tons per capita)  EN.ATM.CO2E.PC       NaN   \n",
       "262  CO2 emissions (metric tons per capita)  EN.ATM.CO2E.PC  0.011038   \n",
       "263  CO2 emissions (metric tons per capita)  EN.ATM.CO2E.PC  5.727223   \n",
       "264  CO2 emissions (metric tons per capita)  EN.ATM.CO2E.PC       NaN   \n",
       "265  CO2 emissions (metric tons per capita)  EN.ATM.CO2E.PC       NaN   \n",
       "\n",
       "         1961      1962      1963      1964      1965  ...      2009  \\\n",
       "0         NaN       NaN       NaN       NaN       NaN  ...       NaN   \n",
       "1    0.922474  0.930816  0.940570  0.996033  1.047280  ...  1.021954   \n",
       "2    0.053589  0.073721  0.074161  0.086174  0.101285  ...  0.211306   \n",
       "3    0.095283  0.096612  0.112376  0.133258  0.184803  ...  0.426770   \n",
       "4    0.082204  0.210533  0.202739  0.213562  0.205891  ...  1.205902   \n",
       "..        ...       ...       ...       ...       ...  ...       ...   \n",
       "261       NaN       NaN       NaN       NaN       NaN  ...       NaN   \n",
       "262  0.013599  0.012729  0.014518  0.017550  0.017926  ...  1.139166   \n",
       "263  5.832621  5.887168  5.961337  6.332343  6.616545  ...  8.004039   \n",
       "264       NaN       NaN       NaN  0.946606  1.096875  ...  0.186907   \n",
       "265       NaN       NaN       NaN  1.034904  1.166242  ...  0.618665   \n",
       "\n",
       "         2010      2011      2012      2013      2014      2015      2016  \\\n",
       "0         NaN       NaN       NaN       NaN       NaN       NaN       NaN   \n",
       "1    1.048876  1.005338  1.021646  1.031833  1.041145  0.987393  0.971016   \n",
       "2    0.297065  0.407074  0.335351  0.263716  0.234037  0.232176  0.208857   \n",
       "3    0.472819  0.497023  0.490867  0.504655  0.507671  0.480743  0.472959   \n",
       "4    1.221515  1.216317  1.204799  1.261542  1.285365  1.260921  1.227703   \n",
       "..        ...       ...       ...       ...       ...       ...       ...   \n",
       "261       NaN       NaN       NaN       NaN       NaN       NaN       NaN   \n",
       "262  1.036068  0.869051  0.804146  1.047834  1.034330  0.536269  0.400468   \n",
       "263  8.300179  7.867124  8.076633  8.137333  8.213158  7.671202  7.564451   \n",
       "264  0.194032  0.218210  0.277909  0.284058  0.311693  0.319282  0.341615   \n",
       "265  0.772579  0.891090  0.923360  0.925816  0.894256  0.897598  0.783303   \n",
       "\n",
       "         2017      2018  \n",
       "0         NaN       NaN  \n",
       "1    0.959978  0.933541  \n",
       "2    0.203328  0.200151  \n",
       "3    0.476438  0.515544  \n",
       "4    1.034317  0.887380  \n",
       "..        ...       ...  \n",
       "261       NaN       NaN  \n",
       "262  0.361418  0.326682  \n",
       "263  7.632729  7.496645  \n",
       "264  0.414748  0.446065  \n",
       "265  0.718570  0.849793  \n",
       "\n",
       "[266 rows x 63 columns]"
      ]
     },
     "execution_count": 6,
     "metadata": {},
     "output_type": "execute_result"
    }
   ],
   "source": [
    "dirty"
   ]
  },
  {
   "cell_type": "markdown",
   "metadata": {},
   "source": [
    "As we can see, there are couple rows that we do not need for our analysis. Let's clean up the dataset."
   ]
  },
  {
   "cell_type": "code",
   "execution_count": 7,
   "metadata": {},
   "outputs": [
    {
     "data": {
      "text/html": [
       "<div>\n",
       "<style scoped>\n",
       "    .dataframe tbody tr th:only-of-type {\n",
       "        vertical-align: middle;\n",
       "    }\n",
       "\n",
       "    .dataframe tbody tr th {\n",
       "        vertical-align: top;\n",
       "    }\n",
       "\n",
       "    .dataframe thead th {\n",
       "        text-align: right;\n",
       "    }\n",
       "</style>\n",
       "<table border=\"1\" class=\"dataframe\">\n",
       "  <thead>\n",
       "    <tr style=\"text-align: right;\">\n",
       "      <th></th>\n",
       "      <th>Country Name</th>\n",
       "      <th>Country Code</th>\n",
       "      <th>Indicator Name</th>\n",
       "      <th>Indicator Code</th>\n",
       "      <th>1960</th>\n",
       "      <th>1961</th>\n",
       "      <th>1962</th>\n",
       "      <th>1963</th>\n",
       "      <th>1964</th>\n",
       "      <th>1965</th>\n",
       "      <th>...</th>\n",
       "      <th>2009</th>\n",
       "      <th>2010</th>\n",
       "      <th>2011</th>\n",
       "      <th>2012</th>\n",
       "      <th>2013</th>\n",
       "      <th>2014</th>\n",
       "      <th>2015</th>\n",
       "      <th>2016</th>\n",
       "      <th>2017</th>\n",
       "      <th>2018</th>\n",
       "    </tr>\n",
       "  </thead>\n",
       "  <tbody>\n",
       "    <tr>\n",
       "      <th>0</th>\n",
       "      <td>Aruba</td>\n",
       "      <td>ABW</td>\n",
       "      <td>CO2 emissions (metric tons per capita)</td>\n",
       "      <td>EN.ATM.CO2E.PC</td>\n",
       "      <td>NaN</td>\n",
       "      <td>NaN</td>\n",
       "      <td>NaN</td>\n",
       "      <td>NaN</td>\n",
       "      <td>NaN</td>\n",
       "      <td>NaN</td>\n",
       "      <td>...</td>\n",
       "      <td>NaN</td>\n",
       "      <td>NaN</td>\n",
       "      <td>NaN</td>\n",
       "      <td>NaN</td>\n",
       "      <td>NaN</td>\n",
       "      <td>NaN</td>\n",
       "      <td>NaN</td>\n",
       "      <td>NaN</td>\n",
       "      <td>NaN</td>\n",
       "      <td>NaN</td>\n",
       "    </tr>\n",
       "    <tr>\n",
       "      <th>1</th>\n",
       "      <td>Africa Eastern and Southern</td>\n",
       "      <td>AFE</td>\n",
       "      <td>CO2 emissions (metric tons per capita)</td>\n",
       "      <td>EN.ATM.CO2E.PC</td>\n",
       "      <td>0.906060</td>\n",
       "      <td>0.922474</td>\n",
       "      <td>0.930816</td>\n",
       "      <td>0.940570</td>\n",
       "      <td>0.996033</td>\n",
       "      <td>1.047280</td>\n",
       "      <td>...</td>\n",
       "      <td>1.021954</td>\n",
       "      <td>1.048876</td>\n",
       "      <td>1.005338</td>\n",
       "      <td>1.021646</td>\n",
       "      <td>1.031833</td>\n",
       "      <td>1.041145</td>\n",
       "      <td>0.987393</td>\n",
       "      <td>0.971016</td>\n",
       "      <td>0.959978</td>\n",
       "      <td>0.933541</td>\n",
       "    </tr>\n",
       "    <tr>\n",
       "      <th>2</th>\n",
       "      <td>Afghanistan</td>\n",
       "      <td>AFG</td>\n",
       "      <td>CO2 emissions (metric tons per capita)</td>\n",
       "      <td>EN.ATM.CO2E.PC</td>\n",
       "      <td>0.046057</td>\n",
       "      <td>0.053589</td>\n",
       "      <td>0.073721</td>\n",
       "      <td>0.074161</td>\n",
       "      <td>0.086174</td>\n",
       "      <td>0.101285</td>\n",
       "      <td>...</td>\n",
       "      <td>0.211306</td>\n",
       "      <td>0.297065</td>\n",
       "      <td>0.407074</td>\n",
       "      <td>0.335351</td>\n",
       "      <td>0.263716</td>\n",
       "      <td>0.234037</td>\n",
       "      <td>0.232176</td>\n",
       "      <td>0.208857</td>\n",
       "      <td>0.203328</td>\n",
       "      <td>0.200151</td>\n",
       "    </tr>\n",
       "    <tr>\n",
       "      <th>3</th>\n",
       "      <td>Africa Western and Central</td>\n",
       "      <td>AFW</td>\n",
       "      <td>CO2 emissions (metric tons per capita)</td>\n",
       "      <td>EN.ATM.CO2E.PC</td>\n",
       "      <td>0.090880</td>\n",
       "      <td>0.095283</td>\n",
       "      <td>0.096612</td>\n",
       "      <td>0.112376</td>\n",
       "      <td>0.133258</td>\n",
       "      <td>0.184803</td>\n",
       "      <td>...</td>\n",
       "      <td>0.426770</td>\n",
       "      <td>0.472819</td>\n",
       "      <td>0.497023</td>\n",
       "      <td>0.490867</td>\n",
       "      <td>0.504655</td>\n",
       "      <td>0.507671</td>\n",
       "      <td>0.480743</td>\n",
       "      <td>0.472959</td>\n",
       "      <td>0.476438</td>\n",
       "      <td>0.515544</td>\n",
       "    </tr>\n",
       "    <tr>\n",
       "      <th>4</th>\n",
       "      <td>Angola</td>\n",
       "      <td>AGO</td>\n",
       "      <td>CO2 emissions (metric tons per capita)</td>\n",
       "      <td>EN.ATM.CO2E.PC</td>\n",
       "      <td>0.100835</td>\n",
       "      <td>0.082204</td>\n",
       "      <td>0.210533</td>\n",
       "      <td>0.202739</td>\n",
       "      <td>0.213562</td>\n",
       "      <td>0.205891</td>\n",
       "      <td>...</td>\n",
       "      <td>1.205902</td>\n",
       "      <td>1.221515</td>\n",
       "      <td>1.216317</td>\n",
       "      <td>1.204799</td>\n",
       "      <td>1.261542</td>\n",
       "      <td>1.285365</td>\n",
       "      <td>1.260921</td>\n",
       "      <td>1.227703</td>\n",
       "      <td>1.034317</td>\n",
       "      <td>0.887380</td>\n",
       "    </tr>\n",
       "    <tr>\n",
       "      <th>...</th>\n",
       "      <td>...</td>\n",
       "      <td>...</td>\n",
       "      <td>...</td>\n",
       "      <td>...</td>\n",
       "      <td>...</td>\n",
       "      <td>...</td>\n",
       "      <td>...</td>\n",
       "      <td>...</td>\n",
       "      <td>...</td>\n",
       "      <td>...</td>\n",
       "      <td>...</td>\n",
       "      <td>...</td>\n",
       "      <td>...</td>\n",
       "      <td>...</td>\n",
       "      <td>...</td>\n",
       "      <td>...</td>\n",
       "      <td>...</td>\n",
       "      <td>...</td>\n",
       "      <td>...</td>\n",
       "      <td>...</td>\n",
       "      <td>...</td>\n",
       "    </tr>\n",
       "    <tr>\n",
       "      <th>261</th>\n",
       "      <td>Kosovo</td>\n",
       "      <td>XKX</td>\n",
       "      <td>CO2 emissions (metric tons per capita)</td>\n",
       "      <td>EN.ATM.CO2E.PC</td>\n",
       "      <td>NaN</td>\n",
       "      <td>NaN</td>\n",
       "      <td>NaN</td>\n",
       "      <td>NaN</td>\n",
       "      <td>NaN</td>\n",
       "      <td>NaN</td>\n",
       "      <td>...</td>\n",
       "      <td>NaN</td>\n",
       "      <td>NaN</td>\n",
       "      <td>NaN</td>\n",
       "      <td>NaN</td>\n",
       "      <td>NaN</td>\n",
       "      <td>NaN</td>\n",
       "      <td>NaN</td>\n",
       "      <td>NaN</td>\n",
       "      <td>NaN</td>\n",
       "      <td>NaN</td>\n",
       "    </tr>\n",
       "    <tr>\n",
       "      <th>262</th>\n",
       "      <td>Yemen, Rep.</td>\n",
       "      <td>YEM</td>\n",
       "      <td>CO2 emissions (metric tons per capita)</td>\n",
       "      <td>EN.ATM.CO2E.PC</td>\n",
       "      <td>0.011038</td>\n",
       "      <td>0.013599</td>\n",
       "      <td>0.012729</td>\n",
       "      <td>0.014518</td>\n",
       "      <td>0.017550</td>\n",
       "      <td>0.017926</td>\n",
       "      <td>...</td>\n",
       "      <td>1.139166</td>\n",
       "      <td>1.036068</td>\n",
       "      <td>0.869051</td>\n",
       "      <td>0.804146</td>\n",
       "      <td>1.047834</td>\n",
       "      <td>1.034330</td>\n",
       "      <td>0.536269</td>\n",
       "      <td>0.400468</td>\n",
       "      <td>0.361418</td>\n",
       "      <td>0.326682</td>\n",
       "    </tr>\n",
       "    <tr>\n",
       "      <th>263</th>\n",
       "      <td>South Africa</td>\n",
       "      <td>ZAF</td>\n",
       "      <td>CO2 emissions (metric tons per capita)</td>\n",
       "      <td>EN.ATM.CO2E.PC</td>\n",
       "      <td>5.727223</td>\n",
       "      <td>5.832621</td>\n",
       "      <td>5.887168</td>\n",
       "      <td>5.961337</td>\n",
       "      <td>6.332343</td>\n",
       "      <td>6.616545</td>\n",
       "      <td>...</td>\n",
       "      <td>8.004039</td>\n",
       "      <td>8.300179</td>\n",
       "      <td>7.867124</td>\n",
       "      <td>8.076633</td>\n",
       "      <td>8.137333</td>\n",
       "      <td>8.213158</td>\n",
       "      <td>7.671202</td>\n",
       "      <td>7.564451</td>\n",
       "      <td>7.632729</td>\n",
       "      <td>7.496645</td>\n",
       "    </tr>\n",
       "    <tr>\n",
       "      <th>264</th>\n",
       "      <td>Zambia</td>\n",
       "      <td>ZMB</td>\n",
       "      <td>CO2 emissions (metric tons per capita)</td>\n",
       "      <td>EN.ATM.CO2E.PC</td>\n",
       "      <td>NaN</td>\n",
       "      <td>NaN</td>\n",
       "      <td>NaN</td>\n",
       "      <td>NaN</td>\n",
       "      <td>0.946606</td>\n",
       "      <td>1.096875</td>\n",
       "      <td>...</td>\n",
       "      <td>0.186907</td>\n",
       "      <td>0.194032</td>\n",
       "      <td>0.218210</td>\n",
       "      <td>0.277909</td>\n",
       "      <td>0.284058</td>\n",
       "      <td>0.311693</td>\n",
       "      <td>0.319282</td>\n",
       "      <td>0.341615</td>\n",
       "      <td>0.414748</td>\n",
       "      <td>0.446065</td>\n",
       "    </tr>\n",
       "    <tr>\n",
       "      <th>265</th>\n",
       "      <td>Zimbabwe</td>\n",
       "      <td>ZWE</td>\n",
       "      <td>CO2 emissions (metric tons per capita)</td>\n",
       "      <td>EN.ATM.CO2E.PC</td>\n",
       "      <td>NaN</td>\n",
       "      <td>NaN</td>\n",
       "      <td>NaN</td>\n",
       "      <td>NaN</td>\n",
       "      <td>1.034904</td>\n",
       "      <td>1.166242</td>\n",
       "      <td>...</td>\n",
       "      <td>0.618665</td>\n",
       "      <td>0.772579</td>\n",
       "      <td>0.891090</td>\n",
       "      <td>0.923360</td>\n",
       "      <td>0.925816</td>\n",
       "      <td>0.894256</td>\n",
       "      <td>0.897598</td>\n",
       "      <td>0.783303</td>\n",
       "      <td>0.718570</td>\n",
       "      <td>0.849793</td>\n",
       "    </tr>\n",
       "  </tbody>\n",
       "</table>\n",
       "<p>266 rows × 63 columns</p>\n",
       "</div>"
      ],
      "text/plain": [
       "                    Country Name Country Code  \\\n",
       "0                          Aruba          ABW   \n",
       "1    Africa Eastern and Southern          AFE   \n",
       "2                    Afghanistan          AFG   \n",
       "3     Africa Western and Central          AFW   \n",
       "4                         Angola          AGO   \n",
       "..                           ...          ...   \n",
       "261                       Kosovo          XKX   \n",
       "262                  Yemen, Rep.          YEM   \n",
       "263                 South Africa          ZAF   \n",
       "264                       Zambia          ZMB   \n",
       "265                     Zimbabwe          ZWE   \n",
       "\n",
       "                             Indicator Name  Indicator Code      1960  \\\n",
       "0    CO2 emissions (metric tons per capita)  EN.ATM.CO2E.PC       NaN   \n",
       "1    CO2 emissions (metric tons per capita)  EN.ATM.CO2E.PC  0.906060   \n",
       "2    CO2 emissions (metric tons per capita)  EN.ATM.CO2E.PC  0.046057   \n",
       "3    CO2 emissions (metric tons per capita)  EN.ATM.CO2E.PC  0.090880   \n",
       "4    CO2 emissions (metric tons per capita)  EN.ATM.CO2E.PC  0.100835   \n",
       "..                                      ...             ...       ...   \n",
       "261  CO2 emissions (metric tons per capita)  EN.ATM.CO2E.PC       NaN   \n",
       "262  CO2 emissions (metric tons per capita)  EN.ATM.CO2E.PC  0.011038   \n",
       "263  CO2 emissions (metric tons per capita)  EN.ATM.CO2E.PC  5.727223   \n",
       "264  CO2 emissions (metric tons per capita)  EN.ATM.CO2E.PC       NaN   \n",
       "265  CO2 emissions (metric tons per capita)  EN.ATM.CO2E.PC       NaN   \n",
       "\n",
       "         1961      1962      1963      1964      1965  ...      2009  \\\n",
       "0         NaN       NaN       NaN       NaN       NaN  ...       NaN   \n",
       "1    0.922474  0.930816  0.940570  0.996033  1.047280  ...  1.021954   \n",
       "2    0.053589  0.073721  0.074161  0.086174  0.101285  ...  0.211306   \n",
       "3    0.095283  0.096612  0.112376  0.133258  0.184803  ...  0.426770   \n",
       "4    0.082204  0.210533  0.202739  0.213562  0.205891  ...  1.205902   \n",
       "..        ...       ...       ...       ...       ...  ...       ...   \n",
       "261       NaN       NaN       NaN       NaN       NaN  ...       NaN   \n",
       "262  0.013599  0.012729  0.014518  0.017550  0.017926  ...  1.139166   \n",
       "263  5.832621  5.887168  5.961337  6.332343  6.616545  ...  8.004039   \n",
       "264       NaN       NaN       NaN  0.946606  1.096875  ...  0.186907   \n",
       "265       NaN       NaN       NaN  1.034904  1.166242  ...  0.618665   \n",
       "\n",
       "         2010      2011      2012      2013      2014      2015      2016  \\\n",
       "0         NaN       NaN       NaN       NaN       NaN       NaN       NaN   \n",
       "1    1.048876  1.005338  1.021646  1.031833  1.041145  0.987393  0.971016   \n",
       "2    0.297065  0.407074  0.335351  0.263716  0.234037  0.232176  0.208857   \n",
       "3    0.472819  0.497023  0.490867  0.504655  0.507671  0.480743  0.472959   \n",
       "4    1.221515  1.216317  1.204799  1.261542  1.285365  1.260921  1.227703   \n",
       "..        ...       ...       ...       ...       ...       ...       ...   \n",
       "261       NaN       NaN       NaN       NaN       NaN       NaN       NaN   \n",
       "262  1.036068  0.869051  0.804146  1.047834  1.034330  0.536269  0.400468   \n",
       "263  8.300179  7.867124  8.076633  8.137333  8.213158  7.671202  7.564451   \n",
       "264  0.194032  0.218210  0.277909  0.284058  0.311693  0.319282  0.341615   \n",
       "265  0.772579  0.891090  0.923360  0.925816  0.894256  0.897598  0.783303   \n",
       "\n",
       "         2017      2018  \n",
       "0         NaN       NaN  \n",
       "1    0.959978  0.933541  \n",
       "2    0.203328  0.200151  \n",
       "3    0.476438  0.515544  \n",
       "4    1.034317  0.887380  \n",
       "..        ...       ...  \n",
       "261       NaN       NaN  \n",
       "262  0.361418  0.326682  \n",
       "263  7.632729  7.496645  \n",
       "264  0.414748  0.446065  \n",
       "265  0.718570  0.849793  \n",
       "\n",
       "[266 rows x 63 columns]"
      ]
     },
     "execution_count": 7,
     "metadata": {},
     "output_type": "execute_result"
    }
   ],
   "source": [
    "clean = pd.DataFrame()\n",
    "clean = dirty.copy()\n",
    "clean = clean[clean[\"Indicator Code\"] == \"EN.ATM.CO2E.PC\"]\n",
    "clean"
   ]
  },
  {
   "cell_type": "markdown",
   "metadata": {},
   "source": [
    "Let's find the total MtCO2e values for each country through the time period 1960-2018."
   ]
  },
  {
   "cell_type": "code",
   "execution_count": 8,
   "metadata": {},
   "outputs": [],
   "source": [
    "clean[\"total\"] = clean.sum(axis=1)"
   ]
  },
  {
   "cell_type": "markdown",
   "metadata": {},
   "source": [
    "Here, I have added a new column named \"total\" that represent the total green house gas emission from 1960 to 2018."
   ]
  },
  {
   "cell_type": "code",
   "execution_count": 9,
   "metadata": {},
   "outputs": [
    {
     "data": {
      "text/html": [
       "<div>\n",
       "<style scoped>\n",
       "    .dataframe tbody tr th:only-of-type {\n",
       "        vertical-align: middle;\n",
       "    }\n",
       "\n",
       "    .dataframe tbody tr th {\n",
       "        vertical-align: top;\n",
       "    }\n",
       "\n",
       "    .dataframe thead th {\n",
       "        text-align: right;\n",
       "    }\n",
       "</style>\n",
       "<table border=\"1\" class=\"dataframe\">\n",
       "  <thead>\n",
       "    <tr style=\"text-align: right;\">\n",
       "      <th></th>\n",
       "      <th>Country Name</th>\n",
       "      <th>Country Code</th>\n",
       "      <th>Indicator Name</th>\n",
       "      <th>Indicator Code</th>\n",
       "      <th>1960</th>\n",
       "      <th>1961</th>\n",
       "      <th>1962</th>\n",
       "      <th>1963</th>\n",
       "      <th>1964</th>\n",
       "      <th>1965</th>\n",
       "      <th>...</th>\n",
       "      <th>2010</th>\n",
       "      <th>2011</th>\n",
       "      <th>2012</th>\n",
       "      <th>2013</th>\n",
       "      <th>2014</th>\n",
       "      <th>2015</th>\n",
       "      <th>2016</th>\n",
       "      <th>2017</th>\n",
       "      <th>2018</th>\n",
       "      <th>total</th>\n",
       "    </tr>\n",
       "  </thead>\n",
       "  <tbody>\n",
       "    <tr>\n",
       "      <th>0</th>\n",
       "      <td>Aruba</td>\n",
       "      <td>ABW</td>\n",
       "      <td>CO2 emissions (metric tons per capita)</td>\n",
       "      <td>EN.ATM.CO2E.PC</td>\n",
       "      <td>NaN</td>\n",
       "      <td>NaN</td>\n",
       "      <td>NaN</td>\n",
       "      <td>NaN</td>\n",
       "      <td>NaN</td>\n",
       "      <td>NaN</td>\n",
       "      <td>...</td>\n",
       "      <td>NaN</td>\n",
       "      <td>NaN</td>\n",
       "      <td>NaN</td>\n",
       "      <td>NaN</td>\n",
       "      <td>NaN</td>\n",
       "      <td>NaN</td>\n",
       "      <td>NaN</td>\n",
       "      <td>NaN</td>\n",
       "      <td>NaN</td>\n",
       "      <td>30.764773</td>\n",
       "    </tr>\n",
       "    <tr>\n",
       "      <th>1</th>\n",
       "      <td>Africa Eastern and Southern</td>\n",
       "      <td>AFE</td>\n",
       "      <td>CO2 emissions (metric tons per capita)</td>\n",
       "      <td>EN.ATM.CO2E.PC</td>\n",
       "      <td>0.906060</td>\n",
       "      <td>0.922474</td>\n",
       "      <td>0.930816</td>\n",
       "      <td>0.940570</td>\n",
       "      <td>0.996033</td>\n",
       "      <td>1.047280</td>\n",
       "      <td>...</td>\n",
       "      <td>1.048876</td>\n",
       "      <td>1.005338</td>\n",
       "      <td>1.021646</td>\n",
       "      <td>1.031833</td>\n",
       "      <td>1.041145</td>\n",
       "      <td>0.987393</td>\n",
       "      <td>0.971016</td>\n",
       "      <td>0.959978</td>\n",
       "      <td>0.933541</td>\n",
       "      <td>64.274924</td>\n",
       "    </tr>\n",
       "    <tr>\n",
       "      <th>2</th>\n",
       "      <td>Afghanistan</td>\n",
       "      <td>AFG</td>\n",
       "      <td>CO2 emissions (metric tons per capita)</td>\n",
       "      <td>EN.ATM.CO2E.PC</td>\n",
       "      <td>0.046057</td>\n",
       "      <td>0.053589</td>\n",
       "      <td>0.073721</td>\n",
       "      <td>0.074161</td>\n",
       "      <td>0.086174</td>\n",
       "      <td>0.101285</td>\n",
       "      <td>...</td>\n",
       "      <td>0.297065</td>\n",
       "      <td>0.407074</td>\n",
       "      <td>0.335351</td>\n",
       "      <td>0.263716</td>\n",
       "      <td>0.234037</td>\n",
       "      <td>0.232176</td>\n",
       "      <td>0.208857</td>\n",
       "      <td>0.203328</td>\n",
       "      <td>0.200151</td>\n",
       "      <td>8.813541</td>\n",
       "    </tr>\n",
       "    <tr>\n",
       "      <th>3</th>\n",
       "      <td>Africa Western and Central</td>\n",
       "      <td>AFW</td>\n",
       "      <td>CO2 emissions (metric tons per capita)</td>\n",
       "      <td>EN.ATM.CO2E.PC</td>\n",
       "      <td>0.090880</td>\n",
       "      <td>0.095283</td>\n",
       "      <td>0.096612</td>\n",
       "      <td>0.112376</td>\n",
       "      <td>0.133258</td>\n",
       "      <td>0.184803</td>\n",
       "      <td>...</td>\n",
       "      <td>0.472819</td>\n",
       "      <td>0.497023</td>\n",
       "      <td>0.490867</td>\n",
       "      <td>0.504655</td>\n",
       "      <td>0.507671</td>\n",
       "      <td>0.480743</td>\n",
       "      <td>0.472959</td>\n",
       "      <td>0.476438</td>\n",
       "      <td>0.515544</td>\n",
       "      <td>26.000799</td>\n",
       "    </tr>\n",
       "    <tr>\n",
       "      <th>4</th>\n",
       "      <td>Angola</td>\n",
       "      <td>AGO</td>\n",
       "      <td>CO2 emissions (metric tons per capita)</td>\n",
       "      <td>EN.ATM.CO2E.PC</td>\n",
       "      <td>0.100835</td>\n",
       "      <td>0.082204</td>\n",
       "      <td>0.210533</td>\n",
       "      <td>0.202739</td>\n",
       "      <td>0.213562</td>\n",
       "      <td>0.205891</td>\n",
       "      <td>...</td>\n",
       "      <td>1.221515</td>\n",
       "      <td>1.216317</td>\n",
       "      <td>1.204799</td>\n",
       "      <td>1.261542</td>\n",
       "      <td>1.285365</td>\n",
       "      <td>1.260921</td>\n",
       "      <td>1.227703</td>\n",
       "      <td>1.034317</td>\n",
       "      <td>0.887380</td>\n",
       "      <td>40.564875</td>\n",
       "    </tr>\n",
       "    <tr>\n",
       "      <th>...</th>\n",
       "      <td>...</td>\n",
       "      <td>...</td>\n",
       "      <td>...</td>\n",
       "      <td>...</td>\n",
       "      <td>...</td>\n",
       "      <td>...</td>\n",
       "      <td>...</td>\n",
       "      <td>...</td>\n",
       "      <td>...</td>\n",
       "      <td>...</td>\n",
       "      <td>...</td>\n",
       "      <td>...</td>\n",
       "      <td>...</td>\n",
       "      <td>...</td>\n",
       "      <td>...</td>\n",
       "      <td>...</td>\n",
       "      <td>...</td>\n",
       "      <td>...</td>\n",
       "      <td>...</td>\n",
       "      <td>...</td>\n",
       "      <td>...</td>\n",
       "    </tr>\n",
       "    <tr>\n",
       "      <th>261</th>\n",
       "      <td>Kosovo</td>\n",
       "      <td>XKX</td>\n",
       "      <td>CO2 emissions (metric tons per capita)</td>\n",
       "      <td>EN.ATM.CO2E.PC</td>\n",
       "      <td>NaN</td>\n",
       "      <td>NaN</td>\n",
       "      <td>NaN</td>\n",
       "      <td>NaN</td>\n",
       "      <td>NaN</td>\n",
       "      <td>NaN</td>\n",
       "      <td>...</td>\n",
       "      <td>NaN</td>\n",
       "      <td>NaN</td>\n",
       "      <td>NaN</td>\n",
       "      <td>NaN</td>\n",
       "      <td>NaN</td>\n",
       "      <td>NaN</td>\n",
       "      <td>NaN</td>\n",
       "      <td>NaN</td>\n",
       "      <td>NaN</td>\n",
       "      <td>0.000000</td>\n",
       "    </tr>\n",
       "    <tr>\n",
       "      <th>262</th>\n",
       "      <td>Yemen, Rep.</td>\n",
       "      <td>YEM</td>\n",
       "      <td>CO2 emissions (metric tons per capita)</td>\n",
       "      <td>EN.ATM.CO2E.PC</td>\n",
       "      <td>0.011038</td>\n",
       "      <td>0.013599</td>\n",
       "      <td>0.012729</td>\n",
       "      <td>0.014518</td>\n",
       "      <td>0.017550</td>\n",
       "      <td>0.017926</td>\n",
       "      <td>...</td>\n",
       "      <td>1.036068</td>\n",
       "      <td>0.869051</td>\n",
       "      <td>0.804146</td>\n",
       "      <td>1.047834</td>\n",
       "      <td>1.034330</td>\n",
       "      <td>0.536269</td>\n",
       "      <td>0.400468</td>\n",
       "      <td>0.361418</td>\n",
       "      <td>0.326682</td>\n",
       "      <td>26.085665</td>\n",
       "    </tr>\n",
       "    <tr>\n",
       "      <th>263</th>\n",
       "      <td>South Africa</td>\n",
       "      <td>ZAF</td>\n",
       "      <td>CO2 emissions (metric tons per capita)</td>\n",
       "      <td>EN.ATM.CO2E.PC</td>\n",
       "      <td>5.727223</td>\n",
       "      <td>5.832621</td>\n",
       "      <td>5.887168</td>\n",
       "      <td>5.961337</td>\n",
       "      <td>6.332343</td>\n",
       "      <td>6.616545</td>\n",
       "      <td>...</td>\n",
       "      <td>8.300179</td>\n",
       "      <td>7.867124</td>\n",
       "      <td>8.076633</td>\n",
       "      <td>8.137333</td>\n",
       "      <td>8.213158</td>\n",
       "      <td>7.671202</td>\n",
       "      <td>7.564451</td>\n",
       "      <td>7.632729</td>\n",
       "      <td>7.496645</td>\n",
       "      <td>442.350573</td>\n",
       "    </tr>\n",
       "    <tr>\n",
       "      <th>264</th>\n",
       "      <td>Zambia</td>\n",
       "      <td>ZMB</td>\n",
       "      <td>CO2 emissions (metric tons per capita)</td>\n",
       "      <td>EN.ATM.CO2E.PC</td>\n",
       "      <td>NaN</td>\n",
       "      <td>NaN</td>\n",
       "      <td>NaN</td>\n",
       "      <td>NaN</td>\n",
       "      <td>0.946606</td>\n",
       "      <td>1.096875</td>\n",
       "      <td>...</td>\n",
       "      <td>0.194032</td>\n",
       "      <td>0.218210</td>\n",
       "      <td>0.277909</td>\n",
       "      <td>0.284058</td>\n",
       "      <td>0.311693</td>\n",
       "      <td>0.319282</td>\n",
       "      <td>0.341615</td>\n",
       "      <td>0.414748</td>\n",
       "      <td>0.446065</td>\n",
       "      <td>26.396457</td>\n",
       "    </tr>\n",
       "    <tr>\n",
       "      <th>265</th>\n",
       "      <td>Zimbabwe</td>\n",
       "      <td>ZWE</td>\n",
       "      <td>CO2 emissions (metric tons per capita)</td>\n",
       "      <td>EN.ATM.CO2E.PC</td>\n",
       "      <td>NaN</td>\n",
       "      <td>NaN</td>\n",
       "      <td>NaN</td>\n",
       "      <td>NaN</td>\n",
       "      <td>1.034904</td>\n",
       "      <td>1.166242</td>\n",
       "      <td>...</td>\n",
       "      <td>0.772579</td>\n",
       "      <td>0.891090</td>\n",
       "      <td>0.923360</td>\n",
       "      <td>0.925816</td>\n",
       "      <td>0.894256</td>\n",
       "      <td>0.897598</td>\n",
       "      <td>0.783303</td>\n",
       "      <td>0.718570</td>\n",
       "      <td>0.849793</td>\n",
       "      <td>66.108364</td>\n",
       "    </tr>\n",
       "  </tbody>\n",
       "</table>\n",
       "<p>266 rows × 64 columns</p>\n",
       "</div>"
      ],
      "text/plain": [
       "                    Country Name Country Code  \\\n",
       "0                          Aruba          ABW   \n",
       "1    Africa Eastern and Southern          AFE   \n",
       "2                    Afghanistan          AFG   \n",
       "3     Africa Western and Central          AFW   \n",
       "4                         Angola          AGO   \n",
       "..                           ...          ...   \n",
       "261                       Kosovo          XKX   \n",
       "262                  Yemen, Rep.          YEM   \n",
       "263                 South Africa          ZAF   \n",
       "264                       Zambia          ZMB   \n",
       "265                     Zimbabwe          ZWE   \n",
       "\n",
       "                             Indicator Name  Indicator Code      1960  \\\n",
       "0    CO2 emissions (metric tons per capita)  EN.ATM.CO2E.PC       NaN   \n",
       "1    CO2 emissions (metric tons per capita)  EN.ATM.CO2E.PC  0.906060   \n",
       "2    CO2 emissions (metric tons per capita)  EN.ATM.CO2E.PC  0.046057   \n",
       "3    CO2 emissions (metric tons per capita)  EN.ATM.CO2E.PC  0.090880   \n",
       "4    CO2 emissions (metric tons per capita)  EN.ATM.CO2E.PC  0.100835   \n",
       "..                                      ...             ...       ...   \n",
       "261  CO2 emissions (metric tons per capita)  EN.ATM.CO2E.PC       NaN   \n",
       "262  CO2 emissions (metric tons per capita)  EN.ATM.CO2E.PC  0.011038   \n",
       "263  CO2 emissions (metric tons per capita)  EN.ATM.CO2E.PC  5.727223   \n",
       "264  CO2 emissions (metric tons per capita)  EN.ATM.CO2E.PC       NaN   \n",
       "265  CO2 emissions (metric tons per capita)  EN.ATM.CO2E.PC       NaN   \n",
       "\n",
       "         1961      1962      1963      1964      1965  ...      2010  \\\n",
       "0         NaN       NaN       NaN       NaN       NaN  ...       NaN   \n",
       "1    0.922474  0.930816  0.940570  0.996033  1.047280  ...  1.048876   \n",
       "2    0.053589  0.073721  0.074161  0.086174  0.101285  ...  0.297065   \n",
       "3    0.095283  0.096612  0.112376  0.133258  0.184803  ...  0.472819   \n",
       "4    0.082204  0.210533  0.202739  0.213562  0.205891  ...  1.221515   \n",
       "..        ...       ...       ...       ...       ...  ...       ...   \n",
       "261       NaN       NaN       NaN       NaN       NaN  ...       NaN   \n",
       "262  0.013599  0.012729  0.014518  0.017550  0.017926  ...  1.036068   \n",
       "263  5.832621  5.887168  5.961337  6.332343  6.616545  ...  8.300179   \n",
       "264       NaN       NaN       NaN  0.946606  1.096875  ...  0.194032   \n",
       "265       NaN       NaN       NaN  1.034904  1.166242  ...  0.772579   \n",
       "\n",
       "         2011      2012      2013      2014      2015      2016      2017  \\\n",
       "0         NaN       NaN       NaN       NaN       NaN       NaN       NaN   \n",
       "1    1.005338  1.021646  1.031833  1.041145  0.987393  0.971016  0.959978   \n",
       "2    0.407074  0.335351  0.263716  0.234037  0.232176  0.208857  0.203328   \n",
       "3    0.497023  0.490867  0.504655  0.507671  0.480743  0.472959  0.476438   \n",
       "4    1.216317  1.204799  1.261542  1.285365  1.260921  1.227703  1.034317   \n",
       "..        ...       ...       ...       ...       ...       ...       ...   \n",
       "261       NaN       NaN       NaN       NaN       NaN       NaN       NaN   \n",
       "262  0.869051  0.804146  1.047834  1.034330  0.536269  0.400468  0.361418   \n",
       "263  7.867124  8.076633  8.137333  8.213158  7.671202  7.564451  7.632729   \n",
       "264  0.218210  0.277909  0.284058  0.311693  0.319282  0.341615  0.414748   \n",
       "265  0.891090  0.923360  0.925816  0.894256  0.897598  0.783303  0.718570   \n",
       "\n",
       "         2018       total  \n",
       "0         NaN   30.764773  \n",
       "1    0.933541   64.274924  \n",
       "2    0.200151    8.813541  \n",
       "3    0.515544   26.000799  \n",
       "4    0.887380   40.564875  \n",
       "..        ...         ...  \n",
       "261       NaN    0.000000  \n",
       "262  0.326682   26.085665  \n",
       "263  7.496645  442.350573  \n",
       "264  0.446065   26.396457  \n",
       "265  0.849793   66.108364  \n",
       "\n",
       "[266 rows x 64 columns]"
      ]
     },
     "execution_count": 9,
     "metadata": {},
     "output_type": "execute_result"
    }
   ],
   "source": [
    "clean"
   ]
  },
  {
   "cell_type": "markdown",
   "metadata": {},
   "source": [
    "Here, I have created a final data frame that takes in the clean data from before and sorts it by the \"Total Emission from 1960 to 2018\" value."
   ]
  },
  {
   "cell_type": "code",
   "execution_count": 10,
   "metadata": {},
   "outputs": [
    {
     "data": {
      "text/html": [
       "<div>\n",
       "<style scoped>\n",
       "    .dataframe tbody tr th:only-of-type {\n",
       "        vertical-align: middle;\n",
       "    }\n",
       "\n",
       "    .dataframe tbody tr th {\n",
       "        vertical-align: top;\n",
       "    }\n",
       "\n",
       "    .dataframe thead th {\n",
       "        text-align: right;\n",
       "    }\n",
       "</style>\n",
       "<table border=\"1\" class=\"dataframe\">\n",
       "  <thead>\n",
       "    <tr style=\"text-align: right;\">\n",
       "      <th></th>\n",
       "      <th>Country</th>\n",
       "      <th>Country Code</th>\n",
       "      <th>Unit</th>\n",
       "      <th>Total Emission from 1960 to 2018</th>\n",
       "    </tr>\n",
       "  </thead>\n",
       "  <tbody>\n",
       "    <tr>\n",
       "      <th>212</th>\n",
       "      <td>San Marino</td>\n",
       "      <td>SMR</td>\n",
       "      <td>CO2 emissions (metric tons per capita)</td>\n",
       "      <td>0.000000</td>\n",
       "    </tr>\n",
       "    <tr>\n",
       "      <th>149</th>\n",
       "      <td>Monaco</td>\n",
       "      <td>MCO</td>\n",
       "      <td>CO2 emissions (metric tons per capita)</td>\n",
       "      <td>0.000000</td>\n",
       "    </tr>\n",
       "    <tr>\n",
       "      <th>38</th>\n",
       "      <td>Channel Islands</td>\n",
       "      <td>CHI</td>\n",
       "      <td>CO2 emissions (metric tons per capita)</td>\n",
       "      <td>0.000000</td>\n",
       "    </tr>\n",
       "    <tr>\n",
       "      <th>196</th>\n",
       "      <td>West Bank and Gaza</td>\n",
       "      <td>PSE</td>\n",
       "      <td>CO2 emissions (metric tons per capita)</td>\n",
       "      <td>0.000000</td>\n",
       "    </tr>\n",
       "    <tr>\n",
       "      <th>192</th>\n",
       "      <td>Puerto Rico</td>\n",
       "      <td>PRI</td>\n",
       "      <td>CO2 emissions (metric tons per capita)</td>\n",
       "      <td>0.000000</td>\n",
       "    </tr>\n",
       "    <tr>\n",
       "      <th>...</th>\n",
       "      <td>...</td>\n",
       "      <td>...</td>\n",
       "      <td>...</td>\n",
       "      <td>...</td>\n",
       "    </tr>\n",
       "    <tr>\n",
       "      <th>22</th>\n",
       "      <td>Bahrain</td>\n",
       "      <td>BHR</td>\n",
       "      <td>CO2 emissions (metric tons per capita)</td>\n",
       "      <td>1162.056759</td>\n",
       "    </tr>\n",
       "    <tr>\n",
       "      <th>127</th>\n",
       "      <td>Kuwait</td>\n",
       "      <td>KWT</td>\n",
       "      <td>CO2 emissions (metric tons per capita)</td>\n",
       "      <td>1477.601970</td>\n",
       "    </tr>\n",
       "    <tr>\n",
       "      <th>144</th>\n",
       "      <td>Luxembourg</td>\n",
       "      <td>LUX</td>\n",
       "      <td>CO2 emissions (metric tons per capita)</td>\n",
       "      <td>1607.031362</td>\n",
       "    </tr>\n",
       "    <tr>\n",
       "      <th>8</th>\n",
       "      <td>United Arab Emirates</td>\n",
       "      <td>ARE</td>\n",
       "      <td>CO2 emissions (metric tons per capita)</td>\n",
       "      <td>1794.578010</td>\n",
       "    </tr>\n",
       "    <tr>\n",
       "      <th>200</th>\n",
       "      <td>Qatar</td>\n",
       "      <td>QAT</td>\n",
       "      <td>CO2 emissions (metric tons per capita)</td>\n",
       "      <td>2693.845683</td>\n",
       "    </tr>\n",
       "  </tbody>\n",
       "</table>\n",
       "<p>266 rows × 4 columns</p>\n",
       "</div>"
      ],
      "text/plain": [
       "                  Country Country Code  \\\n",
       "212            San Marino          SMR   \n",
       "149                Monaco          MCO   \n",
       "38        Channel Islands          CHI   \n",
       "196    West Bank and Gaza          PSE   \n",
       "192           Puerto Rico          PRI   \n",
       "..                    ...          ...   \n",
       "22                Bahrain          BHR   \n",
       "127                Kuwait          KWT   \n",
       "144            Luxembourg          LUX   \n",
       "8    United Arab Emirates          ARE   \n",
       "200                 Qatar          QAT   \n",
       "\n",
       "                                       Unit  Total Emission from 1960 to 2018  \n",
       "212  CO2 emissions (metric tons per capita)                          0.000000  \n",
       "149  CO2 emissions (metric tons per capita)                          0.000000  \n",
       "38   CO2 emissions (metric tons per capita)                          0.000000  \n",
       "196  CO2 emissions (metric tons per capita)                          0.000000  \n",
       "192  CO2 emissions (metric tons per capita)                          0.000000  \n",
       "..                                      ...                               ...  \n",
       "22   CO2 emissions (metric tons per capita)                       1162.056759  \n",
       "127  CO2 emissions (metric tons per capita)                       1477.601970  \n",
       "144  CO2 emissions (metric tons per capita)                       1607.031362  \n",
       "8    CO2 emissions (metric tons per capita)                       1794.578010  \n",
       "200  CO2 emissions (metric tons per capita)                       2693.845683  \n",
       "\n",
       "[266 rows x 4 columns]"
      ]
     },
     "execution_count": 10,
     "metadata": {},
     "output_type": "execute_result"
    }
   ],
   "source": [
    "final = pd.DataFrame()\n",
    "final[\"Country\"] = clean[\"Country Name\"]\n",
    "final[\"Country Code\"] = clean[\"Country Code\"]\n",
    "final[\"Unit\"] = clean[\"Indicator Name\"]\n",
    "final[\"Total Emission from 1960 to 2018\"] = clean[\"total\"]\n",
    "final = final.sort_values(by = \"Total Emission from 1960 to 2018\")\n",
    "final"
   ]
  },
  {
   "cell_type": "markdown",
   "metadata": {},
   "source": [
    "We can see there are some data points that are not helpful for us. We will remove these countries. "
   ]
  },
  {
   "cell_type": "code",
   "execution_count": 12,
   "metadata": {},
   "outputs": [
    {
     "data": {
      "text/html": [
       "<div>\n",
       "<style scoped>\n",
       "    .dataframe tbody tr th:only-of-type {\n",
       "        vertical-align: middle;\n",
       "    }\n",
       "\n",
       "    .dataframe tbody tr th {\n",
       "        vertical-align: top;\n",
       "    }\n",
       "\n",
       "    .dataframe thead th {\n",
       "        text-align: right;\n",
       "    }\n",
       "</style>\n",
       "<table border=\"1\" class=\"dataframe\">\n",
       "  <thead>\n",
       "    <tr style=\"text-align: right;\">\n",
       "      <th></th>\n",
       "      <th>Country</th>\n",
       "      <th>Country Code</th>\n",
       "      <th>Unit</th>\n",
       "      <th>Total Emission from 1960 to 2018</th>\n",
       "    </tr>\n",
       "  </thead>\n",
       "  <tbody>\n",
       "    <tr>\n",
       "      <th>216</th>\n",
       "      <td>South Sudan</td>\n",
       "      <td>SSD</td>\n",
       "      <td>CO2 emissions (metric tons per capita)</td>\n",
       "      <td>1.033979</td>\n",
       "    </tr>\n",
       "    <tr>\n",
       "      <th>16</th>\n",
       "      <td>Burundi</td>\n",
       "      <td>BDI</td>\n",
       "      <td>CO2 emissions (metric tons per capita)</td>\n",
       "      <td>1.828845</td>\n",
       "    </tr>\n",
       "    <tr>\n",
       "      <th>229</th>\n",
       "      <td>Chad</td>\n",
       "      <td>TCD</td>\n",
       "      <td>CO2 emissions (metric tons per capita)</td>\n",
       "      <td>3.073635</td>\n",
       "    </tr>\n",
       "    <tr>\n",
       "      <th>72</th>\n",
       "      <td>Ethiopia</td>\n",
       "      <td>ETH</td>\n",
       "      <td>CO2 emissions (metric tons per capita)</td>\n",
       "      <td>3.490333</td>\n",
       "    </tr>\n",
       "    <tr>\n",
       "      <th>203</th>\n",
       "      <td>Rwanda</td>\n",
       "      <td>RWA</td>\n",
       "      <td>CO2 emissions (metric tons per capita)</td>\n",
       "      <td>3.609588</td>\n",
       "    </tr>\n",
       "    <tr>\n",
       "      <th>...</th>\n",
       "      <td>...</td>\n",
       "      <td>...</td>\n",
       "      <td>...</td>\n",
       "      <td>...</td>\n",
       "    </tr>\n",
       "    <tr>\n",
       "      <th>22</th>\n",
       "      <td>Bahrain</td>\n",
       "      <td>BHR</td>\n",
       "      <td>CO2 emissions (metric tons per capita)</td>\n",
       "      <td>1162.056759</td>\n",
       "    </tr>\n",
       "    <tr>\n",
       "      <th>127</th>\n",
       "      <td>Kuwait</td>\n",
       "      <td>KWT</td>\n",
       "      <td>CO2 emissions (metric tons per capita)</td>\n",
       "      <td>1477.601970</td>\n",
       "    </tr>\n",
       "    <tr>\n",
       "      <th>144</th>\n",
       "      <td>Luxembourg</td>\n",
       "      <td>LUX</td>\n",
       "      <td>CO2 emissions (metric tons per capita)</td>\n",
       "      <td>1607.031362</td>\n",
       "    </tr>\n",
       "    <tr>\n",
       "      <th>8</th>\n",
       "      <td>United Arab Emirates</td>\n",
       "      <td>ARE</td>\n",
       "      <td>CO2 emissions (metric tons per capita)</td>\n",
       "      <td>1794.578010</td>\n",
       "    </tr>\n",
       "    <tr>\n",
       "      <th>200</th>\n",
       "      <td>Qatar</td>\n",
       "      <td>QAT</td>\n",
       "      <td>CO2 emissions (metric tons per capita)</td>\n",
       "      <td>2693.845683</td>\n",
       "    </tr>\n",
       "  </tbody>\n",
       "</table>\n",
       "<p>250 rows × 4 columns</p>\n",
       "</div>"
      ],
      "text/plain": [
       "                  Country Country Code  \\\n",
       "216           South Sudan          SSD   \n",
       "16                Burundi          BDI   \n",
       "229                  Chad          TCD   \n",
       "72               Ethiopia          ETH   \n",
       "203                Rwanda          RWA   \n",
       "..                    ...          ...   \n",
       "22                Bahrain          BHR   \n",
       "127                Kuwait          KWT   \n",
       "144            Luxembourg          LUX   \n",
       "8    United Arab Emirates          ARE   \n",
       "200                 Qatar          QAT   \n",
       "\n",
       "                                       Unit  Total Emission from 1960 to 2018  \n",
       "216  CO2 emissions (metric tons per capita)                          1.033979  \n",
       "16   CO2 emissions (metric tons per capita)                          1.828845  \n",
       "229  CO2 emissions (metric tons per capita)                          3.073635  \n",
       "72   CO2 emissions (metric tons per capita)                          3.490333  \n",
       "203  CO2 emissions (metric tons per capita)                          3.609588  \n",
       "..                                      ...                               ...  \n",
       "22   CO2 emissions (metric tons per capita)                       1162.056759  \n",
       "127  CO2 emissions (metric tons per capita)                       1477.601970  \n",
       "144  CO2 emissions (metric tons per capita)                       1607.031362  \n",
       "8    CO2 emissions (metric tons per capita)                       1794.578010  \n",
       "200  CO2 emissions (metric tons per capita)                       2693.845683  \n",
       "\n",
       "[250 rows x 4 columns]"
      ]
     },
     "execution_count": 12,
     "metadata": {},
     "output_type": "execute_result"
    }
   ],
   "source": [
    "final = final[final[\"Total Emission from 1960 to 2018\"] > 0]\n",
    "final"
   ]
  },
  {
   "cell_type": "markdown",
   "metadata": {},
   "source": [
    "This is the number of missing rows, as we eliminated some for comprehensible data."
   ]
  },
  {
   "cell_type": "code",
   "execution_count": 13,
   "metadata": {},
   "outputs": [
    {
     "data": {
      "text/plain": [
       "16"
      ]
     },
     "execution_count": 13,
     "metadata": {},
     "output_type": "execute_result"
    }
   ],
   "source": [
    "dirty.shape[0] - final.shape[0]"
   ]
  },
  {
   "cell_type": "markdown",
   "metadata": {},
   "source": [
    "These two countries are the countries with the least and most amount of greenhouse gas emissions from 1960 to 2018."
   ]
  },
  {
   "cell_type": "code",
   "execution_count": 14,
   "metadata": {},
   "outputs": [],
   "source": [
    "least = final.iloc[0]\n",
    "most = final.iloc[-1]"
   ]
  },
  {
   "cell_type": "code",
   "execution_count": 15,
   "metadata": {},
   "outputs": [
    {
     "data": {
      "text/plain": [
       "Country                                                        South Sudan\n",
       "Country Code                                                           SSD\n",
       "Unit                                CO2 emissions (metric tons per capita)\n",
       "Total Emission from 1960 to 2018                                  1.033979\n",
       "Name: 216, dtype: object"
      ]
     },
     "execution_count": 15,
     "metadata": {},
     "output_type": "execute_result"
    }
   ],
   "source": [
    "least"
   ]
  },
  {
   "cell_type": "code",
   "execution_count": 16,
   "metadata": {},
   "outputs": [
    {
     "data": {
      "text/plain": [
       "Country                                                              Qatar\n",
       "Country Code                                                           QAT\n",
       "Unit                                CO2 emissions (metric tons per capita)\n",
       "Total Emission from 1960 to 2018                               2693.845683\n",
       "Name: 200, dtype: object"
      ]
     },
     "execution_count": 16,
     "metadata": {},
     "output_type": "execute_result"
    }
   ],
   "source": [
    "most"
   ]
  },
  {
   "cell_type": "markdown",
   "metadata": {},
   "source": [
    "## Conclusion:\n",
    "We found that the country that produces the most greenhouse gas emissions is Qatar, while the country that produces the least is South Sudan. This makes sense, as Niue is a landlocked country in Central Africa, while Qatar is located in the middle east right on the persian gulf.\n",
    "\n",
    "Other major contributors of greenhouse gases include The United States, India, Russia, and Brazil. Besides South Sudan, countries which have the smallest carbon footprint include Tuvalu, The Cook Islands, Kiribati, and Nauru. In general, it appears that industrial powerhouses are responsible for the majority of emissions.\n",
    "\n",
    "We can use this information to determine if greenhouse gas emissions have any correlations with trade. Countries like Qatar, UAE, China, The United States, and India all have large economies with a lot of exports. On the other hand, smaller nations, like South Sudan and Tuvalu, probably have a relatively small export market. Therefore, it is quite possible that trade has a correlation with CO2 emissions. A logical next step would be to analyze the effects of both domestic and international trade on CO2 emissions. \n",
    "\n",
    "One limitation of this analysis is that emission data from 1960-2018 was used. Therefore, the data may not be quite as up to date as current data, which may affect our results slightly. However, we still anticipate that our data is mostly accurate, and it certainly helps us determine what characteristics of a country may be associated with higher volumes of CO2 emissions. "
   ]
  },
  {
   "cell_type": "markdown",
   "metadata": {},
   "source": [
    "## Question: Does trade/export markets of each country have any effects on greenhouse emissions? (Jonathan)\n",
    "\n",
    "Does countries with high trade markets have a higher or lower greenhouse emission? By answering this question, we can find the correlation between the trade/export market and greenhouse emission. I will hypothesize that countries with a heavy trade market has higher greenhouse emmission due to the use of factories and transportation for the item.\n",
    "\n",
    "\n",
    "In order to answer this question, data from https://worldpopulationreview.com/country-rankings/greenhouse-gas-emissions-by-country and https://www.kaggle.com/kkhandekar/co2-emissions-1960-2018 will be utilized. This data contains greenhouse gas emissions data for 266 countries from 1960-2018. The dataset was extracted from the World Bank.\n",
    "\n",
    "The unit for this dataset is CO2, which is carbon dioxide."
   ]
  },
  {
   "cell_type": "markdown",
   "metadata": {},
   "source": [
    "## Analysis:\n",
    "We will use pandas, numpy, and matplotlib to sort and analyze the data. We will also use sklearn to compute a linear regression equation to predict the correlations between trade/export market and emission."
   ]
  },
  {
   "cell_type": "markdown",
   "metadata": {},
   "source": [
    "First, we will be extracting the countries, regions, Energy production, and Emissions 2017 columns of the countryStats data. We will use the Energy Production column as referrence for our trade/export market data."
   ]
  },
  {
   "cell_type": "code",
   "execution_count": 32,
   "metadata": {},
   "outputs": [
    {
     "data": {
      "text/html": [
       "<div>\n",
       "<style scoped>\n",
       "    .dataframe tbody tr th:only-of-type {\n",
       "        vertical-align: middle;\n",
       "    }\n",
       "\n",
       "    .dataframe tbody tr th {\n",
       "        vertical-align: top;\n",
       "    }\n",
       "\n",
       "    .dataframe thead th {\n",
       "        text-align: right;\n",
       "    }\n",
       "</style>\n",
       "<table border=\"1\" class=\"dataframe\">\n",
       "  <thead>\n",
       "    <tr style=\"text-align: right;\">\n",
       "      <th></th>\n",
       "      <th>Country</th>\n",
       "      <th>Region</th>\n",
       "      <th>Energy_Production_(Petajoules)</th>\n",
       "      <th>Emissions2017</th>\n",
       "    </tr>\n",
       "  </thead>\n",
       "  <tbody>\n",
       "    <tr>\n",
       "      <th>0</th>\n",
       "      <td>Afghanistan</td>\n",
       "      <td>SouthernAsia</td>\n",
       "      <td>5.0</td>\n",
       "      <td>0.203328</td>\n",
       "    </tr>\n",
       "    <tr>\n",
       "      <th>1</th>\n",
       "      <td>Albania</td>\n",
       "      <td>SouthernEurope</td>\n",
       "      <td>36.0</td>\n",
       "      <td>1.948872</td>\n",
       "    </tr>\n",
       "    <tr>\n",
       "      <th>2</th>\n",
       "      <td>Algeria</td>\n",
       "      <td>NorthernAfrica</td>\n",
       "      <td>55.0</td>\n",
       "      <td>3.505748</td>\n",
       "    </tr>\n",
       "    <tr>\n",
       "      <th>3</th>\n",
       "      <td>Andorra</td>\n",
       "      <td>SouthernEurope</td>\n",
       "      <td>119.0</td>\n",
       "      <td>6.104134</td>\n",
       "    </tr>\n",
       "    <tr>\n",
       "      <th>4</th>\n",
       "      <td>Angola</td>\n",
       "      <td>MiddleAfrica</td>\n",
       "      <td>25.0</td>\n",
       "      <td>1.034317</td>\n",
       "    </tr>\n",
       "    <tr>\n",
       "      <th>...</th>\n",
       "      <td>...</td>\n",
       "      <td>...</td>\n",
       "      <td>...</td>\n",
       "      <td>...</td>\n",
       "    </tr>\n",
       "    <tr>\n",
       "      <th>163</th>\n",
       "      <td>Uzbekistan</td>\n",
       "      <td>CentralAsia</td>\n",
       "      <td>62.0</td>\n",
       "      <td>3.438864</td>\n",
       "    </tr>\n",
       "    <tr>\n",
       "      <th>164</th>\n",
       "      <td>Vanuatu</td>\n",
       "      <td>Melanesia</td>\n",
       "      <td>12.0</td>\n",
       "      <td>0.595449</td>\n",
       "    </tr>\n",
       "    <tr>\n",
       "      <th>165</th>\n",
       "      <td>Vietnam</td>\n",
       "      <td>South-easternAsia</td>\n",
       "      <td>30.0</td>\n",
       "      <td>2.348081</td>\n",
       "    </tr>\n",
       "    <tr>\n",
       "      <th>166</th>\n",
       "      <td>Zambia</td>\n",
       "      <td>EasternAfrica</td>\n",
       "      <td>26.0</td>\n",
       "      <td>0.414748</td>\n",
       "    </tr>\n",
       "    <tr>\n",
       "      <th>167</th>\n",
       "      <td>Zimbabwe</td>\n",
       "      <td>EasternAfrica</td>\n",
       "      <td>30.0</td>\n",
       "      <td>0.718570</td>\n",
       "    </tr>\n",
       "  </tbody>\n",
       "</table>\n",
       "<p>168 rows × 4 columns</p>\n",
       "</div>"
      ],
      "text/plain": [
       "         Country             Region  Energy_Production_(Petajoules)  \\\n",
       "0    Afghanistan       SouthernAsia                             5.0   \n",
       "1        Albania     SouthernEurope                            36.0   \n",
       "2        Algeria     NorthernAfrica                            55.0   \n",
       "3        Andorra     SouthernEurope                           119.0   \n",
       "4         Angola       MiddleAfrica                            25.0   \n",
       "..           ...                ...                             ...   \n",
       "163   Uzbekistan        CentralAsia                            62.0   \n",
       "164      Vanuatu          Melanesia                            12.0   \n",
       "165      Vietnam  South-easternAsia                            30.0   \n",
       "166       Zambia      EasternAfrica                            26.0   \n",
       "167     Zimbabwe      EasternAfrica                            30.0   \n",
       "\n",
       "     Emissions2017  \n",
       "0         0.203328  \n",
       "1         1.948872  \n",
       "2         3.505748  \n",
       "3         6.104134  \n",
       "4         1.034317  \n",
       "..             ...  \n",
       "163       3.438864  \n",
       "164       0.595449  \n",
       "165       2.348081  \n",
       "166       0.414748  \n",
       "167       0.718570  \n",
       "\n",
       "[168 rows x 4 columns]"
      ]
     },
     "execution_count": 32,
     "metadata": {},
     "output_type": "execute_result"
    }
   ],
   "source": [
    "data = pd.DataFrame()\n",
    "data = countryStats\n",
    "data\n",
    "dataClean = pd.DataFrame()\n",
    "dataClean[\"Country\"] = data[\"country\"]\n",
    "dataClean[\"Region\"] = data[\"Region\"]\n",
    "dataClean[\"Energy_Production_(Petajoules)\"] = data[\"Energy production, primary (Petajoules)\"]\n",
    "dataClean[\"Emissions2017\"] = data[\"Emissions 2017 (Metric Tons Per Capita)\"]\n",
    "dataClean"
   ]
  },
  {
   "cell_type": "markdown",
   "metadata": {},
   "source": [
    "Now normalize our data."
   ]
  },
  {
   "cell_type": "code",
   "execution_count": 33,
   "metadata": {},
   "outputs": [
    {
     "data": {
      "text/html": [
       "<div>\n",
       "<style scoped>\n",
       "    .dataframe tbody tr th:only-of-type {\n",
       "        vertical-align: middle;\n",
       "    }\n",
       "\n",
       "    .dataframe tbody tr th {\n",
       "        vertical-align: top;\n",
       "    }\n",
       "\n",
       "    .dataframe thead th {\n",
       "        text-align: right;\n",
       "    }\n",
       "</style>\n",
       "<table border=\"1\" class=\"dataframe\">\n",
       "  <thead>\n",
       "    <tr style=\"text-align: right;\">\n",
       "      <th></th>\n",
       "      <th>Country</th>\n",
       "      <th>Region</th>\n",
       "      <th>Energy_Production_(Petajoules)</th>\n",
       "      <th>Emissions2017</th>\n",
       "    </tr>\n",
       "  </thead>\n",
       "  <tbody>\n",
       "    <tr>\n",
       "      <th>0</th>\n",
       "      <td>Afghanistan</td>\n",
       "      <td>SouthernAsia</td>\n",
       "      <td>-0.674456</td>\n",
       "      <td>-0.836957</td>\n",
       "    </tr>\n",
       "    <tr>\n",
       "      <th>1</th>\n",
       "      <td>Albania</td>\n",
       "      <td>SouthernEurope</td>\n",
       "      <td>-0.433539</td>\n",
       "      <td>-0.492991</td>\n",
       "    </tr>\n",
       "    <tr>\n",
       "      <th>2</th>\n",
       "      <td>Algeria</td>\n",
       "      <td>NorthernAfrica</td>\n",
       "      <td>-0.285880</td>\n",
       "      <td>-0.186203</td>\n",
       "    </tr>\n",
       "    <tr>\n",
       "      <th>3</th>\n",
       "      <td>Andorra</td>\n",
       "      <td>SouthernEurope</td>\n",
       "      <td>0.211496</td>\n",
       "      <td>0.325818</td>\n",
       "    </tr>\n",
       "    <tr>\n",
       "      <th>4</th>\n",
       "      <td>Angola</td>\n",
       "      <td>MiddleAfrica</td>\n",
       "      <td>-0.519026</td>\n",
       "      <td>-0.673207</td>\n",
       "    </tr>\n",
       "    <tr>\n",
       "      <th>...</th>\n",
       "      <td>...</td>\n",
       "      <td>...</td>\n",
       "      <td>...</td>\n",
       "      <td>...</td>\n",
       "    </tr>\n",
       "    <tr>\n",
       "      <th>163</th>\n",
       "      <td>Uzbekistan</td>\n",
       "      <td>CentralAsia</td>\n",
       "      <td>-0.231480</td>\n",
       "      <td>-0.199383</td>\n",
       "    </tr>\n",
       "    <tr>\n",
       "      <th>164</th>\n",
       "      <td>Vanuatu</td>\n",
       "      <td>Melanesia</td>\n",
       "      <td>-0.620055</td>\n",
       "      <td>-0.759688</td>\n",
       "    </tr>\n",
       "    <tr>\n",
       "      <th>165</th>\n",
       "      <td>Vietnam</td>\n",
       "      <td>South-easternAsia</td>\n",
       "      <td>-0.480168</td>\n",
       "      <td>-0.414326</td>\n",
       "    </tr>\n",
       "    <tr>\n",
       "      <th>166</th>\n",
       "      <td>Zambia</td>\n",
       "      <td>EasternAfrica</td>\n",
       "      <td>-0.511254</td>\n",
       "      <td>-0.795296</td>\n",
       "    </tr>\n",
       "    <tr>\n",
       "      <th>167</th>\n",
       "      <td>Zimbabwe</td>\n",
       "      <td>EasternAfrica</td>\n",
       "      <td>-0.480168</td>\n",
       "      <td>-0.735426</td>\n",
       "    </tr>\n",
       "  </tbody>\n",
       "</table>\n",
       "<p>168 rows × 4 columns</p>\n",
       "</div>"
      ],
      "text/plain": [
       "         Country             Region  Energy_Production_(Petajoules)  \\\n",
       "0    Afghanistan       SouthernAsia                       -0.674456   \n",
       "1        Albania     SouthernEurope                       -0.433539   \n",
       "2        Algeria     NorthernAfrica                       -0.285880   \n",
       "3        Andorra     SouthernEurope                        0.211496   \n",
       "4         Angola       MiddleAfrica                       -0.519026   \n",
       "..           ...                ...                             ...   \n",
       "163   Uzbekistan        CentralAsia                       -0.231480   \n",
       "164      Vanuatu          Melanesia                       -0.620055   \n",
       "165      Vietnam  South-easternAsia                       -0.480168   \n",
       "166       Zambia      EasternAfrica                       -0.511254   \n",
       "167     Zimbabwe      EasternAfrica                       -0.480168   \n",
       "\n",
       "     Emissions2017  \n",
       "0        -0.836957  \n",
       "1        -0.492991  \n",
       "2        -0.186203  \n",
       "3         0.325818  \n",
       "4        -0.673207  \n",
       "..             ...  \n",
       "163      -0.199383  \n",
       "164      -0.759688  \n",
       "165      -0.414326  \n",
       "166      -0.795296  \n",
       "167      -0.735426  \n",
       "\n",
       "[168 rows x 4 columns]"
      ]
     },
     "execution_count": 33,
     "metadata": {},
     "output_type": "execute_result"
    }
   ],
   "source": [
    "normvals = dataClean.iloc[:, 2:]\n",
    "dataNorm = dataClean.copy()\n",
    "dataNorm.iloc[:, 2:] = (normvals - normvals.mean()) / normvals.std()\n",
    "dataNorm"
   ]
  },
  {
   "cell_type": "markdown",
   "metadata": {},
   "source": [
    "Now we check if there is a correlation between CO2 emissions and GDP from trade."
   ]
  },
  {
   "cell_type": "code",
   "execution_count": 34,
   "metadata": {},
   "outputs": [
    {
     "data": {
      "text/plain": [
       "0.7994807604893855"
      ]
     },
     "execution_count": 34,
     "metadata": {},
     "output_type": "execute_result"
    }
   ],
   "source": [
    "dataNorm[\"Emissions2017\"].corr(dataNorm[\"Energy_Production_(Petajoules)\"])"
   ]
  },
  {
   "cell_type": "markdown",
   "metadata": {},
   "source": [
    "With correlation value `0.799`, we can see that there is quite of a correlation between CO2 and Energy Production. Now that we have our correlation value, let's compute a linear regression equation."
   ]
  },
  {
   "cell_type": "markdown",
   "metadata": {},
   "source": [
    "First we import necessary sklearn libraries.\n",
    "Then we will plot a scatter plot of the Energy Production and the 2017 Emissions"
   ]
  },
  {
   "cell_type": "code",
   "execution_count": 35,
   "metadata": {},
   "outputs": [
    {
     "ename": "ImportError",
     "evalue": "matplotlib is required for plotting when the default backend \"matplotlib\" is selected.",
     "output_type": "error",
     "traceback": [
      "\u001b[1;31m---------------------------------------------------------------------------\u001b[0m",
      "\u001b[1;31mImportError\u001b[0m                               Traceback (most recent call last)",
      "\u001b[1;32m<ipython-input-35-fa424e15bfdf>\u001b[0m in \u001b[0;36m<module>\u001b[1;34m\u001b[0m\n\u001b[0;32m      1\u001b[0m \u001b[1;32mfrom\u001b[0m \u001b[0msklearn\u001b[0m\u001b[1;33m.\u001b[0m\u001b[0mlinear_model\u001b[0m \u001b[1;32mimport\u001b[0m \u001b[0mLinearRegression\u001b[0m\u001b[1;33m\u001b[0m\u001b[1;33m\u001b[0m\u001b[0m\n\u001b[0;32m      2\u001b[0m \u001b[1;32mimport\u001b[0m \u001b[0msklearn\u001b[0m\u001b[1;33m.\u001b[0m\u001b[0mmodel_selection\u001b[0m\u001b[1;33m\u001b[0m\u001b[1;33m\u001b[0m\u001b[0m\n\u001b[1;32m----> 3\u001b[1;33m \u001b[0max\u001b[0m \u001b[1;33m=\u001b[0m \u001b[0mdataNorm\u001b[0m\u001b[1;33m.\u001b[0m\u001b[0mplot\u001b[0m\u001b[1;33m.\u001b[0m\u001b[0mscatter\u001b[0m\u001b[1;33m(\u001b[0m\u001b[0mx\u001b[0m\u001b[1;33m=\u001b[0m\u001b[1;34m\"Energy_Production_(Petajoules)\"\u001b[0m\u001b[1;33m,\u001b[0m \u001b[0my\u001b[0m\u001b[1;33m=\u001b[0m\u001b[1;34m\"Emissions2017\"\u001b[0m\u001b[1;33m)\u001b[0m\u001b[1;33m\u001b[0m\u001b[1;33m\u001b[0m\u001b[0m\n\u001b[0m",
      "\u001b[1;32m~\\anaconda3\\lib\\site-packages\\pandas\\plotting\\_core.py\u001b[0m in \u001b[0;36mscatter\u001b[1;34m(self, x, y, s, c, **kwargs)\u001b[0m\n\u001b[0;32m   1617\u001b[0m             ...                       colormap='viridis')\n\u001b[0;32m   1618\u001b[0m         \"\"\"\n\u001b[1;32m-> 1619\u001b[1;33m         \u001b[1;32mreturn\u001b[0m \u001b[0mself\u001b[0m\u001b[1;33m(\u001b[0m\u001b[0mkind\u001b[0m\u001b[1;33m=\u001b[0m\u001b[1;34m\"scatter\"\u001b[0m\u001b[1;33m,\u001b[0m \u001b[0mx\u001b[0m\u001b[1;33m=\u001b[0m\u001b[0mx\u001b[0m\u001b[1;33m,\u001b[0m \u001b[0my\u001b[0m\u001b[1;33m=\u001b[0m\u001b[0my\u001b[0m\u001b[1;33m,\u001b[0m \u001b[0ms\u001b[0m\u001b[1;33m=\u001b[0m\u001b[0ms\u001b[0m\u001b[1;33m,\u001b[0m \u001b[0mc\u001b[0m\u001b[1;33m=\u001b[0m\u001b[0mc\u001b[0m\u001b[1;33m,\u001b[0m \u001b[1;33m**\u001b[0m\u001b[0mkwargs\u001b[0m\u001b[1;33m)\u001b[0m\u001b[1;33m\u001b[0m\u001b[1;33m\u001b[0m\u001b[0m\n\u001b[0m\u001b[0;32m   1620\u001b[0m \u001b[1;33m\u001b[0m\u001b[0m\n\u001b[0;32m   1621\u001b[0m     \u001b[1;32mdef\u001b[0m \u001b[0mhexbin\u001b[0m\u001b[1;33m(\u001b[0m\u001b[0mself\u001b[0m\u001b[1;33m,\u001b[0m \u001b[0mx\u001b[0m\u001b[1;33m,\u001b[0m \u001b[0my\u001b[0m\u001b[1;33m,\u001b[0m \u001b[0mC\u001b[0m\u001b[1;33m=\u001b[0m\u001b[1;32mNone\u001b[0m\u001b[1;33m,\u001b[0m \u001b[0mreduce_C_function\u001b[0m\u001b[1;33m=\u001b[0m\u001b[1;32mNone\u001b[0m\u001b[1;33m,\u001b[0m \u001b[0mgridsize\u001b[0m\u001b[1;33m=\u001b[0m\u001b[1;32mNone\u001b[0m\u001b[1;33m,\u001b[0m \u001b[1;33m**\u001b[0m\u001b[0mkwargs\u001b[0m\u001b[1;33m)\u001b[0m\u001b[1;33m:\u001b[0m\u001b[1;33m\u001b[0m\u001b[1;33m\u001b[0m\u001b[0m\n",
      "\u001b[1;32m~\\anaconda3\\lib\\site-packages\\pandas\\plotting\\_core.py\u001b[0m in \u001b[0;36m__call__\u001b[1;34m(self, *args, **kwargs)\u001b[0m\n\u001b[0;32m    873\u001b[0m \u001b[1;33m\u001b[0m\u001b[0m\n\u001b[0;32m    874\u001b[0m     \u001b[1;32mdef\u001b[0m \u001b[0m__call__\u001b[0m\u001b[1;33m(\u001b[0m\u001b[0mself\u001b[0m\u001b[1;33m,\u001b[0m \u001b[1;33m*\u001b[0m\u001b[0margs\u001b[0m\u001b[1;33m,\u001b[0m \u001b[1;33m**\u001b[0m\u001b[0mkwargs\u001b[0m\u001b[1;33m)\u001b[0m\u001b[1;33m:\u001b[0m\u001b[1;33m\u001b[0m\u001b[1;33m\u001b[0m\u001b[0m\n\u001b[1;32m--> 875\u001b[1;33m         \u001b[0mplot_backend\u001b[0m \u001b[1;33m=\u001b[0m \u001b[0m_get_plot_backend\u001b[0m\u001b[1;33m(\u001b[0m\u001b[0mkwargs\u001b[0m\u001b[1;33m.\u001b[0m\u001b[0mpop\u001b[0m\u001b[1;33m(\u001b[0m\u001b[1;34m\"backend\"\u001b[0m\u001b[1;33m,\u001b[0m \u001b[1;32mNone\u001b[0m\u001b[1;33m)\u001b[0m\u001b[1;33m)\u001b[0m\u001b[1;33m\u001b[0m\u001b[1;33m\u001b[0m\u001b[0m\n\u001b[0m\u001b[0;32m    876\u001b[0m \u001b[1;33m\u001b[0m\u001b[0m\n\u001b[0;32m    877\u001b[0m         x, y, kind, kwargs = self._get_call_args(\n",
      "\u001b[1;32m~\\anaconda3\\lib\\site-packages\\pandas\\plotting\\_core.py\u001b[0m in \u001b[0;36m_get_plot_backend\u001b[1;34m(backend)\u001b[0m\n\u001b[0;32m   1784\u001b[0m             \u001b[1;32mimport\u001b[0m \u001b[0mpandas\u001b[0m\u001b[1;33m.\u001b[0m\u001b[0mplotting\u001b[0m\u001b[1;33m.\u001b[0m\u001b[0m_matplotlib\u001b[0m \u001b[1;32mas\u001b[0m \u001b[0mmodule\u001b[0m\u001b[1;33m\u001b[0m\u001b[1;33m\u001b[0m\u001b[0m\n\u001b[0;32m   1785\u001b[0m         \u001b[1;32mexcept\u001b[0m \u001b[0mImportError\u001b[0m\u001b[1;33m:\u001b[0m\u001b[1;33m\u001b[0m\u001b[1;33m\u001b[0m\u001b[0m\n\u001b[1;32m-> 1786\u001b[1;33m             raise ImportError(\n\u001b[0m\u001b[0;32m   1787\u001b[0m                 \u001b[1;34m\"matplotlib is required for plotting when the \"\u001b[0m\u001b[1;33m\u001b[0m\u001b[1;33m\u001b[0m\u001b[0m\n\u001b[0;32m   1788\u001b[0m                 \u001b[1;34m'default backend \"matplotlib\" is selected.'\u001b[0m\u001b[1;33m\u001b[0m\u001b[1;33m\u001b[0m\u001b[0m\n",
      "\u001b[1;31mImportError\u001b[0m: matplotlib is required for plotting when the default backend \"matplotlib\" is selected."
     ]
    }
   ],
   "source": [
    "from sklearn.linear_model import LinearRegression\n",
    "import sklearn.model_selection\n",
    "ax = dataNorm.plot.scatter(x=\"Energy_Production_(Petajoules)\", y=\"Emissions2017\")\n"
   ]
  },
  {
   "cell_type": "markdown",
   "metadata": {},
   "source": [
    "Before we compute the linear regression equation, we will split up the data 80/20 to separate testing and training subsets of data."
   ]
  },
  {
   "cell_type": "code",
   "execution_count": 36,
   "metadata": {},
   "outputs": [],
   "source": [
    "x = dataNorm[[\"Energy_Production_(Petajoules)\"]]\n",
    "y = dataNorm[\"Emissions2017\"]\n",
    "(x_train, x_test, y_train, y_test) = sklearn.model_selection.train_test_split(x, y, test_size=0.2)"
   ]
  },
  {
   "cell_type": "markdown",
   "metadata": {},
   "source": [
    "Now we compute the linear regression equation."
   ]
  },
  {
   "cell_type": "code",
   "execution_count": null,
   "metadata": {},
   "outputs": [],
   "source": [
    "lm = LinearRegression().fit(x_train, y_train)\n",
    "dataNorm[\"PredictedIPC\"] = x * lm.coef_[0] + lm.intercept_\n",
    "yy = dataNorm[\"PredictedIPC\"]\n",
    "lm.coef_, lm.intercept_"
   ]
  },
  {
   "cell_type": "markdown",
   "metadata": {},
   "source": [
    "Our linear regression equation is `Y = 1.0592X + 0.0538` where Y is the 2017 Emissions value and X is the amount of energy producted by each country. \n",
    "For each Petajoule of energy producted, the CO2 emission increases by approximately `1.0592` Metric Ton per Capita."
   ]
  },
  {
   "cell_type": "code",
   "execution_count": null,
   "metadata": {},
   "outputs": [],
   "source": [
    "ax = dataNorm.plot.scatter(x=\"Energy_Production_(Petajoules)\", y=\"Emissions2017\")\n",
    "ax.plot(x, yy, color='red')\n",
    "ax.set_xlabel('Energy Production (Petajoules)')\n",
    "ax.set_ylabel('2017 Emission')"
   ]
  },
  {
   "cell_type": "markdown",
   "metadata": {},
   "source": [
    "## Conclusion:\n",
    "\n",
    "We found that there is quite of a correlation between a country's Energy Production, here we used this attribute to be referrence to our trade/export market information, and a country's CO2 emission during 2017 of `0.799`. We have also found a linear regression model where every petajoule of energy produced by a country, the CO2 emission increases by approximately `1.0592` Metric Ton per Capita.\n",
    "\n",
    "These tells us that countries that produce more energy causes more CO2 emissions."
   ]
  }
 ],
 "metadata": {
  "kernelspec": {
   "display_name": "Python 3",
   "language": "python",
   "name": "python3"
  },
  "language_info": {
   "codemirror_mode": {
    "name": "ipython",
    "version": 3
   },
   "file_extension": ".py",
   "mimetype": "text/x-python",
   "name": "python",
   "nbconvert_exporter": "python",
   "pygments_lexer": "ipython3",
   "version": "3.8.8"
  },
  "varInspector": {
   "cols": {
    "lenName": 16,
    "lenType": 16,
    "lenVar": 40
   },
   "kernels_config": {
    "python": {
     "delete_cmd_postfix": "",
     "delete_cmd_prefix": "del ",
     "library": "var_list.py",
     "varRefreshCmd": "print(var_dic_list())"
    },
    "r": {
     "delete_cmd_postfix": ") ",
     "delete_cmd_prefix": "rm(",
     "library": "var_list.r",
     "varRefreshCmd": "cat(var_dic_list()) "
    }
   },
   "types_to_exclude": [
    "module",
    "function",
    "builtin_function_or_method",
    "instance",
    "_Feature"
   ],
   "window_display": false
  }
 },
 "nbformat": 4,
 "nbformat_minor": 2
}
