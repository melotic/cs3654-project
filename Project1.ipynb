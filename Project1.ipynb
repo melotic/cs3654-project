{
 "cells": [
  {
   "cell_type": "markdown",
   "metadata": {},
   "source": [
    "# CS 3654 Team Project"
   ]
  },
  {
   "cell_type": "markdown",
   "metadata": {},
   "source": [
    "### Team Info:  \n",
    "Project Title:  Correlations on Climate Change  \n",
    "Team name:  Greenhouse Guys  \n",
    "Team member names and PIDs: Atharva Haldankar (ahaldankar), Fairuz Ahmed (ahfairuz), Andrew Ahn (aandrew17), Jonathan Jwa (jonathanyjwa23), Justin Perez (justinmp)"
   ]
  },
  {
   "cell_type": "markdown",
   "metadata": {},
   "source": [
    "### Project Introduction:\n",
    "\n",
    "**Initial Description:** We plan to analyze climate data based on country to understand which countries are responsible for the majority of greenhouse gas emissions, what the characteristics of those countries are, and what negative effects greenhouse emissions have on people and the environment.\n",
    "\n",
    "**Potential research questions:**  \n",
    "    1. Which countries produce the most greenhouse gases? Which countries produce the least?  \n",
    "    2. Is there a correlation between GDP and greenhouse gas emissions?  \n",
    "    3. Does a country's use of renewable energy decrease their emissions?  \n",
    "    4. Does a country's population or land area have anything to do with greenhouse emissions?  \n",
    "    5. What forms of government do the countries that produce the most greenhouse gases have?  \n",
    "    6. Do greenhouse emissions come primarily from urban or rural settings?  \n",
    "    7. Which countries are affected most by greenhouse emissions?  \n",
    "    8. Do emissions impact human life expectancy?  \n",
    "    \n",
    "**Potential source data:**\n",
    "1. https://www.kaggle.com/datasets/sudalairajkumar/undata-country-profiles\n",
    "2. https://worldpopulationreview.com/country-rankings/greenhouse-gas-emissions-by-country\n",
    "3. https://www.kaggle.com/saurabhshahane/green-house-gas-historical-emission-data  \n",
    "4. https://www.kaggle.com/brendan45774/countries-life-expectancy"
   ]
  }
 ],
 "metadata": {
  "kernelspec": {
   "display_name": "Python 3 (ipykernel)",
   "language": "python",
   "name": "python3"
  },
  "language_info": {
   "codemirror_mode": {
    "name": "ipython",
    "version": 3
   },
   "file_extension": ".py",
   "mimetype": "text/x-python",
   "name": "python",
   "nbconvert_exporter": "python",
   "pygments_lexer": "ipython3",
   "version": "3.9.7"
  },
  "varInspector": {
   "cols": {
    "lenName": 16,
    "lenType": 16,
    "lenVar": 40
   },
   "kernels_config": {
    "python": {
     "delete_cmd_postfix": "",
     "delete_cmd_prefix": "del ",
     "library": "var_list.py",
     "varRefreshCmd": "print(var_dic_list())"
    },
    "r": {
     "delete_cmd_postfix": ") ",
     "delete_cmd_prefix": "rm(",
     "library": "var_list.r",
     "varRefreshCmd": "cat(var_dic_list()) "
    }
   },
   "types_to_exclude": [
    "module",
    "function",
    "builtin_function_or_method",
    "instance",
    "_Feature"
   ],
   "window_display": false
  }
 },
 "nbformat": 4,
 "nbformat_minor": 2
}
