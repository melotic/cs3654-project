{
 "cells": [
  {
   "cell_type": "markdown",
   "metadata": {},
   "source": [
    "# CS 3654 Team Project"
   ]
  },
  {
   "cell_type": "markdown",
   "metadata": {},
   "source": [
    "### Team Info:  \n",
    "Project Title:  Correlations on Climate Change  \n",
    "Team name:  Greenhouse Guys  \n",
    "Team member names and PIDs: Atharva Haldankar (ahaldankar), Fairuz Ahmed (ahfairuz), Andrew Ahn (aandrew17), Jonathan Jwa (jonathanyjwa23), Justin Perez (justinmp)"
   ]
  },
  {
   "cell_type": "markdown",
   "metadata": {},
   "source": [
    "### Project Introduction:\n",
    "\n",
    "**Initial Description:** We plan to analyze climate data based on country to understand which countries are responsible for the majority of greenhouse gas emissions, what the characteristics of those countries are, and what negative effects greenhouse emissions have on people and the environment.\n",
    "\n",
    "**Potential research questions:**  \n",
    "    1. Which countries produce the most greenhouse gases? Which countries produce the least?  \n",
    "    2. Is there a correlation between GDP and greenhouse gas emissions?  \n",
    "    3. Does a country's use of renewable energy decrease their emissions?  \n",
    "    4. Does a country's population or land area have anything to do with greenhouse emissions?  \n",
    "    5. What forms of government do the countries that produce the most greenhouse gases have?  \n",
    "    6. Do greenhouse emissions come primarily from urban or rural settings?  \n",
    "    7. Which countries are affected most by greenhouse emissions?  \n",
    "    8. Do emissions impact human life expectancy?  \n",
    "    \n",
    "**Potential source data:**\n",
    "1. https://www.kaggle.com/datasets/sudalairajkumar/undata-country-profiles\n",
    "2. https://worldpopulationreview.com/country-rankings/greenhouse-gas-emissions-by-country\n",
    "3. https://www.kaggle.com/saurabhshahane/green-house-gas-historical-emission-data  \n",
    "4. https://www.kaggle.com/brendan45774/countries-life-expectancy"
   ]
  },
  {
   "cell_type": "markdown",
   "metadata": {},
   "source": [
    "**Question: Does a Country's Population or Land Area have anything to do with greenhouse emissions? (Atharva)**\n",
    "\n",
    "Does population or land area affect the volume of greenhouse emissions? By determining a correlation between these variables, we can better determine which countries are major contributors of greenhouse emissions. For example, if population and greenhouse emissions are strongly correlated together, then we can focus on countries with large populations, since those nations will have the greatest influence over the volume of emissions. Furthermore, we'll get a better sense geographically for which countries are major contributors of emissions. \n",
    "\n",
    "In order to answer this question, data from https://www.kaggle.com/datasets/sudalairajkumar/undata-country-profiles will be utilized. This data contains general information about each of the countries as well as social, economic, and environmental indicators. The dataset was extracted from information published by the United Nations, so it is a good authoritative source. \n",
    "\n",
    "Before analyzing the data, it will be helpful to define what units population, land area, and greenhouse emissions are measured in. Population will be measured in thousands of people, land area will be measured in square kilometers, and greenhouse emissions will be quantified in million tons / tons per capita. \n",
    "\n",
    "//Maybe add more detail later\n"
   ]
  },
  {
   "cell_type": "code",
   "execution_count": null,
   "metadata": {},
   "outputs": [],
   "source": [
    "import pandas\n",
    "import numpy\n",
    "import matplotlib.pyplot as plt\n",
    "from sklearn.linear_model import LinearRegression"
   ]
  },
  {
   "cell_type": "code",
   "execution_count": null,
   "metadata": {},
   "outputs": [],
   "source": [
    "# Read the original data into a pandas dataframe. \n",
    "dirty = pandas.read_csv(\"country_profile_variables.csv\")"
   ]
  },
  {
   "cell_type": "code",
   "execution_count": null,
   "metadata": {},
   "outputs": [],
   "source": [
    "dirty.head()"
   ]
  },
  {
   "cell_type": "code",
   "execution_count": null,
   "metadata": {},
   "outputs": [],
   "source": [
    "dirty.dtypes"
   ]
  },
  {
   "cell_type": "code",
   "execution_count": null,
   "metadata": {},
   "outputs": [],
   "source": [
    "# Make a copy of the original dataframe and process data for analysis\n",
    "clean = dirty.copy()"
   ]
  },
  {
   "cell_type": "code",
   "execution_count": null,
   "metadata": {},
   "outputs": [],
   "source": [
    "# Take out the ~ symbol\n",
    "# Note: For computation purposes, we will treat countries that have a really small land area (~0) \n",
    "# as having no land area, even though this is clearly not the case. \n",
    "clean['Surface area (km2)'] = dirty['Surface area (km2)'].map(lambda val: int(val.replace('~', '')))"
   ]
  },
  {
   "cell_type": "code",
   "execution_count": null,
   "metadata": {},
   "outputs": [],
   "source": [
    "# TODO: Maybe interpolate or replace the country surface area with data pulled from other sources\n",
    "clean[clean['Surface area (km2)'] < 0]"
   ]
  },
  {
   "cell_type": "code",
   "execution_count": null,
   "metadata": {},
   "outputs": [],
   "source": [
    "# Remove countries that meet this criteria. \n",
    "clean[clean['CO2 emission estimates (million tons/tons per capita)'] < 0]"
   ]
  },
  {
   "cell_type": "code",
   "execution_count": null,
   "metadata": {},
   "outputs": [],
   "source": [
    "# We will replace values that have either a negative Surface area (km2) or negative CO2 emission estimates with NaN\n",
    "# The UN likely didn't have accurate data on those countries\n",
    "nonNegSA = clean[clean['Surface area (km2)'] >= 0]\n",
    "filtClean = nonNegSA[nonNegSA['CO2 emission estimates (million tons/tons per capita)'] >= 0]"
   ]
  },
  {
   "cell_type": "code",
   "execution_count": null,
   "metadata": {},
   "outputs": [],
   "source": [
    "# Sanity check: We would expect that 20 rows are filtered based on the emission estimates column\n",
    "# and 3 rows are filtered out based on surface area. That gives 229 rows total - 23 row = 206 rows. \n",
    "filtClean.shape"
   ]
  },
  {
   "cell_type": "code",
   "execution_count": null,
   "metadata": {},
   "outputs": [],
   "source": [
    "filtClean.head()"
   ]
  },
  {
   "cell_type": "code",
   "execution_count": null,
   "metadata": {},
   "outputs": [],
   "source": [
    "# Now that the data is thoroughly cleaned, we can begin visualization and analysis\n",
    "# Create scatterplots for both Surface Area vs. CO2 emissions and Population (thousands) vs. CO2 emissions\n",
    "filtClean.plot.scatter(x='Surface area (km2)', y='CO2 emission estimates (million tons/tons per capita)', figsize=(10,5))\n",
    "filtClean.plot.scatter(x='Population in thousands (2017)', y='CO2 emission estimates (million tons/tons per capita)', color='green', figsize=(10,5))"
   ]
  },
  {
   "cell_type": "code",
   "execution_count": null,
   "metadata": {},
   "outputs": [],
   "source": [
    "# Compute the Pearson correlation coefficient for Surface Area vs. CO2 emissions\n",
    "filtClean['Surface area (km2)'].corr(filtClean['CO2 emission estimates (million tons/tons per capita)'])"
   ]
  },
  {
   "cell_type": "code",
   "execution_count": null,
   "metadata": {},
   "outputs": [],
   "source": [
    "# Compute the Pearson correlation coefficient for Population (thousands) vs. CO2 emissions\n",
    "filtClean['Population in thousands (2017)'].corr(filtClean['CO2 emission estimates (million tons/tons per capita)'])"
   ]
  },
  {
   "cell_type": "code",
   "execution_count": null,
   "metadata": {},
   "outputs": [],
   "source": [
    "# Fit the Surface Area vs. CO2 emissions data to a linear regression model. \n",
    "lmSA = LinearRegression().fit(filtClean[['Surface area (km2)']], filtClean[['CO2 emission estimates (million tons/tons per capita)']])\n",
    "lmSA.coef_, lmSA.intercept_"
   ]
  },
  {
   "cell_type": "code",
   "execution_count": null,
   "metadata": {},
   "outputs": [],
   "source": [
    "# Fit the Population (thousands) vs. CO2 emissions data to a linear regression model. \n",
    "lmPop = LinearRegression().fit(filtClean[['Population in thousands (2017)']], filtClean[['CO2 emission estimates (million tons/tons per capita)']])\n",
    "lmPop.coef_, lmPop.intercept_"
   ]
  },
  {
   "cell_type": "code",
   "execution_count": null,
   "metadata": {},
   "outputs": [],
   "source": [
    "# Used assign() to create a new DataFrame with the Predicted_CO2 column because of the \n",
    "# SettingWithCopy warning. \n",
    "\n",
    "# Create a predictedCO2 column for Surface Area\n",
    "predictedCO2 = filtClean['Surface area (km2)']*lmSA.coef_[0] + lmSA.intercept_\n",
    "filtCleanSA = filtClean.assign(Predicted_CO2 = predictedCO2)\n",
    "filtCleanSA"
   ]
  },
  {
   "cell_type": "code",
   "execution_count": null,
   "metadata": {},
   "outputs": [],
   "source": [
    "# Create a predictedCO2 column for Population\n",
    "predictedCO2 = filtClean['Population in thousands (2017)']*lmPop.coef_[0] + lmPop.intercept_\n",
    "filtCleanPop = filtClean.assign(Predicted_CO2 = predictedCO2)\n",
    "filtCleanPop"
   ]
  },
  {
   "cell_type": "code",
   "execution_count": null,
   "metadata": {},
   "outputs": [],
   "source": [
    "# Overlay the predicted CO2 levels on the plot with actual Surface Area vs. CO2 data. \n",
    "axSA = filtCleanSA.plot.scatter(x='Surface area (km2)', y='CO2 emission estimates (million tons/tons per capita)', figsize=(10,5))\n",
    "filtCleanSA.plot.scatter(x='Surface area (km2)', y='Predicted_CO2', ax=axSA, color='red')"
   ]
  },
  {
   "cell_type": "code",
   "execution_count": null,
   "metadata": {},
   "outputs": [],
   "source": [
    "# Visualization Population (thousands) vs. CO2 data\n",
    "axPop = filtCleanPop.plot.scatter(x='Population in thousands (2017)', y='CO2 emission estimates (million tons/tons per capita)', color='green', figsize=(10,5))\n",
    "filtCleanPop.plot.scatter(x='Population in thousands (2017)', y='Predicted_CO2', ax=axPop, color='red')"
   ]
  },
  {
   "cell_type": "code",
   "execution_count": null,
   "metadata": {},
   "outputs": [],
   "source": [
    "# Checkpoint: Verify the predicted columns are correct. \n",
    "filtCleanSA['Surface area (km2)'].corr(filtCleanSA['Predicted_CO2']), filtCleanPop['Population in thousands (2017)'].corr(filtCleanPop['Predicted_CO2'])"
   ]
  }
 ],
 "metadata": {
  "kernelspec": {
   "display_name": "Python 3 (ipykernel)",
   "language": "python",
   "name": "python3"
  },
  "language_info": {
   "codemirror_mode": {
    "name": "ipython",
    "version": 3
   },
   "file_extension": ".py",
   "mimetype": "text/x-python",
   "name": "python",
   "nbconvert_exporter": "python",
   "pygments_lexer": "ipython3",
   "version": "3.9.7"
  },
  "varInspector": {
   "cols": {
    "lenName": 16,
    "lenType": 16,
    "lenVar": 40
   },
   "kernels_config": {
    "python": {
     "delete_cmd_postfix": "",
     "delete_cmd_prefix": "del ",
     "library": "var_list.py",
     "varRefreshCmd": "print(var_dic_list())"
    },
    "r": {
     "delete_cmd_postfix": ") ",
     "delete_cmd_prefix": "rm(",
     "library": "var_list.r",
     "varRefreshCmd": "cat(var_dic_list()) "
    }
   },
   "types_to_exclude": [
    "module",
    "function",
    "builtin_function_or_method",
    "instance",
    "_Feature"
   ],
   "window_display": false
  }
 },
 "nbformat": 4,
 "nbformat_minor": 2
}
