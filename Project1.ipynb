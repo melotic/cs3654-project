{
 "cells": [
  {
   "cell_type": "markdown",
   "metadata": {},
   "source": [
    "# CS 3654 Team Project"
   ]
  },
  {
   "cell_type": "markdown",
   "metadata": {},
   "source": [
    "### Team Info:  \n",
    "Project Title:  Correlations on Climate Change  \n",
    "Team name:  Greenhouse Guys  \n",
    "Team member names and PIDs: Atharva Haldankar (ahaldankar), Fairuz Ahmed (ahfairuz), Andrew Ahn (aandrew17), Jonathan Jwa (jonathanyjwa23), Justin Perez (justinmp)"
   ]
  },
  {
   "cell_type": "markdown",
   "metadata": {},
   "source": [
    "### Project Introduction:\n",
    "\n",
    "**Initial Description:** We plan to analyze climate data based on country to understand which countries are responsible for the majority of greenhouse gas emissions, what the characteristics of those countries are, and what negative effects greenhouse emissions have on people and the environment.\n",
    "\n",
    "**Potential research questions:**  \n",
    "    1. Which countries produce the most greenhouse gases? Which countries produce the least?  \n",
    "    2. Is there a correlation between GDP and greenhouse gas emissions?  \n",
    "    3. Does a country's use of renewable energy decrease their emissions?  \n",
    "    4. Does a country's population or land area have anything to do with greenhouse emissions?  \n",
    "    5. What forms of government do the countries that produce the most greenhouse gases have?  \n",
    "    6. Do greenhouse emissions come primarily from urban or rural settings?  \n",
    "    7. Which countries are affected most by greenhouse emissions?  \n",
    "    8. Do emissions impact human life expectancy?  \n",
    "    \n",
    "**Potential source data:**\n",
    "1. https://www.kaggle.com/datasets/sudalairajkumar/undata-country-profiles\n",
    "2. https://worldpopulationreview.com/country-rankings/greenhouse-gas-emissions-by-country\n",
    "3. https://www.kaggle.com/saurabhshahane/green-house-gas-historical-emission-data  \n",
    "4. https://www.kaggle.com/brendan45774/countries-life-expectancy"
   ]
  },
  {
   "cell_type": "markdown",
   "metadata": {},
   "source": [
    "### Individual Contributions: \n",
    "QAC on Population/Land Area vs. Greenhouse Emissions: Atharva  \n",
    "QAC on GDP vs. Greenhouse Emissions: Justin"
   ]
  },
  {
   "cell_type": "markdown",
   "metadata": {},
   "source": [
    "### Procedural Notes\n",
    "- When analyzing population vs. CO2 emissions, we tried fitting a logarithmic model to the data, due to how the data was structured. However, since this model had a lower R-value than the linear model, we decided not to include those results. \n",
    "- For population vs. CO2 emissions, we also tried fitting a polynomial model. However, despite specifying the model as a polynomial of degree 2, we still got a linear fit, since the model computed an x^2 coefficient of 0. \n",
    "- For our initial questions, we used the CO2 emission estimates column from the country profiles kaggle dataset (link 1). However, since emissions data from the world population review site (link 2) is slightly more up to date, we used this source for some of the later questions. "
   ]
  },
  {
   "cell_type": "markdown",
   "metadata": {},
   "source": [
    "## Question: Does a Country's Population or Land Area have anything to do with greenhouse emissions? (Atharva)\n",
    "\n",
    "Does population or land area affect the volume of greenhouse emissions? By determining a correlation between these variables, we can better determine which countries are major contributors of greenhouse emissions. For example, if population and greenhouse emissions are strongly correlated together, then we can focus on countries with large populations, since those nations will have the greatest influence over the volume of emissions. Furthermore, we'll get a better sense geographically for which countries are major contributors of emissions. \n",
    "\n",
    "In order to answer this question, data from https://www.kaggle.com/datasets/sudalairajkumar/undata-country-profiles will be utilized. This data contains general information about each of the countries as well as social, economic, and environmental indicators. The dataset was extracted from information published by the United Nations, so it is a good authoritative source. \n",
    "\n",
    "Before analyzing the data, it will be helpful to define what units population, land area, and greenhouse emissions are measured in. Population will be measured in thousands of people, land area will be measured in square kilometers, and greenhouse emissions will be quantified in million tons / tons per capita. "
   ]
  },
  {
   "cell_type": "markdown",
   "metadata": {},
   "source": [
    "## Analysis: \n",
    "First we import some libraries that we will need. Matplotlib helps with plotting and visualization, and the sklearn.linear_model module will allow a linear regression model to fit a line to the given data. "
   ]
  },
  {
   "cell_type": "code",
   "execution_count": null,
   "metadata": {},
   "outputs": [],
   "source": [
    "import pandas\n",
    "import numpy\n",
    "import matplotlib.pyplot as plt\n",
    "from sklearn.linear_model import LinearRegression"
   ]
  },
  {
   "cell_type": "markdown",
   "metadata": {},
   "source": [
    "Read in the original country profile data"
   ]
  },
  {
   "cell_type": "code",
   "execution_count": null,
   "metadata": {},
   "outputs": [],
   "source": [
    "# Read the original data into a pandas dataframe. \n",
    "dirty = pandas.read_csv(\"country_profile_variables.csv\")"
   ]
  },
  {
   "cell_type": "markdown",
   "metadata": {},
   "source": [
    "Here's a glance at the data:   "
   ]
  },
  {
   "cell_type": "code",
   "execution_count": null,
   "metadata": {},
   "outputs": [],
   "source": [
    "dirty.head()"
   ]
  },
  {
   "cell_type": "markdown",
   "metadata": {},
   "source": [
    "These are the data types. Notice how the Surface area (km2) column has an object data type. We should probably clean this column so the data is in a more useful form. "
   ]
  },
  {
   "cell_type": "code",
   "execution_count": null,
   "metadata": {
    "scrolled": true
   },
   "outputs": [],
   "source": [
    "dirty.dtypes"
   ]
  },
  {
   "cell_type": "markdown",
   "metadata": {},
   "source": [
    "Before doing any further analysis, we retain a copy of the original data. This way, we can track any modifications we choose to make. "
   ]
  },
  {
   "cell_type": "code",
   "execution_count": null,
   "metadata": {},
   "outputs": [],
   "source": [
    "# Make a copy of the original dataframe and process data for analysis\n",
    "clean = dirty.copy()"
   ]
  },
  {
   "cell_type": "markdown",
   "metadata": {},
   "source": [
    "Clean the data by taking out the ~ symbol  \n",
    "Note: For computation purposes, we will treat countries that have a really small land area (~0) as having no land area, even though this is clearly not the case. "
   ]
  },
  {
   "cell_type": "code",
   "execution_count": null,
   "metadata": {},
   "outputs": [],
   "source": [
    "clean['Surface area (km2)'] = dirty['Surface area (km2)'].map(lambda val: int(val.replace('~', '')))"
   ]
  },
  {
   "cell_type": "markdown",
   "metadata": {},
   "source": [
    "Some countries have a land area < 0 or emission estimates that are < 0. "
   ]
  },
  {
   "cell_type": "code",
   "execution_count": null,
   "metadata": {},
   "outputs": [],
   "source": [
    "# TODO: Maybe interpolate or replace the country surface area with data pulled from other sources\n",
    "clean[clean['Surface area (km2)'] < 0]"
   ]
  },
  {
   "cell_type": "code",
   "execution_count": null,
   "metadata": {
    "scrolled": true
   },
   "outputs": [],
   "source": [
    "# Remove countries that meet this criteria. \n",
    "clean[clean['CO2 emission estimates (million tons/tons per capita)'] < 0]"
   ]
  },
  {
   "cell_type": "markdown",
   "metadata": {},
   "source": [
    "We will filter out rows that have a negative Surface area (km2) or negative CO2 emission estimates.  \n",
    "The UN likely didn't have accurate data on those countries"
   ]
  },
  {
   "cell_type": "code",
   "execution_count": null,
   "metadata": {},
   "outputs": [],
   "source": [
    "nonNegSA = clean[clean['Surface area (km2)'] >= 0]\n",
    "filtClean = nonNegSA[nonNegSA['CO2 emission estimates (million tons/tons per capita)'] >= 0]"
   ]
  },
  {
   "cell_type": "markdown",
   "metadata": {},
   "source": [
    "Sanity check: We would expect that 20 rows are filtered based on the emission estimates column and 3 rows are filtered out based on surface area. That gives 229 rows - 23 rows = 206 rows. "
   ]
  },
  {
   "cell_type": "code",
   "execution_count": null,
   "metadata": {
    "scrolled": true
   },
   "outputs": [],
   "source": [
    "filtClean.shape"
   ]
  },
  {
   "cell_type": "code",
   "execution_count": null,
   "metadata": {},
   "outputs": [],
   "source": [
    "filtClean.head()"
   ]
  },
  {
   "cell_type": "markdown",
   "metadata": {},
   "source": [
    "Now that the data is thoroughly cleaned, we can begin visualization and analysis.  \n",
    "We first create scatterplots for both Surface Area vs. CO2 emissions and Population (thousands) vs. CO2 emissions"
   ]
  },
  {
   "cell_type": "code",
   "execution_count": null,
   "metadata": {
    "scrolled": true
   },
   "outputs": [],
   "source": [
    "filtClean.plot.scatter(x='Surface area (km2)', y='CO2 emission estimates (million tons/tons per capita)', figsize=(10,5))\n",
    "filtClean.plot.scatter(x='Population in thousands (2017)', y='CO2 emission estimates (million tons/tons per capita)', color='green', figsize=(10,5))"
   ]
  },
  {
   "cell_type": "markdown",
   "metadata": {},
   "source": [
    "Then, we compute the Pearson correlation coefficients for Surface Area vs. CO2 emissions and for Population (thousands) vs. CO2.  "
   ]
  },
  {
   "cell_type": "code",
   "execution_count": null,
   "metadata": {},
   "outputs": [],
   "source": [
    "filtClean['Surface area (km2)'].corr(filtClean['CO2 emission estimates (million tons/tons per capita)'])"
   ]
  },
  {
   "cell_type": "code",
   "execution_count": null,
   "metadata": {
    "scrolled": false
   },
   "outputs": [],
   "source": [
    "filtClean['Population in thousands (2017)'].corr(filtClean['CO2 emission estimates (million tons/tons per capita)'])"
   ]
  },
  {
   "cell_type": "markdown",
   "metadata": {},
   "source": [
    "These R values are both near or in the 0.70-0.80 range, so they indicate a relatively good linear fit.  \n",
    "Let's go ahead and create a linear regression model for both pairs of x,y data. "
   ]
  },
  {
   "cell_type": "code",
   "execution_count": null,
   "metadata": {},
   "outputs": [],
   "source": [
    "# Fit the Surface Area vs. CO2 emissions data to a linear regression model. \n",
    "lmSA = LinearRegression().fit(filtClean[['Surface area (km2)']], filtClean[['CO2 emission estimates (million tons/tons per capita)']])\n",
    "lmSA.coef_, lmSA.intercept_"
   ]
  },
  {
   "cell_type": "code",
   "execution_count": null,
   "metadata": {},
   "outputs": [],
   "source": [
    "# Fit the Population (thousands) vs. CO2 emissions data to a linear regression model. \n",
    "lmPop = LinearRegression().fit(filtClean[['Population in thousands (2017)']], filtClean[['CO2 emission estimates (million tons/tons per capita)']])\n",
    "lmPop.coef_, lmPop.intercept_"
   ]
  },
  {
   "cell_type": "markdown",
   "metadata": {},
   "source": [
    "Create a new data table which has a column for predicted CO2 levels with the SA vs. CO2 data"
   ]
  },
  {
   "cell_type": "code",
   "execution_count": null,
   "metadata": {
    "scrolled": true
   },
   "outputs": [],
   "source": [
    "# Used assign() to create a new DataFrame with the Predicted_CO2 column because of the \n",
    "# SettingWithCopy warning. \n",
    "\n",
    "# Create a predictedCO2 column for Surface Area\n",
    "predictedCO2 = filtClean['Surface area (km2)']*lmSA.coef_[0] + lmSA.intercept_\n",
    "filtCleanSA = filtClean.assign(Predicted_CO2 = predictedCO2)\n",
    "filtCleanSA"
   ]
  },
  {
   "cell_type": "markdown",
   "metadata": {},
   "source": [
    "Do the same, except for the Pop. (thousands) vs. CO2 data"
   ]
  },
  {
   "cell_type": "code",
   "execution_count": null,
   "metadata": {},
   "outputs": [],
   "source": [
    "# Create a predictedCO2 column for Population\n",
    "predictedCO2 = filtClean['Population in thousands (2017)']*lmPop.coef_[0] + lmPop.intercept_\n",
    "filtCleanPop = filtClean.assign(Predicted_CO2 = predictedCO2)\n",
    "filtCleanPop"
   ]
  },
  {
   "cell_type": "markdown",
   "metadata": {},
   "source": [
    "Visualize the results.  \n",
    "Overlay the actual data with the predicted data for both x,y pairs. "
   ]
  },
  {
   "cell_type": "code",
   "execution_count": null,
   "metadata": {},
   "outputs": [],
   "source": [
    "# Overlay the predicted CO2 levels on the plot with actual Surface Area vs. CO2 data. \n",
    "axSA = filtCleanSA.plot.scatter(x='Surface area (km2)', y='CO2 emission estimates (million tons/tons per capita)', figsize=(10,5))\n",
    "filtCleanSA.plot.scatter(x='Surface area (km2)', y='Predicted_CO2', ax=axSA, color='red')"
   ]
  },
  {
   "cell_type": "code",
   "execution_count": null,
   "metadata": {},
   "outputs": [],
   "source": [
    "# Visualization Population (thousands) vs. CO2 data\n",
    "axPop = filtCleanPop.plot.scatter(x='Population in thousands (2017)', y='CO2 emission estimates (million tons/tons per capita)', color='green', figsize=(10,5))\n",
    "filtCleanPop.plot.scatter(x='Population in thousands (2017)', y='Predicted_CO2', ax=axPop, color='red')"
   ]
  },
  {
   "cell_type": "markdown",
   "metadata": {},
   "source": [
    "Make sure the regression models are consistent with what we would expect. "
   ]
  },
  {
   "cell_type": "code",
   "execution_count": null,
   "metadata": {},
   "outputs": [],
   "source": [
    "# Checkpoint: Verify the predicted columns are correct. \n",
    "filtCleanSA['Surface area (km2)'].corr(filtCleanSA['Predicted_CO2']), filtCleanPop['Population in thousands (2017)'].corr(filtCleanPop['Predicted_CO2'])"
   ]
  },
  {
   "cell_type": "markdown",
   "metadata": {},
   "source": [
    "## Conclusion:\n",
    "\n",
    "From the above analysis, it appears that land area and population do have some relation to CO2 emissions. In both cases, there is a positive correlation with a small slope. As surface area increases by 1 km^2, the model predicts an increase of 4.33*10^-3 millions of tons of CO2 / tons per capita. Similarly, as population increases by a thousand people, the model indicates that there should be about an increase of 0.052 millions of tons of CO2 / tons per capita. According to the linear regression model, countries which have a larger surface area on average produce more CO2 emissions. Likewise, countries which have a greater population on average produce more CO2 than countries with smaller populations. \n",
    "\n",
    "However, the models above are only approximations and leave out important information. From the graph of Surface Area (km2) vs. CO2 emissions, we can see a few countries which emit a substantially larger volume of CO2 than other nations. These countries also lie above the regression line for both plots, which means they emit more CO2 than the models predicted. \n",
    "\n",
    "One additional question that can be explored is whether population density is a better predictor of CO2 emissions than total population. A large population density value could be associated with urban areas and cities, and may therefore have a strong correlation with CO2 emissions. Another potential question to consider is whether CO2 emissions can be better predicted using both surface area and population as independent variables. This would require a multiple linear regression analysis. Finally, while the CO2 emissions from this dataset are normalized by population (e.g. divided by tons per capita), it may be worth considering what effect population and surface area have on raw CO2 emissions, for example in units of cubic meters. "
   ]
  },
  {
   "cell_type": "markdown",
   "metadata": {},
   "source": [
    "## Question: Is there a correlation between GDP and greenhouse gas emissions? (Justin)\n",
    "\n",
    "Does GDP affect the volume of greenhouse emissions? By determining a correlation between these variables, we can better determine which countries are major contributors of greenhouse emissions.\n",
    "\n",
    "In order to answer this question, data from https://www.kaggle.com/datasets/sudalairajkumar/undata-country-profiles will be utilized. This data contains general information about each of the countries as well as social, economic, and environmental indicators. The dataset was extracted from information published by the United Nations, so it is a good authoritative source. \n",
    "\n",
    "Before analyzing the data, it will be helpful to define what units GDP, and greenhouse emissions are measured in. GDP will be measured in GDP per capita, in USD. CO2 emissions will be quantified in million tons / tons per capita."
   ]
  },
  {
   "cell_type": "markdown",
   "metadata": {},
   "source": [
    "## Analysis: \n",
    "We'll use numpy, pandas, and matplotlib to analyze the data. We'll also use the sklearn.linear_model module to fit a linear regression model if there is a correlation."
   ]
  },
  {
   "cell_type": "code",
   "execution_count": null,
   "metadata": {},
   "outputs": [],
   "source": [
    "import pandas as pd\n",
    "import matplotlib.pyplot as plt\n",
    "import numpy"
   ]
  },
  {
   "cell_type": "markdown",
   "metadata": {},
   "source": [
    "We'll start by reading in our data."
   ]
  },
  {
   "cell_type": "code",
   "execution_count": null,
   "metadata": {},
   "outputs": [],
   "source": [
    "dirty = pd.read_csv(\"country_profile_variables.csv\")"
   ]
  },
  {
   "cell_type": "markdown",
   "metadata": {},
   "source": [
    "Preview the data to see what the data looks like and the data types."
   ]
  },
  {
   "cell_type": "code",
   "execution_count": null,
   "metadata": {},
   "outputs": [],
   "source": [
    "dirty.head()"
   ]
  },
  {
   "cell_type": "markdown",
   "metadata": {},
   "source": [
    "Lets extract the GDP and CO2 emissions data from the original dataset, into one clean dataframe."
   ]
  },
  {
   "cell_type": "code",
   "execution_count": null,
   "metadata": {},
   "outputs": [],
   "source": [
    "clean = pd.DataFrame()\n",
    "\n",
    "# copy 'GDP per capita (current US$)' and ''CO2 emission estimates (million tons/tons per capita)'\n",
    "clean['Country'] = dirty['country']\n",
    "clean['Region'] = dirty['Region']\n",
    "clean['CO2 emission estimates (million tons/tons per capita)'] = dirty['CO2 emission estimates (million tons/tons per capita)']\n",
    "clean['GDP per capita (current US$)'] = dirty['GDP per capita (current US$)']\n",
    "clean.head()"
   ]
  },
  {
   "cell_type": "markdown",
   "metadata": {},
   "source": [
    "There seems to be a lot of missing data in the both columns, here labeled with -99. We'll remove all rows with missing data."
   ]
  },
  {
   "cell_type": "code",
   "execution_count": null,
   "metadata": {},
   "outputs": [],
   "source": [
    "# remove rows with values less than 0\n",
    "clean = clean[clean['CO2 emission estimates (million tons/tons per capita)'] >= 0]\n",
    "clean = clean[clean['GDP per capita (current US$)'] >= 0]\n",
    "clean.head()"
   ]
  },
  {
   "cell_type": "markdown",
   "metadata": {},
   "source": [
    "We removed some rows. Lets count the number of missing rows."
   ]
  },
  {
   "cell_type": "code",
   "execution_count": null,
   "metadata": {},
   "outputs": [],
   "source": [
    "dirty.shape[0] - clean.shape[0]"
   ]
  },
  {
   "cell_type": "markdown",
   "metadata": {},
   "source": [
    "Lets plot the data."
   ]
  },
  {
   "cell_type": "code",
   "execution_count": null,
   "metadata": {},
   "outputs": [],
   "source": [
    "# plot CO2 emission estimates vs. GDP per capita\n",
    "clean.plot.scatter(x='CO2 emission estimates (million tons/tons per capita)', y='GDP per capita (current US$)', figsize=(10,5))"
   ]
  },
  {
   "cell_type": "markdown",
   "metadata": {},
   "source": [
    "This plot is not too helpful, there seems to be a lot of crowded points close to zero. Lets zoom in closer to zero to get a better understanding of the plot."
   ]
  },
  {
   "cell_type": "code",
   "execution_count": null,
   "metadata": {},
   "outputs": [],
   "source": [
    "# plot, limit x to 15000\n",
    "clean.plot.scatter(x='CO2 emission estimates (million tons/tons per capita)', y='GDP per capita (current US$)', figsize=(10,5), xlim=(-500,15000))"
   ]
  },
  {
   "cell_type": "markdown",
   "metadata": {},
   "source": [
    "To the eye, there does not seem to be a correlation. Lets compute pearson's coeffecient."
   ]
  },
  {
   "cell_type": "code",
   "execution_count": null,
   "metadata": {},
   "outputs": [],
   "source": [
    "# compute r\n",
    "clean['CO2 emission estimates (million tons/tons per capita)'].corr(clean['GDP per capita (current US$)'])"
   ]
  },
  {
   "cell_type": "markdown",
   "metadata": {},
   "source": [
    "## Conclusion:\n",
    "\n",
    "There is no correlation between GDP and CO2 emissions. This could be because GDP is not a good predictor of CO2 emissions, or because the data is not representative of the real world.\n",
    "\n",
    "If our result is true, it could mean that CO2 emissions do not have any relationship with GDP. This could mean that countries with lots of exports do not have high CO2 emissions, and that they might rely on other countries for energy and other needs which produce CO2.\n",
    "\n",
    "This hypothesis could be true due to the amount of outliers we see on our plot. Most countires have low CO2 emissions with an exception of a few countries with very high CO2 emissions."
   ]
  },
  {
   "cell_type": "markdown",
   "metadata": {},
   "source": [
    "## Question: What forms of government do the countries that produce the most greenhouse gases have? (Atharva)\n",
    "What forms of government do nations which are major emitters of greenhouse gases have? By answering this question, we may be able to gain insight into whether certain forms of government are more effective than others in terms of reducing emissions. \n",
    "\n",
    "Data for this question will be taken taken from https://cddrl.fsi.stanford.edu/research/autocracies_of_the_world_dataset and https://worldpopulationreview.com/country-rankings/greenhouse-gas-emissions-by-country. \n",
    "\n",
    "The Stanford Center on Democracy, Development, and the Rule of Law is responsible for producing the first dataset. This dataset includes information on countries and their forms of government through the years 1950-2012. While this data might seem to be somewhat outdated, only data from 2012 will be analyzed. Furthermore, most governments throughout the world have remained stable for at least the last 10 years, so we expect the data to be accurate. In this dataset, government types are grouped into 5 categories: Democracy, Military, Monarchy, Multiparty, and Single Party. \n",
    "\n",
    "The second link lists out countries and their CO2 emissions in millions of tons. The world population review site was responsible for collecting this data, and we expect it to be both accurate and reliable. The data is also current, since it was taken in 2022. "
   ]
  },
  {
   "cell_type": "markdown",
   "metadata": {},
   "source": [
    "## Analysis: \n",
    "First, let's import both datasets and get a sense of what the data looks like. "
   ]
  },
  {
   "cell_type": "code",
   "execution_count": null,
   "metadata": {},
   "outputs": [],
   "source": [
    "dirtyGovt = pd.read_excel(\"countries_by_govt.xls\")\n",
    "dirtyEmissions = pd.read_csv(\"emissions_Mt_country_2022.csv\")"
   ]
  },
  {
   "cell_type": "code",
   "execution_count": null,
   "metadata": {},
   "outputs": [],
   "source": [
    "dirtyGovt.head()"
   ]
  },
  {
   "cell_type": "code",
   "execution_count": null,
   "metadata": {},
   "outputs": [],
   "source": [
    "dirtyEmissions.head()"
   ]
  },
  {
   "cell_type": "markdown",
   "metadata": {},
   "source": [
    "Here we display the shape of the data as well as the data types present. "
   ]
  },
  {
   "cell_type": "code",
   "execution_count": null,
   "metadata": {},
   "outputs": [],
   "source": [
    "dirtyGovt.shape\n",
    "dirtyGovt.dtypes"
   ]
  },
  {
   "cell_type": "code",
   "execution_count": null,
   "metadata": {},
   "outputs": [],
   "source": [
    "dirtyEmissions.shape\n",
    "dirtyEmissions.dtypes"
   ]
  },
  {
   "cell_type": "markdown",
   "metadata": {},
   "source": [
    "First, let's make a copy of the DataFrames. This will allow us to refer back to the original data if necessary. "
   ]
  },
  {
   "cell_type": "code",
   "execution_count": null,
   "metadata": {},
   "outputs": [],
   "source": [
    "# Make a copy of the original dataframe and process data for analysis\n",
    "newEmissions = dirtyEmissions.copy()\n",
    "newGovt = dirtyGovt.copy()"
   ]
  },
  {
   "cell_type": "markdown",
   "metadata": {},
   "source": [
    "Let's filter out all rows in processedGovt which have years other than 2012. "
   ]
  },
  {
   "cell_type": "code",
   "execution_count": null,
   "metadata": {},
   "outputs": [],
   "source": [
    "# Filter by year (only 2012)\n",
    "newGovt2012 = newGovt[newGovt.year == 2012]\n",
    "newGovt2012"
   ]
  },
  {
   "cell_type": "markdown",
   "metadata": {},
   "source": [
    "Are there any missing or negative values for the columns we're interested in? "
   ]
  },
  {
   "cell_type": "code",
   "execution_count": null,
   "metadata": {},
   "outputs": [],
   "source": [
    "len(newEmissions[newEmissions.totalCO2emission < 0])\n",
    "newGovt2012.country.isnull().values.any()\n",
    "newGovt2012.regime_nr.isnull().values.any()"
   ]
  },
  {
   "cell_type": "markdown",
   "metadata": {},
   "source": [
    "It looks like we are ok to proceed with visualization and analysis. The data types seem to be consistent, and there are no missing or outlier values in the columns we care about.  \n",
    "First, let's join the relevant columns from both of these tables together. "
   ]
  },
  {
   "cell_type": "code",
   "execution_count": null,
   "metadata": {},
   "outputs": [],
   "source": [
    "# First make sure the primary key columns are consistent for both tables. \n",
    "countryUpper = [c.upper() for c in newGovt2012.country]\n",
    "len(countryUpper)\n",
    "govt2012 = newGovt2012.assign(country_upper = countryUpper)\n"
   ]
  },
  {
   "cell_type": "code",
   "execution_count": null,
   "metadata": {},
   "outputs": [],
   "source": [
    "govt2012.head(10)\n",
    "govt2012.shape"
   ]
  },
  {
   "cell_type": "code",
   "execution_count": null,
   "metadata": {},
   "outputs": [],
   "source": [
    "# Now, join by country name. \n",
    "joinedData = pandas.merge(govt2012, newEmissions, how='inner', left_on='country_upper', right_on='country')\n",
    "joinedData.shape"
   ]
  },
  {
   "cell_type": "markdown",
   "metadata": {},
   "source": [
    "An inner join was used in order to ensure that no values will be NaN in the newly formed table. Now that we've joined, we can filter out the columns which aren't relevant. "
   ]
  },
  {
   "cell_type": "code",
   "execution_count": null,
   "metadata": {},
   "outputs": [],
   "source": [
    "joinedData = joinedData[['country_x', 'regime_nr', 'totalCO2emission']]\n",
    "joinedData.shape\n",
    "joinedData.head()"
   ]
  },
  {
   "cell_type": "markdown",
   "metadata": {},
   "source": [
    "It looks like we haven't lost any rows, so all the data from the joined table for each of these columns should be present.  \n",
    "Let's now do a groupby on government type. "
   ]
  },
  {
   "cell_type": "code",
   "execution_count": null,
   "metadata": {},
   "outputs": [],
   "source": [
    "g = joinedData.groupby('regime_nr')\n",
    "g.size()"
   ]
  },
  {
   "cell_type": "markdown",
   "metadata": {},
   "source": [
    "The next step is to aggregate data for the groupby object we have generated. Let's first try taking the mean of the CO2 emissions for each of these columns. "
   ]
  },
  {
   "cell_type": "code",
   "execution_count": null,
   "metadata": {},
   "outputs": [],
   "source": [
    "g.totalCO2emission.mean()"
   ]
  },
  {
   "cell_type": "markdown",
   "metadata": {},
   "source": [
    "It looks like countries which have a single party government have a large mean of CO2 emissions. Perhaps this is because there are outlier countries, like China. Let's take the median, which is less prone to outliers, and see if our results differ. "
   ]
  },
  {
   "cell_type": "code",
   "execution_count": null,
   "metadata": {},
   "outputs": [],
   "source": [
    "g.totalCO2emission.median()"
   ]
  },
  {
   "cell_type": "code",
   "execution_count": null,
   "metadata": {},
   "outputs": [],
   "source": [
    "joinedData[joinedData.regime_nr == 'Monarchy']\n",
    "joinedData[joinedData.country_x == 'Iran']"
   ]
  },
  {
   "cell_type": "markdown",
   "metadata": {},
   "source": [
    "Median results give more insight into what may be going on. Democracies, Monarchies, and Single Party states appear to emit more CO2 emissions than nations which have military governments or multiparty systems. However, based on the differences between the mean and median, Single Party states and Democracies contain a few outlier countries which emit a lot more CO2 than the rest.  \n",
    "  \n",
    "  Let's now visualize the results. "
   ]
  },
  {
   "cell_type": "code",
   "execution_count": null,
   "metadata": {},
   "outputs": [],
   "source": [
    "joinedData.sort_values('totalCO2emission').plot.bar('country_x', 'totalCO2emission', figsize=(25,5))"
   ]
  },
  {
   "cell_type": "markdown",
   "metadata": {},
   "source": [
    "Due to the large number of countries, let's focus on the countries which are major emitters. "
   ]
  },
  {
   "cell_type": "code",
   "execution_count": null,
   "metadata": {},
   "outputs": [],
   "source": [
    "majorEmitters = joinedData[joinedData.totalCO2emission > 20000]\n",
    "majorEmitters.shape"
   ]
  },
  {
   "cell_type": "code",
   "execution_count": null,
   "metadata": {},
   "outputs": [],
   "source": [
    "majorEmitters.sort_values('totalCO2emission', ascending=False).plot('country_x', 'totalCO2emission', \n",
    "                                                                    kind='bar', figsize=(20,5))"
   ]
  },
  {
   "cell_type": "markdown",
   "metadata": {},
   "source": [
    "As predicted, a few countries which emit a lot of CO2, like China and the United States, impact the mean for Single Party systems and Democracies significantly. "
   ]
  },
  {
   "cell_type": "markdown",
   "metadata": {},
   "source": [
    "## Conclusion: \n"
   ]
  },
  {
   "cell_type": "markdown",
   "metadata": {},
   "source": [
    "Of the five types of governmental systems in the Stanford dataset, it appears that democracies, single party states, and monarchies emit more CO2 into the atmosphere than military states and multi-party systems. However, as seen from the bar graph, a few countries emit substantially more CO2 than the vast majority of other nations. These include China, The United States, and India. In fact, China emits about 2x as much CO2 as the US, which in turn emits more than 2x as much CO2 as India. Countries like China and the United States are responsible for drastically increasing the mean number of emissions of their respective government type. \n",
    "\n",
    "One limitation of this analysis is that a specific government type may be significantly impacted by one or two countries. For example, if China was removed from this analysis, then the emissions of Single Party states would be substantially lower. Therefore, the aggregation step is outlier-prone, especially when aggregating by mean. \n",
    "\n",
    "A logical next step from this analysis would be to analyze which of the nations that are major emitters of CO2 are world powers. Moreover, it may be more valuable to group countries by other criteria, like whether a given nation is developed, developing, or underdeveloped. Another approach, for which we have already conducted some analysis, would be to classify countries by their economic status."
   ]
  },
  {
   "cell_type": "markdown",
   "metadata": {},
   "source": [
    "## Question: Does a country's use of renewable energy decrease their emissions? (Fairuz)\n",
    "Does a country's use of renewable energy decrease their emissions? By evaluating this question, we can come to the conclusion of wheather or not increasing the use of renewable energy benefits the enviornment by reducing CO2 emisions. Correlating these two factors in a country's energy usage will allow us to gain insight into the effectiveness of decreasing pollution in the air of renewable energy.\n",
    "\n",
    "Hypothesis: A general assumption can be made that increasing use of renewable energy will decrease the use of non-renewable resources such as fossil-fuels, which will lead to a deacrease in greenhouse CO2 emisions.\n",
    "\n",
    "\n",
    "To answer this inquiry, the following datasets will be used:\n",
    "\n",
    "Renewable energy consumption (% of total final energy consumption): https://data.worldbank.org/indicator/EG.FEC.RNEW.ZS\n",
    "* This data was taken from the World Bank and therefore it is assumed to be accurate data.\n",
    "* The data shows the percentage of a country's total energy consumption that originated from renwable energy sources\n",
    "* The data spans from 1990 to 2018\n",
    "\n",
    "CO2 emissions (metric tons per capita): https://data.worldbank.org/indicator/EN.ATM.CO2E.PC\n",
    "* This data was taken from the World Bank and therefore it is assumed to be accurate data.\n",
    "* The data shows the CO2 emissions of a country in metric tons per capita\n",
    "* The data spans from 1960 to 2018"
   ]
  },
  {
   "cell_type": "markdown",
   "metadata": {},
   "source": [
    "# Analysis\n",
    "First, several libraries need to be imported for analyzing and evaluating the data. Furthermore, the data will need to be read. A simple display of the data will help see how the tables are organized.\n",
    "\n",
    "Note: Some reformatting of the csv files was required for pandas library to read in the data"
   ]
  },
  {
   "cell_type": "code",
   "execution_count": 53,
   "metadata": {},
   "outputs": [
    {
     "data": {
      "text/html": [
       "<div>\n",
       "<style scoped>\n",
       "    .dataframe tbody tr th:only-of-type {\n",
       "        vertical-align: middle;\n",
       "    }\n",
       "\n",
       "    .dataframe tbody tr th {\n",
       "        vertical-align: top;\n",
       "    }\n",
       "\n",
       "    .dataframe thead th {\n",
       "        text-align: right;\n",
       "    }\n",
       "</style>\n",
       "<table border=\"1\" class=\"dataframe\">\n",
       "  <thead>\n",
       "    <tr style=\"text-align: right;\">\n",
       "      <th></th>\n",
       "      <th>Country Name</th>\n",
       "      <th>Country Code</th>\n",
       "      <th>Indicator Name</th>\n",
       "      <th>Indicator Code</th>\n",
       "      <th>1990</th>\n",
       "      <th>1991</th>\n",
       "      <th>1992</th>\n",
       "      <th>1993</th>\n",
       "      <th>1994</th>\n",
       "      <th>1995</th>\n",
       "      <th>...</th>\n",
       "      <th>2009</th>\n",
       "      <th>2010</th>\n",
       "      <th>2011</th>\n",
       "      <th>2012</th>\n",
       "      <th>2013</th>\n",
       "      <th>2014</th>\n",
       "      <th>2015</th>\n",
       "      <th>2016</th>\n",
       "      <th>2017</th>\n",
       "      <th>2018</th>\n",
       "    </tr>\n",
       "  </thead>\n",
       "  <tbody>\n",
       "    <tr>\n",
       "      <th>0</th>\n",
       "      <td>Aruba</td>\n",
       "      <td>ABW</td>\n",
       "      <td>Renewable energy consumption (% of total final...</td>\n",
       "      <td>EG.FEC.RNEW.ZS</td>\n",
       "      <td>0.268747</td>\n",
       "      <td>0.234955</td>\n",
       "      <td>0.238778</td>\n",
       "      <td>0.195134</td>\n",
       "      <td>0.183241</td>\n",
       "      <td>0.173372</td>\n",
       "      <td>...</td>\n",
       "      <td>0.299800</td>\n",
       "      <td>5.464700</td>\n",
       "      <td>5.661800</td>\n",
       "      <td>6.855900</td>\n",
       "      <td>6.889700</td>\n",
       "      <td>6.927500</td>\n",
       "      <td>6.728000</td>\n",
       "      <td>6.994600</td>\n",
       "      <td>6.6993</td>\n",
       "      <td>8.024100</td>\n",
       "    </tr>\n",
       "    <tr>\n",
       "      <th>1</th>\n",
       "      <td>Africa Eastern and Southern</td>\n",
       "      <td>AFE</td>\n",
       "      <td>Renewable energy consumption (% of total final...</td>\n",
       "      <td>EG.FEC.RNEW.ZS</td>\n",
       "      <td>61.625965</td>\n",
       "      <td>62.876319</td>\n",
       "      <td>64.636541</td>\n",
       "      <td>65.291676</td>\n",
       "      <td>65.379764</td>\n",
       "      <td>64.982510</td>\n",
       "      <td>...</td>\n",
       "      <td>61.252554</td>\n",
       "      <td>62.564529</td>\n",
       "      <td>62.293842</td>\n",
       "      <td>61.109554</td>\n",
       "      <td>60.468838</td>\n",
       "      <td>60.803934</td>\n",
       "      <td>61.097264</td>\n",
       "      <td>NaN</td>\n",
       "      <td>NaN</td>\n",
       "      <td>NaN</td>\n",
       "    </tr>\n",
       "    <tr>\n",
       "      <th>2</th>\n",
       "      <td>Afghanistan</td>\n",
       "      <td>AFG</td>\n",
       "      <td>Renewable energy consumption (% of total final...</td>\n",
       "      <td>EG.FEC.RNEW.ZS</td>\n",
       "      <td>15.924532</td>\n",
       "      <td>17.036444</td>\n",
       "      <td>26.521629</td>\n",
       "      <td>30.585667</td>\n",
       "      <td>32.796251</td>\n",
       "      <td>35.075640</td>\n",
       "      <td>...</td>\n",
       "      <td>17.850401</td>\n",
       "      <td>14.899000</td>\n",
       "      <td>11.559100</td>\n",
       "      <td>14.404900</td>\n",
       "      <td>17.105000</td>\n",
       "      <td>20.770300</td>\n",
       "      <td>20.273800</td>\n",
       "      <td>24.740299</td>\n",
       "      <td>25.0828</td>\n",
       "      <td>21.422701</td>\n",
       "    </tr>\n",
       "    <tr>\n",
       "      <th>3</th>\n",
       "      <td>Africa Western and Central</td>\n",
       "      <td>AFW</td>\n",
       "      <td>Renewable energy consumption (% of total final...</td>\n",
       "      <td>EG.FEC.RNEW.ZS</td>\n",
       "      <td>86.082214</td>\n",
       "      <td>85.443014</td>\n",
       "      <td>83.983071</td>\n",
       "      <td>85.305307</td>\n",
       "      <td>86.763667</td>\n",
       "      <td>86.348199</td>\n",
       "      <td>...</td>\n",
       "      <td>82.615425</td>\n",
       "      <td>80.933623</td>\n",
       "      <td>79.525293</td>\n",
       "      <td>79.071007</td>\n",
       "      <td>77.544229</td>\n",
       "      <td>76.276143</td>\n",
       "      <td>76.967527</td>\n",
       "      <td>NaN</td>\n",
       "      <td>NaN</td>\n",
       "      <td>NaN</td>\n",
       "    </tr>\n",
       "    <tr>\n",
       "      <th>4</th>\n",
       "      <td>Angola</td>\n",
       "      <td>AGO</td>\n",
       "      <td>Renewable energy consumption (% of total final...</td>\n",
       "      <td>EG.FEC.RNEW.ZS</td>\n",
       "      <td>72.255252</td>\n",
       "      <td>71.888639</td>\n",
       "      <td>72.723283</td>\n",
       "      <td>71.277056</td>\n",
       "      <td>72.220269</td>\n",
       "      <td>73.945888</td>\n",
       "      <td>...</td>\n",
       "      <td>52.413898</td>\n",
       "      <td>50.764801</td>\n",
       "      <td>49.239201</td>\n",
       "      <td>49.443298</td>\n",
       "      <td>47.938499</td>\n",
       "      <td>48.211300</td>\n",
       "      <td>47.815601</td>\n",
       "      <td>49.008099</td>\n",
       "      <td>56.1805</td>\n",
       "      <td>56.785500</td>\n",
       "    </tr>\n",
       "  </tbody>\n",
       "</table>\n",
       "<p>5 rows × 33 columns</p>\n",
       "</div>"
      ],
      "text/plain": [
       "                  Country Name Country Code  \\\n",
       "0                        Aruba          ABW   \n",
       "1  Africa Eastern and Southern          AFE   \n",
       "2                  Afghanistan          AFG   \n",
       "3   Africa Western and Central          AFW   \n",
       "4                       Angola          AGO   \n",
       "\n",
       "                                      Indicator Name  Indicator Code  \\\n",
       "0  Renewable energy consumption (% of total final...  EG.FEC.RNEW.ZS   \n",
       "1  Renewable energy consumption (% of total final...  EG.FEC.RNEW.ZS   \n",
       "2  Renewable energy consumption (% of total final...  EG.FEC.RNEW.ZS   \n",
       "3  Renewable energy consumption (% of total final...  EG.FEC.RNEW.ZS   \n",
       "4  Renewable energy consumption (% of total final...  EG.FEC.RNEW.ZS   \n",
       "\n",
       "        1990       1991       1992       1993       1994       1995  ...  \\\n",
       "0   0.268747   0.234955   0.238778   0.195134   0.183241   0.173372  ...   \n",
       "1  61.625965  62.876319  64.636541  65.291676  65.379764  64.982510  ...   \n",
       "2  15.924532  17.036444  26.521629  30.585667  32.796251  35.075640  ...   \n",
       "3  86.082214  85.443014  83.983071  85.305307  86.763667  86.348199  ...   \n",
       "4  72.255252  71.888639  72.723283  71.277056  72.220269  73.945888  ...   \n",
       "\n",
       "        2009       2010       2011       2012       2013       2014  \\\n",
       "0   0.299800   5.464700   5.661800   6.855900   6.889700   6.927500   \n",
       "1  61.252554  62.564529  62.293842  61.109554  60.468838  60.803934   \n",
       "2  17.850401  14.899000  11.559100  14.404900  17.105000  20.770300   \n",
       "3  82.615425  80.933623  79.525293  79.071007  77.544229  76.276143   \n",
       "4  52.413898  50.764801  49.239201  49.443298  47.938499  48.211300   \n",
       "\n",
       "        2015       2016     2017       2018  \n",
       "0   6.728000   6.994600   6.6993   8.024100  \n",
       "1  61.097264        NaN      NaN        NaN  \n",
       "2  20.273800  24.740299  25.0828  21.422701  \n",
       "3  76.967527        NaN      NaN        NaN  \n",
       "4  47.815601  49.008099  56.1805  56.785500  \n",
       "\n",
       "[5 rows x 33 columns]"
      ]
     },
     "execution_count": 53,
     "metadata": {},
     "output_type": "execute_result"
    }
   ],
   "source": [
    "import pandas\n",
    "import numpy\n",
    "import matplotlib.pyplot as plt\n",
    "from sklearn.linear_model import LinearRegression\n",
    "\n",
    "renewableEnergy = pandas.read_csv(\"RenewableEnergyConsumption.csv\")\n",
    "CO2Emissions = pandas.read_csv(\"CO2Emissions.csv\")\n",
    "\n",
    "renewableEnergy.head()"
   ]
  },
  {
   "cell_type": "code",
   "execution_count": 54,
   "metadata": {
    "scrolled": true
   },
   "outputs": [
    {
     "data": {
      "text/html": [
       "<div>\n",
       "<style scoped>\n",
       "    .dataframe tbody tr th:only-of-type {\n",
       "        vertical-align: middle;\n",
       "    }\n",
       "\n",
       "    .dataframe tbody tr th {\n",
       "        vertical-align: top;\n",
       "    }\n",
       "\n",
       "    .dataframe thead th {\n",
       "        text-align: right;\n",
       "    }\n",
       "</style>\n",
       "<table border=\"1\" class=\"dataframe\">\n",
       "  <thead>\n",
       "    <tr style=\"text-align: right;\">\n",
       "      <th></th>\n",
       "      <th>Country Name</th>\n",
       "      <th>Country Code</th>\n",
       "      <th>Indicator Name</th>\n",
       "      <th>Indicator Code</th>\n",
       "      <th>1960</th>\n",
       "      <th>1961</th>\n",
       "      <th>1962</th>\n",
       "      <th>1963</th>\n",
       "      <th>1964</th>\n",
       "      <th>1965</th>\n",
       "      <th>...</th>\n",
       "      <th>2009</th>\n",
       "      <th>2010</th>\n",
       "      <th>2011</th>\n",
       "      <th>2012</th>\n",
       "      <th>2013</th>\n",
       "      <th>2014</th>\n",
       "      <th>2015</th>\n",
       "      <th>2016</th>\n",
       "      <th>2017</th>\n",
       "      <th>2018</th>\n",
       "    </tr>\n",
       "  </thead>\n",
       "  <tbody>\n",
       "    <tr>\n",
       "      <th>0</th>\n",
       "      <td>Aruba</td>\n",
       "      <td>ABW</td>\n",
       "      <td>CO2 emissions (metric tons per capita)</td>\n",
       "      <td>EN.ATM.CO2E.PC</td>\n",
       "      <td>NaN</td>\n",
       "      <td>NaN</td>\n",
       "      <td>NaN</td>\n",
       "      <td>NaN</td>\n",
       "      <td>NaN</td>\n",
       "      <td>NaN</td>\n",
       "      <td>...</td>\n",
       "      <td>NaN</td>\n",
       "      <td>NaN</td>\n",
       "      <td>NaN</td>\n",
       "      <td>NaN</td>\n",
       "      <td>NaN</td>\n",
       "      <td>NaN</td>\n",
       "      <td>NaN</td>\n",
       "      <td>NaN</td>\n",
       "      <td>NaN</td>\n",
       "      <td>NaN</td>\n",
       "    </tr>\n",
       "    <tr>\n",
       "      <th>1</th>\n",
       "      <td>Africa Eastern and Southern</td>\n",
       "      <td>AFE</td>\n",
       "      <td>CO2 emissions (metric tons per capita)</td>\n",
       "      <td>EN.ATM.CO2E.PC</td>\n",
       "      <td>0.906060</td>\n",
       "      <td>0.922474</td>\n",
       "      <td>0.930816</td>\n",
       "      <td>0.940570</td>\n",
       "      <td>0.996033</td>\n",
       "      <td>1.047280</td>\n",
       "      <td>...</td>\n",
       "      <td>1.021954</td>\n",
       "      <td>1.048876</td>\n",
       "      <td>1.005338</td>\n",
       "      <td>1.021646</td>\n",
       "      <td>1.031833</td>\n",
       "      <td>1.041145</td>\n",
       "      <td>0.987393</td>\n",
       "      <td>0.971016</td>\n",
       "      <td>0.959978</td>\n",
       "      <td>0.933541</td>\n",
       "    </tr>\n",
       "    <tr>\n",
       "      <th>2</th>\n",
       "      <td>Afghanistan</td>\n",
       "      <td>AFG</td>\n",
       "      <td>CO2 emissions (metric tons per capita)</td>\n",
       "      <td>EN.ATM.CO2E.PC</td>\n",
       "      <td>0.046057</td>\n",
       "      <td>0.053589</td>\n",
       "      <td>0.073721</td>\n",
       "      <td>0.074161</td>\n",
       "      <td>0.086174</td>\n",
       "      <td>0.101285</td>\n",
       "      <td>...</td>\n",
       "      <td>0.211306</td>\n",
       "      <td>0.297065</td>\n",
       "      <td>0.407074</td>\n",
       "      <td>0.335351</td>\n",
       "      <td>0.263716</td>\n",
       "      <td>0.234037</td>\n",
       "      <td>0.232176</td>\n",
       "      <td>0.208857</td>\n",
       "      <td>0.203328</td>\n",
       "      <td>0.200151</td>\n",
       "    </tr>\n",
       "    <tr>\n",
       "      <th>3</th>\n",
       "      <td>Africa Western and Central</td>\n",
       "      <td>AFW</td>\n",
       "      <td>CO2 emissions (metric tons per capita)</td>\n",
       "      <td>EN.ATM.CO2E.PC</td>\n",
       "      <td>0.090880</td>\n",
       "      <td>0.095283</td>\n",
       "      <td>0.096612</td>\n",
       "      <td>0.112376</td>\n",
       "      <td>0.133258</td>\n",
       "      <td>0.184803</td>\n",
       "      <td>...</td>\n",
       "      <td>0.426770</td>\n",
       "      <td>0.472819</td>\n",
       "      <td>0.497023</td>\n",
       "      <td>0.490867</td>\n",
       "      <td>0.504655</td>\n",
       "      <td>0.507671</td>\n",
       "      <td>0.480743</td>\n",
       "      <td>0.472959</td>\n",
       "      <td>0.476438</td>\n",
       "      <td>0.515544</td>\n",
       "    </tr>\n",
       "    <tr>\n",
       "      <th>4</th>\n",
       "      <td>Angola</td>\n",
       "      <td>AGO</td>\n",
       "      <td>CO2 emissions (metric tons per capita)</td>\n",
       "      <td>EN.ATM.CO2E.PC</td>\n",
       "      <td>0.100835</td>\n",
       "      <td>0.082204</td>\n",
       "      <td>0.210533</td>\n",
       "      <td>0.202739</td>\n",
       "      <td>0.213562</td>\n",
       "      <td>0.205891</td>\n",
       "      <td>...</td>\n",
       "      <td>1.205902</td>\n",
       "      <td>1.221515</td>\n",
       "      <td>1.216317</td>\n",
       "      <td>1.204799</td>\n",
       "      <td>1.261542</td>\n",
       "      <td>1.285365</td>\n",
       "      <td>1.260921</td>\n",
       "      <td>1.227703</td>\n",
       "      <td>1.034317</td>\n",
       "      <td>0.887380</td>\n",
       "    </tr>\n",
       "  </tbody>\n",
       "</table>\n",
       "<p>5 rows × 63 columns</p>\n",
       "</div>"
      ],
      "text/plain": [
       "                  Country Name Country Code  \\\n",
       "0                        Aruba          ABW   \n",
       "1  Africa Eastern and Southern          AFE   \n",
       "2                  Afghanistan          AFG   \n",
       "3   Africa Western and Central          AFW   \n",
       "4                       Angola          AGO   \n",
       "\n",
       "                           Indicator Name  Indicator Code      1960      1961  \\\n",
       "0  CO2 emissions (metric tons per capita)  EN.ATM.CO2E.PC       NaN       NaN   \n",
       "1  CO2 emissions (metric tons per capita)  EN.ATM.CO2E.PC  0.906060  0.922474   \n",
       "2  CO2 emissions (metric tons per capita)  EN.ATM.CO2E.PC  0.046057  0.053589   \n",
       "3  CO2 emissions (metric tons per capita)  EN.ATM.CO2E.PC  0.090880  0.095283   \n",
       "4  CO2 emissions (metric tons per capita)  EN.ATM.CO2E.PC  0.100835  0.082204   \n",
       "\n",
       "       1962      1963      1964      1965  ...      2009      2010      2011  \\\n",
       "0       NaN       NaN       NaN       NaN  ...       NaN       NaN       NaN   \n",
       "1  0.930816  0.940570  0.996033  1.047280  ...  1.021954  1.048876  1.005338   \n",
       "2  0.073721  0.074161  0.086174  0.101285  ...  0.211306  0.297065  0.407074   \n",
       "3  0.096612  0.112376  0.133258  0.184803  ...  0.426770  0.472819  0.497023   \n",
       "4  0.210533  0.202739  0.213562  0.205891  ...  1.205902  1.221515  1.216317   \n",
       "\n",
       "       2012      2013      2014      2015      2016      2017      2018  \n",
       "0       NaN       NaN       NaN       NaN       NaN       NaN       NaN  \n",
       "1  1.021646  1.031833  1.041145  0.987393  0.971016  0.959978  0.933541  \n",
       "2  0.335351  0.263716  0.234037  0.232176  0.208857  0.203328  0.200151  \n",
       "3  0.490867  0.504655  0.507671  0.480743  0.472959  0.476438  0.515544  \n",
       "4  1.204799  1.261542  1.285365  1.260921  1.227703  1.034317  0.887380  \n",
       "\n",
       "[5 rows x 63 columns]"
      ]
     },
     "execution_count": 54,
     "metadata": {},
     "output_type": "execute_result"
    }
   ],
   "source": [
    "CO2Emissions.head()"
   ]
  },
  {
   "cell_type": "markdown",
   "metadata": {},
   "source": [
    "Clean the data by removing uneeded columns. Make sure the to clean copies of the original data in case reference to the original data is needed at any point. Furthermore, to make computations and visualizations less complex, I've decided remove any countries with missing data. This will ensure we can see data that can be correlated and we will still have a large pool of data to compute with."
   ]
  },
  {
   "cell_type": "code",
   "execution_count": 55,
   "metadata": {},
   "outputs": [
    {
     "data": {
      "text/html": [
       "<div>\n",
       "<style scoped>\n",
       "    .dataframe tbody tr th:only-of-type {\n",
       "        vertical-align: middle;\n",
       "    }\n",
       "\n",
       "    .dataframe tbody tr th {\n",
       "        vertical-align: top;\n",
       "    }\n",
       "\n",
       "    .dataframe thead th {\n",
       "        text-align: right;\n",
       "    }\n",
       "</style>\n",
       "<table border=\"1\" class=\"dataframe\">\n",
       "  <thead>\n",
       "    <tr style=\"text-align: right;\">\n",
       "      <th></th>\n",
       "      <th>Country Name</th>\n",
       "      <th>1990</th>\n",
       "      <th>1991</th>\n",
       "      <th>1992</th>\n",
       "      <th>1993</th>\n",
       "      <th>1994</th>\n",
       "      <th>1995</th>\n",
       "      <th>1996</th>\n",
       "      <th>1997</th>\n",
       "      <th>1998</th>\n",
       "      <th>...</th>\n",
       "      <th>2009</th>\n",
       "      <th>2010</th>\n",
       "      <th>2011</th>\n",
       "      <th>2012</th>\n",
       "      <th>2013</th>\n",
       "      <th>2014</th>\n",
       "      <th>2015</th>\n",
       "      <th>2016</th>\n",
       "      <th>2017</th>\n",
       "      <th>2018</th>\n",
       "    </tr>\n",
       "  </thead>\n",
       "  <tbody>\n",
       "    <tr>\n",
       "      <th>0</th>\n",
       "      <td>Aruba</td>\n",
       "      <td>0.268747</td>\n",
       "      <td>0.234955</td>\n",
       "      <td>0.238778</td>\n",
       "      <td>0.195134</td>\n",
       "      <td>0.183241</td>\n",
       "      <td>0.173372</td>\n",
       "      <td>0.167474</td>\n",
       "      <td>0.160096</td>\n",
       "      <td>0.157876</td>\n",
       "      <td>...</td>\n",
       "      <td>0.299800</td>\n",
       "      <td>5.464700</td>\n",
       "      <td>5.661800</td>\n",
       "      <td>6.855900</td>\n",
       "      <td>6.889700</td>\n",
       "      <td>6.927500</td>\n",
       "      <td>6.728000</td>\n",
       "      <td>6.994600</td>\n",
       "      <td>6.699300</td>\n",
       "      <td>8.024100</td>\n",
       "    </tr>\n",
       "    <tr>\n",
       "      <th>1</th>\n",
       "      <td>Afghanistan</td>\n",
       "      <td>15.924532</td>\n",
       "      <td>17.036444</td>\n",
       "      <td>26.521629</td>\n",
       "      <td>30.585667</td>\n",
       "      <td>32.796251</td>\n",
       "      <td>35.075640</td>\n",
       "      <td>37.945748</td>\n",
       "      <td>41.432601</td>\n",
       "      <td>44.094337</td>\n",
       "      <td>...</td>\n",
       "      <td>17.850401</td>\n",
       "      <td>14.899000</td>\n",
       "      <td>11.559100</td>\n",
       "      <td>14.404900</td>\n",
       "      <td>17.105000</td>\n",
       "      <td>20.770300</td>\n",
       "      <td>20.273800</td>\n",
       "      <td>24.740299</td>\n",
       "      <td>25.082800</td>\n",
       "      <td>21.422701</td>\n",
       "    </tr>\n",
       "    <tr>\n",
       "      <th>2</th>\n",
       "      <td>Angola</td>\n",
       "      <td>72.255252</td>\n",
       "      <td>71.888639</td>\n",
       "      <td>72.723283</td>\n",
       "      <td>71.277056</td>\n",
       "      <td>72.220269</td>\n",
       "      <td>73.945888</td>\n",
       "      <td>73.139600</td>\n",
       "      <td>73.734416</td>\n",
       "      <td>76.819794</td>\n",
       "      <td>...</td>\n",
       "      <td>52.413898</td>\n",
       "      <td>50.764801</td>\n",
       "      <td>49.239201</td>\n",
       "      <td>49.443298</td>\n",
       "      <td>47.938499</td>\n",
       "      <td>48.211300</td>\n",
       "      <td>47.815601</td>\n",
       "      <td>49.008099</td>\n",
       "      <td>56.180500</td>\n",
       "      <td>56.785500</td>\n",
       "    </tr>\n",
       "    <tr>\n",
       "      <th>3</th>\n",
       "      <td>Albania</td>\n",
       "      <td>25.518088</td>\n",
       "      <td>32.998174</td>\n",
       "      <td>46.813329</td>\n",
       "      <td>51.152042</td>\n",
       "      <td>51.459544</td>\n",
       "      <td>50.609710</td>\n",
       "      <td>51.636361</td>\n",
       "      <td>55.953349</td>\n",
       "      <td>49.983365</td>\n",
       "      <td>...</td>\n",
       "      <td>37.215199</td>\n",
       "      <td>37.113701</td>\n",
       "      <td>35.961102</td>\n",
       "      <td>40.046700</td>\n",
       "      <td>41.286999</td>\n",
       "      <td>38.697399</td>\n",
       "      <td>38.625599</td>\n",
       "      <td>39.587299</td>\n",
       "      <td>37.219799</td>\n",
       "      <td>38.266399</td>\n",
       "    </tr>\n",
       "    <tr>\n",
       "      <th>4</th>\n",
       "      <td>Andorra</td>\n",
       "      <td>14.273550</td>\n",
       "      <td>14.273550</td>\n",
       "      <td>14.308754</td>\n",
       "      <td>13.918955</td>\n",
       "      <td>14.561024</td>\n",
       "      <td>14.481048</td>\n",
       "      <td>14.100048</td>\n",
       "      <td>14.194002</td>\n",
       "      <td>14.458642</td>\n",
       "      <td>...</td>\n",
       "      <td>17.126301</td>\n",
       "      <td>18.670900</td>\n",
       "      <td>18.552200</td>\n",
       "      <td>18.762899</td>\n",
       "      <td>19.141300</td>\n",
       "      <td>19.420099</td>\n",
       "      <td>19.277700</td>\n",
       "      <td>19.255800</td>\n",
       "      <td>19.063200</td>\n",
       "      <td>18.506001</td>\n",
       "    </tr>\n",
       "    <tr>\n",
       "      <th>...</th>\n",
       "      <td>...</td>\n",
       "      <td>...</td>\n",
       "      <td>...</td>\n",
       "      <td>...</td>\n",
       "      <td>...</td>\n",
       "      <td>...</td>\n",
       "      <td>...</td>\n",
       "      <td>...</td>\n",
       "      <td>...</td>\n",
       "      <td>...</td>\n",
       "      <td>...</td>\n",
       "      <td>...</td>\n",
       "      <td>...</td>\n",
       "      <td>...</td>\n",
       "      <td>...</td>\n",
       "      <td>...</td>\n",
       "      <td>...</td>\n",
       "      <td>...</td>\n",
       "      <td>...</td>\n",
       "      <td>...</td>\n",
       "      <td>...</td>\n",
       "    </tr>\n",
       "    <tr>\n",
       "      <th>192</th>\n",
       "      <td>Samoa</td>\n",
       "      <td>46.204609</td>\n",
       "      <td>46.238269</td>\n",
       "      <td>45.701427</td>\n",
       "      <td>46.142015</td>\n",
       "      <td>46.151734</td>\n",
       "      <td>45.218114</td>\n",
       "      <td>44.749726</td>\n",
       "      <td>44.841109</td>\n",
       "      <td>44.978561</td>\n",
       "      <td>...</td>\n",
       "      <td>43.277199</td>\n",
       "      <td>41.275600</td>\n",
       "      <td>40.264301</td>\n",
       "      <td>40.259300</td>\n",
       "      <td>42.614899</td>\n",
       "      <td>41.244900</td>\n",
       "      <td>37.478199</td>\n",
       "      <td>36.817699</td>\n",
       "      <td>35.809299</td>\n",
       "      <td>36.618599</td>\n",
       "    </tr>\n",
       "    <tr>\n",
       "      <th>193</th>\n",
       "      <td>Yemen, Rep.</td>\n",
       "      <td>2.148638</td>\n",
       "      <td>1.709434</td>\n",
       "      <td>1.580226</td>\n",
       "      <td>1.792120</td>\n",
       "      <td>1.743376</td>\n",
       "      <td>1.504256</td>\n",
       "      <td>1.480847</td>\n",
       "      <td>1.397901</td>\n",
       "      <td>1.291669</td>\n",
       "      <td>...</td>\n",
       "      <td>0.877400</td>\n",
       "      <td>0.978600</td>\n",
       "      <td>1.155500</td>\n",
       "      <td>1.351700</td>\n",
       "      <td>0.945900</td>\n",
       "      <td>0.955600</td>\n",
       "      <td>2.419500</td>\n",
       "      <td>2.986100</td>\n",
       "      <td>3.401300</td>\n",
       "      <td>4.269000</td>\n",
       "    </tr>\n",
       "    <tr>\n",
       "      <th>194</th>\n",
       "      <td>South Africa</td>\n",
       "      <td>16.627822</td>\n",
       "      <td>17.466119</td>\n",
       "      <td>18.363217</td>\n",
       "      <td>18.585950</td>\n",
       "      <td>18.562882</td>\n",
       "      <td>18.113080</td>\n",
       "      <td>17.437771</td>\n",
       "      <td>17.107191</td>\n",
       "      <td>17.272490</td>\n",
       "      <td>...</td>\n",
       "      <td>10.987500</td>\n",
       "      <td>11.787700</td>\n",
       "      <td>11.371800</td>\n",
       "      <td>10.607500</td>\n",
       "      <td>9.782000</td>\n",
       "      <td>9.908100</td>\n",
       "      <td>10.291700</td>\n",
       "      <td>10.705300</td>\n",
       "      <td>10.225400</td>\n",
       "      <td>10.343300</td>\n",
       "    </tr>\n",
       "    <tr>\n",
       "      <th>195</th>\n",
       "      <td>Zambia</td>\n",
       "      <td>82.982734</td>\n",
       "      <td>82.253158</td>\n",
       "      <td>82.706777</td>\n",
       "      <td>85.135107</td>\n",
       "      <td>86.856529</td>\n",
       "      <td>87.111331</td>\n",
       "      <td>89.640857</td>\n",
       "      <td>87.007385</td>\n",
       "      <td>87.755545</td>\n",
       "      <td>...</td>\n",
       "      <td>89.797096</td>\n",
       "      <td>89.869400</td>\n",
       "      <td>88.750000</td>\n",
       "      <td>86.505096</td>\n",
       "      <td>86.562302</td>\n",
       "      <td>86.002701</td>\n",
       "      <td>85.487000</td>\n",
       "      <td>85.591499</td>\n",
       "      <td>84.687798</td>\n",
       "      <td>85.104599</td>\n",
       "    </tr>\n",
       "    <tr>\n",
       "      <th>196</th>\n",
       "      <td>Zimbabwe</td>\n",
       "      <td>63.976409</td>\n",
       "      <td>63.740781</td>\n",
       "      <td>64.368292</td>\n",
       "      <td>64.417752</td>\n",
       "      <td>68.527206</td>\n",
       "      <td>67.062264</td>\n",
       "      <td>66.738328</td>\n",
       "      <td>67.385820</td>\n",
       "      <td>67.838803</td>\n",
       "      <td>...</td>\n",
       "      <td>82.342201</td>\n",
       "      <td>82.070000</td>\n",
       "      <td>79.509903</td>\n",
       "      <td>77.822197</td>\n",
       "      <td>79.305901</td>\n",
       "      <td>80.775002</td>\n",
       "      <td>81.427200</td>\n",
       "      <td>82.792603</td>\n",
       "      <td>83.492996</td>\n",
       "      <td>81.363602</td>\n",
       "    </tr>\n",
       "  </tbody>\n",
       "</table>\n",
       "<p>197 rows × 30 columns</p>\n",
       "</div>"
      ],
      "text/plain": [
       "     Country Name       1990       1991       1992       1993       1994  \\\n",
       "0           Aruba   0.268747   0.234955   0.238778   0.195134   0.183241   \n",
       "1     Afghanistan  15.924532  17.036444  26.521629  30.585667  32.796251   \n",
       "2          Angola  72.255252  71.888639  72.723283  71.277056  72.220269   \n",
       "3         Albania  25.518088  32.998174  46.813329  51.152042  51.459544   \n",
       "4         Andorra  14.273550  14.273550  14.308754  13.918955  14.561024   \n",
       "..            ...        ...        ...        ...        ...        ...   \n",
       "192         Samoa  46.204609  46.238269  45.701427  46.142015  46.151734   \n",
       "193   Yemen, Rep.   2.148638   1.709434   1.580226   1.792120   1.743376   \n",
       "194  South Africa  16.627822  17.466119  18.363217  18.585950  18.562882   \n",
       "195        Zambia  82.982734  82.253158  82.706777  85.135107  86.856529   \n",
       "196      Zimbabwe  63.976409  63.740781  64.368292  64.417752  68.527206   \n",
       "\n",
       "          1995       1996       1997       1998  ...       2009       2010  \\\n",
       "0     0.173372   0.167474   0.160096   0.157876  ...   0.299800   5.464700   \n",
       "1    35.075640  37.945748  41.432601  44.094337  ...  17.850401  14.899000   \n",
       "2    73.945888  73.139600  73.734416  76.819794  ...  52.413898  50.764801   \n",
       "3    50.609710  51.636361  55.953349  49.983365  ...  37.215199  37.113701   \n",
       "4    14.481048  14.100048  14.194002  14.458642  ...  17.126301  18.670900   \n",
       "..         ...        ...        ...        ...  ...        ...        ...   \n",
       "192  45.218114  44.749726  44.841109  44.978561  ...  43.277199  41.275600   \n",
       "193   1.504256   1.480847   1.397901   1.291669  ...   0.877400   0.978600   \n",
       "194  18.113080  17.437771  17.107191  17.272490  ...  10.987500  11.787700   \n",
       "195  87.111331  89.640857  87.007385  87.755545  ...  89.797096  89.869400   \n",
       "196  67.062264  66.738328  67.385820  67.838803  ...  82.342201  82.070000   \n",
       "\n",
       "          2011       2012       2013       2014       2015       2016  \\\n",
       "0     5.661800   6.855900   6.889700   6.927500   6.728000   6.994600   \n",
       "1    11.559100  14.404900  17.105000  20.770300  20.273800  24.740299   \n",
       "2    49.239201  49.443298  47.938499  48.211300  47.815601  49.008099   \n",
       "3    35.961102  40.046700  41.286999  38.697399  38.625599  39.587299   \n",
       "4    18.552200  18.762899  19.141300  19.420099  19.277700  19.255800   \n",
       "..         ...        ...        ...        ...        ...        ...   \n",
       "192  40.264301  40.259300  42.614899  41.244900  37.478199  36.817699   \n",
       "193   1.155500   1.351700   0.945900   0.955600   2.419500   2.986100   \n",
       "194  11.371800  10.607500   9.782000   9.908100  10.291700  10.705300   \n",
       "195  88.750000  86.505096  86.562302  86.002701  85.487000  85.591499   \n",
       "196  79.509903  77.822197  79.305901  80.775002  81.427200  82.792603   \n",
       "\n",
       "          2017       2018  \n",
       "0     6.699300   8.024100  \n",
       "1    25.082800  21.422701  \n",
       "2    56.180500  56.785500  \n",
       "3    37.219799  38.266399  \n",
       "4    19.063200  18.506001  \n",
       "..         ...        ...  \n",
       "192  35.809299  36.618599  \n",
       "193   3.401300   4.269000  \n",
       "194  10.225400  10.343300  \n",
       "195  84.687798  85.104599  \n",
       "196  83.492996  81.363602  \n",
       "\n",
       "[197 rows x 30 columns]"
      ]
     },
     "execution_count": 55,
     "metadata": {},
     "output_type": "execute_result"
    }
   ],
   "source": [
    "cleanEnergy = renewableEnergy.copy()\n",
    "\n",
    "cleanEnergy.drop(['Country Code', 'Indicator Name', 'Indicator Code'], inplace=True, axis=1)\n",
    "cleanEnergy = cleanEnergy.dropna()\n",
    "cleanEnergy = cleanEnergy.reset_index(drop=True)\n",
    "\n",
    "cleanEnergy"
   ]
  },
  {
   "cell_type": "markdown",
   "metadata": {},
   "source": [
    "Do the same as above, but here remove the columns from 1960 to 1989 as well since in this case that data is irrelevant."
   ]
  },
  {
   "cell_type": "code",
   "execution_count": 56,
   "metadata": {},
   "outputs": [
    {
     "data": {
      "text/html": [
       "<div>\n",
       "<style scoped>\n",
       "    .dataframe tbody tr th:only-of-type {\n",
       "        vertical-align: middle;\n",
       "    }\n",
       "\n",
       "    .dataframe tbody tr th {\n",
       "        vertical-align: top;\n",
       "    }\n",
       "\n",
       "    .dataframe thead th {\n",
       "        text-align: right;\n",
       "    }\n",
       "</style>\n",
       "<table border=\"1\" class=\"dataframe\">\n",
       "  <thead>\n",
       "    <tr style=\"text-align: right;\">\n",
       "      <th></th>\n",
       "      <th>Country Name</th>\n",
       "      <th>1990</th>\n",
       "      <th>1991</th>\n",
       "      <th>1992</th>\n",
       "      <th>1993</th>\n",
       "      <th>1994</th>\n",
       "      <th>1995</th>\n",
       "      <th>1996</th>\n",
       "      <th>1997</th>\n",
       "      <th>1998</th>\n",
       "      <th>...</th>\n",
       "      <th>2009</th>\n",
       "      <th>2010</th>\n",
       "      <th>2011</th>\n",
       "      <th>2012</th>\n",
       "      <th>2013</th>\n",
       "      <th>2014</th>\n",
       "      <th>2015</th>\n",
       "      <th>2016</th>\n",
       "      <th>2017</th>\n",
       "      <th>2018</th>\n",
       "    </tr>\n",
       "  </thead>\n",
       "  <tbody>\n",
       "    <tr>\n",
       "      <th>0</th>\n",
       "      <td>Africa Eastern and Southern</td>\n",
       "      <td>1.017505</td>\n",
       "      <td>0.971324</td>\n",
       "      <td>0.931920</td>\n",
       "      <td>0.925465</td>\n",
       "      <td>0.918612</td>\n",
       "      <td>0.946475</td>\n",
       "      <td>0.951132</td>\n",
       "      <td>0.971563</td>\n",
       "      <td>0.969680</td>\n",
       "      <td>...</td>\n",
       "      <td>1.021954</td>\n",
       "      <td>1.048876</td>\n",
       "      <td>1.005338</td>\n",
       "      <td>1.021646</td>\n",
       "      <td>1.031833</td>\n",
       "      <td>1.041145</td>\n",
       "      <td>0.987393</td>\n",
       "      <td>0.971016</td>\n",
       "      <td>0.959978</td>\n",
       "      <td>0.933541</td>\n",
       "    </tr>\n",
       "    <tr>\n",
       "      <th>1</th>\n",
       "      <td>Afghanistan</td>\n",
       "      <td>0.238473</td>\n",
       "      <td>0.206030</td>\n",
       "      <td>0.098719</td>\n",
       "      <td>0.085986</td>\n",
       "      <td>0.076131</td>\n",
       "      <td>0.069020</td>\n",
       "      <td>0.062588</td>\n",
       "      <td>0.056827</td>\n",
       "      <td>0.053197</td>\n",
       "      <td>...</td>\n",
       "      <td>0.211306</td>\n",
       "      <td>0.297065</td>\n",
       "      <td>0.407074</td>\n",
       "      <td>0.335351</td>\n",
       "      <td>0.263716</td>\n",
       "      <td>0.234037</td>\n",
       "      <td>0.232176</td>\n",
       "      <td>0.208857</td>\n",
       "      <td>0.203328</td>\n",
       "      <td>0.200151</td>\n",
       "    </tr>\n",
       "    <tr>\n",
       "      <th>2</th>\n",
       "      <td>Africa Western and Central</td>\n",
       "      <td>0.440470</td>\n",
       "      <td>0.474868</td>\n",
       "      <td>0.516677</td>\n",
       "      <td>0.518952</td>\n",
       "      <td>0.492858</td>\n",
       "      <td>0.487495</td>\n",
       "      <td>0.507633</td>\n",
       "      <td>0.488416</td>\n",
       "      <td>0.461622</td>\n",
       "      <td>...</td>\n",
       "      <td>0.426770</td>\n",
       "      <td>0.472819</td>\n",
       "      <td>0.497023</td>\n",
       "      <td>0.490867</td>\n",
       "      <td>0.504655</td>\n",
       "      <td>0.507671</td>\n",
       "      <td>0.480743</td>\n",
       "      <td>0.472959</td>\n",
       "      <td>0.476438</td>\n",
       "      <td>0.515544</td>\n",
       "    </tr>\n",
       "    <tr>\n",
       "      <th>3</th>\n",
       "      <td>Angola</td>\n",
       "      <td>0.534250</td>\n",
       "      <td>0.533109</td>\n",
       "      <td>0.503264</td>\n",
       "      <td>0.527723</td>\n",
       "      <td>0.495418</td>\n",
       "      <td>0.773026</td>\n",
       "      <td>0.792321</td>\n",
       "      <td>0.788753</td>\n",
       "      <td>0.740254</td>\n",
       "      <td>...</td>\n",
       "      <td>1.205902</td>\n",
       "      <td>1.221515</td>\n",
       "      <td>1.216317</td>\n",
       "      <td>1.204799</td>\n",
       "      <td>1.261542</td>\n",
       "      <td>1.285365</td>\n",
       "      <td>1.260921</td>\n",
       "      <td>1.227703</td>\n",
       "      <td>1.034317</td>\n",
       "      <td>0.887380</td>\n",
       "    </tr>\n",
       "    <tr>\n",
       "      <th>4</th>\n",
       "      <td>Albania</td>\n",
       "      <td>1.840841</td>\n",
       "      <td>1.258116</td>\n",
       "      <td>0.689859</td>\n",
       "      <td>0.641406</td>\n",
       "      <td>0.667179</td>\n",
       "      <td>0.611710</td>\n",
       "      <td>0.621837</td>\n",
       "      <td>0.470098</td>\n",
       "      <td>0.575350</td>\n",
       "      <td>...</td>\n",
       "      <td>1.475652</td>\n",
       "      <td>1.572251</td>\n",
       "      <td>1.734823</td>\n",
       "      <td>1.579092</td>\n",
       "      <td>1.654524</td>\n",
       "      <td>1.806789</td>\n",
       "      <td>1.759987</td>\n",
       "      <td>1.714126</td>\n",
       "      <td>1.948872</td>\n",
       "      <td>1.939732</td>\n",
       "    </tr>\n",
       "    <tr>\n",
       "      <th>...</th>\n",
       "      <td>...</td>\n",
       "      <td>...</td>\n",
       "      <td>...</td>\n",
       "      <td>...</td>\n",
       "      <td>...</td>\n",
       "      <td>...</td>\n",
       "      <td>...</td>\n",
       "      <td>...</td>\n",
       "      <td>...</td>\n",
       "      <td>...</td>\n",
       "      <td>...</td>\n",
       "      <td>...</td>\n",
       "      <td>...</td>\n",
       "      <td>...</td>\n",
       "      <td>...</td>\n",
       "      <td>...</td>\n",
       "      <td>...</td>\n",
       "      <td>...</td>\n",
       "      <td>...</td>\n",
       "      <td>...</td>\n",
       "      <td>...</td>\n",
       "    </tr>\n",
       "    <tr>\n",
       "      <th>232</th>\n",
       "      <td>Samoa</td>\n",
       "      <td>0.675688</td>\n",
       "      <td>0.670732</td>\n",
       "      <td>0.725119</td>\n",
       "      <td>0.718060</td>\n",
       "      <td>0.711368</td>\n",
       "      <td>0.705675</td>\n",
       "      <td>0.759501</td>\n",
       "      <td>0.755528</td>\n",
       "      <td>0.810002</td>\n",
       "      <td>...</td>\n",
       "      <td>1.029515</td>\n",
       "      <td>1.021813</td>\n",
       "      <td>1.066843</td>\n",
       "      <td>1.057703</td>\n",
       "      <td>1.048702</td>\n",
       "      <td>1.092498</td>\n",
       "      <td>1.240246</td>\n",
       "      <td>1.542099</td>\n",
       "      <td>1.535642</td>\n",
       "      <td>1.631588</td>\n",
       "    </tr>\n",
       "    <tr>\n",
       "      <th>233</th>\n",
       "      <td>Yemen, Rep.</td>\n",
       "      <td>0.567037</td>\n",
       "      <td>0.690937</td>\n",
       "      <td>0.704793</td>\n",
       "      <td>0.595566</td>\n",
       "      <td>0.593106</td>\n",
       "      <td>0.661825</td>\n",
       "      <td>0.651614</td>\n",
       "      <td>0.679157</td>\n",
       "      <td>0.713057</td>\n",
       "      <td>...</td>\n",
       "      <td>1.139166</td>\n",
       "      <td>1.036068</td>\n",
       "      <td>0.869051</td>\n",
       "      <td>0.804146</td>\n",
       "      <td>1.047834</td>\n",
       "      <td>1.034330</td>\n",
       "      <td>0.536269</td>\n",
       "      <td>0.400468</td>\n",
       "      <td>0.361418</td>\n",
       "      <td>0.326682</td>\n",
       "    </tr>\n",
       "    <tr>\n",
       "      <th>234</th>\n",
       "      <td>South Africa</td>\n",
       "      <td>6.729799</td>\n",
       "      <td>6.424622</td>\n",
       "      <td>6.175430</td>\n",
       "      <td>6.217680</td>\n",
       "      <td>6.212642</td>\n",
       "      <td>6.375894</td>\n",
       "      <td>6.486114</td>\n",
       "      <td>6.721030</td>\n",
       "      <td>6.787882</td>\n",
       "      <td>...</td>\n",
       "      <td>8.004039</td>\n",
       "      <td>8.300179</td>\n",
       "      <td>7.867124</td>\n",
       "      <td>8.076633</td>\n",
       "      <td>8.137333</td>\n",
       "      <td>8.213158</td>\n",
       "      <td>7.671202</td>\n",
       "      <td>7.564451</td>\n",
       "      <td>7.632729</td>\n",
       "      <td>7.496645</td>\n",
       "    </tr>\n",
       "    <tr>\n",
       "      <th>235</th>\n",
       "      <td>Zambia</td>\n",
       "      <td>0.340930</td>\n",
       "      <td>0.349232</td>\n",
       "      <td>0.337224</td>\n",
       "      <td>0.291111</td>\n",
       "      <td>0.241270</td>\n",
       "      <td>0.234153</td>\n",
       "      <td>0.188442</td>\n",
       "      <td>0.237559</td>\n",
       "      <td>0.219937</td>\n",
       "      <td>...</td>\n",
       "      <td>0.186907</td>\n",
       "      <td>0.194032</td>\n",
       "      <td>0.218210</td>\n",
       "      <td>0.277909</td>\n",
       "      <td>0.284058</td>\n",
       "      <td>0.311693</td>\n",
       "      <td>0.319282</td>\n",
       "      <td>0.341615</td>\n",
       "      <td>0.414748</td>\n",
       "      <td>0.446065</td>\n",
       "    </tr>\n",
       "    <tr>\n",
       "      <th>236</th>\n",
       "      <td>Zimbabwe</td>\n",
       "      <td>1.584485</td>\n",
       "      <td>1.713321</td>\n",
       "      <td>1.694416</td>\n",
       "      <td>1.539741</td>\n",
       "      <td>1.417186</td>\n",
       "      <td>1.356619</td>\n",
       "      <td>1.287559</td>\n",
       "      <td>1.186793</td>\n",
       "      <td>1.197745</td>\n",
       "      <td>...</td>\n",
       "      <td>0.618665</td>\n",
       "      <td>0.772579</td>\n",
       "      <td>0.891090</td>\n",
       "      <td>0.923360</td>\n",
       "      <td>0.925816</td>\n",
       "      <td>0.894256</td>\n",
       "      <td>0.897598</td>\n",
       "      <td>0.783303</td>\n",
       "      <td>0.718570</td>\n",
       "      <td>0.849793</td>\n",
       "    </tr>\n",
       "  </tbody>\n",
       "</table>\n",
       "<p>237 rows × 30 columns</p>\n",
       "</div>"
      ],
      "text/plain": [
       "                    Country Name      1990      1991      1992      1993  \\\n",
       "0    Africa Eastern and Southern  1.017505  0.971324  0.931920  0.925465   \n",
       "1                    Afghanistan  0.238473  0.206030  0.098719  0.085986   \n",
       "2     Africa Western and Central  0.440470  0.474868  0.516677  0.518952   \n",
       "3                         Angola  0.534250  0.533109  0.503264  0.527723   \n",
       "4                        Albania  1.840841  1.258116  0.689859  0.641406   \n",
       "..                           ...       ...       ...       ...       ...   \n",
       "232                        Samoa  0.675688  0.670732  0.725119  0.718060   \n",
       "233                  Yemen, Rep.  0.567037  0.690937  0.704793  0.595566   \n",
       "234                 South Africa  6.729799  6.424622  6.175430  6.217680   \n",
       "235                       Zambia  0.340930  0.349232  0.337224  0.291111   \n",
       "236                     Zimbabwe  1.584485  1.713321  1.694416  1.539741   \n",
       "\n",
       "         1994      1995      1996      1997      1998  ...      2009  \\\n",
       "0    0.918612  0.946475  0.951132  0.971563  0.969680  ...  1.021954   \n",
       "1    0.076131  0.069020  0.062588  0.056827  0.053197  ...  0.211306   \n",
       "2    0.492858  0.487495  0.507633  0.488416  0.461622  ...  0.426770   \n",
       "3    0.495418  0.773026  0.792321  0.788753  0.740254  ...  1.205902   \n",
       "4    0.667179  0.611710  0.621837  0.470098  0.575350  ...  1.475652   \n",
       "..        ...       ...       ...       ...       ...  ...       ...   \n",
       "232  0.711368  0.705675  0.759501  0.755528  0.810002  ...  1.029515   \n",
       "233  0.593106  0.661825  0.651614  0.679157  0.713057  ...  1.139166   \n",
       "234  6.212642  6.375894  6.486114  6.721030  6.787882  ...  8.004039   \n",
       "235  0.241270  0.234153  0.188442  0.237559  0.219937  ...  0.186907   \n",
       "236  1.417186  1.356619  1.287559  1.186793  1.197745  ...  0.618665   \n",
       "\n",
       "         2010      2011      2012      2013      2014      2015      2016  \\\n",
       "0    1.048876  1.005338  1.021646  1.031833  1.041145  0.987393  0.971016   \n",
       "1    0.297065  0.407074  0.335351  0.263716  0.234037  0.232176  0.208857   \n",
       "2    0.472819  0.497023  0.490867  0.504655  0.507671  0.480743  0.472959   \n",
       "3    1.221515  1.216317  1.204799  1.261542  1.285365  1.260921  1.227703   \n",
       "4    1.572251  1.734823  1.579092  1.654524  1.806789  1.759987  1.714126   \n",
       "..        ...       ...       ...       ...       ...       ...       ...   \n",
       "232  1.021813  1.066843  1.057703  1.048702  1.092498  1.240246  1.542099   \n",
       "233  1.036068  0.869051  0.804146  1.047834  1.034330  0.536269  0.400468   \n",
       "234  8.300179  7.867124  8.076633  8.137333  8.213158  7.671202  7.564451   \n",
       "235  0.194032  0.218210  0.277909  0.284058  0.311693  0.319282  0.341615   \n",
       "236  0.772579  0.891090  0.923360  0.925816  0.894256  0.897598  0.783303   \n",
       "\n",
       "         2017      2018  \n",
       "0    0.959978  0.933541  \n",
       "1    0.203328  0.200151  \n",
       "2    0.476438  0.515544  \n",
       "3    1.034317  0.887380  \n",
       "4    1.948872  1.939732  \n",
       "..        ...       ...  \n",
       "232  1.535642  1.631588  \n",
       "233  0.361418  0.326682  \n",
       "234  7.632729  7.496645  \n",
       "235  0.414748  0.446065  \n",
       "236  0.718570  0.849793  \n",
       "\n",
       "[237 rows x 30 columns]"
      ]
     },
     "execution_count": 56,
     "metadata": {},
     "output_type": "execute_result"
    }
   ],
   "source": [
    "cleanCO2 = CO2Emissions.copy()\n",
    "\n",
    "cleanCO2.drop(cleanCO2.iloc[:, 1:34], inplace=True, axis=1)\n",
    "cleanCO2 = cleanCO2.dropna()\n",
    "cleanCO2 = cleanCO2.reset_index(drop=True)\n",
    "\n",
    "cleanCO2"
   ]
  },
  {
   "cell_type": "markdown",
   "metadata": {},
   "source": [
    "Now we need to merge the datasets to easily view the data as a whole. But, the datasets are dated and horizontally makes this difficult to merge. One thing that can be done is to rename the column names by adding suffixes and then merging."
   ]
  },
  {
   "cell_type": "code",
   "execution_count": 64,
   "metadata": {},
   "outputs": [
    {
     "data": {
      "text/html": [
       "<div>\n",
       "<style scoped>\n",
       "    .dataframe tbody tr th:only-of-type {\n",
       "        vertical-align: middle;\n",
       "    }\n",
       "\n",
       "    .dataframe tbody tr th {\n",
       "        vertical-align: top;\n",
       "    }\n",
       "\n",
       "    .dataframe thead th {\n",
       "        text-align: right;\n",
       "    }\n",
       "</style>\n",
       "<table border=\"1\" class=\"dataframe\">\n",
       "  <thead>\n",
       "    <tr style=\"text-align: right;\">\n",
       "      <th></th>\n",
       "      <th>Country Name</th>\n",
       "      <th>1990_energy</th>\n",
       "      <th>1991_energy</th>\n",
       "      <th>1992_energy</th>\n",
       "      <th>1993_energy</th>\n",
       "      <th>1994_energy</th>\n",
       "      <th>1995_energy</th>\n",
       "      <th>1996_energy</th>\n",
       "      <th>1997_energy</th>\n",
       "      <th>1998_energy</th>\n",
       "      <th>...</th>\n",
       "      <th>2009_CO2</th>\n",
       "      <th>2010_CO2</th>\n",
       "      <th>2011_CO2</th>\n",
       "      <th>2012_CO2</th>\n",
       "      <th>2013_CO2</th>\n",
       "      <th>2014_CO2</th>\n",
       "      <th>2015_CO2</th>\n",
       "      <th>2016_CO2</th>\n",
       "      <th>2017_CO2</th>\n",
       "      <th>2018_CO2</th>\n",
       "    </tr>\n",
       "  </thead>\n",
       "  <tbody>\n",
       "    <tr>\n",
       "      <th>0</th>\n",
       "      <td>Afghanistan</td>\n",
       "      <td>15.924532</td>\n",
       "      <td>17.036444</td>\n",
       "      <td>26.521629</td>\n",
       "      <td>30.585667</td>\n",
       "      <td>32.796251</td>\n",
       "      <td>35.075640</td>\n",
       "      <td>37.945748</td>\n",
       "      <td>41.432601</td>\n",
       "      <td>44.094337</td>\n",
       "      <td>...</td>\n",
       "      <td>0.211306</td>\n",
       "      <td>0.297065</td>\n",
       "      <td>0.407074</td>\n",
       "      <td>0.335351</td>\n",
       "      <td>0.263716</td>\n",
       "      <td>0.234037</td>\n",
       "      <td>0.232176</td>\n",
       "      <td>0.208857</td>\n",
       "      <td>0.203328</td>\n",
       "      <td>0.200151</td>\n",
       "    </tr>\n",
       "    <tr>\n",
       "      <th>1</th>\n",
       "      <td>Angola</td>\n",
       "      <td>72.255252</td>\n",
       "      <td>71.888639</td>\n",
       "      <td>72.723283</td>\n",
       "      <td>71.277056</td>\n",
       "      <td>72.220269</td>\n",
       "      <td>73.945888</td>\n",
       "      <td>73.139600</td>\n",
       "      <td>73.734416</td>\n",
       "      <td>76.819794</td>\n",
       "      <td>...</td>\n",
       "      <td>1.205902</td>\n",
       "      <td>1.221515</td>\n",
       "      <td>1.216317</td>\n",
       "      <td>1.204799</td>\n",
       "      <td>1.261542</td>\n",
       "      <td>1.285365</td>\n",
       "      <td>1.260921</td>\n",
       "      <td>1.227703</td>\n",
       "      <td>1.034317</td>\n",
       "      <td>0.887380</td>\n",
       "    </tr>\n",
       "    <tr>\n",
       "      <th>2</th>\n",
       "      <td>Albania</td>\n",
       "      <td>25.518088</td>\n",
       "      <td>32.998174</td>\n",
       "      <td>46.813329</td>\n",
       "      <td>51.152042</td>\n",
       "      <td>51.459544</td>\n",
       "      <td>50.609710</td>\n",
       "      <td>51.636361</td>\n",
       "      <td>55.953349</td>\n",
       "      <td>49.983365</td>\n",
       "      <td>...</td>\n",
       "      <td>1.475652</td>\n",
       "      <td>1.572251</td>\n",
       "      <td>1.734823</td>\n",
       "      <td>1.579092</td>\n",
       "      <td>1.654524</td>\n",
       "      <td>1.806789</td>\n",
       "      <td>1.759987</td>\n",
       "      <td>1.714126</td>\n",
       "      <td>1.948872</td>\n",
       "      <td>1.939732</td>\n",
       "    </tr>\n",
       "    <tr>\n",
       "      <th>3</th>\n",
       "      <td>Andorra</td>\n",
       "      <td>14.273550</td>\n",
       "      <td>14.273550</td>\n",
       "      <td>14.308754</td>\n",
       "      <td>13.918955</td>\n",
       "      <td>14.561024</td>\n",
       "      <td>14.481048</td>\n",
       "      <td>14.100048</td>\n",
       "      <td>14.194002</td>\n",
       "      <td>14.458642</td>\n",
       "      <td>...</td>\n",
       "      <td>6.156688</td>\n",
       "      <td>6.157198</td>\n",
       "      <td>5.850886</td>\n",
       "      <td>5.944654</td>\n",
       "      <td>5.942801</td>\n",
       "      <td>5.807128</td>\n",
       "      <td>6.026182</td>\n",
       "      <td>6.080600</td>\n",
       "      <td>6.104134</td>\n",
       "      <td>5.973405</td>\n",
       "    </tr>\n",
       "    <tr>\n",
       "      <th>4</th>\n",
       "      <td>United Arab Emirates</td>\n",
       "      <td>0.000000</td>\n",
       "      <td>0.000000</td>\n",
       "      <td>0.188369</td>\n",
       "      <td>0.150356</td>\n",
       "      <td>0.120145</td>\n",
       "      <td>0.112604</td>\n",
       "      <td>0.080332</td>\n",
       "      <td>0.076356</td>\n",
       "      <td>0.072470</td>\n",
       "      <td>...</td>\n",
       "      <td>19.852557</td>\n",
       "      <td>19.043279</td>\n",
       "      <td>18.589933</td>\n",
       "      <td>19.223116</td>\n",
       "      <td>20.015421</td>\n",
       "      <td>19.951852</td>\n",
       "      <td>20.948092</td>\n",
       "      <td>21.307610</td>\n",
       "      <td>21.950614</td>\n",
       "      <td>20.797498</td>\n",
       "    </tr>\n",
       "    <tr>\n",
       "      <th>...</th>\n",
       "      <td>...</td>\n",
       "      <td>...</td>\n",
       "      <td>...</td>\n",
       "      <td>...</td>\n",
       "      <td>...</td>\n",
       "      <td>...</td>\n",
       "      <td>...</td>\n",
       "      <td>...</td>\n",
       "      <td>...</td>\n",
       "      <td>...</td>\n",
       "      <td>...</td>\n",
       "      <td>...</td>\n",
       "      <td>...</td>\n",
       "      <td>...</td>\n",
       "      <td>...</td>\n",
       "      <td>...</td>\n",
       "      <td>...</td>\n",
       "      <td>...</td>\n",
       "      <td>...</td>\n",
       "      <td>...</td>\n",
       "      <td>...</td>\n",
       "    </tr>\n",
       "    <tr>\n",
       "      <th>173</th>\n",
       "      <td>Samoa</td>\n",
       "      <td>46.204609</td>\n",
       "      <td>46.238269</td>\n",
       "      <td>45.701427</td>\n",
       "      <td>46.142015</td>\n",
       "      <td>46.151734</td>\n",
       "      <td>45.218114</td>\n",
       "      <td>44.749726</td>\n",
       "      <td>44.841109</td>\n",
       "      <td>44.978561</td>\n",
       "      <td>...</td>\n",
       "      <td>1.029515</td>\n",
       "      <td>1.021813</td>\n",
       "      <td>1.066843</td>\n",
       "      <td>1.057703</td>\n",
       "      <td>1.048702</td>\n",
       "      <td>1.092498</td>\n",
       "      <td>1.240246</td>\n",
       "      <td>1.542099</td>\n",
       "      <td>1.535642</td>\n",
       "      <td>1.631588</td>\n",
       "    </tr>\n",
       "    <tr>\n",
       "      <th>174</th>\n",
       "      <td>Yemen, Rep.</td>\n",
       "      <td>2.148638</td>\n",
       "      <td>1.709434</td>\n",
       "      <td>1.580226</td>\n",
       "      <td>1.792120</td>\n",
       "      <td>1.743376</td>\n",
       "      <td>1.504256</td>\n",
       "      <td>1.480847</td>\n",
       "      <td>1.397901</td>\n",
       "      <td>1.291669</td>\n",
       "      <td>...</td>\n",
       "      <td>1.139166</td>\n",
       "      <td>1.036068</td>\n",
       "      <td>0.869051</td>\n",
       "      <td>0.804146</td>\n",
       "      <td>1.047834</td>\n",
       "      <td>1.034330</td>\n",
       "      <td>0.536269</td>\n",
       "      <td>0.400468</td>\n",
       "      <td>0.361418</td>\n",
       "      <td>0.326682</td>\n",
       "    </tr>\n",
       "    <tr>\n",
       "      <th>175</th>\n",
       "      <td>South Africa</td>\n",
       "      <td>16.627822</td>\n",
       "      <td>17.466119</td>\n",
       "      <td>18.363217</td>\n",
       "      <td>18.585950</td>\n",
       "      <td>18.562882</td>\n",
       "      <td>18.113080</td>\n",
       "      <td>17.437771</td>\n",
       "      <td>17.107191</td>\n",
       "      <td>17.272490</td>\n",
       "      <td>...</td>\n",
       "      <td>8.004039</td>\n",
       "      <td>8.300179</td>\n",
       "      <td>7.867124</td>\n",
       "      <td>8.076633</td>\n",
       "      <td>8.137333</td>\n",
       "      <td>8.213158</td>\n",
       "      <td>7.671202</td>\n",
       "      <td>7.564451</td>\n",
       "      <td>7.632729</td>\n",
       "      <td>7.496645</td>\n",
       "    </tr>\n",
       "    <tr>\n",
       "      <th>176</th>\n",
       "      <td>Zambia</td>\n",
       "      <td>82.982734</td>\n",
       "      <td>82.253158</td>\n",
       "      <td>82.706777</td>\n",
       "      <td>85.135107</td>\n",
       "      <td>86.856529</td>\n",
       "      <td>87.111331</td>\n",
       "      <td>89.640857</td>\n",
       "      <td>87.007385</td>\n",
       "      <td>87.755545</td>\n",
       "      <td>...</td>\n",
       "      <td>0.186907</td>\n",
       "      <td>0.194032</td>\n",
       "      <td>0.218210</td>\n",
       "      <td>0.277909</td>\n",
       "      <td>0.284058</td>\n",
       "      <td>0.311693</td>\n",
       "      <td>0.319282</td>\n",
       "      <td>0.341615</td>\n",
       "      <td>0.414748</td>\n",
       "      <td>0.446065</td>\n",
       "    </tr>\n",
       "    <tr>\n",
       "      <th>177</th>\n",
       "      <td>Zimbabwe</td>\n",
       "      <td>63.976409</td>\n",
       "      <td>63.740781</td>\n",
       "      <td>64.368292</td>\n",
       "      <td>64.417752</td>\n",
       "      <td>68.527206</td>\n",
       "      <td>67.062264</td>\n",
       "      <td>66.738328</td>\n",
       "      <td>67.385820</td>\n",
       "      <td>67.838803</td>\n",
       "      <td>...</td>\n",
       "      <td>0.618665</td>\n",
       "      <td>0.772579</td>\n",
       "      <td>0.891090</td>\n",
       "      <td>0.923360</td>\n",
       "      <td>0.925816</td>\n",
       "      <td>0.894256</td>\n",
       "      <td>0.897598</td>\n",
       "      <td>0.783303</td>\n",
       "      <td>0.718570</td>\n",
       "      <td>0.849793</td>\n",
       "    </tr>\n",
       "  </tbody>\n",
       "</table>\n",
       "<p>178 rows × 59 columns</p>\n",
       "</div>"
      ],
      "text/plain": [
       "             Country Name  1990_energy  1991_energy  1992_energy  1993_energy  \\\n",
       "0             Afghanistan    15.924532    17.036444    26.521629    30.585667   \n",
       "1                  Angola    72.255252    71.888639    72.723283    71.277056   \n",
       "2                 Albania    25.518088    32.998174    46.813329    51.152042   \n",
       "3                 Andorra    14.273550    14.273550    14.308754    13.918955   \n",
       "4    United Arab Emirates     0.000000     0.000000     0.188369     0.150356   \n",
       "..                    ...          ...          ...          ...          ...   \n",
       "173                 Samoa    46.204609    46.238269    45.701427    46.142015   \n",
       "174           Yemen, Rep.     2.148638     1.709434     1.580226     1.792120   \n",
       "175          South Africa    16.627822    17.466119    18.363217    18.585950   \n",
       "176                Zambia    82.982734    82.253158    82.706777    85.135107   \n",
       "177              Zimbabwe    63.976409    63.740781    64.368292    64.417752   \n",
       "\n",
       "     1994_energy  1995_energy  1996_energy  1997_energy  1998_energy  ...  \\\n",
       "0      32.796251    35.075640    37.945748    41.432601    44.094337  ...   \n",
       "1      72.220269    73.945888    73.139600    73.734416    76.819794  ...   \n",
       "2      51.459544    50.609710    51.636361    55.953349    49.983365  ...   \n",
       "3      14.561024    14.481048    14.100048    14.194002    14.458642  ...   \n",
       "4       0.120145     0.112604     0.080332     0.076356     0.072470  ...   \n",
       "..           ...          ...          ...          ...          ...  ...   \n",
       "173    46.151734    45.218114    44.749726    44.841109    44.978561  ...   \n",
       "174     1.743376     1.504256     1.480847     1.397901     1.291669  ...   \n",
       "175    18.562882    18.113080    17.437771    17.107191    17.272490  ...   \n",
       "176    86.856529    87.111331    89.640857    87.007385    87.755545  ...   \n",
       "177    68.527206    67.062264    66.738328    67.385820    67.838803  ...   \n",
       "\n",
       "      2009_CO2   2010_CO2   2011_CO2   2012_CO2   2013_CO2   2014_CO2  \\\n",
       "0     0.211306   0.297065   0.407074   0.335351   0.263716   0.234037   \n",
       "1     1.205902   1.221515   1.216317   1.204799   1.261542   1.285365   \n",
       "2     1.475652   1.572251   1.734823   1.579092   1.654524   1.806789   \n",
       "3     6.156688   6.157198   5.850886   5.944654   5.942801   5.807128   \n",
       "4    19.852557  19.043279  18.589933  19.223116  20.015421  19.951852   \n",
       "..         ...        ...        ...        ...        ...        ...   \n",
       "173   1.029515   1.021813   1.066843   1.057703   1.048702   1.092498   \n",
       "174   1.139166   1.036068   0.869051   0.804146   1.047834   1.034330   \n",
       "175   8.004039   8.300179   7.867124   8.076633   8.137333   8.213158   \n",
       "176   0.186907   0.194032   0.218210   0.277909   0.284058   0.311693   \n",
       "177   0.618665   0.772579   0.891090   0.923360   0.925816   0.894256   \n",
       "\n",
       "      2015_CO2   2016_CO2   2017_CO2   2018_CO2  \n",
       "0     0.232176   0.208857   0.203328   0.200151  \n",
       "1     1.260921   1.227703   1.034317   0.887380  \n",
       "2     1.759987   1.714126   1.948872   1.939732  \n",
       "3     6.026182   6.080600   6.104134   5.973405  \n",
       "4    20.948092  21.307610  21.950614  20.797498  \n",
       "..         ...        ...        ...        ...  \n",
       "173   1.240246   1.542099   1.535642   1.631588  \n",
       "174   0.536269   0.400468   0.361418   0.326682  \n",
       "175   7.671202   7.564451   7.632729   7.496645  \n",
       "176   0.319282   0.341615   0.414748   0.446065  \n",
       "177   0.897598   0.783303   0.718570   0.849793  \n",
       "\n",
       "[178 rows x 59 columns]"
      ]
     },
     "execution_count": 64,
     "metadata": {},
     "output_type": "execute_result"
    }
   ],
   "source": [
    "mergedData = cleanEnergy.merge(cleanCO2, on='Country Name', suffixes=('_energy', '_CO2'))\n",
    "mergedData"
   ]
  },
  {
   "cell_type": "markdown",
   "metadata": {},
   "source": [
    "### Note\n",
    "To see an interactive graphic visualization of this data, follow the links in the Question section above and you will be able to see the world data as well as the data for each country.\n",
    "\n",
    "A visualization of this data will prove to be difficult and unecessary since the result we need to compute is the correlation coefficient for each of the years.\n",
    "\n",
    "As a reuslt of this difficulty, the next part of this analyzation will deal with only the latest year: 2018. This way we can see the current correlation between the emissions and renewable energy usage."
   ]
  },
  {
   "cell_type": "code",
   "execution_count": 73,
   "metadata": {
    "scrolled": true
   },
   "outputs": [
    {
     "data": {
      "text/html": [
       "<div>\n",
       "<style scoped>\n",
       "    .dataframe tbody tr th:only-of-type {\n",
       "        vertical-align: middle;\n",
       "    }\n",
       "\n",
       "    .dataframe tbody tr th {\n",
       "        vertical-align: top;\n",
       "    }\n",
       "\n",
       "    .dataframe thead th {\n",
       "        text-align: right;\n",
       "    }\n",
       "</style>\n",
       "<table border=\"1\" class=\"dataframe\">\n",
       "  <thead>\n",
       "    <tr style=\"text-align: right;\">\n",
       "      <th></th>\n",
       "      <th>Country Name</th>\n",
       "      <th>Renewable Energy Consumption Percentage</th>\n",
       "      <th>CO2 Emissions (Metric Tons Per Capita)</th>\n",
       "    </tr>\n",
       "  </thead>\n",
       "  <tbody>\n",
       "    <tr>\n",
       "      <th>0</th>\n",
       "      <td>Afghanistan</td>\n",
       "      <td>21.422701</td>\n",
       "      <td>0.200151</td>\n",
       "    </tr>\n",
       "    <tr>\n",
       "      <th>1</th>\n",
       "      <td>Angola</td>\n",
       "      <td>56.785500</td>\n",
       "      <td>0.887380</td>\n",
       "    </tr>\n",
       "    <tr>\n",
       "      <th>2</th>\n",
       "      <td>Albania</td>\n",
       "      <td>38.266399</td>\n",
       "      <td>1.939732</td>\n",
       "    </tr>\n",
       "    <tr>\n",
       "      <th>3</th>\n",
       "      <td>Andorra</td>\n",
       "      <td>18.506001</td>\n",
       "      <td>5.973405</td>\n",
       "    </tr>\n",
       "    <tr>\n",
       "      <th>4</th>\n",
       "      <td>United Arab Emirates</td>\n",
       "      <td>0.259200</td>\n",
       "      <td>20.797498</td>\n",
       "    </tr>\n",
       "    <tr>\n",
       "      <th>...</th>\n",
       "      <td>...</td>\n",
       "      <td>...</td>\n",
       "      <td>...</td>\n",
       "    </tr>\n",
       "    <tr>\n",
       "      <th>173</th>\n",
       "      <td>Samoa</td>\n",
       "      <td>36.618599</td>\n",
       "      <td>1.631588</td>\n",
       "    </tr>\n",
       "    <tr>\n",
       "      <th>174</th>\n",
       "      <td>Yemen, Rep.</td>\n",
       "      <td>4.269000</td>\n",
       "      <td>0.326682</td>\n",
       "    </tr>\n",
       "    <tr>\n",
       "      <th>175</th>\n",
       "      <td>South Africa</td>\n",
       "      <td>10.343300</td>\n",
       "      <td>7.496645</td>\n",
       "    </tr>\n",
       "    <tr>\n",
       "      <th>176</th>\n",
       "      <td>Zambia</td>\n",
       "      <td>85.104599</td>\n",
       "      <td>0.446065</td>\n",
       "    </tr>\n",
       "    <tr>\n",
       "      <th>177</th>\n",
       "      <td>Zimbabwe</td>\n",
       "      <td>81.363602</td>\n",
       "      <td>0.849793</td>\n",
       "    </tr>\n",
       "  </tbody>\n",
       "</table>\n",
       "<p>178 rows × 3 columns</p>\n",
       "</div>"
      ],
      "text/plain": [
       "             Country Name  Renewable Energy Consumption Percentage  \\\n",
       "0             Afghanistan                                21.422701   \n",
       "1                  Angola                                56.785500   \n",
       "2                 Albania                                38.266399   \n",
       "3                 Andorra                                18.506001   \n",
       "4    United Arab Emirates                                 0.259200   \n",
       "..                    ...                                      ...   \n",
       "173                 Samoa                                36.618599   \n",
       "174           Yemen, Rep.                                 4.269000   \n",
       "175          South Africa                                10.343300   \n",
       "176                Zambia                                85.104599   \n",
       "177              Zimbabwe                                81.363602   \n",
       "\n",
       "     CO2 Emissions (Metric Tons Per Capita)  \n",
       "0                                  0.200151  \n",
       "1                                  0.887380  \n",
       "2                                  1.939732  \n",
       "3                                  5.973405  \n",
       "4                                 20.797498  \n",
       "..                                      ...  \n",
       "173                                1.631588  \n",
       "174                                0.326682  \n",
       "175                                7.496645  \n",
       "176                                0.446065  \n",
       "177                                0.849793  \n",
       "\n",
       "[178 rows x 3 columns]"
      ]
     },
     "execution_count": 73,
     "metadata": {},
     "output_type": "execute_result"
    }
   ],
   "source": [
    "data2018 = pandas.DataFrame().assign(CN=mergedData['Country Name'], EC=mergedData['2018_energy'], \n",
    "                                     C2 = mergedData['2018_CO2'])\n",
    "\n",
    "data2018 = data2018.rename(columns={'CN': 'Country Name', 'EC': 'Renewable Energy Consumption Percentage', 'C2' : \n",
    "                         'CO2 Emissions (Metric Tons Per Capita)'})\n",
    "\n",
    "data2018"
   ]
  },
  {
   "cell_type": "markdown",
   "metadata": {},
   "source": [
    "Now we can visualize the data for each both energy consumption and CO2 emissions in the year 2018."
   ]
  },
  {
   "cell_type": "code",
   "execution_count": 75,
   "metadata": {},
   "outputs": [
    {
     "data": {
      "text/plain": [
       "<AxesSubplot:xlabel='Renewable Energy Consumption Percentage', ylabel='CO2 Emissions (Metric Tons Per Capita)'>"
      ]
     },
     "execution_count": 75,
     "metadata": {},
     "output_type": "execute_result"
    },
    {
     "data": {
      "image/png": "[encoded data removed]",
      "text/plain": [
       "<Figure size 720x360 with 1 Axes>"
      ]
     },
     "metadata": {
      "needs_background": "light"
     },
     "output_type": "display_data"
    }
   ],
   "source": [
    "data2018.plot.scatter(x='Renewable Energy Consumption Percentage', y='CO2 Emissions (Metric Tons Per Capita)', figsize=(10,5), xlim=(0 ,100))"
   ]
  },
  {
   "cell_type": "markdown",
   "metadata": {},
   "source": [
    "We can see a general trend in the fact that countries with lower renewable energy consumption percentage had higher CO2 emissions per capita. However this trend seems to be ineffictibe at renewable energy consumption percentages above 40%.\n",
    "\n",
    "Finally, lets look at the correlation value between the 2 for the year 2018."
   ]
  },
  {
   "cell_type": "code",
   "execution_count": 76,
   "metadata": {},
   "outputs": [
    {
     "data": {
      "text/plain": [
       "-0.5423796078116238"
      ]
     },
     "execution_count": 76,
     "metadata": {},
     "output_type": "execute_result"
    }
   ],
   "source": [
    "data2018['Renewable Energy Consumption Percentage'].corr(data2018['CO2 Emissions (Metric Tons Per Capita)'])"
   ]
  },
  {
   "cell_type": "markdown",
   "metadata": {},
   "source": [
    "# Conculsion\n",
    "\n",
    "As per the analysis above, we can see that there is some truth to the hypothesis made in the question section. The hypothesis figured that as renewable enrgy consumption lowered, the CO2 emissions would be higher. From the analysis we can see that the data shows a correlation coefficent of about -0.5. While this isn't negative one like the hypothesis predicted, it is still somewhat related.\n",
    "\n",
    "Furthermore, visualizing the data for 2018 helps to understand the trend in the data a little bit better. From the scatterplot figure above, one can see that the countries with the highest CO2 emissions per capita, had the lowest renewable enrgy consumption. However, as renewable energy consumption increased, the trend discontinued at around 40% renewable enrgy consumption. This may indicate that there is a threshold at which the renewable energy consumption gives diminishing returns in terms of reducing CO2 emissions.\n",
    "\n",
    "Limitiations and errors may have occured with this data analyzation as there were several factors that could lead to different results. First and foremost, if raw CO2 emissions in metric tons were used instead of CO2 emissions per capita, we could have seen a different trend in the data. This could be a potential update to this analysis. A limitation to this analysis was the fact that only one year was used to evaluate, but there was a choice of 28 years. Although it might complicate and elongate the evaluation, one could review the trends for every year and come up with an average trend."
   ]
  },
  {
   "cell_type": "code",
   "execution_count": null,
   "metadata": {},
   "outputs": [],
   "source": []
  }
 ],
 "metadata": {
  "kernelspec": {
   "display_name": "Python 3 (ipykernel)",
   "language": "python",
   "name": "python3"
  },
  "language_info": {
   "codemirror_mode": {
    "name": "ipython",
    "version": 3
   },
   "file_extension": ".py",
   "mimetype": "text/x-python",
   "name": "python",
   "nbconvert_exporter": "python",
   "pygments_lexer": "ipython3",
   "version": "3.9.7"
  },
  "varInspector": {
   "cols": {
    "lenName": 16,
    "lenType": 16,
    "lenVar": 40
   },
   "kernels_config": {
    "python": {
     "delete_cmd_postfix": "",
     "delete_cmd_prefix": "del ",
     "library": "var_list.py",
     "varRefreshCmd": "print(var_dic_list())"
    },
    "r": {
     "delete_cmd_postfix": ") ",
     "delete_cmd_prefix": "rm(",
     "library": "var_list.r",
     "varRefreshCmd": "cat(var_dic_list()) "
    }
   },
   "types_to_exclude": [
    "module",
    "function",
    "builtin_function_or_method",
    "instance",
    "_Feature"
   ],
   "window_display": false
  }
 },
 "nbformat": 4,
 "nbformat_minor": 2
}
